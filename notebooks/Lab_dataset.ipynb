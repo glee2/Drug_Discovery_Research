{
 "cells": [
  {
   "cell_type": "markdown",
   "metadata": {},
   "source": [
    "# Load data"
   ]
  },
  {
   "cell_type": "markdown",
   "metadata": {},
   "source": [
    "## 현재 필요없는 libraries"
   ]
  },
  {
   "cell_type": "code",
   "execution_count": 1,
   "metadata": {
    "ExecuteTime": {
     "end_time": "2024-05-17T05:53:54.021242Z",
     "start_time": "2024-05-17T05:53:47.363532Z"
    }
   },
   "outputs": [],
   "source": [
    "import os\n",
    "os.environ[\"NUMBA_ENABLE_CUDASIM\"] = \"1\"\n",
    "os.environ[\"NUMBA_CUDA_DEBUGINFO\"] = \"1\"\n",
    "\n",
    "from rdkit.Chem import AllChem as Chem\n",
    "from rdkit.Chem import QED\n",
    "from rdkit.Chem.Descriptors import MolWt\n",
    "from rdkit.Chem import RDConfig\n",
    "# import numba as nb"
   ]
  },
  {
   "cell_type": "markdown",
   "metadata": {},
   "source": [
    "## 필요 libraries"
   ]
  },
  {
   "cell_type": "code",
   "execution_count": 36,
   "metadata": {
    "ExecuteTime": {
     "end_time": "2024-05-17T05:59:46.377879Z",
     "start_time": "2024-05-17T05:59:46.365363Z"
    }
   },
   "outputs": [],
   "source": [
    "import pubchempy as pcp\n",
    "import requests\n",
    "import json\n",
    "import numpy as np\n",
    "import pandas as pd\n",
    "pd.set_option('display.max_rows',200,'display.max_columns',50)\n",
    "import csv\n",
    "import time\n",
    "import pickle\n",
    "import os\n",
    "import sys\n",
    "import pubchempy as pcp\n",
    "import Levenshtein as lvs\n",
    "\n",
    "from tqdm import tqdm\n",
    "sys.path.append(os.path.join(RDConfig.RDContribDir,'SA_Score'))\n",
    "from sascorer import calculateScore\n",
    "from sklearn.model_selection import train_test_split\n",
    "from scipy import sparse as sps\n",
    "from scipy.sparse import csr_matrix"
   ]
  },
  {
   "cell_type": "code",
   "execution_count": 11,
   "metadata": {
    "ExecuteTime": {
     "end_time": "2024-05-17T05:56:28.617608Z",
     "start_time": "2024-05-17T05:56:20.640490Z"
    }
   },
   "outputs": [],
   "source": [
    "root = \"/home2/glee/Drug_Discovery_Research\"\n",
    "data_path = os.path.join(root, \"data\")\n",
    "rawdata = pd.read_csv(os.path.join(data_path, \"preprocessed/golden_set_20240520.csv\"))"
   ]
  },
  {
   "cell_type": "code",
   "execution_count": 598,
   "metadata": {
    "ExecuteTime": {
     "end_time": "2024-05-20T03:27:01.453321Z",
     "start_time": "2024-05-20T03:27:01.447314Z"
    }
   },
   "outputs": [],
   "source": [
    "rawdata = rawdata_minor_tid_removed"
   ]
  },
  {
   "cell_type": "code",
   "execution_count": 666,
   "metadata": {
    "ExecuteTime": {
     "end_time": "2024-05-20T06:49:10.336830Z",
     "start_time": "2024-05-20T06:49:10.314813Z"
    }
   },
   "outputs": [
    {
     "data": {
      "text/html": [
       "<div>\n",
       "<style scoped>\n",
       "    .dataframe tbody tr th:only-of-type {\n",
       "        vertical-align: middle;\n",
       "    }\n",
       "\n",
       "    .dataframe tbody tr th {\n",
       "        vertical-align: top;\n",
       "    }\n",
       "\n",
       "    .dataframe thead th {\n",
       "        text-align: right;\n",
       "    }\n",
       "</style>\n",
       "<table border=\"1\" class=\"dataframe\">\n",
       "  <thead>\n",
       "    <tr style=\"text-align: right;\">\n",
       "      <th></th>\n",
       "      <th>C_cid</th>\n",
       "      <th>C_seq_can_smiles</th>\n",
       "      <th>T_id</th>\n",
       "      <th>T_seq</th>\n",
       "      <th>IC50</th>\n",
       "    </tr>\n",
       "  </thead>\n",
       "  <tbody>\n",
       "    <tr>\n",
       "      <th>0</th>\n",
       "      <td>1000</td>\n",
       "      <td>C1=CC=C(C=C1)C(CN)O</td>\n",
       "      <td>P03470</td>\n",
       "      <td>MNPNQKIITIGSICMVVGIISLILQIGNIISIWISHSIQTGNQNHT...</td>\n",
       "      <td>870000.0</td>\n",
       "    </tr>\n",
       "    <tr>\n",
       "      <th>1</th>\n",
       "      <td>10000015</td>\n",
       "      <td>CC(=O)NC1CCC2=CC3=C(C(=C2C4=CC=C(C(=O)C=C14)OC...</td>\n",
       "      <td>Q6B856</td>\n",
       "      <td>MREIVHIQAGQCGNQIGAKFWEVISDEHGIDPTGSYHGDSDLQLER...</td>\n",
       "      <td>2100.0</td>\n",
       "    </tr>\n",
       "    <tr>\n",
       "      <th>2</th>\n",
       "      <td>10000019</td>\n",
       "      <td>C1=CC=C(C=C1)C(CC(=O)O)NC(=O)CNC(=O)C2=CC(=CC=...</td>\n",
       "      <td>P53708</td>\n",
       "      <td>MSPGASRGPRGSQAPLIAPLCCAAAALGMLLWSPACQAFNLDVEKL...</td>\n",
       "      <td>383.0</td>\n",
       "    </tr>\n",
       "    <tr>\n",
       "      <th>3</th>\n",
       "      <td>10000019</td>\n",
       "      <td>C1=CC=C(C=C1)C(CC(=O)O)NC(=O)CNC(=O)C2=CC(=CC=...</td>\n",
       "      <td>P08648</td>\n",
       "      <td>MGSRTPESPLHAVQLRWGPRRRPPLLPLLLLLLPPPPRVGGFNLDA...</td>\n",
       "      <td>17.0</td>\n",
       "    </tr>\n",
       "    <tr>\n",
       "      <th>4</th>\n",
       "      <td>10000019</td>\n",
       "      <td>C1=CC=C(C=C1)C(CC(=O)O)NC(=O)CNC(=O)C2=CC(=CC=...</td>\n",
       "      <td>P05556</td>\n",
       "      <td>MNLQPIFWIGLISSVCCVFAQTDENRCLKANAKSCGECIQAGPNCG...</td>\n",
       "      <td>24.0</td>\n",
       "    </tr>\n",
       "    <tr>\n",
       "      <th>...</th>\n",
       "      <td>...</td>\n",
       "      <td>...</td>\n",
       "      <td>...</td>\n",
       "      <td>...</td>\n",
       "      <td>...</td>\n",
       "    </tr>\n",
       "    <tr>\n",
       "      <th>1779777</th>\n",
       "      <td>9999879</td>\n",
       "      <td>CC(C)C(C(=O)NO)N(CC1=CN=CC=C1)S(=O)(=O)C2=CC=C...</td>\n",
       "      <td>P08253</td>\n",
       "      <td>MEALMARGALTGPLRALCLLGCLLSHAAAAPSPIIKFPGDVAPKTD...</td>\n",
       "      <td>120.0</td>\n",
       "    </tr>\n",
       "    <tr>\n",
       "      <th>1779778</th>\n",
       "      <td>9999879</td>\n",
       "      <td>CC(C)C(C(=O)NO)N(CC1=CN=CC=C1)S(=O)(=O)C2=CC=C...</td>\n",
       "      <td>P14780</td>\n",
       "      <td>MSLWQPLVLVLLVLGCCFAAPRQRQSTLVLFPGDLRTNLTDRQLAE...</td>\n",
       "      <td>414.0</td>\n",
       "    </tr>\n",
       "    <tr>\n",
       "      <th>1779779</th>\n",
       "      <td>9999879</td>\n",
       "      <td>CC(C)C(C(=O)NO)N(CC1=CN=CC=C1)S(=O)(=O)C2=CC=C...</td>\n",
       "      <td>P22894</td>\n",
       "      <td>MFSLKTLPFLLLLHVQISKAFPVSSKEKNTKTVQDYLEKFYQLPSN...</td>\n",
       "      <td>228.0</td>\n",
       "    </tr>\n",
       "    <tr>\n",
       "      <th>1779780</th>\n",
       "      <td>9999994</td>\n",
       "      <td>C1CN(CCC1CCC(=O)C2=CC3=C(C=C2)NCC3)CC4=CC(=CC=...</td>\n",
       "      <td>P22303</td>\n",
       "      <td>MRPPQCLLHTPSLASPLLLLLLWLLGGGVGAEGREDAELLVTVRGG...</td>\n",
       "      <td>59.0</td>\n",
       "    </tr>\n",
       "    <tr>\n",
       "      <th>1779781</th>\n",
       "      <td>9999994</td>\n",
       "      <td>C1CN(CCC1CCC(=O)C2=CC3=C(C=C2)NCC3)CC4=CC(=CC=...</td>\n",
       "      <td>P37136</td>\n",
       "      <td>MRPPWYPLHTPSLASPLLFLLLSLLGGGARAEGREDPQLLVRVRGG...</td>\n",
       "      <td>59.0</td>\n",
       "    </tr>\n",
       "  </tbody>\n",
       "</table>\n",
       "<p>1779782 rows × 5 columns</p>\n",
       "</div>"
      ],
      "text/plain": [
       "            C_cid                                   C_seq_can_smiles    T_id  \\\n",
       "0            1000                                C1=CC=C(C=C1)C(CN)O  P03470   \n",
       "1        10000015  CC(=O)NC1CCC2=CC3=C(C(=C2C4=CC=C(C(=O)C=C14)OC...  Q6B856   \n",
       "2        10000019  C1=CC=C(C=C1)C(CC(=O)O)NC(=O)CNC(=O)C2=CC(=CC=...  P53708   \n",
       "3        10000019  C1=CC=C(C=C1)C(CC(=O)O)NC(=O)CNC(=O)C2=CC(=CC=...  P08648   \n",
       "4        10000019  C1=CC=C(C=C1)C(CC(=O)O)NC(=O)CNC(=O)C2=CC(=CC=...  P05556   \n",
       "...           ...                                                ...     ...   \n",
       "1779777   9999879  CC(C)C(C(=O)NO)N(CC1=CN=CC=C1)S(=O)(=O)C2=CC=C...  P08253   \n",
       "1779778   9999879  CC(C)C(C(=O)NO)N(CC1=CN=CC=C1)S(=O)(=O)C2=CC=C...  P14780   \n",
       "1779779   9999879  CC(C)C(C(=O)NO)N(CC1=CN=CC=C1)S(=O)(=O)C2=CC=C...  P22894   \n",
       "1779780   9999994  C1CN(CCC1CCC(=O)C2=CC3=C(C=C2)NCC3)CC4=CC(=CC=...  P22303   \n",
       "1779781   9999994  C1CN(CCC1CCC(=O)C2=CC3=C(C=C2)NCC3)CC4=CC(=CC=...  P37136   \n",
       "\n",
       "                                                     T_seq      IC50  \n",
       "0        MNPNQKIITIGSICMVVGIISLILQIGNIISIWISHSIQTGNQNHT...  870000.0  \n",
       "1        MREIVHIQAGQCGNQIGAKFWEVISDEHGIDPTGSYHGDSDLQLER...    2100.0  \n",
       "2        MSPGASRGPRGSQAPLIAPLCCAAAALGMLLWSPACQAFNLDVEKL...     383.0  \n",
       "3        MGSRTPESPLHAVQLRWGPRRRPPLLPLLLLLLPPPPRVGGFNLDA...      17.0  \n",
       "4        MNLQPIFWIGLISSVCCVFAQTDENRCLKANAKSCGECIQAGPNCG...      24.0  \n",
       "...                                                    ...       ...  \n",
       "1779777  MEALMARGALTGPLRALCLLGCLLSHAAAAPSPIIKFPGDVAPKTD...     120.0  \n",
       "1779778  MSLWQPLVLVLLVLGCCFAAPRQRQSTLVLFPGDLRTNLTDRQLAE...     414.0  \n",
       "1779779  MFSLKTLPFLLLLHVQISKAFPVSSKEKNTKTVQDYLEKFYQLPSN...     228.0  \n",
       "1779780  MRPPQCLLHTPSLASPLLLLLLWLLGGGVGAEGREDAELLVTVRGG...      59.0  \n",
       "1779781  MRPPWYPLHTPSLASPLLFLLLSLLGGGARAEGREDPQLLVRVRGG...      59.0  \n",
       "\n",
       "[1779782 rows x 5 columns]"
      ]
     },
     "execution_count": 666,
     "metadata": {},
     "output_type": "execute_result"
    }
   ],
   "source": [
    "rawdata_minor_tid_removed"
   ]
  },
  {
   "cell_type": "code",
   "execution_count": 667,
   "metadata": {
    "ExecuteTime": {
     "end_time": "2024-05-20T06:49:15.082756Z",
     "start_time": "2024-05-20T06:49:15.055322Z"
    }
   },
   "outputs": [
    {
     "data": {
      "text/html": [
       "<div>\n",
       "<style scoped>\n",
       "    .dataframe tbody tr th:only-of-type {\n",
       "        vertical-align: middle;\n",
       "    }\n",
       "\n",
       "    .dataframe tbody tr th {\n",
       "        vertical-align: top;\n",
       "    }\n",
       "\n",
       "    .dataframe thead th {\n",
       "        text-align: right;\n",
       "    }\n",
       "</style>\n",
       "<table border=\"1\" class=\"dataframe\">\n",
       "  <thead>\n",
       "    <tr style=\"text-align: right;\">\n",
       "      <th></th>\n",
       "      <th>C_cid</th>\n",
       "      <th>C_seq_can_smiles</th>\n",
       "      <th>T_id</th>\n",
       "      <th>T_seq</th>\n",
       "      <th>IC50</th>\n",
       "    </tr>\n",
       "  </thead>\n",
       "  <tbody>\n",
       "    <tr>\n",
       "      <th>0</th>\n",
       "      <td>1000</td>\n",
       "      <td>C1=CC=C(C=C1)C(CN)O</td>\n",
       "      <td>P03470</td>\n",
       "      <td>MNPNQKIITIGSICMVVGIISLILQIGNIISIWISHSIQTGNQNHT...</td>\n",
       "      <td>870000.0</td>\n",
       "    </tr>\n",
       "    <tr>\n",
       "      <th>1</th>\n",
       "      <td>10000015</td>\n",
       "      <td>CC(=O)NC1CCC2=CC3=C(C(=C2C4=CC=C(C(=O)C=C14)OC...</td>\n",
       "      <td>Q6B856</td>\n",
       "      <td>MREIVHIQAGQCGNQIGAKFWEVISDEHGIDPTGSYHGDSDLQLER...</td>\n",
       "      <td>2100.0</td>\n",
       "    </tr>\n",
       "    <tr>\n",
       "      <th>2</th>\n",
       "      <td>10000019</td>\n",
       "      <td>C1=CC=C(C=C1)C(CC(=O)O)NC(=O)CNC(=O)C2=CC(=CC=...</td>\n",
       "      <td>P53708</td>\n",
       "      <td>MSPGASRGPRGSQAPLIAPLCCAAAALGMLLWSPACQAFNLDVEKL...</td>\n",
       "      <td>383.0</td>\n",
       "    </tr>\n",
       "    <tr>\n",
       "      <th>3</th>\n",
       "      <td>10000019</td>\n",
       "      <td>C1=CC=C(C=C1)C(CC(=O)O)NC(=O)CNC(=O)C2=CC(=CC=...</td>\n",
       "      <td>P08648</td>\n",
       "      <td>MGSRTPESPLHAVQLRWGPRRRPPLLPLLLLLLPPPPRVGGFNLDA...</td>\n",
       "      <td>17.0</td>\n",
       "    </tr>\n",
       "    <tr>\n",
       "      <th>4</th>\n",
       "      <td>10000019</td>\n",
       "      <td>C1=CC=C(C=C1)C(CC(=O)O)NC(=O)CNC(=O)C2=CC(=CC=...</td>\n",
       "      <td>P05556</td>\n",
       "      <td>MNLQPIFWIGLISSVCCVFAQTDENRCLKANAKSCGECIQAGPNCG...</td>\n",
       "      <td>24.0</td>\n",
       "    </tr>\n",
       "    <tr>\n",
       "      <th>...</th>\n",
       "      <td>...</td>\n",
       "      <td>...</td>\n",
       "      <td>...</td>\n",
       "      <td>...</td>\n",
       "      <td>...</td>\n",
       "    </tr>\n",
       "    <tr>\n",
       "      <th>1779777</th>\n",
       "      <td>9999879</td>\n",
       "      <td>CC(C)C(C(=O)NO)N(CC1=CN=CC=C1)S(=O)(=O)C2=CC=C...</td>\n",
       "      <td>P08253</td>\n",
       "      <td>MEALMARGALTGPLRALCLLGCLLSHAAAAPSPIIKFPGDVAPKTD...</td>\n",
       "      <td>120.0</td>\n",
       "    </tr>\n",
       "    <tr>\n",
       "      <th>1779778</th>\n",
       "      <td>9999879</td>\n",
       "      <td>CC(C)C(C(=O)NO)N(CC1=CN=CC=C1)S(=O)(=O)C2=CC=C...</td>\n",
       "      <td>P14780</td>\n",
       "      <td>MSLWQPLVLVLLVLGCCFAAPRQRQSTLVLFPGDLRTNLTDRQLAE...</td>\n",
       "      <td>414.0</td>\n",
       "    </tr>\n",
       "    <tr>\n",
       "      <th>1779779</th>\n",
       "      <td>9999879</td>\n",
       "      <td>CC(C)C(C(=O)NO)N(CC1=CN=CC=C1)S(=O)(=O)C2=CC=C...</td>\n",
       "      <td>P22894</td>\n",
       "      <td>MFSLKTLPFLLLLHVQISKAFPVSSKEKNTKTVQDYLEKFYQLPSN...</td>\n",
       "      <td>228.0</td>\n",
       "    </tr>\n",
       "    <tr>\n",
       "      <th>1779780</th>\n",
       "      <td>9999994</td>\n",
       "      <td>C1CN(CCC1CCC(=O)C2=CC3=C(C=C2)NCC3)CC4=CC(=CC=...</td>\n",
       "      <td>P22303</td>\n",
       "      <td>MRPPQCLLHTPSLASPLLLLLLWLLGGGVGAEGREDAELLVTVRGG...</td>\n",
       "      <td>59.0</td>\n",
       "    </tr>\n",
       "    <tr>\n",
       "      <th>1779781</th>\n",
       "      <td>9999994</td>\n",
       "      <td>C1CN(CCC1CCC(=O)C2=CC3=C(C=C2)NCC3)CC4=CC(=CC=...</td>\n",
       "      <td>P37136</td>\n",
       "      <td>MRPPWYPLHTPSLASPLLFLLLSLLGGGARAEGREDPQLLVRVRGG...</td>\n",
       "      <td>59.0</td>\n",
       "    </tr>\n",
       "  </tbody>\n",
       "</table>\n",
       "<p>1309033 rows × 5 columns</p>\n",
       "</div>"
      ],
      "text/plain": [
       "            C_cid                                   C_seq_can_smiles    T_id  \\\n",
       "0            1000                                C1=CC=C(C=C1)C(CN)O  P03470   \n",
       "1        10000015  CC(=O)NC1CCC2=CC3=C(C(=C2C4=CC=C(C(=O)C=C14)OC...  Q6B856   \n",
       "2        10000019  C1=CC=C(C=C1)C(CC(=O)O)NC(=O)CNC(=O)C2=CC(=CC=...  P53708   \n",
       "3        10000019  C1=CC=C(C=C1)C(CC(=O)O)NC(=O)CNC(=O)C2=CC(=CC=...  P08648   \n",
       "4        10000019  C1=CC=C(C=C1)C(CC(=O)O)NC(=O)CNC(=O)C2=CC(=CC=...  P05556   \n",
       "...           ...                                                ...     ...   \n",
       "1779777   9999879  CC(C)C(C(=O)NO)N(CC1=CN=CC=C1)S(=O)(=O)C2=CC=C...  P08253   \n",
       "1779778   9999879  CC(C)C(C(=O)NO)N(CC1=CN=CC=C1)S(=O)(=O)C2=CC=C...  P14780   \n",
       "1779779   9999879  CC(C)C(C(=O)NO)N(CC1=CN=CC=C1)S(=O)(=O)C2=CC=C...  P22894   \n",
       "1779780   9999994  C1CN(CCC1CCC(=O)C2=CC3=C(C=C2)NCC3)CC4=CC(=CC=...  P22303   \n",
       "1779781   9999994  C1CN(CCC1CCC(=O)C2=CC3=C(C=C2)NCC3)CC4=CC(=CC=...  P37136   \n",
       "\n",
       "                                                     T_seq      IC50  \n",
       "0        MNPNQKIITIGSICMVVGIISLILQIGNIISIWISHSIQTGNQNHT...  870000.0  \n",
       "1        MREIVHIQAGQCGNQIGAKFWEVISDEHGIDPTGSYHGDSDLQLER...    2100.0  \n",
       "2        MSPGASRGPRGSQAPLIAPLCCAAAALGMLLWSPACQAFNLDVEKL...     383.0  \n",
       "3        MGSRTPESPLHAVQLRWGPRRRPPLLPLLLLLLPPPPRVGGFNLDA...      17.0  \n",
       "4        MNLQPIFWIGLISSVCCVFAQTDENRCLKANAKSCGECIQAGPNCG...      24.0  \n",
       "...                                                    ...       ...  \n",
       "1779777  MEALMARGALTGPLRALCLLGCLLSHAAAAPSPIIKFPGDVAPKTD...     120.0  \n",
       "1779778  MSLWQPLVLVLLVLGCCFAAPRQRQSTLVLFPGDLRTNLTDRQLAE...     414.0  \n",
       "1779779  MFSLKTLPFLLLLHVQISKAFPVSSKEKNTKTVQDYLEKFYQLPSN...     228.0  \n",
       "1779780  MRPPQCLLHTPSLASPLLLLLLWLLGGGVGAEGREDAELLVTVRGG...      59.0  \n",
       "1779781  MRPPWYPLHTPSLASPLLFLLLSLLGGGARAEGREDPQLLVRVRGG...      59.0  \n",
       "\n",
       "[1309033 rows x 5 columns]"
      ]
     },
     "execution_count": 667,
     "metadata": {},
     "output_type": "execute_result"
    }
   ],
   "source": [
    "data_golden"
   ]
  },
  {
   "cell_type": "code",
   "execution_count": 664,
   "metadata": {
    "ExecuteTime": {
     "end_time": "2024-05-20T06:23:42.355169Z",
     "start_time": "2024-05-20T06:23:37.115076Z"
    }
   },
   "outputs": [],
   "source": [
    "data_golden = rawdata.drop_duplicates().drop_duplicates(subset=(\"C_seq_can_smiles\", \"T_seq\"))"
   ]
  },
  {
   "cell_type": "code",
   "execution_count": 665,
   "metadata": {
    "ExecuteTime": {
     "end_time": "2024-05-20T06:23:42.372544Z",
     "start_time": "2024-05-20T06:23:42.357941Z"
    }
   },
   "outputs": [
    {
     "data": {
      "text/html": [
       "<div>\n",
       "<style scoped>\n",
       "    .dataframe tbody tr th:only-of-type {\n",
       "        vertical-align: middle;\n",
       "    }\n",
       "\n",
       "    .dataframe tbody tr th {\n",
       "        vertical-align: top;\n",
       "    }\n",
       "\n",
       "    .dataframe thead th {\n",
       "        text-align: right;\n",
       "    }\n",
       "</style>\n",
       "<table border=\"1\" class=\"dataframe\">\n",
       "  <thead>\n",
       "    <tr style=\"text-align: right;\">\n",
       "      <th></th>\n",
       "      <th>C_cid</th>\n",
       "      <th>C_seq_can_smiles</th>\n",
       "      <th>T_id</th>\n",
       "      <th>T_seq</th>\n",
       "      <th>IC50</th>\n",
       "    </tr>\n",
       "  </thead>\n",
       "  <tbody>\n",
       "    <tr>\n",
       "      <th>0</th>\n",
       "      <td>1000</td>\n",
       "      <td>C1=CC=C(C=C1)C(CN)O</td>\n",
       "      <td>P03470</td>\n",
       "      <td>MNPNQKIITIGSICMVVGIISLILQIGNIISIWISHSIQTGNQNHT...</td>\n",
       "      <td>870000.0</td>\n",
       "    </tr>\n",
       "    <tr>\n",
       "      <th>1</th>\n",
       "      <td>10000015</td>\n",
       "      <td>CC(=O)NC1CCC2=CC3=C(C(=C2C4=CC=C(C(=O)C=C14)OC...</td>\n",
       "      <td>Q6B856</td>\n",
       "      <td>MREIVHIQAGQCGNQIGAKFWEVISDEHGIDPTGSYHGDSDLQLER...</td>\n",
       "      <td>2100.0</td>\n",
       "    </tr>\n",
       "    <tr>\n",
       "      <th>2</th>\n",
       "      <td>10000019</td>\n",
       "      <td>C1=CC=C(C=C1)C(CC(=O)O)NC(=O)CNC(=O)C2=CC(=CC=...</td>\n",
       "      <td>P53708</td>\n",
       "      <td>MSPGASRGPRGSQAPLIAPLCCAAAALGMLLWSPACQAFNLDVEKL...</td>\n",
       "      <td>383.0</td>\n",
       "    </tr>\n",
       "    <tr>\n",
       "      <th>3</th>\n",
       "      <td>10000019</td>\n",
       "      <td>C1=CC=C(C=C1)C(CC(=O)O)NC(=O)CNC(=O)C2=CC(=CC=...</td>\n",
       "      <td>P08648</td>\n",
       "      <td>MGSRTPESPLHAVQLRWGPRRRPPLLPLLLLLLPPPPRVGGFNLDA...</td>\n",
       "      <td>17.0</td>\n",
       "    </tr>\n",
       "    <tr>\n",
       "      <th>4</th>\n",
       "      <td>10000019</td>\n",
       "      <td>C1=CC=C(C=C1)C(CC(=O)O)NC(=O)CNC(=O)C2=CC(=CC=...</td>\n",
       "      <td>P05556</td>\n",
       "      <td>MNLQPIFWIGLISSVCCVFAQTDENRCLKANAKSCGECIQAGPNCG...</td>\n",
       "      <td>24.0</td>\n",
       "    </tr>\n",
       "    <tr>\n",
       "      <th>...</th>\n",
       "      <td>...</td>\n",
       "      <td>...</td>\n",
       "      <td>...</td>\n",
       "      <td>...</td>\n",
       "      <td>...</td>\n",
       "    </tr>\n",
       "    <tr>\n",
       "      <th>1779777</th>\n",
       "      <td>9999879</td>\n",
       "      <td>CC(C)C(C(=O)NO)N(CC1=CN=CC=C1)S(=O)(=O)C2=CC=C...</td>\n",
       "      <td>P08253</td>\n",
       "      <td>MEALMARGALTGPLRALCLLGCLLSHAAAAPSPIIKFPGDVAPKTD...</td>\n",
       "      <td>120.0</td>\n",
       "    </tr>\n",
       "    <tr>\n",
       "      <th>1779778</th>\n",
       "      <td>9999879</td>\n",
       "      <td>CC(C)C(C(=O)NO)N(CC1=CN=CC=C1)S(=O)(=O)C2=CC=C...</td>\n",
       "      <td>P14780</td>\n",
       "      <td>MSLWQPLVLVLLVLGCCFAAPRQRQSTLVLFPGDLRTNLTDRQLAE...</td>\n",
       "      <td>414.0</td>\n",
       "    </tr>\n",
       "    <tr>\n",
       "      <th>1779779</th>\n",
       "      <td>9999879</td>\n",
       "      <td>CC(C)C(C(=O)NO)N(CC1=CN=CC=C1)S(=O)(=O)C2=CC=C...</td>\n",
       "      <td>P22894</td>\n",
       "      <td>MFSLKTLPFLLLLHVQISKAFPVSSKEKNTKTVQDYLEKFYQLPSN...</td>\n",
       "      <td>228.0</td>\n",
       "    </tr>\n",
       "    <tr>\n",
       "      <th>1779780</th>\n",
       "      <td>9999994</td>\n",
       "      <td>C1CN(CCC1CCC(=O)C2=CC3=C(C=C2)NCC3)CC4=CC(=CC=...</td>\n",
       "      <td>P22303</td>\n",
       "      <td>MRPPQCLLHTPSLASPLLLLLLWLLGGGVGAEGREDAELLVTVRGG...</td>\n",
       "      <td>59.0</td>\n",
       "    </tr>\n",
       "    <tr>\n",
       "      <th>1779781</th>\n",
       "      <td>9999994</td>\n",
       "      <td>C1CN(CCC1CCC(=O)C2=CC3=C(C=C2)NCC3)CC4=CC(=CC=...</td>\n",
       "      <td>P37136</td>\n",
       "      <td>MRPPWYPLHTPSLASPLLFLLLSLLGGGARAEGREDPQLLVRVRGG...</td>\n",
       "      <td>59.0</td>\n",
       "    </tr>\n",
       "  </tbody>\n",
       "</table>\n",
       "<p>1309033 rows × 5 columns</p>\n",
       "</div>"
      ],
      "text/plain": [
       "            C_cid                                   C_seq_can_smiles    T_id  \\\n",
       "0            1000                                C1=CC=C(C=C1)C(CN)O  P03470   \n",
       "1        10000015  CC(=O)NC1CCC2=CC3=C(C(=C2C4=CC=C(C(=O)C=C14)OC...  Q6B856   \n",
       "2        10000019  C1=CC=C(C=C1)C(CC(=O)O)NC(=O)CNC(=O)C2=CC(=CC=...  P53708   \n",
       "3        10000019  C1=CC=C(C=C1)C(CC(=O)O)NC(=O)CNC(=O)C2=CC(=CC=...  P08648   \n",
       "4        10000019  C1=CC=C(C=C1)C(CC(=O)O)NC(=O)CNC(=O)C2=CC(=CC=...  P05556   \n",
       "...           ...                                                ...     ...   \n",
       "1779777   9999879  CC(C)C(C(=O)NO)N(CC1=CN=CC=C1)S(=O)(=O)C2=CC=C...  P08253   \n",
       "1779778   9999879  CC(C)C(C(=O)NO)N(CC1=CN=CC=C1)S(=O)(=O)C2=CC=C...  P14780   \n",
       "1779779   9999879  CC(C)C(C(=O)NO)N(CC1=CN=CC=C1)S(=O)(=O)C2=CC=C...  P22894   \n",
       "1779780   9999994  C1CN(CCC1CCC(=O)C2=CC3=C(C=C2)NCC3)CC4=CC(=CC=...  P22303   \n",
       "1779781   9999994  C1CN(CCC1CCC(=O)C2=CC3=C(C=C2)NCC3)CC4=CC(=CC=...  P37136   \n",
       "\n",
       "                                                     T_seq      IC50  \n",
       "0        MNPNQKIITIGSICMVVGIISLILQIGNIISIWISHSIQTGNQNHT...  870000.0  \n",
       "1        MREIVHIQAGQCGNQIGAKFWEVISDEHGIDPTGSYHGDSDLQLER...    2100.0  \n",
       "2        MSPGASRGPRGSQAPLIAPLCCAAAALGMLLWSPACQAFNLDVEKL...     383.0  \n",
       "3        MGSRTPESPLHAVQLRWGPRRRPPLLPLLLLLLPPPPRVGGFNLDA...      17.0  \n",
       "4        MNLQPIFWIGLISSVCCVFAQTDENRCLKANAKSCGECIQAGPNCG...      24.0  \n",
       "...                                                    ...       ...  \n",
       "1779777  MEALMARGALTGPLRALCLLGCLLSHAAAAPSPIIKFPGDVAPKTD...     120.0  \n",
       "1779778  MSLWQPLVLVLLVLGCCFAAPRQRQSTLVLFPGDLRTNLTDRQLAE...     414.0  \n",
       "1779779  MFSLKTLPFLLLLHVQISKAFPVSSKEKNTKTVQDYLEKFYQLPSN...     228.0  \n",
       "1779780  MRPPQCLLHTPSLASPLLLLLLWLLGGGVGAEGREDAELLVTVRGG...      59.0  \n",
       "1779781  MRPPWYPLHTPSLASPLLFLLLSLLGGGARAEGREDPQLLVRVRGG...      59.0  \n",
       "\n",
       "[1309033 rows x 5 columns]"
      ]
     },
     "execution_count": 665,
     "metadata": {},
     "output_type": "execute_result"
    }
   ],
   "source": [
    "data_golden"
   ]
  },
  {
   "cell_type": "code",
   "execution_count": 600,
   "metadata": {
    "ExecuteTime": {
     "end_time": "2024-05-20T03:27:20.458758Z",
     "start_time": "2024-05-20T03:27:19.649468Z"
    }
   },
   "outputs": [],
   "source": [
    "N_filter = 7\n",
    "nTperC = data_golden.groupby(\"C_cid\").count()[\"T_seq\"]\n",
    "filtered_data = data_golden.set_index(\"C_cid\").loc[nTperC[nTperC>=N_filter].index]"
   ]
  },
  {
   "cell_type": "code",
   "execution_count": 601,
   "metadata": {
    "ExecuteTime": {
     "end_time": "2024-05-20T03:27:21.418543Z",
     "start_time": "2024-05-20T03:27:21.363759Z"
    }
   },
   "outputs": [],
   "source": [
    "len_T = filtered_data.reset_index()[\"T_seq\"].apply(lambda x: len(x))"
   ]
  },
  {
   "cell_type": "code",
   "execution_count": 602,
   "metadata": {
    "ExecuteTime": {
     "end_time": "2024-05-20T03:27:22.689298Z",
     "start_time": "2024-05-20T03:27:22.660777Z"
    }
   },
   "outputs": [],
   "source": [
    "T_truncated_data = filtered_data.reset_index().loc[len_T[len_T<=1024].index]"
   ]
  },
  {
   "cell_type": "code",
   "execution_count": 605,
   "metadata": {
    "ExecuteTime": {
     "end_time": "2024-05-20T03:27:42.476237Z",
     "start_time": "2024-05-20T03:27:42.470956Z"
    }
   },
   "outputs": [],
   "source": [
    "data = T_truncated_data"
   ]
  },
  {
   "cell_type": "code",
   "execution_count": 607,
   "metadata": {
    "ExecuteTime": {
     "end_time": "2024-05-20T03:27:47.189527Z",
     "start_time": "2024-05-20T03:27:47.154487Z"
    }
   },
   "outputs": [],
   "source": [
    "cid_to_seq = data[[\"C_cid\", \"C_seq_can_smiles\"]].set_index(\"C_cid\").drop_duplicates()[\"C_seq_can_smiles\"]\n",
    "i_to_C_seq, i_to_C_cid = cid_to_seq.values, cid_to_seq.index"
   ]
  },
  {
   "cell_type": "code",
   "execution_count": 609,
   "metadata": {
    "ExecuteTime": {
     "end_time": "2024-05-20T03:27:56.752443Z",
     "start_time": "2024-05-20T03:27:53.553277Z"
    },
    "scrolled": false
   },
   "outputs": [
    {
     "name": "stderr",
     "output_type": "stream",
     "text": [
      "100%|██████████| 2725/2725 [00:03<00:00, 889.63it/s] \n"
     ]
    }
   ],
   "source": [
    "tid_to_seq = data[[\"T_id\",\"T_seq\"]].drop_duplicates(subset=(\"T_seq\"))\n",
    "new_tids = pd.Series(\"\", index=tid_to_seq.index)\n",
    "for tid in tqdm(tid_to_seq[\"T_id\"].unique()):\n",
    "    curr_targets = tid_to_seq[tid_to_seq[\"T_id\"]==tid]\n",
    "    if len(curr_targets) > 1:\n",
    "        new_tids.loc[curr_targets.index[0]] = tid\n",
    "        for j in range(1,len(curr_targets)):\n",
    "            new_tids.loc[curr_targets.index[j]] = tid+\"-\"+str(j)\n",
    "    else:\n",
    "        new_tids.loc[curr_targets.index[0]] = tid"
   ]
  },
  {
   "cell_type": "code",
   "execution_count": 610,
   "metadata": {
    "ExecuteTime": {
     "end_time": "2024-05-20T03:27:57.150518Z",
     "start_time": "2024-05-20T03:27:57.145250Z"
    }
   },
   "outputs": [],
   "source": [
    "i_to_T_id = new_tids.values\n",
    "i_to_T_seq = tid_to_seq[\"T_seq\"].values"
   ]
  },
  {
   "cell_type": "code",
   "execution_count": 611,
   "metadata": {
    "ExecuteTime": {
     "end_time": "2024-05-20T03:27:57.899794Z",
     "start_time": "2024-05-20T03:27:57.873267Z"
    }
   },
   "outputs": [],
   "source": [
    "C_seq_to_i = {i_to_C_seq[i]: i for i in range(len(i_to_C_seq))}\n",
    "C_cid_to_i = {i_to_C_cid[i]: i for i in range(len(i_to_C_cid))}\n",
    "T_seq_to_i = {i_to_T_seq[i]: i for i in range(len(i_to_T_seq))}\n",
    "T_id_to_i = {i_to_T_id[i]: i for i in range(len(i_to_T_id))}"
   ]
  },
  {
   "cell_type": "code",
   "execution_count": 612,
   "metadata": {
    "ExecuteTime": {
     "end_time": "2024-05-20T03:27:58.741837Z",
     "start_time": "2024-05-20T03:27:58.696535Z"
    }
   },
   "outputs": [],
   "source": [
    "new_tid_col = data[\"T_seq\"].apply(lambda x: i_to_T_id[T_seq_to_i[x]])\n",
    "data.loc[:,\"T_id_unq\"] = new_tid_col"
   ]
  },
  {
   "cell_type": "code",
   "execution_count": 613,
   "metadata": {
    "ExecuteTime": {
     "end_time": "2024-05-20T03:28:00.780213Z",
     "start_time": "2024-05-20T03:28:00.748309Z"
    }
   },
   "outputs": [
    {
     "data": {
      "text/html": [
       "<div>\n",
       "<style scoped>\n",
       "    .dataframe tbody tr th:only-of-type {\n",
       "        vertical-align: middle;\n",
       "    }\n",
       "\n",
       "    .dataframe tbody tr th {\n",
       "        vertical-align: top;\n",
       "    }\n",
       "\n",
       "    .dataframe thead th {\n",
       "        text-align: right;\n",
       "    }\n",
       "</style>\n",
       "<table border=\"1\" class=\"dataframe\">\n",
       "  <thead>\n",
       "    <tr style=\"text-align: right;\">\n",
       "      <th></th>\n",
       "      <th>C_cid</th>\n",
       "      <th>C_seq_can_smiles</th>\n",
       "      <th>T_id</th>\n",
       "      <th>T_seq</th>\n",
       "      <th>IC50</th>\n",
       "      <th>T_id_unq</th>\n",
       "    </tr>\n",
       "  </thead>\n",
       "  <tbody>\n",
       "    <tr>\n",
       "      <th>0</th>\n",
       "      <td>119</td>\n",
       "      <td>C(CC(=O)O)CN</td>\n",
       "      <td>P23978</td>\n",
       "      <td>MATDNSKVADGQISTEVSEAPVASDKPKTLVVKVQKKAGDLPDRDT...</td>\n",
       "      <td>2600.00</td>\n",
       "      <td>P23978</td>\n",
       "    </tr>\n",
       "    <tr>\n",
       "      <th>1</th>\n",
       "      <td>119</td>\n",
       "      <td>C(CC(=O)O)CN</td>\n",
       "      <td>P31649</td>\n",
       "      <td>MENRASGTTSNGETKPVCPAMEKVEEDGTLEREHWNNKMEFVLSVA...</td>\n",
       "      <td>27542.00</td>\n",
       "      <td>P31649</td>\n",
       "    </tr>\n",
       "    <tr>\n",
       "      <th>2</th>\n",
       "      <td>119</td>\n",
       "      <td>C(CC(=O)O)CN</td>\n",
       "      <td>P31646</td>\n",
       "      <td>MDNRVSGTTSNGETKPVCPVMEKVEEDGTLEREQWTNKMEFVLSVA...</td>\n",
       "      <td>2000.00</td>\n",
       "      <td>P31646</td>\n",
       "    </tr>\n",
       "    <tr>\n",
       "      <th>3</th>\n",
       "      <td>119</td>\n",
       "      <td>C(CC(=O)O)CN</td>\n",
       "      <td>Q9Z0U4</td>\n",
       "      <td>MLLLLLVPLFLRPLGAGGAQTPNATSEGCQIIHPPWEGGIRYRGLT...</td>\n",
       "      <td>30.00</td>\n",
       "      <td>Q9Z0U4</td>\n",
       "    </tr>\n",
       "    <tr>\n",
       "      <th>4</th>\n",
       "      <td>119</td>\n",
       "      <td>C(CC(=O)O)CN</td>\n",
       "      <td>P31650</td>\n",
       "      <td>MTAEQALPLGNGKAAEEARGSETLGGGGGGAAGTREARDKAVHERG...</td>\n",
       "      <td>11482.00</td>\n",
       "      <td>P31650</td>\n",
       "    </tr>\n",
       "    <tr>\n",
       "      <th>...</th>\n",
       "      <td>...</td>\n",
       "      <td>...</td>\n",
       "      <td>...</td>\n",
       "      <td>...</td>\n",
       "      <td>...</td>\n",
       "      <td>...</td>\n",
       "    </tr>\n",
       "    <tr>\n",
       "      <th>81489</th>\n",
       "      <td>169667776</td>\n",
       "      <td>CCC1=C(C=CC=C1S(=O)(=O)NC(CNC(=O)C2=CC=C(S2)Cl...</td>\n",
       "      <td>P08684</td>\n",
       "      <td>MALIPDLAMETWLLLAVSLVLLYLYGTHSHGLFKKLGIPGPTPLPF...</td>\n",
       "      <td>370.00</td>\n",
       "      <td>P08684</td>\n",
       "    </tr>\n",
       "    <tr>\n",
       "      <th>81490</th>\n",
       "      <td>169667776</td>\n",
       "      <td>CCC1=C(C=CC=C1S(=O)(=O)NC(CNC(=O)C2=CC=C(S2)Cl...</td>\n",
       "      <td>P00734</td>\n",
       "      <td>MAHVRGLQLPGCLALAALCSLVHSQHVFLAPQQARSLLQRVRRANT...</td>\n",
       "      <td>0.83</td>\n",
       "      <td>P00734</td>\n",
       "    </tr>\n",
       "    <tr>\n",
       "      <th>81491</th>\n",
       "      <td>169667776</td>\n",
       "      <td>CCC1=C(C=CC=C1S(=O)(=O)NC(CNC(=O)C2=CC=C(S2)Cl...</td>\n",
       "      <td>P00742</td>\n",
       "      <td>MGRPLHLVLLSASLAGLLLLGESLFIRREQANNILARVTRANSFLE...</td>\n",
       "      <td>0.89</td>\n",
       "      <td>P00742</td>\n",
       "    </tr>\n",
       "    <tr>\n",
       "      <th>81492</th>\n",
       "      <td>169667776</td>\n",
       "      <td>CCC1=C(C=CC=C1S(=O)(=O)NC(CNC(=O)C2=CC=C(S2)Cl...</td>\n",
       "      <td>P00747</td>\n",
       "      <td>MEHKEVVLLLLLFLKSGQGEPLDDYVNTQGASLFSVTKKQLGAGSI...</td>\n",
       "      <td>15000.00</td>\n",
       "      <td>P00747</td>\n",
       "    </tr>\n",
       "    <tr>\n",
       "      <th>81493</th>\n",
       "      <td>169667776</td>\n",
       "      <td>CCC1=C(C=CC=C1S(=O)(=O)NC(CNC(=O)C2=CC=C(S2)Cl...</td>\n",
       "      <td>P03951</td>\n",
       "      <td>MIFLYQVVHFILFTSVSGECVTQLLKDTCFEGGDITTVFTPSAKYC...</td>\n",
       "      <td>7200.00</td>\n",
       "      <td>P03951</td>\n",
       "    </tr>\n",
       "  </tbody>\n",
       "</table>\n",
       "<p>61030 rows × 6 columns</p>\n",
       "</div>"
      ],
      "text/plain": [
       "           C_cid                                   C_seq_can_smiles    T_id  \\\n",
       "0            119                                       C(CC(=O)O)CN  P23978   \n",
       "1            119                                       C(CC(=O)O)CN  P31649   \n",
       "2            119                                       C(CC(=O)O)CN  P31646   \n",
       "3            119                                       C(CC(=O)O)CN  Q9Z0U4   \n",
       "4            119                                       C(CC(=O)O)CN  P31650   \n",
       "...          ...                                                ...     ...   \n",
       "81489  169667776  CCC1=C(C=CC=C1S(=O)(=O)NC(CNC(=O)C2=CC=C(S2)Cl...  P08684   \n",
       "81490  169667776  CCC1=C(C=CC=C1S(=O)(=O)NC(CNC(=O)C2=CC=C(S2)Cl...  P00734   \n",
       "81491  169667776  CCC1=C(C=CC=C1S(=O)(=O)NC(CNC(=O)C2=CC=C(S2)Cl...  P00742   \n",
       "81492  169667776  CCC1=C(C=CC=C1S(=O)(=O)NC(CNC(=O)C2=CC=C(S2)Cl...  P00747   \n",
       "81493  169667776  CCC1=C(C=CC=C1S(=O)(=O)NC(CNC(=O)C2=CC=C(S2)Cl...  P03951   \n",
       "\n",
       "                                                   T_seq      IC50 T_id_unq  \n",
       "0      MATDNSKVADGQISTEVSEAPVASDKPKTLVVKVQKKAGDLPDRDT...   2600.00   P23978  \n",
       "1      MENRASGTTSNGETKPVCPAMEKVEEDGTLEREHWNNKMEFVLSVA...  27542.00   P31649  \n",
       "2      MDNRVSGTTSNGETKPVCPVMEKVEEDGTLEREQWTNKMEFVLSVA...   2000.00   P31646  \n",
       "3      MLLLLLVPLFLRPLGAGGAQTPNATSEGCQIIHPPWEGGIRYRGLT...     30.00   Q9Z0U4  \n",
       "4      MTAEQALPLGNGKAAEEARGSETLGGGGGGAAGTREARDKAVHERG...  11482.00   P31650  \n",
       "...                                                  ...       ...      ...  \n",
       "81489  MALIPDLAMETWLLLAVSLVLLYLYGTHSHGLFKKLGIPGPTPLPF...    370.00   P08684  \n",
       "81490  MAHVRGLQLPGCLALAALCSLVHSQHVFLAPQQARSLLQRVRRANT...      0.83   P00734  \n",
       "81491  MGRPLHLVLLSASLAGLLLLGESLFIRREQANNILARVTRANSFLE...      0.89   P00742  \n",
       "81492  MEHKEVVLLLLLFLKSGQGEPLDDYVNTQGASLFSVTKKQLGAGSI...  15000.00   P00747  \n",
       "81493  MIFLYQVVHFILFTSVSGECVTQLLKDTCFEGGDITTVFTPSAKYC...   7200.00   P03951  \n",
       "\n",
       "[61030 rows x 6 columns]"
      ]
     },
     "execution_count": 613,
     "metadata": {},
     "output_type": "execute_result"
    }
   ],
   "source": [
    "data"
   ]
  },
  {
   "cell_type": "code",
   "execution_count": 614,
   "metadata": {
    "ExecuteTime": {
     "end_time": "2024-05-20T03:28:24.296334Z",
     "start_time": "2024-05-20T03:28:21.810481Z"
    },
    "scrolled": true
   },
   "outputs": [
    {
     "name": "stdout",
     "output_type": "stream",
     "text": [
      "save?\n",
      "yes\n",
      "saved\n"
     ]
    }
   ],
   "source": [
    "print(\"save?\")\n",
    "tosave = input()\n",
    "if tosave in [\"yes\", \"1\"]:\n",
    "    with open(os.path.join(data_path, \"preprocessed\", \"i_to_C_cid.pickle\"), \"wb\") as f:\n",
    "        pickle.dump(i_to_C_cid, f)\n",
    "    with open(os.path.join(data_path, \"preprocessed\", \"i_to_T_id.pickle\"), \"wb\") as f:\n",
    "        pickle.dump(i_to_T_id, f)\n",
    "    with open(os.path.join(data_path, \"preprocessed\", \"C_cid_to_i.pickle\"), \"wb\") as f:\n",
    "        pickle.dump(C_cid_to_i, f)\n",
    "    with open(os.path.join(data_path, \"preprocessed\", \"T_id_to_i.pickle\"), \"wb\") as f:\n",
    "        pickle.dump(T_id_to_i, f)\n",
    "    with open(os.path.join(data_path, \"preprocessed\", \"i_to_C_seq.pickle\"), \"wb\") as f:\n",
    "        pickle.dump(i_to_C_seq, f)\n",
    "    with open(os.path.join(data_path, \"preprocessed\", \"i_to_T_seq.pickle\"), \"wb\") as f:\n",
    "        pickle.dump(i_to_T_seq, f)\n",
    "    with open(os.path.join(data_path, \"preprocessed\", \"C_seq_to_i.pickle\"), \"wb\") as f:\n",
    "        pickle.dump(C_seq_to_i, f)\n",
    "    with open(os.path.join(data_path, \"preprocessed\", \"T_seq_to_i.pickle\"), \"wb\") as f:\n",
    "        pickle.dump(T_seq_to_i, f)\n",
    "    print(\"saved\")\n",
    "else:\n",
    "    pass"
   ]
  },
  {
   "cell_type": "code",
   "execution_count": 615,
   "metadata": {
    "ExecuteTime": {
     "end_time": "2024-05-20T03:28:27.985699Z",
     "start_time": "2024-05-20T03:28:26.851788Z"
    }
   },
   "outputs": [
    {
     "name": "stdout",
     "output_type": "stream",
     "text": [
      "Shape of C-T adjacency matrix:  (7833, 3015)\n"
     ]
    }
   ],
   "source": [
    "## 인접행렬 구축\n",
    "CT_adj = np.zeros((len(i_to_C_cid), len(i_to_T_id)), dtype=np.bool)\n",
    "print(\"Shape of C-T adjacency matrix: \", CT_adj.shape)\n",
    "index_binding = data.apply(lambda x: (C_seq_to_i[x[\"C_seq_can_smiles\"]], T_seq_to_i[x[\"T_seq\"]]), axis=1)\n",
    "CT_adj[tuple(np.array(list(zip(*index_binding.values))))] = True"
   ]
  },
  {
   "cell_type": "code",
   "execution_count": 616,
   "metadata": {
    "ExecuteTime": {
     "end_time": "2024-05-20T03:28:29.199346Z",
     "start_time": "2024-05-20T03:28:29.084293Z"
    }
   },
   "outputs": [],
   "source": [
    "sps_CT_adj = sps.lil_matrix(CT_adj)"
   ]
  },
  {
   "cell_type": "code",
   "execution_count": 617,
   "metadata": {
    "ExecuteTime": {
     "end_time": "2024-05-20T03:28:39.201940Z",
     "start_time": "2024-05-20T03:28:39.185262Z"
    }
   },
   "outputs": [],
   "source": [
    "def chunked_spsdot(mat1, mat2, n_chunks=10, dtype=np.bool):\n",
    "    if not isinstance(mat1, sps.lil.lil_matrix): mat1 = sps.lil_matrix(mat1)\n",
    "    if not isinstance(mat2, sps.lil.lil_matrix): mat2 = sps.lil_matrix(mat2)\n",
    "    chunk_size = int(mat1.shape[0] / n_chunks)\n",
    "    sps_container = sps.csr_matrix((mat1.shape[0], mat2.shape[1]), dtype=dtype)\n",
    "    print(\"Chunk size:\",chunk_size)\n",
    "    for i in tqdm(range(n_chunks)):\n",
    "        if i < n_chunks-1:\n",
    "            curr_mat = mat1[i*chunk_size:(i+1)*chunk_size]\n",
    "            dot_res = curr_mat.dot(mat2)\n",
    "            sps_container[i*chunk_size:(i+1)*chunk_size,:] = dot_res\n",
    "        else:\n",
    "            curr_mat = mat1[i*chunk_size:]\n",
    "            dot_res = curr_mat.dot(mat2)\n",
    "            sps_container[i*chunk_size:,:] = dot_res\n",
    "\n",
    "    return sps_container"
   ]
  },
  {
   "cell_type": "code",
   "execution_count": 618,
   "metadata": {
    "ExecuteTime": {
     "end_time": "2024-05-20T03:28:46.041701Z",
     "start_time": "2024-05-20T03:28:40.759052Z"
    },
    "scrolled": true
   },
   "outputs": [
    {
     "name": "stderr",
     "output_type": "stream",
     "text": [
      "  0%|          | 0/20 [00:00<?, ?it/s]/home2/glee/.conda/envs/drug2/lib/python3.6/site-packages/scipy/sparse/_index.py:118: SparseEfficiencyWarning: Changing the sparsity structure of a csr_matrix is expensive. lil_matrix is more efficient.\n",
      "  self._set_arrayXarray_sparse(i, j, x)\n",
      "  5%|▌         | 1/20 [00:00<00:03,  5.97it/s]"
     ]
    },
    {
     "name": "stdout",
     "output_type": "stream",
     "text": [
      "Chunk size: 391\n"
     ]
    },
    {
     "name": "stderr",
     "output_type": "stream",
     "text": [
      "100%|██████████| 20/20 [00:05<00:00,  3.82it/s]\n"
     ]
    },
    {
     "data": {
      "text/plain": [
       "<7833x7833 sparse matrix of type '<class 'numpy.bool_'>'\n",
       "\twith 6439563 stored elements in Compressed Sparse Row format>"
      ]
     },
     "metadata": {},
     "output_type": "display_data"
    }
   ],
   "source": [
    "# sps_CTC_adj = sps_CT_adj.dot(sps_CT_adj.T)\n",
    "sps_CTC_adj = chunked_spsdot(sps_CT_adj, sps_CT_adj.T, n_chunks=20)\n",
    "display(sps_CTC_adj)"
   ]
  },
  {
   "cell_type": "code",
   "execution_count": 619,
   "metadata": {
    "ExecuteTime": {
     "end_time": "2024-05-20T03:28:51.915334Z",
     "start_time": "2024-05-20T03:28:51.031160Z"
    }
   },
   "outputs": [
    {
     "data": {
      "text/plain": [
       "<7833x3015 sparse matrix of type '<class 'numpy.bool_'>'\n",
       "\twith 4955243 stored elements in Compressed Sparse Row format>"
      ]
     },
     "metadata": {},
     "output_type": "display_data"
    }
   ],
   "source": [
    "sps_CTCT_adj = sps_CTC_adj.dot(sps_CT_adj)\n",
    "display(sps_CTCT_adj)"
   ]
  },
  {
   "cell_type": "code",
   "execution_count": 620,
   "metadata": {
    "ExecuteTime": {
     "end_time": "2024-05-20T03:28:52.688359Z",
     "start_time": "2024-05-20T03:28:52.657049Z"
    }
   },
   "outputs": [],
   "source": [
    "CTCT_adj = sps_CTCT_adj.toarray()"
   ]
  },
  {
   "cell_type": "code",
   "execution_count": null,
   "metadata": {},
   "outputs": [],
   "source": []
  },
  {
   "cell_type": "code",
   "execution_count": null,
   "metadata": {},
   "outputs": [],
   "source": []
  },
  {
   "cell_type": "code",
   "execution_count": null,
   "metadata": {},
   "outputs": [],
   "source": []
  },
  {
   "cell_type": "code",
   "execution_count": null,
   "metadata": {},
   "outputs": [],
   "source": []
  },
  {
   "cell_type": "code",
   "execution_count": null,
   "metadata": {},
   "outputs": [],
   "source": []
  },
  {
   "cell_type": "code",
   "execution_count": null,
   "metadata": {},
   "outputs": [],
   "source": []
  },
  {
   "cell_type": "markdown",
   "metadata": {},
   "source": [
    "# Positive/Negative sampling"
   ]
  },
  {
   "cell_type": "code",
   "execution_count": 623,
   "metadata": {
    "ExecuteTime": {
     "end_time": "2024-05-20T03:29:12.017306Z",
     "start_time": "2024-05-20T03:29:12.004247Z"
    }
   },
   "outputs": [],
   "source": [
    "sampled_data = data.set_index(\"C_cid\")"
   ]
  },
  {
   "cell_type": "code",
   "execution_count": 624,
   "metadata": {
    "ExecuteTime": {
     "end_time": "2024-05-20T03:29:12.553589Z",
     "start_time": "2024-05-20T03:29:12.546114Z"
    }
   },
   "outputs": [],
   "source": [
    "def extract_targets(data, cid):\n",
    "    targets = data.loc[cid][\"T_seq\"]\n",
    "    out = targets.values if isinstance(targets, pd.Series) else np.array([targets])\n",
    "    return out"
   ]
  },
  {
   "cell_type": "code",
   "execution_count": 625,
   "metadata": {
    "ExecuteTime": {
     "end_time": "2024-05-20T03:29:13.066286Z",
     "start_time": "2024-05-20T03:29:13.051327Z"
    }
   },
   "outputs": [],
   "source": [
    "def split_per_C(cid, tids, split_ratio={\"train\": 8, \"val\": 1, \"test\": 1}):\n",
    "    n_train_per_C = np.int(np.round((len(tids) / 10) * split_ratio[\"train\"]))\n",
    "    n_val_per_C = np.int(np.floor((len(tids) - (np.int(np.round((len(tids) / 10) * split_ratio[\"train\"])))) / 2))\n",
    "    n_test_per_C = len(tids) - n_train_per_C - n_val_per_C\n",
    "    \n",
    "    train_index = np.random.choice(np.arange(len(tids)), n_train_per_C, replace=False)\n",
    "    train_remainder = np.setdiff1d(np.arange(len(tids)), train_index)\n",
    "    val_index = np.random.choice(train_remainder, n_val_per_C, replace=False)\n",
    "    test_index = np.setdiff1d(train_remainder, val_index)    \n",
    "    \n",
    "    return (tids[train_index], tids[val_index], tids[test_index])"
   ]
  },
  {
   "cell_type": "code",
   "execution_count": 626,
   "metadata": {
    "ExecuteTime": {
     "end_time": "2024-05-20T03:29:17.554589Z",
     "start_time": "2024-05-20T03:29:14.624354Z"
    }
   },
   "outputs": [
    {
     "name": "stderr",
     "output_type": "stream",
     "text": [
      "100%|██████████| 7833/7833 [00:02<00:00, 2691.22it/s]\n"
     ]
    }
   ],
   "source": [
    "train_indexes, val_indexes, test_indexes = np.empty((0,2), dtype=np.int), np.empty((0,2), dtype=np.int), np.empty((0,2), dtype=np.int)\n",
    "# train_indexes, val_indexes, test_indexes = np.empty(0, dtype=np.int), np.empty(0, dtype=np.int), np.empty(0, dtype=np.int)\n",
    "for i in tqdm(range(CT_adj.shape[0])): # for every C_cid\n",
    "    target_indexes = np.nonzero(CT_adj[i,:])[0]\n",
    "    curr_train, curr_val, curr_test = split_per_C(i, target_indexes)\n",
    "    train_indexes = np.concatenate([train_indexes, np.hstack((curr_train[:,np.newaxis], np.tile(i, len(curr_train))[:,np.newaxis]))])\n",
    "    val_indexes = np.concatenate([val_indexes, np.hstack((curr_val[:,np.newaxis], np.tile(i, len(curr_val))[:,np.newaxis]))])\n",
    "    test_indexes = np.concatenate([test_indexes, np.hstack((curr_test[:,np.newaxis], np.tile(i, len(curr_test))[:,np.newaxis]))])"
   ]
  },
  {
   "cell_type": "code",
   "execution_count": 627,
   "metadata": {
    "ExecuteTime": {
     "end_time": "2024-05-20T03:29:18.433804Z",
     "start_time": "2024-05-20T03:29:18.426399Z"
    }
   },
   "outputs": [],
   "source": []
  },
  {
   "cell_type": "code",
   "execution_count": 628,
   "metadata": {
    "ExecuteTime": {
     "end_time": "2024-05-20T03:29:19.040452Z",
     "start_time": "2024-05-20T03:29:19.031728Z"
    },
    "scrolled": true
   },
   "outputs": [
    {
     "name": "stdout",
     "output_type": "stream",
     "text": [
      "0.8055218744879568 0.05938063247583156 0.13509749303621169\n"
     ]
    }
   ],
   "source": [
    "print(train_indexes.shape[0]/n_whole_indexes, val_indexes.shape[0]/n_whole_indexes, test_indexes.shape[0]/n_whole_indexes)"
   ]
  },
  {
   "cell_type": "code",
   "execution_count": 629,
   "metadata": {
    "ExecuteTime": {
     "end_time": "2024-05-20T03:29:19.756589Z",
     "start_time": "2024-05-20T03:29:19.747287Z"
    }
   },
   "outputs": [
    {
     "data": {
      "text/plain": [
       "array([[   2,    0],\n",
       "       [   6,    0],\n",
       "       [   8,    0],\n",
       "       ...,\n",
       "       [ 257, 7832],\n",
       "       [ 261, 7832],\n",
       "       [ 236, 7832]])"
      ]
     },
     "execution_count": 629,
     "metadata": {},
     "output_type": "execute_result"
    }
   ],
   "source": [
    "train_indexes"
   ]
  },
  {
   "cell_type": "code",
   "execution_count": 631,
   "metadata": {
    "ExecuteTime": {
     "end_time": "2024-05-20T03:29:23.474696Z",
     "start_time": "2024-05-20T03:29:23.434832Z"
    }
   },
   "outputs": [],
   "source": []
  },
  {
   "cell_type": "code",
   "execution_count": 634,
   "metadata": {
    "ExecuteTime": {
     "end_time": "2024-05-20T03:29:44.012041Z",
     "start_time": "2024-05-20T03:29:44.005578Z"
    }
   },
   "outputs": [],
   "source": [
    "only_CTCT = (CTCT_adj.astype(np.int8) - CT_adj.astype(np.int8)).astype(np.bool)\n",
    "TC_adj = CT_adj.T\n",
    "TCTC_adj = CTCT_adj.T\n",
    "only_TCTC = only_CTCT.T"
   ]
  },
  {
   "cell_type": "code",
   "execution_count": 635,
   "metadata": {
    "ExecuteTime": {
     "end_time": "2024-05-20T03:29:48.322590Z",
     "start_time": "2024-05-20T03:29:48.316603Z"
    }
   },
   "outputs": [],
   "source": [
    "posneg_cols_index = [\"Target_index\", \"Anchor_index\", \"Positive_index\", \"Negative_index\"]"
   ]
  },
  {
   "cell_type": "code",
   "execution_count": 636,
   "metadata": {
    "ExecuteTime": {
     "end_time": "2024-05-20T03:29:48.947156Z",
     "start_time": "2024-05-20T03:29:48.927894Z"
    }
   },
   "outputs": [],
   "source": [
    "tr = pd.DataFrame(train_indexes, columns=posneg_cols_index[:2]).sort_values(\"Target_index\").set_index(\"Target_index\")"
   ]
  },
  {
   "cell_type": "code",
   "execution_count": 637,
   "metadata": {
    "ExecuteTime": {
     "end_time": "2024-05-20T03:29:49.387455Z",
     "start_time": "2024-05-20T03:29:49.369911Z"
    },
    "scrolled": true
   },
   "outputs": [
    {
     "data": {
      "text/html": [
       "<div>\n",
       "<style scoped>\n",
       "    .dataframe tbody tr th:only-of-type {\n",
       "        vertical-align: middle;\n",
       "    }\n",
       "\n",
       "    .dataframe tbody tr th {\n",
       "        vertical-align: top;\n",
       "    }\n",
       "\n",
       "    .dataframe thead th {\n",
       "        text-align: right;\n",
       "    }\n",
       "</style>\n",
       "<table border=\"1\" class=\"dataframe\">\n",
       "  <thead>\n",
       "    <tr style=\"text-align: right;\">\n",
       "      <th></th>\n",
       "      <th>Anchor_index</th>\n",
       "    </tr>\n",
       "    <tr>\n",
       "      <th>Target_index</th>\n",
       "      <th></th>\n",
       "    </tr>\n",
       "  </thead>\n",
       "  <tbody>\n",
       "    <tr>\n",
       "      <th>0</th>\n",
       "      <td>1605</td>\n",
       "    </tr>\n",
       "    <tr>\n",
       "      <th>0</th>\n",
       "      <td>0</td>\n",
       "    </tr>\n",
       "    <tr>\n",
       "      <th>0</th>\n",
       "      <td>6445</td>\n",
       "    </tr>\n",
       "    <tr>\n",
       "      <th>0</th>\n",
       "      <td>904</td>\n",
       "    </tr>\n",
       "    <tr>\n",
       "      <th>0</th>\n",
       "      <td>139</td>\n",
       "    </tr>\n",
       "    <tr>\n",
       "      <th>...</th>\n",
       "      <td>...</td>\n",
       "    </tr>\n",
       "    <tr>\n",
       "      <th>3011</th>\n",
       "      <td>7625</td>\n",
       "    </tr>\n",
       "    <tr>\n",
       "      <th>3012</th>\n",
       "      <td>7623</td>\n",
       "    </tr>\n",
       "    <tr>\n",
       "      <th>3013</th>\n",
       "      <td>7663</td>\n",
       "    </tr>\n",
       "    <tr>\n",
       "      <th>3013</th>\n",
       "      <td>7711</td>\n",
       "    </tr>\n",
       "    <tr>\n",
       "      <th>3013</th>\n",
       "      <td>7668</td>\n",
       "    </tr>\n",
       "  </tbody>\n",
       "</table>\n",
       "<p>49161 rows × 1 columns</p>\n",
       "</div>"
      ],
      "text/plain": [
       "              Anchor_index\n",
       "Target_index              \n",
       "0                     1605\n",
       "0                        0\n",
       "0                     6445\n",
       "0                      904\n",
       "0                      139\n",
       "...                    ...\n",
       "3011                  7625\n",
       "3012                  7623\n",
       "3013                  7663\n",
       "3013                  7711\n",
       "3013                  7668\n",
       "\n",
       "[49161 rows x 1 columns]"
      ]
     },
     "execution_count": 637,
     "metadata": {},
     "output_type": "execute_result"
    }
   ],
   "source": [
    "tr"
   ]
  },
  {
   "cell_type": "code",
   "execution_count": 643,
   "metadata": {
    "ExecuteTime": {
     "end_time": "2024-05-20T03:30:14.823412Z",
     "start_time": "2024-05-20T03:30:08.367716Z"
    }
   },
   "outputs": [
    {
     "name": "stderr",
     "output_type": "stream",
     "text": [
      "100%|██████████| 2820/2820 [00:06<00:00, 438.36it/s]\n"
     ]
    }
   ],
   "source": [
    "train_container = pd.DataFrame(columns=posneg_cols_index[2:])\n",
    "for curr_index in tqdm(tr.index.unique()):\n",
    "    n_anchors_per_T = tr.loc[curr_index].shape[0]\n",
    "    pos_per_T = np.nonzero(TCTC_adj[curr_index,:])[0]\n",
    "    neg_per_T = np.nonzero(TCTC_adj[curr_index,:]==0)[0]\n",
    "    curr_pos = np.random.choice(pos_per_T, n_anchors_per_T)\n",
    "    curr_neg = np.random.choice(neg_per_T, n_anchors_per_T)    \n",
    "    curr_posneg = pd.DataFrame(np.hstack((curr_pos[:,np.newaxis], curr_neg[:,np.newaxis])), index=np.tile(curr_index, n_anchors_per_T), columns=posneg_cols_index[2:])\n",
    "    train_container = pd.concat([train_container, curr_posneg], axis=0)"
   ]
  },
  {
   "cell_type": "code",
   "execution_count": 645,
   "metadata": {
    "ExecuteTime": {
     "end_time": "2024-05-20T03:30:18.157041Z",
     "start_time": "2024-05-20T03:30:18.138122Z"
    }
   },
   "outputs": [],
   "source": [
    "tr.loc[:,posneg_cols_index[2:]] = train_container"
   ]
  },
  {
   "cell_type": "code",
   "execution_count": 646,
   "metadata": {
    "ExecuteTime": {
     "end_time": "2024-05-20T03:30:19.291599Z",
     "start_time": "2024-05-20T03:30:19.282423Z"
    }
   },
   "outputs": [],
   "source": [
    "tr = tr.reset_index()"
   ]
  },
  {
   "cell_type": "code",
   "execution_count": 648,
   "metadata": {
    "ExecuteTime": {
     "end_time": "2024-05-20T03:30:36.504694Z",
     "start_time": "2024-05-20T03:30:36.361477Z"
    }
   },
   "outputs": [],
   "source": [
    "train_set = pd.DataFrame(index=tr.index)\n",
    "train_set.loc[:,\"T_seq\"] = tr[\"Target_index\"].apply(lambda x: i_to_T_seq[x])\n",
    "train_set.loc[:,\"C_anc\"] = tr[\"Anchor_index\"].apply(lambda x: i_to_C_seq[x])\n",
    "train_set.loc[:,\"C_pos\"] = tr[\"Positive_index\"].apply(lambda x: i_to_C_seq[x])\n",
    "train_set.loc[:,\"C_neg\"] = tr[\"Negative_index\"].apply(lambda x: i_to_C_seq[x])"
   ]
  },
  {
   "cell_type": "code",
   "execution_count": 650,
   "metadata": {
    "ExecuteTime": {
     "end_time": "2024-05-20T03:30:44.247788Z",
     "start_time": "2024-05-20T03:30:44.237418Z"
    }
   },
   "outputs": [],
   "source": [
    "va = pd.DataFrame(val_indexes, columns=posneg_cols_index[:2]).sort_values(\"Target_index\")"
   ]
  },
  {
   "cell_type": "code",
   "execution_count": 651,
   "metadata": {
    "ExecuteTime": {
     "end_time": "2024-05-20T03:30:44.771975Z",
     "start_time": "2024-05-20T03:30:44.752055Z"
    }
   },
   "outputs": [
    {
     "data": {
      "text/html": [
       "<div>\n",
       "<style scoped>\n",
       "    .dataframe tbody tr th:only-of-type {\n",
       "        vertical-align: middle;\n",
       "    }\n",
       "\n",
       "    .dataframe tbody tr th {\n",
       "        vertical-align: top;\n",
       "    }\n",
       "\n",
       "    .dataframe thead th {\n",
       "        text-align: right;\n",
       "    }\n",
       "</style>\n",
       "<table border=\"1\" class=\"dataframe\">\n",
       "  <thead>\n",
       "    <tr style=\"text-align: right;\">\n",
       "      <th></th>\n",
       "      <th>Target_index</th>\n",
       "      <th>Anchor_index</th>\n",
       "    </tr>\n",
       "  </thead>\n",
       "  <tbody>\n",
       "    <tr>\n",
       "      <th>999</th>\n",
       "      <td>0</td>\n",
       "      <td>1862</td>\n",
       "    </tr>\n",
       "    <tr>\n",
       "      <th>281</th>\n",
       "      <td>0</td>\n",
       "      <td>443</td>\n",
       "    </tr>\n",
       "    <tr>\n",
       "      <th>94</th>\n",
       "      <td>1</td>\n",
       "      <td>139</td>\n",
       "    </tr>\n",
       "    <tr>\n",
       "      <th>519</th>\n",
       "      <td>2</td>\n",
       "      <td>904</td>\n",
       "    </tr>\n",
       "    <tr>\n",
       "      <th>887</th>\n",
       "      <td>4</td>\n",
       "      <td>1605</td>\n",
       "    </tr>\n",
       "    <tr>\n",
       "      <th>...</th>\n",
       "      <td>...</td>\n",
       "      <td>...</td>\n",
       "    </tr>\n",
       "    <tr>\n",
       "      <th>3322</th>\n",
       "      <td>2966</td>\n",
       "      <td>7117</td>\n",
       "    </tr>\n",
       "    <tr>\n",
       "      <th>3408</th>\n",
       "      <td>2982</td>\n",
       "      <td>7302</td>\n",
       "    </tr>\n",
       "    <tr>\n",
       "      <th>3472</th>\n",
       "      <td>2992</td>\n",
       "      <td>7417</td>\n",
       "    </tr>\n",
       "    <tr>\n",
       "      <th>3475</th>\n",
       "      <td>2993</td>\n",
       "      <td>7429</td>\n",
       "    </tr>\n",
       "    <tr>\n",
       "      <th>3478</th>\n",
       "      <td>3004</td>\n",
       "      <td>7438</td>\n",
       "    </tr>\n",
       "  </tbody>\n",
       "</table>\n",
       "<p>3624 rows × 2 columns</p>\n",
       "</div>"
      ],
      "text/plain": [
       "      Target_index  Anchor_index\n",
       "999              0          1862\n",
       "281              0           443\n",
       "94               1           139\n",
       "519              2           904\n",
       "887              4          1605\n",
       "...            ...           ...\n",
       "3322          2966          7117\n",
       "3408          2982          7302\n",
       "3472          2992          7417\n",
       "3475          2993          7429\n",
       "3478          3004          7438\n",
       "\n",
       "[3624 rows x 2 columns]"
      ]
     },
     "execution_count": 651,
     "metadata": {},
     "output_type": "execute_result"
    }
   ],
   "source": [
    "va"
   ]
  },
  {
   "cell_type": "code",
   "execution_count": 652,
   "metadata": {
    "ExecuteTime": {
     "end_time": "2024-05-20T03:30:46.288224Z",
     "start_time": "2024-05-20T03:30:46.265427Z"
    }
   },
   "outputs": [],
   "source": [
    "val_set = pd.DataFrame(index=va.index)\n",
    "val_set.loc[:,\"T_seq\"] = va[\"Target_index\"].apply(lambda x: i_to_T_seq[x])\n",
    "val_set.loc[:,\"C_anc\"] = va[\"Anchor_index\"].apply(lambda x: i_to_C_seq[x])"
   ]
  },
  {
   "cell_type": "code",
   "execution_count": 653,
   "metadata": {
    "ExecuteTime": {
     "end_time": "2024-05-20T03:30:47.031660Z",
     "start_time": "2024-05-20T03:30:47.020930Z"
    }
   },
   "outputs": [],
   "source": [
    "te = pd.DataFrame(test_indexes, columns=posneg_cols_index[:2]).sort_values(\"Target_index\")"
   ]
  },
  {
   "cell_type": "code",
   "execution_count": 654,
   "metadata": {
    "ExecuteTime": {
     "end_time": "2024-05-20T03:30:47.512963Z",
     "start_time": "2024-05-20T03:30:47.492437Z"
    }
   },
   "outputs": [
    {
     "data": {
      "text/html": [
       "<div>\n",
       "<style scoped>\n",
       "    .dataframe tbody tr th:only-of-type {\n",
       "        vertical-align: middle;\n",
       "    }\n",
       "\n",
       "    .dataframe tbody tr th {\n",
       "        vertical-align: top;\n",
       "    }\n",
       "\n",
       "    .dataframe thead th {\n",
       "        text-align: right;\n",
       "    }\n",
       "</style>\n",
       "<table border=\"1\" class=\"dataframe\">\n",
       "  <thead>\n",
       "    <tr style=\"text-align: right;\">\n",
       "      <th></th>\n",
       "      <th>Target_index</th>\n",
       "      <th>Anchor_index</th>\n",
       "    </tr>\n",
       "  </thead>\n",
       "  <tbody>\n",
       "    <tr>\n",
       "      <th>2682</th>\n",
       "      <td>1</td>\n",
       "      <td>2404</td>\n",
       "    </tr>\n",
       "    <tr>\n",
       "      <th>1813</th>\n",
       "      <td>1</td>\n",
       "      <td>1605</td>\n",
       "    </tr>\n",
       "    <tr>\n",
       "      <th>2073</th>\n",
       "      <td>4</td>\n",
       "      <td>1862</td>\n",
       "    </tr>\n",
       "    <tr>\n",
       "      <th>527</th>\n",
       "      <td>5</td>\n",
       "      <td>443</td>\n",
       "    </tr>\n",
       "    <tr>\n",
       "      <th>173</th>\n",
       "      <td>10</td>\n",
       "      <td>139</td>\n",
       "    </tr>\n",
       "    <tr>\n",
       "      <th>...</th>\n",
       "      <td>...</td>\n",
       "      <td>...</td>\n",
       "    </tr>\n",
       "    <tr>\n",
       "      <th>7682</th>\n",
       "      <td>2982</td>\n",
       "      <td>7264</td>\n",
       "    </tr>\n",
       "    <tr>\n",
       "      <th>7861</th>\n",
       "      <td>2994</td>\n",
       "      <td>7429</td>\n",
       "    </tr>\n",
       "    <tr>\n",
       "      <th>7870</th>\n",
       "      <td>3001</td>\n",
       "      <td>7438</td>\n",
       "    </tr>\n",
       "    <tr>\n",
       "      <th>8039</th>\n",
       "      <td>3009</td>\n",
       "      <td>7601</td>\n",
       "    </tr>\n",
       "    <tr>\n",
       "      <th>8122</th>\n",
       "      <td>3014</td>\n",
       "      <td>7706</td>\n",
       "    </tr>\n",
       "  </tbody>\n",
       "</table>\n",
       "<p>8245 rows × 2 columns</p>\n",
       "</div>"
      ],
      "text/plain": [
       "      Target_index  Anchor_index\n",
       "2682             1          2404\n",
       "1813             1          1605\n",
       "2073             4          1862\n",
       "527              5           443\n",
       "173             10           139\n",
       "...            ...           ...\n",
       "7682          2982          7264\n",
       "7861          2994          7429\n",
       "7870          3001          7438\n",
       "8039          3009          7601\n",
       "8122          3014          7706\n",
       "\n",
       "[8245 rows x 2 columns]"
      ]
     },
     "execution_count": 654,
     "metadata": {},
     "output_type": "execute_result"
    }
   ],
   "source": [
    "te"
   ]
  },
  {
   "cell_type": "code",
   "execution_count": 655,
   "metadata": {
    "ExecuteTime": {
     "end_time": "2024-05-20T03:30:48.399000Z",
     "start_time": "2024-05-20T03:30:48.367696Z"
    }
   },
   "outputs": [],
   "source": [
    "test_set = pd.DataFrame(index=te.index)\n",
    "test_set.loc[:,\"T_seq\"] = te[\"Target_index\"].apply(lambda x: i_to_T_seq[x])\n",
    "test_set.loc[:,\"C_anc\"] = te[\"Anchor_index\"].apply(lambda x: i_to_C_seq[x])"
   ]
  },
  {
   "cell_type": "code",
   "execution_count": 656,
   "metadata": {
    "ExecuteTime": {
     "end_time": "2024-05-20T03:30:49.106914Z",
     "start_time": "2024-05-20T03:30:49.097388Z"
    }
   },
   "outputs": [
    {
     "data": {
      "text/plain": [
       "'/home2/glee/Drug_Discovery_Research/data'"
      ]
     },
     "execution_count": 656,
     "metadata": {},
     "output_type": "execute_result"
    }
   ],
   "source": [
    "data_path"
   ]
  },
  {
   "cell_type": "code",
   "execution_count": 657,
   "metadata": {
    "ExecuteTime": {
     "end_time": "2024-05-20T03:30:51.632579Z",
     "start_time": "2024-05-20T03:30:50.263569Z"
    }
   },
   "outputs": [],
   "source": [
    "train_set.to_csv(data_path+\"/splitted/train.csv\")"
   ]
  },
  {
   "cell_type": "code",
   "execution_count": 658,
   "metadata": {
    "ExecuteTime": {
     "end_time": "2024-05-20T03:30:51.852433Z",
     "start_time": "2024-05-20T03:30:51.636608Z"
    }
   },
   "outputs": [],
   "source": [
    "val_set.to_csv(data_path+\"/splitted/val.csv\")"
   ]
  },
  {
   "cell_type": "code",
   "execution_count": 659,
   "metadata": {
    "ExecuteTime": {
     "end_time": "2024-05-20T03:30:52.136301Z",
     "start_time": "2024-05-20T03:30:51.857556Z"
    }
   },
   "outputs": [],
   "source": [
    "test_set.to_csv(data_path+\"/splitted/test.csv\")"
   ]
  },
  {
   "cell_type": "code",
   "execution_count": 501,
   "metadata": {
    "ExecuteTime": {
     "end_time": "2024-05-17T08:54:57.127330Z",
     "start_time": "2024-05-17T08:54:57.105311Z"
    }
   },
   "outputs": [
    {
     "data": {
      "text/html": [
       "<div>\n",
       "<style scoped>\n",
       "    .dataframe tbody tr th:only-of-type {\n",
       "        vertical-align: middle;\n",
       "    }\n",
       "\n",
       "    .dataframe tbody tr th {\n",
       "        vertical-align: top;\n",
       "    }\n",
       "\n",
       "    .dataframe thead th {\n",
       "        text-align: right;\n",
       "    }\n",
       "</style>\n",
       "<table border=\"1\" class=\"dataframe\">\n",
       "  <thead>\n",
       "    <tr style=\"text-align: right;\">\n",
       "      <th></th>\n",
       "      <th>T_seq</th>\n",
       "      <th>C_anc</th>\n",
       "    </tr>\n",
       "  </thead>\n",
       "  <tbody>\n",
       "    <tr>\n",
       "      <th>264</th>\n",
       "      <td>MATDNSKVADGQISTEVSEAPVASDKPKTLVVKVQKKAGDLPDRDT...</td>\n",
       "      <td>CNCCC=C1C2=CC=CC=C2CCC3=CC=CC=C31</td>\n",
       "    </tr>\n",
       "    <tr>\n",
       "      <th>527</th>\n",
       "      <td>MDNRVSGTTSNGETKPVCPVMEKVEEDGTLEREQWTNKMEFVLSVA...</td>\n",
       "      <td>CC1=C(SC=C1)C(=CCCN2CCCC(C2)C(=O)O)C3=C(C=CS3)C</td>\n",
       "    </tr>\n",
       "    <tr>\n",
       "      <th>2074</th>\n",
       "      <td>MDNRVSGTTSNGETKPVCPVMEKVEEDGTLEREQWTNKMEFVLSVA...</td>\n",
       "      <td>COC1=CC=C(C=C1)C(C2=CC=C(C=C2)OC)(C3=CC=C(C=C3...</td>\n",
       "    </tr>\n",
       "    <tr>\n",
       "      <th>1814</th>\n",
       "      <td>MATNGSKVADGQISTEVSEAPVANDKPKTLVVKVQKKAADLPDRDT...</td>\n",
       "      <td>COC1=CC=CC=C1C2(CCN(CC2)CCCN3C4=CC=CC=C4C5=CC=...</td>\n",
       "    </tr>\n",
       "    <tr>\n",
       "      <th>0</th>\n",
       "      <td>MGSGKVFLFSPSLLWSQTRGVRLIFLLLTLHLGNCIDKADDEDDED...</td>\n",
       "      <td>C(CC(=O)O)CN</td>\n",
       "    </tr>\n",
       "    <tr>\n",
       "      <th>...</th>\n",
       "      <td>...</td>\n",
       "      <td>...</td>\n",
       "    </tr>\n",
       "    <tr>\n",
       "      <th>7726</th>\n",
       "      <td>MSTEGGGRRCQAQVSRRISFSASHRLYSKFLSDEENLKLFGKCNNP...</td>\n",
       "      <td>C1=CC(=CC=C1C#CC2=C(C=C(C=C2)C(F)(F)F)Cl)NC(=O...</td>\n",
       "    </tr>\n",
       "    <tr>\n",
       "      <th>7796</th>\n",
       "      <td>MPFSVSWGVLLLAGLCCLVPSSLVEDPQGDAAQKTDTSHHDQGDWE...</td>\n",
       "      <td>C1COCCC(=C1)C2=NN=C3N2C4=C(C=CC(=C4)C5=CC(=CN=...</td>\n",
       "    </tr>\n",
       "    <tr>\n",
       "      <th>7862</th>\n",
       "      <td>MALDCLLLFLLASAVAAMEETLMDTRTATAELGWTANPASGWEEVS...</td>\n",
       "      <td>CCNC(=O)OC1CCC2(C(C1)CCC3C2CCC4(C3CCC4C(C)CCC(...</td>\n",
       "    </tr>\n",
       "    <tr>\n",
       "      <th>8233</th>\n",
       "      <td>MGPSCPVFLSFTKLSLWWLLLTPAGGEEAKRPPPRAPGDPLSSPSP...</td>\n",
       "      <td>CC(C1C(=O)NC(C(=O)N2CCCC2C(=O)NC(C(=O)NC3CSSCC...</td>\n",
       "    </tr>\n",
       "    <tr>\n",
       "      <th>8064</th>\n",
       "      <td>MPHSSLHPSIPCPRGHGAQKAALVLLSACLVTLWGLGEPPEHTLRY...</td>\n",
       "      <td>CCN1C(=CC(=N1)C)C(=O)NC2=NC3=C(N2CC=CCN4C5=C(C...</td>\n",
       "    </tr>\n",
       "  </tbody>\n",
       "</table>\n",
       "<p>8246 rows × 2 columns</p>\n",
       "</div>"
      ],
      "text/plain": [
       "                                                  T_seq  \\\n",
       "264   MATDNSKVADGQISTEVSEAPVASDKPKTLVVKVQKKAGDLPDRDT...   \n",
       "527   MDNRVSGTTSNGETKPVCPVMEKVEEDGTLEREQWTNKMEFVLSVA...   \n",
       "2074  MDNRVSGTTSNGETKPVCPVMEKVEEDGTLEREQWTNKMEFVLSVA...   \n",
       "1814  MATNGSKVADGQISTEVSEAPVANDKPKTLVVKVQKKAADLPDRDT...   \n",
       "0     MGSGKVFLFSPSLLWSQTRGVRLIFLLLTLHLGNCIDKADDEDDED...   \n",
       "...                                                 ...   \n",
       "7726  MSTEGGGRRCQAQVSRRISFSASHRLYSKFLSDEENLKLFGKCNNP...   \n",
       "7796  MPFSVSWGVLLLAGLCCLVPSSLVEDPQGDAAQKTDTSHHDQGDWE...   \n",
       "7862  MALDCLLLFLLASAVAAMEETLMDTRTATAELGWTANPASGWEEVS...   \n",
       "8233  MGPSCPVFLSFTKLSLWWLLLTPAGGEEAKRPPPRAPGDPLSSPSP...   \n",
       "8064  MPHSSLHPSIPCPRGHGAQKAALVLLSACLVTLWGLGEPPEHTLRY...   \n",
       "\n",
       "                                                  C_anc  \n",
       "264                   CNCCC=C1C2=CC=CC=C2CCC3=CC=CC=C31  \n",
       "527     CC1=C(SC=C1)C(=CCCN2CCCC(C2)C(=O)O)C3=C(C=CS3)C  \n",
       "2074  COC1=CC=C(C=C1)C(C2=CC=C(C=C2)OC)(C3=CC=C(C=C3...  \n",
       "1814  COC1=CC=CC=C1C2(CCN(CC2)CCCN3C4=CC=CC=C4C5=CC=...  \n",
       "0                                          C(CC(=O)O)CN  \n",
       "...                                                 ...  \n",
       "7726  C1=CC(=CC=C1C#CC2=C(C=C(C=C2)C(F)(F)F)Cl)NC(=O...  \n",
       "7796  C1COCCC(=C1)C2=NN=C3N2C4=C(C=CC(=C4)C5=CC(=CN=...  \n",
       "7862  CCNC(=O)OC1CCC2(C(C1)CCC3C2CCC4(C3CCC4C(C)CCC(...  \n",
       "8233  CC(C1C(=O)NC(C(=O)N2CCCC2C(=O)NC(C(=O)NC3CSSCC...  \n",
       "8064  CCN1C(=CC(=N1)C)C(=O)NC2=NC3=C(N2CC=CCN4C5=C(C...  \n",
       "\n",
       "[8246 rows x 2 columns]"
      ]
     },
     "execution_count": 501,
     "metadata": {},
     "output_type": "execute_result"
    }
   ],
   "source": [
    "test_set"
   ]
  },
  {
   "cell_type": "code",
   "execution_count": null,
   "metadata": {},
   "outputs": [],
   "source": []
  },
  {
   "cell_type": "code",
   "execution_count": null,
   "metadata": {},
   "outputs": [],
   "source": []
  },
  {
   "cell_type": "code",
   "execution_count": 13,
   "metadata": {
    "ExecuteTime": {
     "end_time": "2024-05-15T08:23:00.190025Z",
     "start_time": "2024-05-15T08:23:00.124998Z"
    }
   },
   "outputs": [],
   "source": [
    "index_train, index_test = train_test_split(C_cids, shuffle=True, test_size=0.2)"
   ]
  },
  {
   "cell_type": "code",
   "execution_count": 14,
   "metadata": {
    "ExecuteTime": {
     "end_time": "2024-05-15T08:23:04.846705Z",
     "start_time": "2024-05-15T08:23:00.785557Z"
    }
   },
   "outputs": [],
   "source": [
    "data_TRAIN = data.loc[index_train]\n",
    "data_TEST = data.loc[index_test]"
   ]
  },
  {
   "cell_type": "code",
   "execution_count": 15,
   "metadata": {
    "ExecuteTime": {
     "end_time": "2024-05-15T08:23:05.898617Z",
     "start_time": "2024-05-15T08:23:05.890272Z"
    },
    "scrolled": true
   },
   "outputs": [
    {
     "name": "stdout",
     "output_type": "stream",
     "text": [
      "#TRAIN SET: 1039759, #TEST SET: 259523\n"
     ]
    }
   ],
   "source": [
    "print(\"#TRAIN SET: {}, #TEST SET: {}\".format(len(data_TRAIN), len(data_TEST)))"
   ]
  },
  {
   "cell_type": "markdown",
   "metadata": {},
   "source": [
    "## Save function for sparse matrix"
   ]
  },
  {
   "cell_type": "code",
   "execution_count": 24,
   "metadata": {
    "ExecuteTime": {
     "end_time": "2024-05-15T08:26:25.797151Z",
     "start_time": "2024-05-15T08:26:25.789689Z"
    }
   },
   "outputs": [],
   "source": [
    "def save_hdf5(data_to_save, data_path):\n",
    "    import h5py\n",
    "    from scipy.sparse import csr_matrix\n",
    "    with h5py.File(data_path, \"w\") as f:\n",
    "        if isinstance(data_to_save, csr_matrix):\n",
    "            f.create_dataset(\"data\", data=data_to_save.data)\n",
    "            f.create_dataset(\"indices\", data=data_to_save.indices)\n",
    "            f.create_dataset(\"indptr\", data=data_to_save.indptr)\n",
    "            f.attrs[\"shape\"] = data_to_save.shape\n",
    "            f.attrs[\"type\"] = \"sparse\"\n",
    "        else:\n",
    "            f.create_dataset(\"data\", data=data_to_save)\n",
    "            f.attrs[\"type\"] = \"dense\"\n",
    "    \n",
    "def load_hdf5(data_path):\n",
    "    import h5py\n",
    "    from scipy.sparse import csr_matrix\n",
    "    with h5py.File(data_path, \"r\") as f:\n",
    "        if f.attrs[\"type\"]==\"sparse\":\n",
    "            data = f[\"data\"][:]\n",
    "            indices = f[\"indices\"][:]\n",
    "            indptr = f[\"indptr\"][:]\n",
    "            shape = f.attrs[\"shape\"]\n",
    "            return csr_matrix((data, indices, indptr), shape=shape)\n",
    "        else:\n",
    "            return f[\"data\"][:]"
   ]
  },
  {
   "cell_type": "code",
   "execution_count": 25,
   "metadata": {
    "ExecuteTime": {
     "end_time": "2024-05-15T08:26:36.748325Z",
     "start_time": "2024-05-15T08:26:25.798973Z"
    }
   },
   "outputs": [],
   "source": [
    "save_hdf5(TRAIN_sps_CT_adj, os.path.join(data_path, \"preprocessed\", \"TRAIN_sps_CT_adj.h5\"))\n",
    "save_hdf5(TRAIN_sps_CTCT_adj, os.path.join(data_path, \"preprocessed\", \"TRAIN_sps_CTCT_adj.h5\"))\n",
    "save_hdf5(TEST_sps_CT_adj, os.path.join(data_path, \"preprocessed\", \"TEST_sps_CT_adj.h5\"))\n",
    "save_hdf5(TEST_sps_CTCT_adj, os.path.join(data_path, \"preprocessed\", \"TEST_sps_CTCT_adj.h5\"))"
   ]
  },
  {
   "cell_type": "code",
   "execution_count": 26,
   "metadata": {
    "ExecuteTime": {
     "end_time": "2024-05-15T08:27:31.393544Z",
     "start_time": "2024-05-15T08:27:15.533142Z"
    },
    "scrolled": true
   },
   "outputs": [
    {
     "name": "stdout",
     "output_type": "stream",
     "text": [
      "Defaulting to user installation because normal site-packages is not writeable\n",
      "Collecting levenshtein\n",
      "  Downloading Levenshtein-0.21.1-cp36-cp36m-manylinux_2_17_x86_64.manylinux2014_x86_64.whl (171 kB)\n",
      "\u001b[K     |████████████████████████████████| 171 kB 795 kB/s eta 0:00:01\n",
      "\u001b[?25hCollecting rapidfuzz<4.0.0,>=2.3.0\n",
      "  Downloading rapidfuzz-2.11.1-cp36-cp36m-manylinux_2_17_x86_64.manylinux2014_x86_64.whl (2.2 MB)\n",
      "\u001b[K     |████████████████████████████████| 2.2 MB 4.6 MB/s eta 0:00:01\n",
      "\u001b[?25hInstalling collected packages: rapidfuzz, levenshtein\n",
      "Successfully installed levenshtein-0.21.1 rapidfuzz-2.11.1\n",
      "\u001b[33mWARNING: You are using pip version 21.1.3; however, version 21.3.1 is available.\n",
      "You should consider upgrading via the '/usr/bin/python3 -m pip install --upgrade pip' command.\u001b[0m\n"
     ]
    }
   ],
   "source": [
    "!pip install levenshtein"
   ]
  },
  {
   "cell_type": "code",
   "execution_count": null,
   "metadata": {
    "ExecuteTime": {
     "end_time": "2024-05-15T08:05:33.908445Z",
     "start_time": "2024-05-15T08:05:33.769288Z"
    }
   },
   "outputs": [],
   "source": [
    "loaded_sps_CT_adj = load_hdf5(os.path.join(data_path, \"preprocessed\", \"TRAIN_sps_CTCT_adj.h5\"))"
   ]
  },
  {
   "cell_type": "code",
   "execution_count": null,
   "metadata": {
    "ExecuteTime": {
     "end_time": "2024-05-15T08:05:34.351318Z",
     "start_time": "2024-05-15T08:05:34.344498Z"
    }
   },
   "outputs": [],
   "source": [
    "loaded_sps_CT_adj"
   ]
  },
  {
   "cell_type": "markdown",
   "metadata": {},
   "source": [
    "## C-C, T-T relationships based on Levenshtein distance "
   ]
  },
  {
   "cell_type": "code",
   "execution_count": 226,
   "metadata": {
    "ExecuteTime": {
     "end_time": "2024-05-15T10:41:12.718706Z",
     "start_time": "2024-05-15T10:41:12.712561Z"
    }
   },
   "outputs": [],
   "source": [
    "import re"
   ]
  },
  {
   "cell_type": "code",
   "execution_count": 240,
   "metadata": {
    "ExecuteTime": {
     "end_time": "2024-05-15T10:46:14.042771Z",
     "start_time": "2024-05-15T10:46:14.014210Z"
    }
   },
   "outputs": [],
   "source": [
    "C_samples = C_samples.astype(np.str)"
   ]
  },
  {
   "cell_type": "code",
   "execution_count": 242,
   "metadata": {
    "ExecuteTime": {
     "end_time": "2024-05-15T10:46:39.484791Z",
     "start_time": "2024-05-15T10:46:39.474219Z"
    }
   },
   "outputs": [
    {
     "data": {
      "text/plain": [
       "array(['B(C#N)(C1=CC(=CC=C1)C=CC(=O)N2C3=CC=CC=C3N=N2)O',\n",
       "       'B(C#N)(C1=CC=C(C=C1)C=CC(=O)N2C3=CC=CC=C3N=N2)O',\n",
       "       'B(C(=C)CNC1=C(C2=C(C(=C1)C3=CC=C(C=C3)C(C)C)OCC2)C#N)(O)O', ...,\n",
       "       'C1=C(N(C(=C1)O)C2=CC(=C(C(=C2)Cl)Cl)Cl)O',\n",
       "       'C1=C(N(C(=S)S1)CC(=O)O)O', 'C1=C(N(C(=S)S1)CCCCCC(=O)O)O'],\n",
       "      dtype='<U510')"
      ]
     },
     "execution_count": 242,
     "metadata": {},
     "output_type": "execute_result"
    }
   ],
   "source": [
    "C_samples"
   ]
  },
  {
   "cell_type": "code",
   "execution_count": 274,
   "metadata": {
    "ExecuteTime": {
     "end_time": "2024-05-15T10:55:44.269887Z",
     "start_time": "2024-05-15T10:55:34.896195Z"
    }
   },
   "outputs": [],
   "source": [
    "Cs_cleaned = list(map(lambda x: list(x), index_to_C))"
   ]
  },
  {
   "cell_type": "code",
   "execution_count": 275,
   "metadata": {
    "ExecuteTime": {
     "end_time": "2024-05-15T10:55:52.467697Z",
     "start_time": "2024-05-15T10:55:44.272472Z"
    }
   },
   "outputs": [],
   "source": [
    "vocab_C = np.unique(np.concatenate(Cs_cleaned))"
   ]
  },
  {
   "cell_type": "code",
   "execution_count": 298,
   "metadata": {
    "ExecuteTime": {
     "end_time": "2024-05-15T11:00:44.664272Z",
     "start_time": "2024-05-15T11:00:44.657755Z"
    }
   },
   "outputs": [],
   "source": [
    "ddd = {\"<PAD>\": 0}\n",
    "ddd.update({\"A\": 1})"
   ]
  },
  {
   "cell_type": "code",
   "execution_count": 304,
   "metadata": {
    "ExecuteTime": {
     "end_time": "2024-05-15T11:02:02.388008Z",
     "start_time": "2024-05-15T11:02:02.376703Z"
    }
   },
   "outputs": [],
   "source": [
    "token_to_index = {\"<PAD>\": 0}\n",
    "token_to_index.update({vocab_C[i]: i+1 for i in range(len(vocab_C))})\n",
    "index_to_token = {0: \"<PAD>\"}\n",
    "index_to_token.update({i+1: vocab_C[i] for i in range(len(vocab_C))})"
   ]
  },
  {
   "cell_type": "code",
   "execution_count": 305,
   "metadata": {
    "ExecuteTime": {
     "end_time": "2024-05-15T11:02:02.928107Z",
     "start_time": "2024-05-15T11:02:02.914028Z"
    },
    "scrolled": true
   },
   "outputs": [
    {
     "data": {
      "text/plain": [
       "{'<PAD>': 0,\n",
       " '#': 1,\n",
       " '%': 2,\n",
       " '(': 3,\n",
       " ')': 4,\n",
       " '+': 5,\n",
       " '-': 6,\n",
       " '.': 7,\n",
       " '0': 8,\n",
       " '1': 9,\n",
       " '2': 10,\n",
       " '3': 11,\n",
       " '4': 12,\n",
       " '5': 13,\n",
       " '6': 14,\n",
       " '7': 15,\n",
       " '8': 16,\n",
       " '9': 17,\n",
       " '=': 18,\n",
       " 'A': 19,\n",
       " 'B': 20,\n",
       " 'C': 21,\n",
       " 'F': 22,\n",
       " 'G': 23,\n",
       " 'H': 24,\n",
       " 'I': 25,\n",
       " 'K': 26,\n",
       " 'L': 27,\n",
       " 'M': 28,\n",
       " 'N': 29,\n",
       " 'O': 30,\n",
       " 'P': 31,\n",
       " 'R': 32,\n",
       " 'S': 33,\n",
       " 'T': 34,\n",
       " 'V': 35,\n",
       " 'W': 36,\n",
       " 'Z': 37,\n",
       " '[': 38,\n",
       " ']': 39,\n",
       " 'a': 40,\n",
       " 'b': 41,\n",
       " 'c': 42,\n",
       " 'd': 43,\n",
       " 'e': 44,\n",
       " 'g': 45,\n",
       " 'i': 46,\n",
       " 'l': 47,\n",
       " 'n': 48,\n",
       " 'o': 49,\n",
       " 'r': 50,\n",
       " 's': 51,\n",
       " 't': 52,\n",
       " 'u': 53}"
      ]
     },
     "execution_count": 305,
     "metadata": {},
     "output_type": "execute_result"
    }
   ],
   "source": [
    "token_to_index"
   ]
  },
  {
   "cell_type": "code",
   "execution_count": 296,
   "metadata": {
    "ExecuteTime": {
     "end_time": "2024-05-15T10:59:47.871809Z",
     "start_time": "2024-05-15T10:59:40.272549Z"
    },
    "scrolled": true
   },
   "outputs": [],
   "source": [
    "Cs_vectorized = [[token_to_index[token] for token in s] for s in Cs_cleaned]"
   ]
  },
  {
   "cell_type": "code",
   "execution_count": 306,
   "metadata": {
    "ExecuteTime": {
     "end_time": "2024-05-15T11:02:41.705478Z",
     "start_time": "2024-05-15T11:02:41.699848Z"
    }
   },
   "outputs": [],
   "source": [
    "max_len_C = 100"
   ]
  },
  {
   "cell_type": "code",
   "execution_count": 320,
   "metadata": {
    "ExecuteTime": {
     "end_time": "2024-05-15T12:01:42.255967Z",
     "start_time": "2024-05-15T12:01:42.246250Z"
    }
   },
   "outputs": [
    {
     "data": {
      "text/plain": [
       "100"
      ]
     },
     "execution_count": 320,
     "metadata": {},
     "output_type": "execute_result"
    }
   ],
   "source": [
    "Cs_vectorized[0] + list(np.tile(token_to_index[\"<PAD>\"], max_len_C - len(Cs_vectorized[0])))"
   ]
  },
  {
   "cell_type": "code",
   "execution_count": 322,
   "metadata": {
    "ExecuteTime": {
     "end_time": "2024-05-15T12:01:52.506591Z",
     "start_time": "2024-05-15T12:01:52.499364Z"
    },
    "scrolled": true
   },
   "outputs": [],
   "source": [
    "temp = Cs_vectorized[0][:max_len_C] if len(Cs_vectorized[0]) > max_len_C else Cs_vectorized[0] + list(np.tile(token_to_index[\"<PAD>\"], max_len_C - len(Cs_vectorized[0])))"
   ]
  },
  {
   "cell_type": "code",
   "execution_count": 324,
   "metadata": {
    "ExecuteTime": {
     "end_time": "2024-05-15T12:01:57.835539Z",
     "start_time": "2024-05-15T12:01:57.828530Z"
    }
   },
   "outputs": [
    {
     "data": {
      "text/plain": [
       "100"
      ]
     },
     "execution_count": 324,
     "metadata": {},
     "output_type": "execute_result"
    }
   ],
   "source": [
    "len(temp)"
   ]
  },
  {
   "cell_type": "code",
   "execution_count": 325,
   "metadata": {
    "ExecuteTime": {
     "end_time": "2024-05-15T12:03:00.967512Z",
     "start_time": "2024-05-15T12:02:45.590247Z"
    }
   },
   "outputs": [],
   "source": [
    "Cs_padded = np.array([s[:max_len_C] if len(s)>max_len_C else s + list(np.tile(token_to_index[\"<PAD>\"], max_len_C - len(s))) for s in Cs_vectorized])"
   ]
  },
  {
   "cell_type": "code",
   "execution_count": 332,
   "metadata": {
    "ExecuteTime": {
     "end_time": "2024-05-15T12:06:08.128253Z",
     "start_time": "2024-05-15T12:06:08.121008Z"
    }
   },
   "outputs": [],
   "source": [
    "def cal_sim(s1, s2):\n",
    "    return 1 - lvs.hamming(s1, s2) / max_len_C"
   ]
  },
  {
   "cell_type": "code",
   "execution_count": 334,
   "metadata": {
    "ExecuteTime": {
     "end_time": "2024-05-15T12:06:20.432200Z",
     "start_time": "2024-05-15T12:06:20.423400Z"
    }
   },
   "outputs": [
    {
     "data": {
      "text/plain": [
       "0.5700000000000001"
      ]
     },
     "execution_count": 334,
     "metadata": {},
     "output_type": "execute_result"
    }
   ],
   "source": [
    "cal_sim(Cs_padded[0], Cs_padded[100])"
   ]
  },
  {
   "cell_type": "code",
   "execution_count": 335,
   "metadata": {
    "ExecuteTime": {
     "end_time": "2024-05-15T12:07:07.294921Z",
     "start_time": "2024-05-15T12:07:07.285868Z"
    }
   },
   "outputs": [
    {
     "data": {
      "text/plain": [
       "array([[19,  2, 20, ...,  0,  0,  0],\n",
       "       [19,  2, 20, ...,  0,  0,  0],\n",
       "       [19,  2, 20, ...,  0,  0,  0],\n",
       "       ...,\n",
       "       [37, 29,  5, ...,  0,  0,  0],\n",
       "       [37, 29,  5, ...,  0,  0,  0],\n",
       "       [37, 36, 47, ...,  0,  0,  0]])"
      ]
     },
     "execution_count": 335,
     "metadata": {},
     "output_type": "execute_result"
    }
   ],
   "source": [
    "Cs_padded"
   ]
  },
  {
   "cell_type": "code",
   "execution_count": 336,
   "metadata": {
    "ExecuteTime": {
     "end_time": "2024-05-15T12:07:13.770051Z",
     "start_time": "2024-05-15T12:07:13.763772Z"
    }
   },
   "outputs": [],
   "source": [
    "from scipy.spatial import KDTree"
   ]
  },
  {
   "cell_type": "code",
   "execution_count": 362,
   "metadata": {
    "ExecuteTime": {
     "end_time": "2024-05-15T12:13:41.434378Z",
     "start_time": "2024-05-15T12:13:41.168578Z"
    }
   },
   "outputs": [],
   "source": [
    "kdtree = KDTree(Cs_padded[:10000])"
   ]
  },
  {
   "cell_type": "code",
   "execution_count": 363,
   "metadata": {
    "ExecuteTime": {
     "end_time": "2024-05-15T12:13:42.346254Z",
     "start_time": "2024-05-15T12:13:42.334542Z"
    }
   },
   "outputs": [
    {
     "data": {
      "text/plain": [
       "<scipy.spatial.kdtree.KDTree at 0x7f7810db5a20>"
      ]
     },
     "execution_count": 363,
     "metadata": {},
     "output_type": "execute_result"
    }
   ],
   "source": [
    "kdtree"
   ]
  },
  {
   "cell_type": "code",
   "execution_count": 339,
   "metadata": {
    "ExecuteTime": {
     "end_time": "2024-05-15T12:07:48.358639Z",
     "start_time": "2024-05-15T12:07:48.347571Z"
    }
   },
   "outputs": [],
   "source": [
    "def find_similar_strings(tree, X, threshold):\n",
    "    similar_pairs = []\n",
    "    for i in range(len(X)):\n",
    "        distances, indices = tree.query(X[i], k=len(X), distance_upper_bound=threshold)\n",
    "        for j in indices:\n",
    "            if j != i and j < len(X) and distances[j] < threshold:\n",
    "                similar_pairs.append((i, j))\n",
    "    return similar_pairs"
   ]
  },
  {
   "cell_type": "code",
   "execution_count": 370,
   "metadata": {
    "ExecuteTime": {
     "end_time": "2024-05-15T12:14:12.335897Z",
     "start_time": "2024-05-15T12:14:12.325986Z"
    }
   },
   "outputs": [],
   "source": [
    "distances, indices = kdtree.query(Cs_padded[100], k=len(Cs_padded[:10000]), distance_upper_bound=1)"
   ]
  },
  {
   "cell_type": "code",
   "execution_count": 371,
   "metadata": {
    "ExecuteTime": {
     "end_time": "2024-05-15T12:14:12.858889Z",
     "start_time": "2024-05-15T12:14:12.850043Z"
    }
   },
   "outputs": [
    {
     "data": {
      "text/plain": [
       "array([ 0., inf, inf, ..., inf, inf, inf])"
      ]
     },
     "execution_count": 371,
     "metadata": {},
     "output_type": "execute_result"
    }
   ],
   "source": [
    "distances"
   ]
  },
  {
   "cell_type": "code",
   "execution_count": 360,
   "metadata": {
    "ExecuteTime": {
     "end_time": "2024-05-15T12:13:03.618084Z",
     "start_time": "2024-05-15T12:13:03.598321Z"
    },
    "scrolled": true
   },
   "outputs": [
    {
     "data": {
      "text/plain": [
       "[0]"
      ]
     },
     "execution_count": 360,
     "metadata": {},
     "output_type": "execute_result"
    }
   ],
   "source": [
    "kdtree.query_ball_point(Cs_padded[0], 10)"
   ]
  },
  {
   "cell_type": "code",
   "execution_count": null,
   "metadata": {},
   "outputs": [],
   "source": []
  },
  {
   "cell_type": "code",
   "execution_count": 343,
   "metadata": {
    "ExecuteTime": {
     "end_time": "2024-05-15T12:08:46.504747Z",
     "start_time": "2024-05-15T12:08:46.456089Z"
    }
   },
   "outputs": [],
   "source": [
    "sim_pairs = find_similar_strings(kdtree, Cs_padded[:100], 0.3)"
   ]
  },
  {
   "cell_type": "code",
   "execution_count": 344,
   "metadata": {
    "ExecuteTime": {
     "end_time": "2024-05-15T12:08:46.887457Z",
     "start_time": "2024-05-15T12:08:46.880089Z"
    }
   },
   "outputs": [
    {
     "data": {
      "text/plain": [
       "[]"
      ]
     },
     "execution_count": 344,
     "metadata": {},
     "output_type": "execute_result"
    }
   ],
   "source": [
    "sim_pairs"
   ]
  },
  {
   "cell_type": "code",
   "execution_count": null,
   "metadata": {},
   "outputs": [],
   "source": []
  },
  {
   "cell_type": "code",
   "execution_count": null,
   "metadata": {},
   "outputs": [],
   "source": []
  },
  {
   "cell_type": "code",
   "execution_count": null,
   "metadata": {},
   "outputs": [],
   "source": []
  },
  {
   "cell_type": "code",
   "execution_count": null,
   "metadata": {},
   "outputs": [],
   "source": []
  },
  {
   "cell_type": "code",
   "execution_count": null,
   "metadata": {},
   "outputs": [],
   "source": []
  },
  {
   "cell_type": "code",
   "execution_count": 50,
   "metadata": {
    "ExecuteTime": {
     "end_time": "2024-05-15T08:31:23.823872Z",
     "start_time": "2024-05-15T08:31:23.810511Z"
    }
   },
   "outputs": [
    {
     "data": {
      "text/plain": [
       "'B(C#N)(C1=CC(=CC=C1)C=CC(=O)N2C3=CC=CC=C3N=N2)O'"
      ]
     },
     "metadata": {},
     "output_type": "display_data"
    },
    {
     "data": {
      "text/plain": [
       "'C#CCOC(=O)C1=CC(=C(C=C1)O)NC(=O)COC2=CC=CC=C2C3(N=N3)C(F)(F)F'"
      ]
     },
     "metadata": {},
     "output_type": "display_data"
    }
   ],
   "source": [
    "s1 = index_to_C[0]\n",
    "s2 = index_to_C[3000]\n",
    "display(s1, s2)"
   ]
  },
  {
   "cell_type": "code",
   "execution_count": 55,
   "metadata": {
    "ExecuteTime": {
     "end_time": "2024-05-15T08:31:56.200258Z",
     "start_time": "2024-05-15T08:31:56.192413Z"
    }
   },
   "outputs": [
    {
     "name": "stdout",
     "output_type": "stream",
     "text": [
      "lvs distance: 27\n",
      "lvs rel-distance: 0.6481481481481481\n"
     ]
    }
   ],
   "source": [
    "print(\"lvs distance: {}\".format(lvs.distance(s1, s2)))\n",
    "print(\"lvs rel-distance: {}\".format(lvs.ratio(s1, s2)))"
   ]
  },
  {
   "cell_type": "code",
   "execution_count": 178,
   "metadata": {
    "ExecuteTime": {
     "end_time": "2024-05-15T09:08:23.117515Z",
     "start_time": "2024-05-15T09:08:23.107241Z"
    }
   },
   "outputs": [],
   "source": [
    "lvs_threshold = 0.75"
   ]
  },
  {
   "cell_type": "code",
   "execution_count": 211,
   "metadata": {
    "ExecuteTime": {
     "end_time": "2024-05-15T09:29:14.220930Z",
     "start_time": "2024-05-15T09:29:14.214643Z"
    }
   },
   "outputs": [],
   "source": [
    "C_samples = index_to_C[:100]\n",
    "n_Cs = C_samples.shape[0]"
   ]
  },
  {
   "cell_type": "code",
   "execution_count": 180,
   "metadata": {
    "ExecuteTime": {
     "end_time": "2024-05-15T09:08:25.057320Z",
     "start_time": "2024-05-15T09:08:24.063869Z"
    }
   },
   "outputs": [
    {
     "name": "stderr",
     "output_type": "stream",
     "text": [
      "100%|██████████| 1000/1000 [00:00<00:00, 1023.10it/s]\n"
     ]
    }
   ],
   "source": [
    "CC_adj = np.zeros((n_Cs, n_Cs), dtype=np.bool)\n",
    "for i in tqdm(range(n_Cs)):\n",
    "    CC_adj[i,i] = True\n",
    "    similarities = list(map(lambda s1,s2: lvs.ratio(s1, s2) > lvs_threshold, np.tile(C_samples[0], n_Cs-(i+1)), C_samples[i+1:]))\n",
    "    CC_adj[i,i+1:] = similarities\n",
    "    CC_adj[i+1:,i] = similarities"
   ]
  },
  {
   "cell_type": "code",
   "execution_count": null,
   "metadata": {},
   "outputs": [],
   "source": []
  },
  {
   "cell_type": "code",
   "execution_count": 208,
   "metadata": {
    "ExecuteTime": {
     "end_time": "2024-05-15T09:28:06.656829Z",
     "start_time": "2024-05-15T09:28:06.638819Z"
    }
   },
   "outputs": [],
   "source": [
    "import numpy as np\n",
    "from numba import jit\n",
    "from joblib import Parallel, delayed\n",
    "import itertools\n",
    "from scipy.sparse import lil_matrix\n",
    "\n",
    "# Levenshtein 거리 계산 함수\n",
    "@jit(nopython=True)\n",
    "def levenshtein_distance(s1, s2):\n",
    "    if len(s1) < len(s2):\n",
    "        return levenshtein_distance(s2, s1)\n",
    "\n",
    "    if len(s2) == 0:\n",
    "        return len(s1)\n",
    "\n",
    "    previous_row = np.arange(len(s2) + 1, dtype=np.int32)\n",
    "    for i, c1 in enumerate(s1):\n",
    "        current_row = np.zeros(len(s2) + 1, dtype=np.int32)\n",
    "        current_row[0] = i + 1\n",
    "        for j, c2 in enumerate(s2):\n",
    "            insertions = previous_row[j + 1] + 1\n",
    "            deletions = current_row[j] + 1\n",
    "            substitutions = previous_row[j] + (c1 != c2)\n",
    "            current_row[j + 1] = min(insertions, deletions, substitutions)\n",
    "        previous_row = current_row\n",
    "\n",
    "    return previous_row[-1]\n",
    "\n",
    "# 임계값 설정\n",
    "THRESHOLD = 10  # 예시 임계값, 필요에 따라 조정\n",
    "\n",
    "# 거리 계산 함수를 병렬로 적용\n",
    "def calculate_similarity(i, j):\n",
    "    sim = lvs.ratio(C_samples[i], C_samples[j])\n",
    "    return (i, j, sim >= lvs_threshold)\n",
    "\n",
    "# 인접 행렬의 크기 설정\n",
    "# n = len(strings)\n",
    "# adj_matrix = lil_matrix((n, n), dtype=bool)\n",
    "\n",
    "# 병렬 처리\n",
    "# results = Parallel(n_jobs=-1)(delayed(calculate_distance)(i, j) for i, j in itertools.combinations(range(n), 2))"
   ]
  },
  {
   "cell_type": "code",
   "execution_count": 206,
   "metadata": {
    "ExecuteTime": {
     "end_time": "2024-05-15T09:27:00.931033Z",
     "start_time": "2024-05-15T09:27:00.921944Z"
    }
   },
   "outputs": [
    {
     "data": {
      "text/plain": [
       "(100,)"
      ]
     },
     "execution_count": 206,
     "metadata": {},
     "output_type": "execute_result"
    }
   ],
   "source": [
    "C_samples.shape"
   ]
  },
  {
   "cell_type": "code",
   "execution_count": 223,
   "metadata": {
    "ExecuteTime": {
     "end_time": "2024-05-15T09:32:29.648919Z",
     "start_time": "2024-05-15T09:32:29.642868Z"
    }
   },
   "outputs": [],
   "source": [
    "C_samples = index_to_C[:5000]\n",
    "n_Cs = C_samples.shape[0]"
   ]
  },
  {
   "cell_type": "code",
   "execution_count": 224,
   "metadata": {
    "ExecuteTime": {
     "end_time": "2024-05-15T09:38:31.094954Z",
     "start_time": "2024-05-15T09:32:31.153427Z"
    },
    "scrolled": true
   },
   "outputs": [
    {
     "ename": "KeyboardInterrupt",
     "evalue": "",
     "output_type": "error",
     "traceback": [
      "\u001b[0;31m---------------------------------------------------------------------------\u001b[0m",
      "\u001b[0;31mKeyboardInterrupt\u001b[0m                         Traceback (most recent call last)",
      "\u001b[0;32m~/.local/lib/python3.6/site-packages/joblib/parallel.py\u001b[0m in \u001b[0;36mretrieve\u001b[0;34m(self)\u001b[0m\n\u001b[1;32m    937\u001b[0m                 \u001b[0;32mif\u001b[0m \u001b[0mgetattr\u001b[0m\u001b[0;34m(\u001b[0m\u001b[0mself\u001b[0m\u001b[0;34m.\u001b[0m\u001b[0m_backend\u001b[0m\u001b[0;34m,\u001b[0m \u001b[0;34m'supports_timeout'\u001b[0m\u001b[0;34m,\u001b[0m \u001b[0;32mFalse\u001b[0m\u001b[0;34m)\u001b[0m\u001b[0;34m:\u001b[0m\u001b[0;34m\u001b[0m\u001b[0;34m\u001b[0m\u001b[0m\n\u001b[0;32m--> 938\u001b[0;31m                     \u001b[0mself\u001b[0m\u001b[0;34m.\u001b[0m\u001b[0m_output\u001b[0m\u001b[0;34m.\u001b[0m\u001b[0mextend\u001b[0m\u001b[0;34m(\u001b[0m\u001b[0mjob\u001b[0m\u001b[0;34m.\u001b[0m\u001b[0mget\u001b[0m\u001b[0;34m(\u001b[0m\u001b[0mtimeout\u001b[0m\u001b[0;34m=\u001b[0m\u001b[0mself\u001b[0m\u001b[0;34m.\u001b[0m\u001b[0mtimeout\u001b[0m\u001b[0;34m)\u001b[0m\u001b[0;34m)\u001b[0m\u001b[0;34m\u001b[0m\u001b[0;34m\u001b[0m\u001b[0m\n\u001b[0m\u001b[1;32m    939\u001b[0m                 \u001b[0;32melse\u001b[0m\u001b[0;34m:\u001b[0m\u001b[0;34m\u001b[0m\u001b[0;34m\u001b[0m\u001b[0m\n",
      "\u001b[0;32m~/.local/lib/python3.6/site-packages/joblib/_parallel_backends.py\u001b[0m in \u001b[0;36mwrap_future_result\u001b[0;34m(future, timeout)\u001b[0m\n\u001b[1;32m    541\u001b[0m         \u001b[0;32mtry\u001b[0m\u001b[0;34m:\u001b[0m\u001b[0;34m\u001b[0m\u001b[0;34m\u001b[0m\u001b[0m\n\u001b[0;32m--> 542\u001b[0;31m             \u001b[0;32mreturn\u001b[0m \u001b[0mfuture\u001b[0m\u001b[0;34m.\u001b[0m\u001b[0mresult\u001b[0m\u001b[0;34m(\u001b[0m\u001b[0mtimeout\u001b[0m\u001b[0;34m=\u001b[0m\u001b[0mtimeout\u001b[0m\u001b[0;34m)\u001b[0m\u001b[0;34m\u001b[0m\u001b[0;34m\u001b[0m\u001b[0m\n\u001b[0m\u001b[1;32m    543\u001b[0m         \u001b[0;32mexcept\u001b[0m \u001b[0mCfTimeoutError\u001b[0m \u001b[0;32mas\u001b[0m \u001b[0me\u001b[0m\u001b[0;34m:\u001b[0m\u001b[0;34m\u001b[0m\u001b[0;34m\u001b[0m\u001b[0m\n",
      "\u001b[0;32m~/.conda/envs/drug2/lib/python3.6/concurrent/futures/_base.py\u001b[0m in \u001b[0;36mresult\u001b[0;34m(self, timeout)\u001b[0m\n\u001b[1;32m    426\u001b[0m \u001b[0;34m\u001b[0m\u001b[0m\n\u001b[0;32m--> 427\u001b[0;31m             \u001b[0mself\u001b[0m\u001b[0;34m.\u001b[0m\u001b[0m_condition\u001b[0m\u001b[0;34m.\u001b[0m\u001b[0mwait\u001b[0m\u001b[0;34m(\u001b[0m\u001b[0mtimeout\u001b[0m\u001b[0;34m)\u001b[0m\u001b[0;34m\u001b[0m\u001b[0;34m\u001b[0m\u001b[0m\n\u001b[0m\u001b[1;32m    428\u001b[0m \u001b[0;34m\u001b[0m\u001b[0m\n",
      "\u001b[0;32m~/.conda/envs/drug2/lib/python3.6/threading.py\u001b[0m in \u001b[0;36mwait\u001b[0;34m(self, timeout)\u001b[0m\n\u001b[1;32m    294\u001b[0m             \u001b[0;32mif\u001b[0m \u001b[0mtimeout\u001b[0m \u001b[0;32mis\u001b[0m \u001b[0;32mNone\u001b[0m\u001b[0;34m:\u001b[0m\u001b[0;34m\u001b[0m\u001b[0;34m\u001b[0m\u001b[0m\n\u001b[0;32m--> 295\u001b[0;31m                 \u001b[0mwaiter\u001b[0m\u001b[0;34m.\u001b[0m\u001b[0macquire\u001b[0m\u001b[0;34m(\u001b[0m\u001b[0;34m)\u001b[0m\u001b[0;34m\u001b[0m\u001b[0;34m\u001b[0m\u001b[0m\n\u001b[0m\u001b[1;32m    296\u001b[0m                 \u001b[0mgotit\u001b[0m \u001b[0;34m=\u001b[0m \u001b[0;32mTrue\u001b[0m\u001b[0;34m\u001b[0m\u001b[0;34m\u001b[0m\u001b[0m\n",
      "\u001b[0;31mKeyboardInterrupt\u001b[0m: ",
      "\nDuring handling of the above exception, another exception occurred:\n",
      "\u001b[0;31mKeyboardInterrupt\u001b[0m                         Traceback (most recent call last)",
      "\u001b[0;32m<ipython-input-224-91b60a21ddd7>\u001b[0m in \u001b[0;36m<module>\u001b[0;34m\u001b[0m\n\u001b[0;32m----> 1\u001b[0;31m \u001b[0mres\u001b[0m \u001b[0;34m=\u001b[0m \u001b[0mParallel\u001b[0m\u001b[0;34m(\u001b[0m\u001b[0mn_jobs\u001b[0m\u001b[0;34m=\u001b[0m\u001b[0;34m-\u001b[0m\u001b[0;36m1\u001b[0m\u001b[0;34m)\u001b[0m\u001b[0;34m(\u001b[0m\u001b[0mdelayed\u001b[0m\u001b[0;34m(\u001b[0m\u001b[0mcalculate_similarity\u001b[0m\u001b[0;34m)\u001b[0m\u001b[0;34m(\u001b[0m\u001b[0mi\u001b[0m\u001b[0;34m,\u001b[0m \u001b[0mj\u001b[0m\u001b[0;34m)\u001b[0m \u001b[0;32mfor\u001b[0m \u001b[0mi\u001b[0m\u001b[0;34m,\u001b[0m \u001b[0mj\u001b[0m \u001b[0;32min\u001b[0m \u001b[0mitertools\u001b[0m\u001b[0;34m.\u001b[0m\u001b[0mcombinations\u001b[0m\u001b[0;34m(\u001b[0m\u001b[0mrange\u001b[0m\u001b[0;34m(\u001b[0m\u001b[0mn_Cs\u001b[0m\u001b[0;34m)\u001b[0m\u001b[0;34m,\u001b[0m \u001b[0;36m2\u001b[0m\u001b[0;34m)\u001b[0m\u001b[0;34m)\u001b[0m\u001b[0;34m\u001b[0m\u001b[0;34m\u001b[0m\u001b[0m\n\u001b[0m",
      "\u001b[0;32m~/.local/lib/python3.6/site-packages/joblib/parallel.py\u001b[0m in \u001b[0;36m__call__\u001b[0;34m(self, iterable)\u001b[0m\n\u001b[1;32m   1059\u001b[0m \u001b[0;34m\u001b[0m\u001b[0m\n\u001b[1;32m   1060\u001b[0m             \u001b[0;32mwith\u001b[0m \u001b[0mself\u001b[0m\u001b[0;34m.\u001b[0m\u001b[0m_backend\u001b[0m\u001b[0;34m.\u001b[0m\u001b[0mretrieval_context\u001b[0m\u001b[0;34m(\u001b[0m\u001b[0;34m)\u001b[0m\u001b[0;34m:\u001b[0m\u001b[0;34m\u001b[0m\u001b[0;34m\u001b[0m\u001b[0m\n\u001b[0;32m-> 1061\u001b[0;31m                 \u001b[0mself\u001b[0m\u001b[0;34m.\u001b[0m\u001b[0mretrieve\u001b[0m\u001b[0;34m(\u001b[0m\u001b[0;34m)\u001b[0m\u001b[0;34m\u001b[0m\u001b[0;34m\u001b[0m\u001b[0m\n\u001b[0m\u001b[1;32m   1062\u001b[0m             \u001b[0;31m# Make sure that we get a last message telling us we are done\u001b[0m\u001b[0;34m\u001b[0m\u001b[0;34m\u001b[0m\u001b[0;34m\u001b[0m\u001b[0m\n\u001b[1;32m   1063\u001b[0m             \u001b[0melapsed_time\u001b[0m \u001b[0;34m=\u001b[0m \u001b[0mtime\u001b[0m\u001b[0;34m.\u001b[0m\u001b[0mtime\u001b[0m\u001b[0;34m(\u001b[0m\u001b[0;34m)\u001b[0m \u001b[0;34m-\u001b[0m \u001b[0mself\u001b[0m\u001b[0;34m.\u001b[0m\u001b[0m_start_time\u001b[0m\u001b[0;34m\u001b[0m\u001b[0;34m\u001b[0m\u001b[0m\n",
      "\u001b[0;32m~/.local/lib/python3.6/site-packages/joblib/parallel.py\u001b[0m in \u001b[0;36mretrieve\u001b[0;34m(self)\u001b[0m\n\u001b[1;32m    958\u001b[0m                     \u001b[0;31m# scheduling.\u001b[0m\u001b[0;34m\u001b[0m\u001b[0;34m\u001b[0m\u001b[0;34m\u001b[0m\u001b[0m\n\u001b[1;32m    959\u001b[0m                     \u001b[0mensure_ready\u001b[0m \u001b[0;34m=\u001b[0m \u001b[0mself\u001b[0m\u001b[0;34m.\u001b[0m\u001b[0m_managed_backend\u001b[0m\u001b[0;34m\u001b[0m\u001b[0;34m\u001b[0m\u001b[0m\n\u001b[0;32m--> 960\u001b[0;31m                     \u001b[0mbackend\u001b[0m\u001b[0;34m.\u001b[0m\u001b[0mabort_everything\u001b[0m\u001b[0;34m(\u001b[0m\u001b[0mensure_ready\u001b[0m\u001b[0;34m=\u001b[0m\u001b[0mensure_ready\u001b[0m\u001b[0;34m)\u001b[0m\u001b[0;34m\u001b[0m\u001b[0;34m\u001b[0m\u001b[0m\n\u001b[0m\u001b[1;32m    961\u001b[0m                 \u001b[0;32mraise\u001b[0m\u001b[0;34m\u001b[0m\u001b[0;34m\u001b[0m\u001b[0m\n\u001b[1;32m    962\u001b[0m \u001b[0;34m\u001b[0m\u001b[0m\n",
      "\u001b[0;32m~/.local/lib/python3.6/site-packages/joblib/_parallel_backends.py\u001b[0m in \u001b[0;36mabort_everything\u001b[0;34m(self, ensure_ready)\u001b[0m\n\u001b[1;32m    559\u001b[0m         \"\"\"Shutdown the workers and restart a new one with the same parameters\n\u001b[1;32m    560\u001b[0m         \"\"\"\n\u001b[0;32m--> 561\u001b[0;31m         \u001b[0mself\u001b[0m\u001b[0;34m.\u001b[0m\u001b[0m_workers\u001b[0m\u001b[0;34m.\u001b[0m\u001b[0mterminate\u001b[0m\u001b[0;34m(\u001b[0m\u001b[0mkill_workers\u001b[0m\u001b[0;34m=\u001b[0m\u001b[0;32mTrue\u001b[0m\u001b[0;34m)\u001b[0m\u001b[0;34m\u001b[0m\u001b[0;34m\u001b[0m\u001b[0m\n\u001b[0m\u001b[1;32m    562\u001b[0m         \u001b[0mself\u001b[0m\u001b[0;34m.\u001b[0m\u001b[0m_workers\u001b[0m \u001b[0;34m=\u001b[0m \u001b[0;32mNone\u001b[0m\u001b[0;34m\u001b[0m\u001b[0;34m\u001b[0m\u001b[0m\n\u001b[1;32m    563\u001b[0m \u001b[0;34m\u001b[0m\u001b[0m\n",
      "\u001b[0;32m~/.local/lib/python3.6/site-packages/joblib/executor.py\u001b[0m in \u001b[0;36mterminate\u001b[0;34m(self, kill_workers)\u001b[0m\n\u001b[1;32m     72\u001b[0m \u001b[0;34m\u001b[0m\u001b[0m\n\u001b[1;32m     73\u001b[0m     \u001b[0;32mdef\u001b[0m \u001b[0mterminate\u001b[0m\u001b[0;34m(\u001b[0m\u001b[0mself\u001b[0m\u001b[0;34m,\u001b[0m \u001b[0mkill_workers\u001b[0m\u001b[0;34m=\u001b[0m\u001b[0;32mFalse\u001b[0m\u001b[0;34m)\u001b[0m\u001b[0;34m:\u001b[0m\u001b[0;34m\u001b[0m\u001b[0;34m\u001b[0m\u001b[0m\n\u001b[0;32m---> 74\u001b[0;31m         \u001b[0mself\u001b[0m\u001b[0;34m.\u001b[0m\u001b[0mshutdown\u001b[0m\u001b[0;34m(\u001b[0m\u001b[0mkill_workers\u001b[0m\u001b[0;34m=\u001b[0m\u001b[0mkill_workers\u001b[0m\u001b[0;34m)\u001b[0m\u001b[0;34m\u001b[0m\u001b[0;34m\u001b[0m\u001b[0m\n\u001b[0m\u001b[1;32m     75\u001b[0m         \u001b[0;32mif\u001b[0m \u001b[0mkill_workers\u001b[0m\u001b[0;34m:\u001b[0m\u001b[0;34m\u001b[0m\u001b[0;34m\u001b[0m\u001b[0m\n\u001b[1;32m     76\u001b[0m             \u001b[0;31m# When workers are killed in such a brutal manner, they cannot\u001b[0m\u001b[0;34m\u001b[0m\u001b[0;34m\u001b[0m\u001b[0;34m\u001b[0m\u001b[0m\n",
      "\u001b[0;32m~/.local/lib/python3.6/site-packages/joblib/externals/loky/process_executor.py\u001b[0m in \u001b[0;36mshutdown\u001b[0;34m(self, wait, kill_workers)\u001b[0m\n\u001b[1;32m   1183\u001b[0m \u001b[0;34m\u001b[0m\u001b[0m\n\u001b[1;32m   1184\u001b[0m         \u001b[0;32mif\u001b[0m \u001b[0mexecutor_manager_thread\u001b[0m \u001b[0;32mis\u001b[0m \u001b[0;32mnot\u001b[0m \u001b[0;32mNone\u001b[0m \u001b[0;32mand\u001b[0m \u001b[0mwait\u001b[0m\u001b[0;34m:\u001b[0m\u001b[0;34m\u001b[0m\u001b[0;34m\u001b[0m\u001b[0m\n\u001b[0;32m-> 1185\u001b[0;31m             \u001b[0mexecutor_manager_thread\u001b[0m\u001b[0;34m.\u001b[0m\u001b[0mjoin\u001b[0m\u001b[0;34m(\u001b[0m\u001b[0;34m)\u001b[0m\u001b[0;34m\u001b[0m\u001b[0;34m\u001b[0m\u001b[0m\n\u001b[0m\u001b[1;32m   1186\u001b[0m \u001b[0;34m\u001b[0m\u001b[0m\n\u001b[1;32m   1187\u001b[0m         \u001b[0;31m# To reduce the risk of opening too many files, remove references to\u001b[0m\u001b[0;34m\u001b[0m\u001b[0;34m\u001b[0m\u001b[0;34m\u001b[0m\u001b[0m\n",
      "\u001b[0;32m~/.conda/envs/drug2/lib/python3.6/threading.py\u001b[0m in \u001b[0;36mjoin\u001b[0;34m(self, timeout)\u001b[0m\n\u001b[1;32m   1054\u001b[0m \u001b[0;34m\u001b[0m\u001b[0m\n\u001b[1;32m   1055\u001b[0m         \u001b[0;32mif\u001b[0m \u001b[0mtimeout\u001b[0m \u001b[0;32mis\u001b[0m \u001b[0;32mNone\u001b[0m\u001b[0;34m:\u001b[0m\u001b[0;34m\u001b[0m\u001b[0;34m\u001b[0m\u001b[0m\n\u001b[0;32m-> 1056\u001b[0;31m             \u001b[0mself\u001b[0m\u001b[0;34m.\u001b[0m\u001b[0m_wait_for_tstate_lock\u001b[0m\u001b[0;34m(\u001b[0m\u001b[0;34m)\u001b[0m\u001b[0;34m\u001b[0m\u001b[0;34m\u001b[0m\u001b[0m\n\u001b[0m\u001b[1;32m   1057\u001b[0m         \u001b[0;32melse\u001b[0m\u001b[0;34m:\u001b[0m\u001b[0;34m\u001b[0m\u001b[0;34m\u001b[0m\u001b[0m\n\u001b[1;32m   1058\u001b[0m             \u001b[0;31m# the behavior of a negative timeout isn't documented, but\u001b[0m\u001b[0;34m\u001b[0m\u001b[0;34m\u001b[0m\u001b[0;34m\u001b[0m\u001b[0m\n",
      "\u001b[0;32m~/.conda/envs/drug2/lib/python3.6/threading.py\u001b[0m in \u001b[0;36m_wait_for_tstate_lock\u001b[0;34m(self, block, timeout)\u001b[0m\n\u001b[1;32m   1070\u001b[0m         \u001b[0;32mif\u001b[0m \u001b[0mlock\u001b[0m \u001b[0;32mis\u001b[0m \u001b[0;32mNone\u001b[0m\u001b[0;34m:\u001b[0m  \u001b[0;31m# already determined that the C code is done\u001b[0m\u001b[0;34m\u001b[0m\u001b[0;34m\u001b[0m\u001b[0m\n\u001b[1;32m   1071\u001b[0m             \u001b[0;32massert\u001b[0m \u001b[0mself\u001b[0m\u001b[0;34m.\u001b[0m\u001b[0m_is_stopped\u001b[0m\u001b[0;34m\u001b[0m\u001b[0;34m\u001b[0m\u001b[0m\n\u001b[0;32m-> 1072\u001b[0;31m         \u001b[0;32melif\u001b[0m \u001b[0mlock\u001b[0m\u001b[0;34m.\u001b[0m\u001b[0macquire\u001b[0m\u001b[0;34m(\u001b[0m\u001b[0mblock\u001b[0m\u001b[0;34m,\u001b[0m \u001b[0mtimeout\u001b[0m\u001b[0;34m)\u001b[0m\u001b[0;34m:\u001b[0m\u001b[0;34m\u001b[0m\u001b[0;34m\u001b[0m\u001b[0m\n\u001b[0m\u001b[1;32m   1073\u001b[0m             \u001b[0mlock\u001b[0m\u001b[0;34m.\u001b[0m\u001b[0mrelease\u001b[0m\u001b[0;34m(\u001b[0m\u001b[0;34m)\u001b[0m\u001b[0;34m\u001b[0m\u001b[0;34m\u001b[0m\u001b[0m\n\u001b[1;32m   1074\u001b[0m             \u001b[0mself\u001b[0m\u001b[0;34m.\u001b[0m\u001b[0m_stop\u001b[0m\u001b[0;34m(\u001b[0m\u001b[0;34m)\u001b[0m\u001b[0;34m\u001b[0m\u001b[0;34m\u001b[0m\u001b[0m\n",
      "\u001b[0;31mKeyboardInterrupt\u001b[0m: "
     ]
    }
   ],
   "source": [
    "res = Parallel(n_jobs=-1)(delayed(calculate_similarity)(i, j) for i, j in itertools.combinations(range(n_Cs), 2))"
   ]
  },
  {
   "cell_type": "code",
   "execution_count": 215,
   "metadata": {
    "ExecuteTime": {
     "end_time": "2024-05-15T09:30:11.325392Z",
     "start_time": "2024-05-15T09:30:11.242363Z"
    }
   },
   "outputs": [
    {
     "data": {
      "text/plain": [
       "[(0, 1, True),\n",
       " (0, 2, False),\n",
       " (0, 3, False),\n",
       " (0, 4, False),\n",
       " (0, 5, False),\n",
       " (0, 6, False),\n",
       " (0, 7, False),\n",
       " (0, 8, False),\n",
       " (0, 9, False),\n",
       " (0, 10, False),\n",
       " (0, 11, False),\n",
       " (0, 12, False),\n",
       " (0, 13, False),\n",
       " (0, 14, False),\n",
       " (0, 15, False),\n",
       " (0, 16, False),\n",
       " (0, 17, False),\n",
       " (0, 18, False),\n",
       " (0, 19, False),\n",
       " (0, 20, False),\n",
       " (0, 21, False),\n",
       " (0, 22, False),\n",
       " (0, 23, False),\n",
       " (0, 24, False),\n",
       " (0, 25, False),\n",
       " (0, 26, False),\n",
       " (0, 27, False),\n",
       " (0, 28, False),\n",
       " (0, 29, False),\n",
       " (0, 30, False),\n",
       " (0, 31, False),\n",
       " (0, 32, False),\n",
       " (0, 33, False),\n",
       " (0, 34, False),\n",
       " (0, 35, False),\n",
       " (0, 36, False),\n",
       " (0, 37, False),\n",
       " (0, 38, False),\n",
       " (0, 39, False),\n",
       " (0, 40, False),\n",
       " (0, 41, False),\n",
       " (0, 42, False),\n",
       " (0, 43, False),\n",
       " (0, 44, False),\n",
       " (0, 45, False),\n",
       " (0, 46, False),\n",
       " (0, 47, False),\n",
       " (0, 48, False),\n",
       " (0, 49, False),\n",
       " (0, 50, False),\n",
       " (0, 51, False),\n",
       " (0, 52, False),\n",
       " (0, 53, False),\n",
       " (0, 54, False),\n",
       " (0, 55, False),\n",
       " (0, 56, False),\n",
       " (0, 57, False),\n",
       " (0, 58, False),\n",
       " (0, 59, False),\n",
       " (0, 60, False),\n",
       " (0, 61, False),\n",
       " (0, 62, False),\n",
       " (0, 63, False),\n",
       " (0, 64, False),\n",
       " (0, 65, False),\n",
       " (0, 66, False),\n",
       " (0, 67, False),\n",
       " (0, 68, False),\n",
       " (0, 69, False),\n",
       " (0, 70, False),\n",
       " (0, 71, False),\n",
       " (0, 72, False),\n",
       " (0, 73, False),\n",
       " (0, 74, False),\n",
       " (0, 75, False),\n",
       " (0, 76, False),\n",
       " (0, 77, False),\n",
       " (0, 78, False),\n",
       " (0, 79, False),\n",
       " (0, 80, False),\n",
       " (0, 81, False),\n",
       " (0, 82, False),\n",
       " (0, 83, False),\n",
       " (0, 84, False),\n",
       " (0, 85, False),\n",
       " (0, 86, False),\n",
       " (0, 87, False),\n",
       " (0, 88, False),\n",
       " (0, 89, False),\n",
       " (0, 90, False),\n",
       " (0, 91, False),\n",
       " (0, 92, False),\n",
       " (0, 93, False),\n",
       " (0, 94, False),\n",
       " (0, 95, False),\n",
       " (0, 96, False),\n",
       " (0, 97, False),\n",
       " (0, 98, False),\n",
       " (0, 99, False),\n",
       " (1, 2, False),\n",
       " (1, 3, False),\n",
       " (1, 4, False),\n",
       " (1, 5, False),\n",
       " (1, 6, False),\n",
       " (1, 7, False),\n",
       " (1, 8, False),\n",
       " (1, 9, False),\n",
       " (1, 10, False),\n",
       " (1, 11, False),\n",
       " (1, 12, False),\n",
       " (1, 13, False),\n",
       " (1, 14, False),\n",
       " (1, 15, False),\n",
       " (1, 16, False),\n",
       " (1, 17, False),\n",
       " (1, 18, False),\n",
       " (1, 19, False),\n",
       " (1, 20, False),\n",
       " (1, 21, False),\n",
       " (1, 22, False),\n",
       " (1, 23, False),\n",
       " (1, 24, False),\n",
       " (1, 25, False),\n",
       " (1, 26, False),\n",
       " (1, 27, False),\n",
       " (1, 28, False),\n",
       " (1, 29, False),\n",
       " (1, 30, False),\n",
       " (1, 31, False),\n",
       " (1, 32, False),\n",
       " (1, 33, False),\n",
       " (1, 34, False),\n",
       " (1, 35, False),\n",
       " (1, 36, False),\n",
       " (1, 37, False),\n",
       " (1, 38, False),\n",
       " (1, 39, False),\n",
       " (1, 40, False),\n",
       " (1, 41, False),\n",
       " (1, 42, False),\n",
       " (1, 43, False),\n",
       " (1, 44, False),\n",
       " (1, 45, False),\n",
       " (1, 46, False),\n",
       " (1, 47, False),\n",
       " (1, 48, False),\n",
       " (1, 49, False),\n",
       " (1, 50, False),\n",
       " (1, 51, False),\n",
       " (1, 52, False),\n",
       " (1, 53, False),\n",
       " (1, 54, False),\n",
       " (1, 55, False),\n",
       " (1, 56, False),\n",
       " (1, 57, False),\n",
       " (1, 58, False),\n",
       " (1, 59, False),\n",
       " (1, 60, False),\n",
       " (1, 61, False),\n",
       " (1, 62, False),\n",
       " (1, 63, False),\n",
       " (1, 64, False),\n",
       " (1, 65, False),\n",
       " (1, 66, False),\n",
       " (1, 67, False),\n",
       " (1, 68, False),\n",
       " (1, 69, False),\n",
       " (1, 70, False),\n",
       " (1, 71, False),\n",
       " (1, 72, False),\n",
       " (1, 73, False),\n",
       " (1, 74, False),\n",
       " (1, 75, False),\n",
       " (1, 76, False),\n",
       " (1, 77, False),\n",
       " (1, 78, False),\n",
       " (1, 79, False),\n",
       " (1, 80, False),\n",
       " (1, 81, False),\n",
       " (1, 82, False),\n",
       " (1, 83, False),\n",
       " (1, 84, False),\n",
       " (1, 85, False),\n",
       " (1, 86, False),\n",
       " (1, 87, False),\n",
       " (1, 88, False),\n",
       " (1, 89, False),\n",
       " (1, 90, False),\n",
       " (1, 91, False),\n",
       " (1, 92, False),\n",
       " (1, 93, False),\n",
       " (1, 94, False),\n",
       " (1, 95, False),\n",
       " (1, 96, False),\n",
       " (1, 97, False),\n",
       " (1, 98, False),\n",
       " (1, 99, False),\n",
       " (2, 3, False),\n",
       " (2, 4, False),\n",
       " (2, 5, False),\n",
       " (2, 6, False),\n",
       " (2, 7, False),\n",
       " (2, 8, False),\n",
       " (2, 9, False),\n",
       " (2, 10, False),\n",
       " (2, 11, False),\n",
       " (2, 12, False),\n",
       " (2, 13, False),\n",
       " (2, 14, False),\n",
       " (2, 15, False),\n",
       " (2, 16, False),\n",
       " (2, 17, False),\n",
       " (2, 18, False),\n",
       " (2, 19, False),\n",
       " (2, 20, False),\n",
       " (2, 21, False),\n",
       " (2, 22, False),\n",
       " (2, 23, False),\n",
       " (2, 24, False),\n",
       " (2, 25, False),\n",
       " (2, 26, False),\n",
       " (2, 27, False),\n",
       " (2, 28, False),\n",
       " (2, 29, False),\n",
       " (2, 30, False),\n",
       " (2, 31, False),\n",
       " (2, 32, False),\n",
       " (2, 33, False),\n",
       " (2, 34, False),\n",
       " (2, 35, False),\n",
       " (2, 36, False),\n",
       " (2, 37, False),\n",
       " (2, 38, False),\n",
       " (2, 39, False),\n",
       " (2, 40, False),\n",
       " (2, 41, False),\n",
       " (2, 42, False),\n",
       " (2, 43, False),\n",
       " (2, 44, False),\n",
       " (2, 45, False),\n",
       " (2, 46, False),\n",
       " (2, 47, False),\n",
       " (2, 48, False),\n",
       " (2, 49, False),\n",
       " (2, 50, False),\n",
       " (2, 51, False),\n",
       " (2, 52, False),\n",
       " (2, 53, False),\n",
       " (2, 54, False),\n",
       " (2, 55, False),\n",
       " (2, 56, False),\n",
       " (2, 57, False),\n",
       " (2, 58, False),\n",
       " (2, 59, False),\n",
       " (2, 60, False),\n",
       " (2, 61, False),\n",
       " (2, 62, False),\n",
       " (2, 63, False),\n",
       " (2, 64, False),\n",
       " (2, 65, False),\n",
       " (2, 66, False),\n",
       " (2, 67, False),\n",
       " (2, 68, False),\n",
       " (2, 69, False),\n",
       " (2, 70, False),\n",
       " (2, 71, False),\n",
       " (2, 72, False),\n",
       " (2, 73, False),\n",
       " (2, 74, False),\n",
       " (2, 75, False),\n",
       " (2, 76, False),\n",
       " (2, 77, False),\n",
       " (2, 78, False),\n",
       " (2, 79, False),\n",
       " (2, 80, False),\n",
       " (2, 81, False),\n",
       " (2, 82, False),\n",
       " (2, 83, False),\n",
       " (2, 84, False),\n",
       " (2, 85, False),\n",
       " (2, 86, False),\n",
       " (2, 87, False),\n",
       " (2, 88, False),\n",
       " (2, 89, False),\n",
       " (2, 90, False),\n",
       " (2, 91, False),\n",
       " (2, 92, False),\n",
       " (2, 93, False),\n",
       " (2, 94, False),\n",
       " (2, 95, False),\n",
       " (2, 96, False),\n",
       " (2, 97, False),\n",
       " (2, 98, False),\n",
       " (2, 99, False),\n",
       " (3, 4, True),\n",
       " (3, 5, True),\n",
       " (3, 6, False),\n",
       " (3, 7, False),\n",
       " (3, 8, False),\n",
       " (3, 9, True),\n",
       " (3, 10, False),\n",
       " (3, 11, False),\n",
       " (3, 12, False),\n",
       " (3, 13, False),\n",
       " (3, 14, False),\n",
       " (3, 15, False),\n",
       " (3, 16, False),\n",
       " (3, 17, False),\n",
       " (3, 18, False),\n",
       " (3, 19, False),\n",
       " (3, 20, False),\n",
       " (3, 21, False),\n",
       " (3, 22, False),\n",
       " (3, 23, False),\n",
       " (3, 24, True),\n",
       " (3, 25, True),\n",
       " (3, 26, False),\n",
       " (3, 27, True),\n",
       " (3, 28, False),\n",
       " (3, 29, False),\n",
       " (3, 30, False),\n",
       " (3, 31, False),\n",
       " (3, 32, False),\n",
       " (3, 33, False),\n",
       " (3, 34, False),\n",
       " (3, 35, False),\n",
       " (3, 36, False),\n",
       " (3, 37, False),\n",
       " (3, 38, False),\n",
       " (3, 39, False),\n",
       " (3, 40, False),\n",
       " (3, 41, False),\n",
       " (3, 42, False),\n",
       " (3, 43, False),\n",
       " (3, 44, False),\n",
       " (3, 45, False),\n",
       " (3, 46, False),\n",
       " (3, 47, False),\n",
       " (3, 48, False),\n",
       " (3, 49, False),\n",
       " (3, 50, False),\n",
       " (3, 51, False),\n",
       " (3, 52, False),\n",
       " (3, 53, False),\n",
       " (3, 54, False),\n",
       " (3, 55, False),\n",
       " (3, 56, False),\n",
       " (3, 57, False),\n",
       " (3, 58, False),\n",
       " (3, 59, False),\n",
       " (3, 60, False),\n",
       " (3, 61, False),\n",
       " (3, 62, False),\n",
       " (3, 63, False),\n",
       " (3, 64, False),\n",
       " (3, 65, False),\n",
       " (3, 66, False),\n",
       " (3, 67, False),\n",
       " (3, 68, False),\n",
       " (3, 69, False),\n",
       " (3, 70, False),\n",
       " (3, 71, False),\n",
       " (3, 72, False),\n",
       " (3, 73, False),\n",
       " (3, 74, False),\n",
       " (3, 75, False),\n",
       " (3, 76, False),\n",
       " (3, 77, False),\n",
       " (3, 78, False),\n",
       " (3, 79, False),\n",
       " (3, 80, False),\n",
       " (3, 81, False),\n",
       " (3, 82, False),\n",
       " (3, 83, False),\n",
       " (3, 84, False),\n",
       " (3, 85, False),\n",
       " (3, 86, False),\n",
       " (3, 87, False),\n",
       " (3, 88, False),\n",
       " (3, 89, False),\n",
       " (3, 90, False),\n",
       " (3, 91, False),\n",
       " (3, 92, False),\n",
       " (3, 93, False),\n",
       " (3, 94, False),\n",
       " (3, 95, False),\n",
       " (3, 96, False),\n",
       " (3, 97, False),\n",
       " (3, 98, False),\n",
       " (3, 99, False),\n",
       " (4, 5, True),\n",
       " (4, 6, False),\n",
       " (4, 7, False),\n",
       " (4, 8, False),\n",
       " (4, 9, True),\n",
       " (4, 10, True),\n",
       " (4, 11, False),\n",
       " (4, 12, True),\n",
       " (4, 13, False),\n",
       " (4, 14, False),\n",
       " (4, 15, False),\n",
       " (4, 16, True),\n",
       " (4, 17, False),\n",
       " (4, 18, False),\n",
       " (4, 19, False),\n",
       " (4, 20, False),\n",
       " (4, 21, False),\n",
       " (4, 22, False),\n",
       " (4, 23, False),\n",
       " (4, 24, True),\n",
       " (4, 25, True),\n",
       " (4, 26, False),\n",
       " (4, 27, True),\n",
       " (4, 28, False),\n",
       " (4, 29, False),\n",
       " (4, 30, False),\n",
       " (4, 31, False),\n",
       " (4, 32, False),\n",
       " (4, 33, False),\n",
       " (4, 34, False),\n",
       " (4, 35, False),\n",
       " (4, 36, False),\n",
       " (4, 37, False),\n",
       " (4, 38, False),\n",
       " (4, 39, False),\n",
       " (4, 40, False),\n",
       " (4, 41, False),\n",
       " (4, 42, False),\n",
       " (4, 43, False),\n",
       " (4, 44, False),\n",
       " (4, 45, False),\n",
       " (4, 46, False),\n",
       " (4, 47, False),\n",
       " (4, 48, False),\n",
       " (4, 49, False),\n",
       " (4, 50, False),\n",
       " (4, 51, False),\n",
       " (4, 52, False),\n",
       " (4, 53, False),\n",
       " (4, 54, False),\n",
       " (4, 55, False),\n",
       " (4, 56, False),\n",
       " (4, 57, False),\n",
       " (4, 58, False),\n",
       " (4, 59, False),\n",
       " (4, 60, False),\n",
       " (4, 61, False),\n",
       " (4, 62, False),\n",
       " (4, 63, False),\n",
       " (4, 64, False),\n",
       " (4, 65, False),\n",
       " (4, 66, False),\n",
       " (4, 67, False),\n",
       " (4, 68, False),\n",
       " (4, 69, False),\n",
       " (4, 70, False),\n",
       " (4, 71, False),\n",
       " (4, 72, False),\n",
       " (4, 73, False),\n",
       " (4, 74, False),\n",
       " (4, 75, False),\n",
       " (4, 76, False),\n",
       " (4, 77, False),\n",
       " (4, 78, False),\n",
       " (4, 79, False),\n",
       " (4, 80, False),\n",
       " (4, 81, False),\n",
       " (4, 82, False),\n",
       " (4, 83, False),\n",
       " (4, 84, False),\n",
       " (4, 85, False),\n",
       " (4, 86, False),\n",
       " (4, 87, False),\n",
       " (4, 88, False),\n",
       " (4, 89, False),\n",
       " (4, 90, False),\n",
       " (4, 91, False),\n",
       " (4, 92, False),\n",
       " (4, 93, False),\n",
       " (4, 94, False),\n",
       " (4, 95, False),\n",
       " (4, 96, False),\n",
       " (4, 97, False),\n",
       " (4, 98, False),\n",
       " (4, 99, False),\n",
       " (5, 6, False),\n",
       " (5, 7, False),\n",
       " (5, 8, False),\n",
       " (5, 9, True),\n",
       " (5, 10, True),\n",
       " (5, 11, False),\n",
       " (5, 12, True),\n",
       " (5, 13, False),\n",
       " (5, 14, False),\n",
       " (5, 15, False),\n",
       " (5, 16, True),\n",
       " (5, 17, False),\n",
       " (5, 18, False),\n",
       " (5, 19, False),\n",
       " (5, 20, False),\n",
       " (5, 21, False),\n",
       " (5, 22, False),\n",
       " (5, 23, False),\n",
       " (5, 24, True),\n",
       " (5, 25, True),\n",
       " (5, 26, False),\n",
       " (5, 27, True),\n",
       " (5, 28, False),\n",
       " (5, 29, False),\n",
       " (5, 30, False),\n",
       " (5, 31, False),\n",
       " (5, 32, False),\n",
       " (5, 33, False),\n",
       " (5, 34, False),\n",
       " (5, 35, False),\n",
       " (5, 36, False),\n",
       " (5, 37, False),\n",
       " (5, 38, False),\n",
       " (5, 39, False),\n",
       " (5, 40, False),\n",
       " (5, 41, False),\n",
       " (5, 42, False),\n",
       " (5, 43, False),\n",
       " (5, 44, False),\n",
       " (5, 45, False),\n",
       " (5, 46, False),\n",
       " (5, 47, False),\n",
       " (5, 48, False),\n",
       " (5, 49, False),\n",
       " (5, 50, False),\n",
       " (5, 51, False),\n",
       " (5, 52, False),\n",
       " (5, 53, False),\n",
       " (5, 54, False),\n",
       " (5, 55, False),\n",
       " (5, 56, False),\n",
       " (5, 57, False),\n",
       " (5, 58, False),\n",
       " (5, 59, False),\n",
       " (5, 60, False),\n",
       " (5, 61, False),\n",
       " (5, 62, False),\n",
       " (5, 63, False),\n",
       " (5, 64, False),\n",
       " (5, 65, False),\n",
       " (5, 66, False),\n",
       " (5, 67, False),\n",
       " (5, 68, False),\n",
       " (5, 69, False),\n",
       " (5, 70, False),\n",
       " (5, 71, False),\n",
       " (5, 72, False),\n",
       " (5, 73, False),\n",
       " (5, 74, False),\n",
       " (5, 75, False),\n",
       " (5, 76, False),\n",
       " (5, 77, False),\n",
       " (5, 78, False),\n",
       " (5, 79, False),\n",
       " (5, 80, False),\n",
       " (5, 81, False),\n",
       " (5, 82, False),\n",
       " (5, 83, False),\n",
       " (5, 84, False),\n",
       " (5, 85, False),\n",
       " (5, 86, False),\n",
       " (5, 87, False),\n",
       " (5, 88, False),\n",
       " (5, 89, False),\n",
       " (5, 90, False),\n",
       " (5, 91, False),\n",
       " (5, 92, False),\n",
       " (5, 93, False),\n",
       " (5, 94, False),\n",
       " (5, 95, False),\n",
       " (5, 96, False),\n",
       " (5, 97, False),\n",
       " (5, 98, False),\n",
       " (5, 99, False),\n",
       " (6, 7, True),\n",
       " (6, 8, True),\n",
       " (6, 9, False),\n",
       " (6, 10, False),\n",
       " (6, 11, False),\n",
       " (6, 12, False),\n",
       " (6, 13, False),\n",
       " (6, 14, False),\n",
       " (6, 15, False),\n",
       " (6, 16, False),\n",
       " (6, 17, False),\n",
       " (6, 18, False),\n",
       " (6, 19, False),\n",
       " (6, 20, False),\n",
       " (6, 21, False),\n",
       " (6, 22, False),\n",
       " (6, 23, False),\n",
       " (6, 24, False),\n",
       " (6, 25, False),\n",
       " (6, 26, False),\n",
       " (6, 27, False),\n",
       " (6, 28, False),\n",
       " (6, 29, False),\n",
       " (6, 30, False),\n",
       " (6, 31, False),\n",
       " (6, 32, False),\n",
       " (6, 33, False),\n",
       " (6, 34, False),\n",
       " (6, 35, False),\n",
       " (6, 36, False),\n",
       " (6, 37, False),\n",
       " (6, 38, False),\n",
       " (6, 39, False),\n",
       " (6, 40, False),\n",
       " (6, 41, False),\n",
       " (6, 42, False),\n",
       " (6, 43, False),\n",
       " (6, 44, False),\n",
       " (6, 45, False),\n",
       " (6, 46, False),\n",
       " (6, 47, False),\n",
       " (6, 48, False),\n",
       " (6, 49, False),\n",
       " (6, 50, False),\n",
       " (6, 51, False),\n",
       " (6, 52, False),\n",
       " (6, 53, False),\n",
       " (6, 54, False),\n",
       " (6, 55, False),\n",
       " (6, 56, False),\n",
       " (6, 57, False),\n",
       " (6, 58, False),\n",
       " (6, 59, False),\n",
       " (6, 60, False),\n",
       " (6, 61, False),\n",
       " (6, 62, False),\n",
       " (6, 63, False),\n",
       " (6, 64, False),\n",
       " (6, 65, False),\n",
       " (6, 66, False),\n",
       " (6, 67, False),\n",
       " (6, 68, False),\n",
       " (6, 69, False),\n",
       " (6, 70, False),\n",
       " (6, 71, False),\n",
       " (6, 72, False),\n",
       " (6, 73, False),\n",
       " (6, 74, False),\n",
       " (6, 75, False),\n",
       " (6, 76, False),\n",
       " (6, 77, False),\n",
       " (6, 78, False),\n",
       " (6, 79, False),\n",
       " (6, 80, False),\n",
       " (6, 81, False),\n",
       " (6, 82, False),\n",
       " (6, 83, False),\n",
       " (6, 84, False),\n",
       " (6, 85, False),\n",
       " (6, 86, False),\n",
       " (6, 87, False),\n",
       " (6, 88, False),\n",
       " (6, 89, False),\n",
       " (6, 90, False),\n",
       " (6, 91, False),\n",
       " (6, 92, False),\n",
       " (6, 93, False),\n",
       " (6, 94, False),\n",
       " (6, 95, False),\n",
       " (6, 96, False),\n",
       " (6, 97, False),\n",
       " (6, 98, False),\n",
       " (6, 99, False),\n",
       " (7, 8, True),\n",
       " (7, 9, False),\n",
       " (7, 10, False),\n",
       " (7, 11, False),\n",
       " (7, 12, False),\n",
       " (7, 13, False),\n",
       " (7, 14, False),\n",
       " (7, 15, False),\n",
       " (7, 16, False),\n",
       " (7, 17, False),\n",
       " (7, 18, False),\n",
       " (7, 19, False),\n",
       " (7, 20, False),\n",
       " (7, 21, False),\n",
       " (7, 22, False),\n",
       " (7, 23, False),\n",
       " (7, 24, False),\n",
       " (7, 25, False),\n",
       " (7, 26, False),\n",
       " (7, 27, False),\n",
       " (7, 28, False),\n",
       " (7, 29, False),\n",
       " (7, 30, False),\n",
       " (7, 31, False),\n",
       " (7, 32, False),\n",
       " (7, 33, False),\n",
       " (7, 34, False),\n",
       " (7, 35, False),\n",
       " (7, 36, False),\n",
       " (7, 37, False),\n",
       " (7, 38, False),\n",
       " (7, 39, False),\n",
       " (7, 40, False),\n",
       " (7, 41, False),\n",
       " (7, 42, False),\n",
       " (7, 43, False),\n",
       " (7, 44, False),\n",
       " (7, 45, False),\n",
       " (7, 46, False),\n",
       " (7, 47, False),\n",
       " (7, 48, False),\n",
       " (7, 49, False),\n",
       " (7, 50, False),\n",
       " (7, 51, False),\n",
       " (7, 52, False),\n",
       " (7, 53, False),\n",
       " (7, 54, False),\n",
       " (7, 55, False),\n",
       " (7, 56, False),\n",
       " (7, 57, False),\n",
       " (7, 58, False),\n",
       " (7, 59, False),\n",
       " (7, 60, False),\n",
       " (7, 61, False),\n",
       " (7, 62, False),\n",
       " (7, 63, False),\n",
       " (7, 64, False),\n",
       " (7, 65, False),\n",
       " (7, 66, False),\n",
       " (7, 67, False),\n",
       " (7, 68, False),\n",
       " (7, 69, False),\n",
       " (7, 70, False),\n",
       " (7, 71, False),\n",
       " (7, 72, False),\n",
       " (7, 73, False),\n",
       " (7, 74, False),\n",
       " (7, 75, False),\n",
       " (7, 76, False),\n",
       " (7, 77, False),\n",
       " (7, 78, False),\n",
       " (7, 79, False),\n",
       " (7, 80, False),\n",
       " (7, 81, False),\n",
       " (7, 82, False),\n",
       " (7, 83, False),\n",
       " (7, 84, False),\n",
       " (7, 85, False),\n",
       " (7, 86, False),\n",
       " (7, 87, False),\n",
       " (7, 88, False),\n",
       " (7, 89, False),\n",
       " (7, 90, False),\n",
       " (7, 91, False),\n",
       " (7, 92, False),\n",
       " (7, 93, False),\n",
       " (7, 94, False),\n",
       " (7, 95, False),\n",
       " (7, 96, False),\n",
       " (7, 97, False),\n",
       " (7, 98, False),\n",
       " (7, 99, False),\n",
       " (8, 9, False),\n",
       " (8, 10, False),\n",
       " (8, 11, False),\n",
       " (8, 12, False),\n",
       " (8, 13, False),\n",
       " (8, 14, False),\n",
       " (8, 15, False),\n",
       " (8, 16, False),\n",
       " (8, 17, False),\n",
       " (8, 18, False),\n",
       " (8, 19, False),\n",
       " (8, 20, False),\n",
       " (8, 21, False),\n",
       " (8, 22, False),\n",
       " (8, 23, False),\n",
       " (8, 24, False),\n",
       " (8, 25, False),\n",
       " (8, 26, False),\n",
       " (8, 27, False),\n",
       " (8, 28, False),\n",
       " (8, 29, False),\n",
       " (8, 30, False),\n",
       " (8, 31, False),\n",
       " (8, 32, False),\n",
       " (8, 33, False),\n",
       " (8, 34, False),\n",
       " (8, 35, False),\n",
       " (8, 36, False),\n",
       " (8, 37, False),\n",
       " (8, 38, False),\n",
       " (8, 39, False),\n",
       " (8, 40, False),\n",
       " (8, 41, False),\n",
       " (8, 42, False),\n",
       " (8, 43, False),\n",
       " (8, 44, False),\n",
       " (8, 45, False),\n",
       " (8, 46, False),\n",
       " (8, 47, False),\n",
       " (8, 48, False),\n",
       " (8, 49, False),\n",
       " (8, 50, False),\n",
       " (8, 51, False),\n",
       " (8, 52, False),\n",
       " (8, 53, False),\n",
       " (8, 54, False),\n",
       " (8, 55, False),\n",
       " (8, 56, False),\n",
       " (8, 57, False),\n",
       " (8, 58, False),\n",
       " (8, 59, False),\n",
       " (8, 60, False),\n",
       " (8, 61, False),\n",
       " (8, 62, False),\n",
       " (8, 63, False),\n",
       " (8, 64, False),\n",
       " (8, 65, False),\n",
       " (8, 66, False),\n",
       " (8, 67, False),\n",
       " (8, 68, False),\n",
       " (8, 69, False),\n",
       " (8, 70, False),\n",
       " (8, 71, False),\n",
       " (8, 72, False),\n",
       " (8, 73, False),\n",
       " (8, 74, False),\n",
       " (8, 75, False),\n",
       " (8, 76, False),\n",
       " (8, 77, False),\n",
       " (8, 78, False),\n",
       " (8, 79, False),\n",
       " (8, 80, False),\n",
       " (8, 81, False),\n",
       " (8, 82, False),\n",
       " (8, 83, False),\n",
       " (8, 84, False),\n",
       " (8, 85, False),\n",
       " (8, 86, False),\n",
       " (8, 87, False),\n",
       " (8, 88, False),\n",
       " (8, 89, False),\n",
       " (8, 90, False),\n",
       " (8, 91, False),\n",
       " (8, 92, False),\n",
       " (8, 93, False),\n",
       " (8, 94, False),\n",
       " (8, 95, False),\n",
       " (8, 96, False),\n",
       " (8, 97, False),\n",
       " (8, 98, False),\n",
       " (8, 99, False),\n",
       " (9, 10, True),\n",
       " (9, 11, False),\n",
       " (9, 12, True),\n",
       " (9, 13, False),\n",
       " (9, 14, False),\n",
       " (9, 15, False),\n",
       " (9, 16, False),\n",
       " (9, 17, False),\n",
       " (9, 18, False),\n",
       " (9, 19, False),\n",
       " (9, 20, False),\n",
       " (9, 21, False),\n",
       " (9, 22, False),\n",
       " (9, 23, False),\n",
       " (9, 24, True),\n",
       " (9, 25, True),\n",
       " (9, 26, False),\n",
       " (9, 27, False),\n",
       " (9, 28, False),\n",
       " (9, 29, False),\n",
       " (9, 30, False),\n",
       " (9, 31, False),\n",
       " (9, 32, False),\n",
       " (9, 33, False),\n",
       " (9, 34, False),\n",
       " (9, 35, False),\n",
       " (9, 36, False),\n",
       " (9, 37, False),\n",
       " (9, 38, False),\n",
       " (9, 39, False),\n",
       " (9, 40, False),\n",
       " (9, 41, False),\n",
       " (9, 42, False),\n",
       " (9, 43, False),\n",
       " (9, 44, False),\n",
       " (9, 45, False),\n",
       " (9, 46, False),\n",
       " (9, 47, False),\n",
       " (9, 48, False),\n",
       " (9, 49, False),\n",
       " (9, 50, False),\n",
       " (9, 51, False),\n",
       " (9, 52, False),\n",
       " (9, 53, False),\n",
       " (9, 54, False),\n",
       " (9, 55, False),\n",
       " (9, 56, False),\n",
       " (9, 57, False),\n",
       " (9, 58, False),\n",
       " (9, 59, False),\n",
       " (9, 60, False),\n",
       " (9, 61, False),\n",
       " (9, 62, False),\n",
       " (9, 63, False),\n",
       " (9, 64, False),\n",
       " (9, 65, False),\n",
       " (9, 66, False),\n",
       " (9, 67, False),\n",
       " (9, 68, False),\n",
       " (9, 69, False),\n",
       " (9, 70, False),\n",
       " (9, 71, False),\n",
       " (9, 72, False),\n",
       " (9, 73, False),\n",
       " (9, 74, False),\n",
       " (9, 75, False),\n",
       " (9, 76, False),\n",
       " (9, 77, False),\n",
       " (9, 78, False),\n",
       " (9, 79, False),\n",
       " (9, 80, False),\n",
       " (9, 81, False),\n",
       " (9, 82, False),\n",
       " (9, 83, False),\n",
       " (9, 84, False),\n",
       " (9, 85, False),\n",
       " (9, 86, False),\n",
       " (9, 87, False),\n",
       " (9, 88, False),\n",
       " (9, 89, False),\n",
       " (9, 90, False),\n",
       " (9, 91, False),\n",
       " (9, 92, False),\n",
       " (9, 93, False),\n",
       " (9, 94, False),\n",
       " (9, 95, False),\n",
       " (9, 96, False),\n",
       " (9, 97, False),\n",
       " (9, 98, False),\n",
       " (9, 99, False),\n",
       " (10, 11, True),\n",
       " (10, 12, True),\n",
       " (10, 13, True),\n",
       " (10, 14, True),\n",
       " (10, 15, False),\n",
       " (10, 16, True),\n",
       " (10, 17, True),\n",
       " (10, 18, True),\n",
       " (10, 19, False),\n",
       " (10, 20, False),\n",
       " (10, 21, False),\n",
       " (10, 22, False),\n",
       " (10, 23, False),\n",
       " (10, 24, False),\n",
       " (10, 25, False),\n",
       " (10, 26, False),\n",
       " (10, 27, False),\n",
       " (10, 28, False),\n",
       " (10, 29, True),\n",
       " (10, 30, False),\n",
       " (10, 31, True),\n",
       " (10, 32, False),\n",
       " (10, 33, False),\n",
       " (10, 34, False),\n",
       " (10, 35, False),\n",
       " (10, 36, False),\n",
       " (10, 37, False),\n",
       " (10, 38, False),\n",
       " (10, 39, True),\n",
       " (10, 40, False),\n",
       " (10, 41, False),\n",
       " (10, 42, False),\n",
       " (10, 43, False),\n",
       " (10, 44, False),\n",
       " (10, 45, False),\n",
       " (10, 46, False),\n",
       " (10, 47, False),\n",
       " (10, 48, False),\n",
       " (10, 49, False),\n",
       " (10, 50, False),\n",
       " (10, 51, False),\n",
       " (10, 52, False),\n",
       " (10, 53, False),\n",
       " (10, 54, False),\n",
       " (10, 55, False),\n",
       " (10, 56, False),\n",
       " (10, 57, False),\n",
       " (10, 58, False),\n",
       " (10, 59, False),\n",
       " (10, 60, False),\n",
       " (10, 61, False),\n",
       " (10, 62, False),\n",
       " (10, 63, False),\n",
       " (10, 64, False),\n",
       " (10, 65, False),\n",
       " ...]"
      ]
     },
     "execution_count": 215,
     "metadata": {},
     "output_type": "execute_result"
    }
   ],
   "source": [
    "res"
   ]
  },
  {
   "cell_type": "code",
   "execution_count": 218,
   "metadata": {
    "ExecuteTime": {
     "end_time": "2024-05-15T09:31:24.310159Z",
     "start_time": "2024-05-15T09:31:24.304009Z"
    }
   },
   "outputs": [],
   "source": [
    "spsres = lil_matrix((n_Cs, n_Cs), dtype=np.bool)"
   ]
  },
  {
   "cell_type": "code",
   "execution_count": 219,
   "metadata": {
    "ExecuteTime": {
     "end_time": "2024-05-15T09:31:46.020587Z",
     "start_time": "2024-05-15T09:31:45.976122Z"
    }
   },
   "outputs": [],
   "source": [
    "for i, j, is_close in res:\n",
    "    if is_close:\n",
    "        spsres[i,j] = True\n",
    "        spsres[j,i] = True"
   ]
  },
  {
   "cell_type": "code",
   "execution_count": 222,
   "metadata": {
    "ExecuteTime": {
     "end_time": "2024-05-15T09:32:04.873018Z",
     "start_time": "2024-05-15T09:32:04.861300Z"
    }
   },
   "outputs": [
    {
     "data": {
      "text/plain": [
       "array([[False,  True, False, ..., False, False, False],\n",
       "       [ True, False, False, ..., False, False, False],\n",
       "       [False, False, False, ..., False, False, False],\n",
       "       ...,\n",
       "       [False, False, False, ..., False,  True,  True],\n",
       "       [False, False, False, ...,  True, False,  True],\n",
       "       [False, False, False, ...,  True,  True, False]])"
      ]
     },
     "execution_count": 222,
     "metadata": {},
     "output_type": "execute_result"
    }
   ],
   "source": [
    "spsres.toarray()"
   ]
  },
  {
   "cell_type": "code",
   "execution_count": null,
   "metadata": {},
   "outputs": [],
   "source": []
  },
  {
   "cell_type": "code",
   "execution_count": null,
   "metadata": {},
   "outputs": [],
   "source": []
  },
  {
   "cell_type": "code",
   "execution_count": null,
   "metadata": {},
   "outputs": [],
   "source": []
  },
  {
   "cell_type": "markdown",
   "metadata": {},
   "source": [
    "## END"
   ]
  },
  {
   "cell_type": "code",
   "execution_count": null,
   "metadata": {},
   "outputs": [],
   "source": []
  },
  {
   "cell_type": "code",
   "execution_count": null,
   "metadata": {},
   "outputs": [],
   "source": []
  },
  {
   "cell_type": "code",
   "execution_count": null,
   "metadata": {},
   "outputs": [],
   "source": []
  },
  {
   "cell_type": "code",
   "execution_count": null,
   "metadata": {},
   "outputs": [],
   "source": []
  },
  {
   "cell_type": "code",
   "execution_count": null,
   "metadata": {},
   "outputs": [],
   "source": []
  },
  {
   "cell_type": "code",
   "execution_count": null,
   "metadata": {},
   "outputs": [],
   "source": []
  },
  {
   "cell_type": "code",
   "execution_count": null,
   "metadata": {},
   "outputs": [],
   "source": []
  },
  {
   "cell_type": "code",
   "execution_count": null,
   "metadata": {},
   "outputs": [],
   "source": []
  },
  {
   "cell_type": "code",
   "execution_count": null,
   "metadata": {},
   "outputs": [],
   "source": []
  },
  {
   "cell_type": "code",
   "execution_count": null,
   "metadata": {},
   "outputs": [],
   "source": []
  },
  {
   "cell_type": "code",
   "execution_count": null,
   "metadata": {},
   "outputs": [],
   "source": []
  },
  {
   "cell_type": "code",
   "execution_count": null,
   "metadata": {},
   "outputs": [],
   "source": []
  }
 ],
 "metadata": {
  "kernelspec": {
   "display_name": "Drug",
   "language": "python",
   "name": "drug2"
  },
  "language_info": {
   "codemirror_mode": {
    "name": "ipython",
    "version": 3
   },
   "file_extension": ".py",
   "mimetype": "text/x-python",
   "name": "python",
   "nbconvert_exporter": "python",
   "pygments_lexer": "ipython3",
   "version": "3.6.9"
  },
  "toc": {
   "base_numbering": 1,
   "nav_menu": {},
   "number_sections": true,
   "sideBar": true,
   "skip_h1_title": false,
   "title_cell": "Table of Contents",
   "title_sidebar": "Contents",
   "toc_cell": false,
   "toc_position": {},
   "toc_section_display": true,
   "toc_window_display": false
  }
 },
 "nbformat": 4,
 "nbformat_minor": 2
}
