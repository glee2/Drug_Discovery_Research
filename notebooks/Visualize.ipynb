{
 "cells": [
  {
   "cell_type": "code",
   "execution_count": null,
   "metadata": {
    "ExecuteTime": {
     "end_time": "2024-05-20T07:55:24.424424Z",
     "start_time": "2024-05-20T07:55:24.413054Z"
    }
   },
   "outputs": [],
   "source": [
    "###\n",
    "# File name: Visualize.ipynb (jupyter notebook)\n",
    "# Description: make figures to be inserted into paper\n",
    "# Created on: 2024-05-20\n",
    "# Modification History\n",
    "#   - 2024-05-20: (edited by Gyumin Lee) C-T and C-T-C-T networks\n",
    "# Version: 0.1\n",
    "###"
   ]
  },
  {
   "cell_type": "markdown",
   "metadata": {},
   "source": [
    "# Load data"
   ]
  },
  {
   "cell_type": "code",
   "execution_count": 1,
   "metadata": {
    "ExecuteTime": {
     "end_time": "2024-05-21T02:11:38.059783Z",
     "start_time": "2024-05-21T02:11:38.038355Z"
    }
   },
   "outputs": [],
   "source": [
    "def save_hdf5(data_to_save, data_path):\n",
    "    import h5py\n",
    "    from scipy.sparse import csr_matrix, lil_matrix\n",
    "    with h5py.File(data_path, \"w\") as f:\n",
    "        if isinstance(data_to_save, (csr_matrix, lil_matrix)):\n",
    "            f.create_dataset(\"data\", data=data_to_save.data)\n",
    "            f.create_dataset(\"indices\", data=data_to_save.indices)\n",
    "            f.create_dataset(\"indptr\", data=data_to_save.indptr)\n",
    "            f.attrs[\"shape\"] = data_to_save.shape\n",
    "            f.attrs[\"type\"] = \"sparse\"\n",
    "        else:\n",
    "            f.create_dataset(\"data\", data=data_to_save)\n",
    "            f.attrs[\"type\"] = \"dense\"\n",
    "    \n",
    "def load_hdf5(data_path):\n",
    "    import h5py\n",
    "    from scipy.sparse import csr_matrix\n",
    "    with h5py.File(data_path, \"r\") as f:\n",
    "        if f.attrs[\"type\"]==\"sparse\":\n",
    "            data = f[\"data\"][:]\n",
    "            indices = f[\"indices\"][:]\n",
    "            indptr = f[\"indptr\"][:]\n",
    "            shape = f.attrs[\"shape\"]\n",
    "            return csr_matrix((data, indices, indptr), shape=shape)\n",
    "        else:\n",
    "            return f[\"data\"][:]"
   ]
  },
  {
   "cell_type": "code",
   "execution_count": 465,
   "metadata": {
    "ExecuteTime": {
     "end_time": "2024-05-21T05:54:08.171295Z",
     "start_time": "2024-05-21T05:54:08.160999Z"
    }
   },
   "outputs": [],
   "source": [
    "import requests\n",
    "import json\n",
    "import numpy as np\n",
    "import pandas as pd\n",
    "pd.set_option('display.max_rows',200,'display.max_columns',50)\n",
    "import csv\n",
    "import time\n",
    "import pickle\n",
    "import os\n",
    "import sys\n",
    "import copy\n",
    "import matplotlib.pyplot as plt\n",
    "import networkx as nx\n",
    "import plotly\n",
    "    \n",
    "from plotly import graph_objects\n",
    "from tqdm import tqdm\n",
    "from scipy import sparse as sps"
   ]
  },
  {
   "cell_type": "code",
   "execution_count": 3,
   "metadata": {
    "ExecuteTime": {
     "end_time": "2024-05-21T02:11:52.975366Z",
     "start_time": "2024-05-21T02:11:52.969749Z"
    }
   },
   "outputs": [],
   "source": [
    "root = \"/home2/glee/Drug_Discovery_Research\"\n",
    "data_path = os.path.join(root, \"data\")"
   ]
  },
  {
   "cell_type": "code",
   "execution_count": 4,
   "metadata": {
    "ExecuteTime": {
     "end_time": "2024-05-21T02:11:55.369593Z",
     "start_time": "2024-05-21T02:11:52.977988Z"
    }
   },
   "outputs": [],
   "source": [
    "CT_adj = load_hdf5(os.path.join(data_path, \"adjacency_matrices\", \"sps_CT_adj.h5\")).toarray()\n",
    "CTC_adj = load_hdf5(os.path.join(data_path, \"adjacency_matrices\", \"sps_CTC_adj.h5\")).toarray()\n",
    "CTCT_adj = load_hdf5(os.path.join(data_path, \"adjacency_matrices\", \"sps_CTCT_adj.h5\")).toarray()"
   ]
  },
  {
   "cell_type": "code",
   "execution_count": 5,
   "metadata": {
    "ExecuteTime": {
     "end_time": "2024-05-21T02:11:55.407599Z",
     "start_time": "2024-05-21T02:11:55.372810Z"
    }
   },
   "outputs": [],
   "source": [
    "## Make T-C, T-C-T-C adjacency matrix; Leave 2-hop elements only\n",
    "only_CTCT = (CTCT_adj.astype(np.int8) - CT_adj.astype(np.int8)).astype(bool)\n",
    "TC_adj = CT_adj.T\n",
    "TCTC_adj = CTCT_adj.T\n",
    "only_TCTC = only_CTCT.T"
   ]
  },
  {
   "cell_type": "markdown",
   "metadata": {},
   "source": [
    "# Visualize"
   ]
  },
  {
   "cell_type": "markdown",
   "metadata": {},
   "source": [
    "## C-T & C-T-C-T networks"
   ]
  },
  {
   "cell_type": "markdown",
   "metadata": {
    "heading_collapsed": true
   },
   "source": [
    "### Practice"
   ]
  },
  {
   "cell_type": "code",
   "execution_count": null,
   "metadata": {
    "ExecuteTime": {
     "end_time": "2024-05-20T15:13:09.225914Z",
     "start_time": "2024-05-20T15:13:08.562842Z"
    },
    "hidden": true,
    "scrolled": true
   },
   "outputs": [],
   "source": [
    "## Set sample adjacency matrix\n",
    "n_samples_C, n_samples_T = 500, 100\n",
    "sample_adj = CT_adj[:n_samples_C,:n_samples_T]\n",
    "rows, cols = np.where(sample_adj==True)\n",
    "\n",
    "## Make edges and labels\n",
    "edges = list(zip(i_to_C_cid[rows].tolist(), i_to_T_id[cols].tolist()))\n",
    "node_cids = np.unique(i_to_C_cid[rows])\n",
    "node_tids = np.unique(i_to_T_id[cols])\n",
    "labels = {}\n",
    "labels.update({cid: \"C_\"+cid for cid in node_cids})\n",
    "labels.update({tid: \"T_\"+tid for tid in node_tids})\n",
    "\n",
    "## Make NetworkX graph with positions\n",
    "G = nx.Graph()\n",
    "G.add_edges_from(edges)\n",
    "pos = nx.spring_layout(G, k=0.24, iterations=60, seed=101)\n",
    "\n",
    "for p in list(pos.keys()):\n",
    "    G.nodes[p][\"pos\"] = pos[p]\n",
    "    \n",
    "# node_size = min(50000 / (n_samples_C+n_samples_T), 700)\n",
    "node_size = max(750 - (n_samples_C+n_samples_T), 200)"
   ]
  },
  {
   "cell_type": "code",
   "execution_count": null,
   "metadata": {
    "ExecuteTime": {
     "end_time": "2024-05-20T15:13:10.695748Z",
     "start_time": "2024-05-20T15:13:10.348590Z"
    },
    "hidden": true
   },
   "outputs": [],
   "source": [
    "## Draw using NetworkX\n",
    "fig, ax = plt.subplots(figsize=(15,10))\n",
    "\n",
    "options = {\"edgecolors\": \"black\", \"node_size\": node_size, \"alpha\": 0.8, \"ax\": ax}\n",
    "nx.draw_networkx_nodes(G, pos, nodelist=node_cids, label=\"Compound\", node_color=\"tab:red\", **options)\n",
    "nx.draw_networkx_nodes(G, pos, nodelist=node_tids, label=\"Target\", node_color=\"tab:blue\", **options)\n",
    "# ids = nx.draw_networkx_labels(G, pos, labels, font_size=10, font_color=\"black\", verticalalignment=\"center\")\n",
    "\n",
    "nx.draw_networkx_edges(\n",
    "    G,\n",
    "    pos,\n",
    "    edgelist=G.edges,\n",
    "    width=3,\n",
    "    alpha=0.5,\n",
    "    edge_color=\"tab:gray\",\n",
    ")\n",
    "\n",
    "# for node, t in ids.items():\n",
    "#     t.set_position((t.get_position()[0], t.get_position()[1]-0.08))\n",
    "#     t.set_clip_on(False)\n",
    "\n",
    "plt.tight_layout()\n",
    "plt.legend(loc=\"lower right\", labelspacing=2, borderpad=1.05)\n",
    "plt.axis(\"off\")\n",
    "plt.show()"
   ]
  },
  {
   "cell_type": "code",
   "execution_count": null,
   "metadata": {
    "ExecuteTime": {
     "end_time": "2024-05-20T14:43:31.806151Z",
     "start_time": "2024-05-20T14:43:31.738130Z"
    },
    "hidden": true,
    "scrolled": true
   },
   "outputs": [],
   "source": [
    "## Draw using Plotly\n",
    "edge_x, edge_y = [], []\n",
    "for edge in G.edges():\n",
    "    x0, y0 = G.nodes[edge[0]]['pos']\n",
    "    x1, y1 = G.nodes[edge[1]]['pos']\n",
    "    edge_x.append(x0)\n",
    "    edge_x.append(x1)\n",
    "    edge_x.append(None)\n",
    "    edge_y.append(y0)\n",
    "    edge_y.append(y1)\n",
    "    edge_y.append(None)\n",
    "\n",
    "edge_trace = graph_objects.Scatter(\n",
    "    x=edge_x, y=edge_y,\n",
    "    line=dict(width=5, color='rgba(211,211,211,0.7)'), # Gray\n",
    "    hoverinfo='none',\n",
    "    mode='lines',\n",
    "    showlegend=False)\n",
    "\n",
    "nodes_cid_1 = [G.nodes[node][\"pos\"][0] for node in node_cids]\n",
    "nodes_cid_2 = [G.nodes[node][\"pos\"][1] for node in node_cids]\n",
    "labels_cid = [\"C_\"+cid for cid in node_cids]\n",
    "\n",
    "node_trace_cid = graph_objects.Scatter(\n",
    "    x=nodes_cid_1, y=nodes_cid_2,\n",
    "    mode='markers+text',\n",
    "    hoverinfo='text',\n",
    "    name='Compounds',\n",
    "    text=labels_cid,\n",
    "    textposition=\"bottom center\",\n",
    "    marker=dict(\n",
    "        size=25,\n",
    "        line_width=2))\n",
    "\n",
    "nodes_tid_1 = [G.nodes[node][\"pos\"][0] for node in node_tids]\n",
    "nodes_tid_2 = [G.nodes[node][\"pos\"][1] for node in node_tids]\n",
    "labels_tid = [\"T_\"+tid for tid in node_tids]\n",
    "\n",
    "node_trace_tid = graph_objects.Scatter(\n",
    "    x=nodes_tid_1, y=nodes_tid_2,\n",
    "    mode='markers+text',\n",
    "    hoverinfo='text',\n",
    "    name='Targets',\n",
    "    text=labels_tid,\n",
    "    textposition=\"bottom center\",\n",
    "    marker=dict(\n",
    "        size=25,\n",
    "        line_width=2))\n",
    "\n",
    "fig = graph_objects.Figure(data=[edge_trace, node_trace_cid, node_trace_tid],\n",
    "             layout=graph_objects.Layout(\n",
    "#                 title='<br>Network graph made with Python',\n",
    "#                 titlefont_size=16,\n",
    "                showlegend=True,\n",
    "                hovermode='closest',\n",
    "                margin=dict(b=20,l=5,r=5,t=40),\n",
    "                plot_bgcolor='ghostwhite',\n",
    "                width=1000,\n",
    "                height=600,\n",
    "#                 annotations=[ dict(\n",
    "#                     showarrow=False,\n",
    "#                     xref=\"paper\", yref=\"paper\",\n",
    "#                     x=0.005, y=-0.002 ) ],\n",
    "                xaxis=dict(showgrid=False, zeroline=False, showticklabels=False),\n",
    "                yaxis=dict(showgrid=False, zeroline=False, showticklabels=False))\n",
    "                )\n",
    "\n",
    "fig.show()"
   ]
  },
  {
   "cell_type": "markdown",
   "metadata": {
    "ExecuteTime": {
     "end_time": "2024-05-20T15:23:11.004793Z",
     "start_time": "2024-05-20T15:23:10.999752Z"
    }
   },
   "source": [
    "### Drawing"
   ]
  },
  {
   "cell_type": "code",
   "execution_count": 538,
   "metadata": {
    "ExecuteTime": {
     "end_time": "2024-05-21T06:26:56.922686Z",
     "start_time": "2024-05-21T06:26:56.881475Z"
    }
   },
   "outputs": [],
   "source": [
    "def draw_network(adjmat, cids, tids, sample_index=None, tool=\"networkx\", n_samples={}, options={}, n_hops=1):\n",
    "    curr_font = 'FreeSans'\n",
    "    if n_hops > 2:\n",
    "        print(\"Not implemented, proceed with n_hops=2\")    \n",
    "    if isinstance(sample_index, tuple):\n",
    "        sample_row_index, sample_col_index = sample_index[0], sample_index[1]\n",
    "    elif sample_index == \"Random\":\n",
    "        sample_row_index = np.random.choice(adjmat.shape[0], n_samples[\"C\"], replace=False)\n",
    "        sample_rows = adjmat[sample_row_index]\n",
    "        nonzero_cols = np.nonzero(sample_rows)\n",
    "        n_choice_cols = min(n_samples[\"T\"], len(np.unique(np.nonzero(sample_rows)[1])))\n",
    "        sample_col_index = np.random.choice(nonzero_cols[1], n_choice_cols)\n",
    "    else:\n",
    "        sample_row_index = np.arange(n_samples[\"C\"])\n",
    "        sample_col_index = np.arange(n_sampled[\"T\"])\n",
    "    \n",
    "    ## Extract sample set\n",
    "    sample_CT_adj = adjmat[sample_row_index][:, sample_col_index]\n",
    "    selected_elements = np.nonzero(sample_CT_adj)\n",
    "    \n",
    "    ## Make edges and labels\n",
    "    dict_indexes = {}\n",
    "    dict_indexes[1] = {}\n",
    "    dict_indexes[1][\"rows\"] = sample_row_index[selected_elements[0]]\n",
    "    dict_indexes[1][\"cols\"] = sample_col_index[selected_elements[1]]\n",
    "\n",
    "    dict_edges = {}\n",
    "    dict_edges[1] = list(zip(cids[dict_indexes[1][\"rows\"]].tolist(), tids[dict_indexes[1][\"cols\"]].tolist()))\n",
    "    \n",
    "    if n_hops > 1:\n",
    "        sample_CTCT_adj = sample_CT_adj.dot(sample_CT_adj.T).dot(sample_CT_adj)\n",
    "        dict_indexes[2] = {}\n",
    "        dict_indexes[2][\"rows\"] = sample_row_index[np.nonzero(sample_CTCT_adj)[0]]\n",
    "        dict_indexes[2][\"cols\"] = sample_col_index[np.nonzero(sample_CTCT_adj)[1]]\n",
    "        dict_edges[2] = list(zip(cids[dict_indexes[2][\"rows\"]].tolist(), tids[dict_indexes[2][\"cols\"]].tolist()))\n",
    "        dict_edges[2] = [e for e in dict_edges[2] if (e not in dict_edges[1])]\n",
    "    \n",
    "    node_cids = np.unique(cids[dict_indexes[1][\"rows\"]])\n",
    "    node_tids = np.unique(tids[dict_indexes[1][\"cols\"]])\n",
    "    \n",
    "    labels = {}\n",
    "    labels.update({cid: \"C_\"+cid for cid in node_cids})\n",
    "    labels.update({tid: \"T_\"+tid for tid in node_tids})\n",
    "\n",
    "    ## Make NetworkX graph with positions\n",
    "    G = nx.Graph()\n",
    "    G.add_edges_from(dict_edges[1])\n",
    "    if n_hops > 1:\n",
    "        G.add_edges_from(dict_edges[2])\n",
    "    pos = nx.spring_layout(G, k=options[\"k\"], iterations=options[\"iterations\"], seed=options[\"seed\"])\n",
    "\n",
    "    for p in list(pos.keys()):\n",
    "        G.nodes[p][\"pos\"] = pos[p]\n",
    "        \n",
    "    pos_adjusted = copy.deepcopy(pos)\n",
    "    for p in pos:\n",
    "        pos_adjusted[p][1] -= 0.075\n",
    "        \n",
    "    if tool==\"networkx\":\n",
    "        ## Draw using NetworkX\n",
    "        fig, ax = plt.subplots(figsize=(12,9))\n",
    "        fig.set_facecolor(\"#F8F8FF\")\n",
    "\n",
    "        node_size = max(1750 - (n_samples[\"C\"]+n_samples[\"T\"]), 200)\n",
    "        nx.draw_networkx_nodes(G, pos, nodelist=node_cids, label=\"Compound\", node_color=\"tomato\", edgecolors='black', linewidths=1.5, node_size=node_size, alpha=1, ax=ax)\n",
    "        nx.draw_networkx_nodes(G, pos, nodelist=node_tids, label=\"Protein\", node_color=\"steelblue\", edgecolors='black', linewidths=1.5, node_size=node_size, alpha=1, ax=ax)\n",
    "        if options[\"show_label\"]:\n",
    "            ids = nx.draw_networkx_labels(G, pos_adjusted, labels,  font_size=20, font_color=\"black\", font_family=curr_font, verticalalignment=\"top\")\n",
    "\n",
    "        nx.draw_networkx_edges(\n",
    "            G,\n",
    "            pos,\n",
    "            edgelist=dict_edges[1],\n",
    "            width=2.2,\n",
    "            alpha=0.7 if n_hops==1 else 0.9,\n",
    "            edge_color=\"gray\" if n_hops==1 else \"black\",\n",
    "        )\n",
    "\n",
    "        if n_hops > 1:\n",
    "            for edge in dict_edges[2]:\n",
    "                source, target = edge\n",
    "                rad = 0.25\n",
    "                ax.annotate(\"\",\n",
    "                    xy=pos[source],\n",
    "                    xytext=pos[target],\n",
    "                    arrowprops=dict(arrowstyle=\"-\", color=\"gray\", \n",
    "                        linestyle=\"--\",\n",
    "                        connectionstyle=\"arc3,rad={}\".format(rad), \n",
    "                        alpha=0.6, linewidth=2.2))        \n",
    "\n",
    "        plt.tight_layout()\n",
    "        plt.legend(loc=\"lower right\", labelspacing=2, borderpad=1, bbox_to_anchor=[1,0,0.3,0.5], fontsize=20, prop={'family': curr_font, \"size\": 22.5, \"weight\": \"regular\"})\n",
    "        plt.axis(\"off\")\n",
    "        plt.show()\n",
    "        \n",
    "    elif tool==\"plotly\":\n",
    "        ## Draw using Plotly\n",
    "        node_size = max(25 - (n_samples[\"C\"]+n_samples[\"T\"])/25, 10)\n",
    "        \n",
    "        plotly_edges = {}\n",
    "        plotly_edges[1] = {\"x\": [], \"y\": []}\n",
    "        for edge in dict_edges[1]:\n",
    "            x0, y0 = G.nodes[edge[0]]['pos']\n",
    "            x1, y1 = G.nodes[edge[1]]['pos']\n",
    "            plotly_edges[1][\"x\"].append(x0)\n",
    "            plotly_edges[1][\"x\"].append(x1)\n",
    "            plotly_edges[1][\"x\"].append(None)\n",
    "            plotly_edges[1][\"y\"].append(y0)\n",
    "            plotly_edges[1][\"y\"].append(y1)\n",
    "            plotly_edges[1][\"y\"].append(None)\n",
    "\n",
    "        edge_traces = {}\n",
    "        edge_traces[1] = graph_objects.Scatter(\n",
    "            x=plotly_edges[1][\"x\"], y=plotly_edges[1][\"y\"],\n",
    "            line=dict(width=1.5, color='rgba(100,100,100,0.7)' if n_hops==1 else 'rgba(20,20,20,1)', shape='linear'), # Black\n",
    "            hoverinfo='none',\n",
    "            mode='lines',\n",
    "            showlegend=False)\n",
    "\n",
    "        if n_hops > 1:\n",
    "            plotly_edges[2] = {\"x\": [], \"y\": []}\n",
    "            for edge in dict_edges[2]:\n",
    "                x0, y0 = G.nodes[edge[0]]['pos']\n",
    "                x1, y1 = G.nodes[edge[1]]['pos']\n",
    "                plotly_edges[2][\"x\"].append(x0)\n",
    "                plotly_edges[2][\"x\"].append(x1)\n",
    "                plotly_edges[2][\"x\"].append(None)\n",
    "                plotly_edges[2][\"y\"].append(y0)\n",
    "                plotly_edges[2][\"y\"].append(y1)\n",
    "                plotly_edges[2][\"y\"].append(None)\n",
    "\n",
    "            edge_traces[2] = graph_objects.Scatter(\n",
    "                x=plotly_edges[2][\"x\"], y=plotly_edges[2][\"y\"],\n",
    "                line=dict(width=2.1, color='rgba(100,100,100,0.7)', shape='spline', dash=\"dot\"), # Gray\n",
    "                hoverinfo='none',\n",
    "                mode='lines',\n",
    "                showlegend=False)\n",
    "        \n",
    "        nodes_cid_1 = [G.nodes[node][\"pos\"][0] for node in node_cids]\n",
    "        nodes_cid_2 = [G.nodes[node][\"pos\"][1] for node in node_cids]\n",
    "        labels_cid = [\"C_\"+cid for cid in node_cids]\n",
    "\n",
    "        node_trace_cid = graph_objects.Scatter(\n",
    "            x=nodes_cid_1, y=nodes_cid_2,\n",
    "            mode='markers+text' if options[\"show_label\"] else 'markers',\n",
    "            hoverinfo='text',\n",
    "            name='Compound',\n",
    "            text=labels_cid,\n",
    "            textposition=\"bottom center\",\n",
    "            marker=dict(\n",
    "                size=node_size,\n",
    "                color='tomato',\n",
    "                line_width=2))\n",
    "\n",
    "        nodes_tid_1 = [G.nodes[node][\"pos\"][0] for node in node_tids]\n",
    "        nodes_tid_2 = [G.nodes[node][\"pos\"][1] for node in node_tids]\n",
    "        labels_tid = [\"T_\"+tid for tid in node_tids]\n",
    "\n",
    "        node_trace_tid = graph_objects.Scatter(\n",
    "            x=nodes_tid_1, y=nodes_tid_2,\n",
    "            mode='markers+text' if options[\"show_label\"] else 'markers',\n",
    "            hoverinfo='text',\n",
    "            name='Protein',\n",
    "            text=labels_tid,\n",
    "            textposition=\"bottom center\",\n",
    "            marker=dict(\n",
    "                size=node_size,\n",
    "                color='steelblue',\n",
    "                line_width=2))\n",
    "\n",
    "        fig = graph_objects.Figure(data=(list(edge_traces.values()) + [node_trace_cid, node_trace_tid]),\n",
    "                     layout=graph_objects.Layout(\n",
    "                        showlegend=True,\n",
    "                        hovermode='closest',\n",
    "                        margin=dict(b=20,l=5,r=5,t=40),\n",
    "                        plot_bgcolor='ghostwhite',\n",
    "                        width=1000,\n",
    "                        height=600,\n",
    "                        xaxis=dict(showgrid=False, zeroline=False, showticklabels=False),\n",
    "                        yaxis=dict(showgrid=False, zeroline=False, showticklabels=False))\n",
    "                        )\n",
    "\n",
    "        fig.show()       \n",
    "    else:\n",
    "        print(\"Not implemented\")\n",
    "        return"
   ]
  },
  {
   "cell_type": "code",
   "execution_count": 521,
   "metadata": {
    "ExecuteTime": {
     "end_time": "2024-05-21T06:18:15.275099Z",
     "start_time": "2024-05-21T06:18:13.839152Z"
    }
   },
   "outputs": [
    {
     "data": {
      "image/png": "[encoded data removed]",
      "text/plain": [
       "<Figure size 864x648 with 1 Axes>"
      ]
     },
     "metadata": {},
     "output_type": "display_data"
    }
   ],
   "source": [
    "n_samples = {\"C\": 100, \"T\": 15}\n",
    "options = {\"show_label\": False, \"k\": 0.35, \"iterations\": 25, \"seed\":100}\n",
    "draw_network(CT_adj, i_to_C_cid, i_to_T_id, n_hops=2, sample_index=\"Random\", tool=\"networkx\", n_samples=n_samples, options=options)"
   ]
  },
  {
   "cell_type": "code",
   "execution_count": 522,
   "metadata": {
    "ExecuteTime": {
     "end_time": "2024-05-21T06:18:20.289032Z",
     "start_time": "2024-05-21T06:18:20.081646Z"
    },
    "scrolled": false
   },
   "outputs": [
    {
     "data": {
      "application/vnd.plotly.v1+json": {
       "config": {
        "plotlyServerURL": "https://plot.ly"
       },
       "data": [
        {
         "hoverinfo": "none",
         "line": {
          "color": "rgba(20,20,20,1)",
          "shape": "linear",
          "width": 1.5
         },
         "mode": "lines",
         "showlegend": false,
         "type": "scatter",
         "x": [
          -0.5717885964415841,
          -0.46180691104767985,
          null,
          -0.5717885964415841,
          -0.9177516917058496,
          null,
          0.5132186760097988,
          0.4398971922567653,
          null,
          0.8828162131627778,
          0.4398971922567653,
          null,
          -0.8449454581058653,
          -0.7998922003398078,
          null,
          0.293458848473459,
          0.05324651417442954,
          null,
          0.37687578299872276,
          0.6442590316890171,
          null,
          -0.6900340024796988,
          -0.3817003407746898,
          null,
          -0.6900340024796988,
          -0.39114191709367285,
          null,
          -0.09429016756595651,
          -0.3817003407746898,
          null,
          -0.09429016756595651,
          -0.39114191709367285,
          null,
          -0.3517215280563859,
          0.01865795900974574,
          null,
          -0.3517215280563859,
          0.05324651417442954,
          null,
          0.386370320667179,
          0.01865795900974574,
          null,
          0.08923678454266554,
          -0.3817003407746898,
          null,
          0.19358153011024212,
          -0.011029697591700763,
          null,
          0.19358153011024212,
          -0.2246309987192071,
          null,
          0.7332965076607899,
          0.45358798980834164,
          null,
          0.7332965076607899,
          0.8493975586371619,
          null,
          -0.6806697657965717,
          -0.3817003407746898,
          null,
          -0.6806697657965717,
          -0.39114191709367285,
          null,
          -0.27008305797307247,
          0.01865795900974574,
          null,
          -0.27008305797307247,
          0.05324651417442954,
          null,
          -0.3907666964314904,
          -0.011029697591700763,
          null,
          -0.3907666964314904,
          -0.2246309987192071,
          null,
          -0.7219143867541999,
          -0.3817003407746898,
          null,
          0.5162285256900989,
          0.45358798980834164,
          null,
          0.5215049780072675,
          0.4398971922567653,
          null,
          0.21474502319554473,
          0.01865795900974574,
          null,
          0.21474502319554473,
          0.05324651417442954,
          null,
          -0.12059418232477877,
          -0.3817003407746898,
          null,
          -0.12059418232477877,
          -0.39114191709367285,
          null,
          0.09466812237670394,
          0.01865795900974574,
          null,
          0.09466812237670394,
          0.05324651417442954,
          null,
          -0.07302450072518432,
          0.01865795900974574,
          null,
          -0.07302450072518432,
          0.05324651417442954,
          null,
          -0.041267444109553936,
          0.29277195667124933,
          null,
          -0.17685403926445756,
          -0.5492204348589421,
          null,
          -0.1793892770490072,
          -0.011029697591700763,
          null,
          -0.1793892770490072,
          -0.2246309987192071,
          null,
          0.3260362190597327,
          0.4398971922567653,
          null,
          0.4418224921002495,
          0.45358798980834164,
          null,
          0.4418224921002495,
          0.8493975586371619,
          null,
          0.7355214644030893,
          0.4398971922567653,
          null,
          -0.1266823954956745,
          0.01865795900974574,
          null,
          -0.1266823954956745,
          0.05324651417442954,
          null
         ],
         "y": [
          0.07434874124376811,
          0.5302215780340055,
          null,
          0.07434874124376811,
          -0.3594106452770269,
          null,
          0.8543324550119119,
          0.363589356478212,
          null,
          0.10688042970034088,
          0.363589356478212,
          null,
          -0.1363654125224725,
          0.3063185223520802,
          null,
          -0.779035153074682,
          -0.48342044418884783,
          null,
          0.9074929341734503,
          0.5433465092555027,
          null,
          -0.34077953866250393,
          -0.1325516469992063,
          null,
          -0.34077953866250393,
          -0.21004229128252405,
          null,
          -0.10138928665261535,
          -0.1325516469992063,
          null,
          -0.10138928665261535,
          -0.21004229128252405,
          null,
          -0.35124526993826555,
          -0.403896076961691,
          null,
          -0.35124526993826555,
          -0.48342044418884783,
          null,
          -0.6230774156204824,
          -0.403896076961691,
          null,
          -0.16586592770139025,
          -0.1325516469992063,
          null,
          -0.43656089112454594,
          -0.9665950000505268,
          null,
          -0.43656089112454594,
          -0.5001408544076237,
          null,
          0.32897898626483085,
          0.6335889220147454,
          null,
          0.32897898626483085,
          0.5537002685102883,
          null,
          0.047516314174677936,
          -0.1325516469992063,
          null,
          0.047516314174677936,
          -0.21004229128252405,
          null,
          -0.643968024924182,
          -0.403896076961691,
          null,
          -0.643968024924182,
          -0.48342044418884783,
          null,
          -0.7885333914348988,
          -0.9665950000505268,
          null,
          -0.7885333914348988,
          -0.5001408544076237,
          null,
          -0.14073988232746176,
          -0.1325516469992063,
          null,
          0.560511601155902,
          0.6335889220147454,
          null,
          -0.20073532744324185,
          0.363589356478212,
          null,
          -0.01742047783269972,
          -0.403896076961691,
          null,
          -0.01742047783269972,
          -0.48342044418884783,
          null,
          -0.458681980961274,
          -0.1325516469992063,
          null,
          -0.458681980961274,
          -0.21004229128252405,
          null,
          -0.7381400269126392,
          -0.403896076961691,
          null,
          -0.7381400269126392,
          -0.48342044418884783,
          null,
          -0.7657075862604158,
          -0.403896076961691,
          null,
          -0.7657075862604158,
          -0.48342044418884783,
          null,
          0.9999999999999999,
          0.7959334014573883,
          null,
          0.3581860292968457,
          0.5459077850495084,
          null,
          -0.9174106581166203,
          -0.9665950000505268,
          null,
          -0.9174106581166203,
          -0.5001408544076237,
          null,
          0.9861410547198703,
          0.363589356478212,
          null,
          0.48981705693100125,
          0.6335889220147454,
          null,
          0.48981705693100125,
          0.5537002685102883,
          null,
          0.7231442075646564,
          0.363589356478212,
          null,
          -0.048242942711149435,
          -0.403896076961691,
          null,
          -0.048242942711149435,
          -0.48342044418884783,
          null
         ]
        },
        {
         "hoverinfo": "none",
         "line": {
          "color": "rgba(100,100,100,0.7)",
          "dash": "dot",
          "shape": "spline",
          "width": 2.1
         },
         "mode": "lines",
         "showlegend": false,
         "type": "scatter",
         "x": [
          0.293458848473459,
          0.01865795900974574,
          null,
          0.386370320667179,
          0.05324651417442954,
          null,
          0.08923678454266554,
          -0.39114191709367285,
          null,
          -0.7219143867541999,
          -0.39114191709367285,
          null,
          0.5162285256900989,
          0.8493975586371619,
          null
         ],
         "y": [
          -0.779035153074682,
          -0.403896076961691,
          null,
          -0.6230774156204824,
          -0.48342044418884783,
          null,
          -0.16586592770139025,
          -0.21004229128252405,
          null,
          -0.14073988232746176,
          -0.21004229128252405,
          null,
          0.560511601155902,
          0.5537002685102883,
          null
         ]
        },
        {
         "hoverinfo": "text",
         "marker": {
          "color": "tomato",
          "line": {
           "width": 2
          },
          "size": 20.4
         },
         "mode": "markers",
         "name": "Compound",
         "text": [
          "C_11532676",
          "C_12000720",
          "C_121448662",
          "C_134130781",
          "C_134131162",
          "C_134149668",
          "C_134230357",
          "C_137634241",
          "C_138609936",
          "C_139301871",
          "C_145950884",
          "C_16126723",
          "C_162722513",
          "C_164517091",
          "C_18734933",
          "C_30323",
          "C_3272524",
          "C_44410948",
          "C_44448879",
          "C_49855759",
          "C_5281607",
          "C_56935695",
          "C_58547833",
          "C_71585859",
          "C_72734543",
          "C_73334158",
          "C_86287516",
          "C_9794947",
          "C_9822461",
          "C_9935925"
         ],
         "textposition": "bottom center",
         "type": "scatter",
         "x": [
          0.19358153011024212,
          -0.27008305797307247,
          0.293458848473459,
          0.4418224921002495,
          0.5132186760097988,
          0.5215049780072675,
          0.37687578299872276,
          -0.041267444109553936,
          -0.5717885964415841,
          0.7332965076607899,
          0.08923678454266554,
          -0.07302450072518432,
          -0.6900340024796988,
          0.3260362190597327,
          0.7355214644030893,
          -0.7219143867541999,
          -0.17685403926445756,
          -0.1793892770490072,
          0.21474502319554473,
          -0.6806697657965717,
          -0.3907666964314904,
          -0.09429016756595651,
          0.8828162131627778,
          0.09466812237670394,
          -0.12059418232477877,
          -0.8449454581058653,
          -0.3517215280563859,
          0.386370320667179,
          -0.1266823954956745,
          0.5162285256900989
         ],
         "y": [
          -0.43656089112454594,
          -0.643968024924182,
          -0.779035153074682,
          0.48981705693100125,
          0.8543324550119119,
          -0.20073532744324185,
          0.9074929341734503,
          0.9999999999999999,
          0.07434874124376811,
          0.32897898626483085,
          -0.16586592770139025,
          -0.7657075862604158,
          -0.34077953866250393,
          0.9861410547198703,
          0.7231442075646564,
          -0.14073988232746176,
          0.3581860292968457,
          -0.9174106581166203,
          -0.01742047783269972,
          0.047516314174677936,
          -0.7885333914348988,
          -0.10138928665261535,
          0.10688042970034088,
          -0.7381400269126392,
          -0.458681980961274,
          -0.1363654125224725,
          -0.35124526993826555,
          -0.6230774156204824,
          -0.048242942711149435,
          0.560511601155902
         ]
        },
        {
         "hoverinfo": "text",
         "marker": {
          "color": "steelblue",
          "line": {
           "width": 2
          },
          "size": 20.4
         },
         "mode": "markers",
         "name": "Protein",
         "text": [
          "T_O15379",
          "T_O15455",
          "T_O76074",
          "T_P00734",
          "T_P03952",
          "T_P03956",
          "T_P42261",
          "T_P45452",
          "T_P51812",
          "T_P53779",
          "T_Q16539",
          "T_Q96DC9",
          "T_Q9BY41",
          "T_Q9Y468",
          "T_Q9Y5T5"
         ],
         "textposition": "bottom center",
         "type": "scatter",
         "x": [
          -0.39114191709367285,
          0.6442590316890171,
          0.4398971922567653,
          0.45358798980834164,
          0.8493975586371619,
          0.01865795900974574,
          -0.5492204348589421,
          0.05324651417442954,
          0.29277195667124933,
          -0.011029697591700763,
          -0.2246309987192071,
          -0.9177516917058496,
          -0.3817003407746898,
          -0.7998922003398078,
          -0.46180691104767985
         ],
         "y": [
          -0.21004229128252405,
          0.5433465092555027,
          0.363589356478212,
          0.6335889220147454,
          0.5537002685102883,
          -0.403896076961691,
          0.5459077850495084,
          -0.48342044418884783,
          0.7959334014573883,
          -0.9665950000505268,
          -0.5001408544076237,
          -0.3594106452770269,
          -0.1325516469992063,
          0.3063185223520802,
          0.5302215780340055
         ]
        }
       ],
       "layout": {
        "height": 600,
        "hovermode": "closest",
        "margin": {
         "b": 20,
         "l": 5,
         "r": 5,
         "t": 40
        },
        "plot_bgcolor": "ghostwhite",
        "showlegend": true,
        "template": {
         "data": {
          "bar": [
           {
            "error_x": {
             "color": "#2a3f5f"
            },
            "error_y": {
             "color": "#2a3f5f"
            },
            "marker": {
             "line": {
              "color": "#E5ECF6",
              "width": 0.5
             },
             "pattern": {
              "fillmode": "overlay",
              "size": 10,
              "solidity": 0.2
             }
            },
            "type": "bar"
           }
          ],
          "barpolar": [
           {
            "marker": {
             "line": {
              "color": "#E5ECF6",
              "width": 0.5
             },
             "pattern": {
              "fillmode": "overlay",
              "size": 10,
              "solidity": 0.2
             }
            },
            "type": "barpolar"
           }
          ],
          "carpet": [
           {
            "aaxis": {
             "endlinecolor": "#2a3f5f",
             "gridcolor": "white",
             "linecolor": "white",
             "minorgridcolor": "white",
             "startlinecolor": "#2a3f5f"
            },
            "baxis": {
             "endlinecolor": "#2a3f5f",
             "gridcolor": "white",
             "linecolor": "white",
             "minorgridcolor": "white",
             "startlinecolor": "#2a3f5f"
            },
            "type": "carpet"
           }
          ],
          "choropleth": [
           {
            "colorbar": {
             "outlinewidth": 0,
             "ticks": ""
            },
            "type": "choropleth"
           }
          ],
          "contour": [
           {
            "colorbar": {
             "outlinewidth": 0,
             "ticks": ""
            },
            "colorscale": [
             [
              0,
              "#0d0887"
             ],
             [
              0.1111111111111111,
              "#46039f"
             ],
             [
              0.2222222222222222,
              "#7201a8"
             ],
             [
              0.3333333333333333,
              "#9c179e"
             ],
             [
              0.4444444444444444,
              "#bd3786"
             ],
             [
              0.5555555555555556,
              "#d8576b"
             ],
             [
              0.6666666666666666,
              "#ed7953"
             ],
             [
              0.7777777777777778,
              "#fb9f3a"
             ],
             [
              0.8888888888888888,
              "#fdca26"
             ],
             [
              1,
              "#f0f921"
             ]
            ],
            "type": "contour"
           }
          ],
          "contourcarpet": [
           {
            "colorbar": {
             "outlinewidth": 0,
             "ticks": ""
            },
            "type": "contourcarpet"
           }
          ],
          "heatmap": [
           {
            "colorbar": {
             "outlinewidth": 0,
             "ticks": ""
            },
            "colorscale": [
             [
              0,
              "#0d0887"
             ],
             [
              0.1111111111111111,
              "#46039f"
             ],
             [
              0.2222222222222222,
              "#7201a8"
             ],
             [
              0.3333333333333333,
              "#9c179e"
             ],
             [
              0.4444444444444444,
              "#bd3786"
             ],
             [
              0.5555555555555556,
              "#d8576b"
             ],
             [
              0.6666666666666666,
              "#ed7953"
             ],
             [
              0.7777777777777778,
              "#fb9f3a"
             ],
             [
              0.8888888888888888,
              "#fdca26"
             ],
             [
              1,
              "#f0f921"
             ]
            ],
            "type": "heatmap"
           }
          ],
          "heatmapgl": [
           {
            "colorbar": {
             "outlinewidth": 0,
             "ticks": ""
            },
            "colorscale": [
             [
              0,
              "#0d0887"
             ],
             [
              0.1111111111111111,
              "#46039f"
             ],
             [
              0.2222222222222222,
              "#7201a8"
             ],
             [
              0.3333333333333333,
              "#9c179e"
             ],
             [
              0.4444444444444444,
              "#bd3786"
             ],
             [
              0.5555555555555556,
              "#d8576b"
             ],
             [
              0.6666666666666666,
              "#ed7953"
             ],
             [
              0.7777777777777778,
              "#fb9f3a"
             ],
             [
              0.8888888888888888,
              "#fdca26"
             ],
             [
              1,
              "#f0f921"
             ]
            ],
            "type": "heatmapgl"
           }
          ],
          "histogram": [
           {
            "marker": {
             "pattern": {
              "fillmode": "overlay",
              "size": 10,
              "solidity": 0.2
             }
            },
            "type": "histogram"
           }
          ],
          "histogram2d": [
           {
            "colorbar": {
             "outlinewidth": 0,
             "ticks": ""
            },
            "colorscale": [
             [
              0,
              "#0d0887"
             ],
             [
              0.1111111111111111,
              "#46039f"
             ],
             [
              0.2222222222222222,
              "#7201a8"
             ],
             [
              0.3333333333333333,
              "#9c179e"
             ],
             [
              0.4444444444444444,
              "#bd3786"
             ],
             [
              0.5555555555555556,
              "#d8576b"
             ],
             [
              0.6666666666666666,
              "#ed7953"
             ],
             [
              0.7777777777777778,
              "#fb9f3a"
             ],
             [
              0.8888888888888888,
              "#fdca26"
             ],
             [
              1,
              "#f0f921"
             ]
            ],
            "type": "histogram2d"
           }
          ],
          "histogram2dcontour": [
           {
            "colorbar": {
             "outlinewidth": 0,
             "ticks": ""
            },
            "colorscale": [
             [
              0,
              "#0d0887"
             ],
             [
              0.1111111111111111,
              "#46039f"
             ],
             [
              0.2222222222222222,
              "#7201a8"
             ],
             [
              0.3333333333333333,
              "#9c179e"
             ],
             [
              0.4444444444444444,
              "#bd3786"
             ],
             [
              0.5555555555555556,
              "#d8576b"
             ],
             [
              0.6666666666666666,
              "#ed7953"
             ],
             [
              0.7777777777777778,
              "#fb9f3a"
             ],
             [
              0.8888888888888888,
              "#fdca26"
             ],
             [
              1,
              "#f0f921"
             ]
            ],
            "type": "histogram2dcontour"
           }
          ],
          "mesh3d": [
           {
            "colorbar": {
             "outlinewidth": 0,
             "ticks": ""
            },
            "type": "mesh3d"
           }
          ],
          "parcoords": [
           {
            "line": {
             "colorbar": {
              "outlinewidth": 0,
              "ticks": ""
             }
            },
            "type": "parcoords"
           }
          ],
          "pie": [
           {
            "automargin": true,
            "type": "pie"
           }
          ],
          "scatter": [
           {
            "fillpattern": {
             "fillmode": "overlay",
             "size": 10,
             "solidity": 0.2
            },
            "type": "scatter"
           }
          ],
          "scatter3d": [
           {
            "line": {
             "colorbar": {
              "outlinewidth": 0,
              "ticks": ""
             }
            },
            "marker": {
             "colorbar": {
              "outlinewidth": 0,
              "ticks": ""
             }
            },
            "type": "scatter3d"
           }
          ],
          "scattercarpet": [
           {
            "marker": {
             "colorbar": {
              "outlinewidth": 0,
              "ticks": ""
             }
            },
            "type": "scattercarpet"
           }
          ],
          "scattergeo": [
           {
            "marker": {
             "colorbar": {
              "outlinewidth": 0,
              "ticks": ""
             }
            },
            "type": "scattergeo"
           }
          ],
          "scattergl": [
           {
            "marker": {
             "colorbar": {
              "outlinewidth": 0,
              "ticks": ""
             }
            },
            "type": "scattergl"
           }
          ],
          "scattermapbox": [
           {
            "marker": {
             "colorbar": {
              "outlinewidth": 0,
              "ticks": ""
             }
            },
            "type": "scattermapbox"
           }
          ],
          "scatterpolar": [
           {
            "marker": {
             "colorbar": {
              "outlinewidth": 0,
              "ticks": ""
             }
            },
            "type": "scatterpolar"
           }
          ],
          "scatterpolargl": [
           {
            "marker": {
             "colorbar": {
              "outlinewidth": 0,
              "ticks": ""
             }
            },
            "type": "scatterpolargl"
           }
          ],
          "scatterternary": [
           {
            "marker": {
             "colorbar": {
              "outlinewidth": 0,
              "ticks": ""
             }
            },
            "type": "scatterternary"
           }
          ],
          "surface": [
           {
            "colorbar": {
             "outlinewidth": 0,
             "ticks": ""
            },
            "colorscale": [
             [
              0,
              "#0d0887"
             ],
             [
              0.1111111111111111,
              "#46039f"
             ],
             [
              0.2222222222222222,
              "#7201a8"
             ],
             [
              0.3333333333333333,
              "#9c179e"
             ],
             [
              0.4444444444444444,
              "#bd3786"
             ],
             [
              0.5555555555555556,
              "#d8576b"
             ],
             [
              0.6666666666666666,
              "#ed7953"
             ],
             [
              0.7777777777777778,
              "#fb9f3a"
             ],
             [
              0.8888888888888888,
              "#fdca26"
             ],
             [
              1,
              "#f0f921"
             ]
            ],
            "type": "surface"
           }
          ],
          "table": [
           {
            "cells": {
             "fill": {
              "color": "#EBF0F8"
             },
             "line": {
              "color": "white"
             }
            },
            "header": {
             "fill": {
              "color": "#C8D4E3"
             },
             "line": {
              "color": "white"
             }
            },
            "type": "table"
           }
          ]
         },
         "layout": {
          "annotationdefaults": {
           "arrowcolor": "#2a3f5f",
           "arrowhead": 0,
           "arrowwidth": 1
          },
          "autotypenumbers": "strict",
          "coloraxis": {
           "colorbar": {
            "outlinewidth": 0,
            "ticks": ""
           }
          },
          "colorscale": {
           "diverging": [
            [
             0,
             "#8e0152"
            ],
            [
             0.1,
             "#c51b7d"
            ],
            [
             0.2,
             "#de77ae"
            ],
            [
             0.3,
             "#f1b6da"
            ],
            [
             0.4,
             "#fde0ef"
            ],
            [
             0.5,
             "#f7f7f7"
            ],
            [
             0.6,
             "#e6f5d0"
            ],
            [
             0.7,
             "#b8e186"
            ],
            [
             0.8,
             "#7fbc41"
            ],
            [
             0.9,
             "#4d9221"
            ],
            [
             1,
             "#276419"
            ]
           ],
           "sequential": [
            [
             0,
             "#0d0887"
            ],
            [
             0.1111111111111111,
             "#46039f"
            ],
            [
             0.2222222222222222,
             "#7201a8"
            ],
            [
             0.3333333333333333,
             "#9c179e"
            ],
            [
             0.4444444444444444,
             "#bd3786"
            ],
            [
             0.5555555555555556,
             "#d8576b"
            ],
            [
             0.6666666666666666,
             "#ed7953"
            ],
            [
             0.7777777777777778,
             "#fb9f3a"
            ],
            [
             0.8888888888888888,
             "#fdca26"
            ],
            [
             1,
             "#f0f921"
            ]
           ],
           "sequentialminus": [
            [
             0,
             "#0d0887"
            ],
            [
             0.1111111111111111,
             "#46039f"
            ],
            [
             0.2222222222222222,
             "#7201a8"
            ],
            [
             0.3333333333333333,
             "#9c179e"
            ],
            [
             0.4444444444444444,
             "#bd3786"
            ],
            [
             0.5555555555555556,
             "#d8576b"
            ],
            [
             0.6666666666666666,
             "#ed7953"
            ],
            [
             0.7777777777777778,
             "#fb9f3a"
            ],
            [
             0.8888888888888888,
             "#fdca26"
            ],
            [
             1,
             "#f0f921"
            ]
           ]
          },
          "colorway": [
           "#636efa",
           "#EF553B",
           "#00cc96",
           "#ab63fa",
           "#FFA15A",
           "#19d3f3",
           "#FF6692",
           "#B6E880",
           "#FF97FF",
           "#FECB52"
          ],
          "font": {
           "color": "#2a3f5f"
          },
          "geo": {
           "bgcolor": "white",
           "lakecolor": "white",
           "landcolor": "#E5ECF6",
           "showlakes": true,
           "showland": true,
           "subunitcolor": "white"
          },
          "hoverlabel": {
           "align": "left"
          },
          "hovermode": "closest",
          "mapbox": {
           "style": "light"
          },
          "paper_bgcolor": "white",
          "plot_bgcolor": "#E5ECF6",
          "polar": {
           "angularaxis": {
            "gridcolor": "white",
            "linecolor": "white",
            "ticks": ""
           },
           "bgcolor": "#E5ECF6",
           "radialaxis": {
            "gridcolor": "white",
            "linecolor": "white",
            "ticks": ""
           }
          },
          "scene": {
           "xaxis": {
            "backgroundcolor": "#E5ECF6",
            "gridcolor": "white",
            "gridwidth": 2,
            "linecolor": "white",
            "showbackground": true,
            "ticks": "",
            "zerolinecolor": "white"
           },
           "yaxis": {
            "backgroundcolor": "#E5ECF6",
            "gridcolor": "white",
            "gridwidth": 2,
            "linecolor": "white",
            "showbackground": true,
            "ticks": "",
            "zerolinecolor": "white"
           },
           "zaxis": {
            "backgroundcolor": "#E5ECF6",
            "gridcolor": "white",
            "gridwidth": 2,
            "linecolor": "white",
            "showbackground": true,
            "ticks": "",
            "zerolinecolor": "white"
           }
          },
          "shapedefaults": {
           "line": {
            "color": "#2a3f5f"
           }
          },
          "ternary": {
           "aaxis": {
            "gridcolor": "white",
            "linecolor": "white",
            "ticks": ""
           },
           "baxis": {
            "gridcolor": "white",
            "linecolor": "white",
            "ticks": ""
           },
           "bgcolor": "#E5ECF6",
           "caxis": {
            "gridcolor": "white",
            "linecolor": "white",
            "ticks": ""
           }
          },
          "title": {
           "x": 0.05
          },
          "xaxis": {
           "automargin": true,
           "gridcolor": "white",
           "linecolor": "white",
           "ticks": "",
           "title": {
            "standoff": 15
           },
           "zerolinecolor": "white",
           "zerolinewidth": 2
          },
          "yaxis": {
           "automargin": true,
           "gridcolor": "white",
           "linecolor": "white",
           "ticks": "",
           "title": {
            "standoff": 15
           },
           "zerolinecolor": "white",
           "zerolinewidth": 2
          }
         }
        },
        "width": 1000,
        "xaxis": {
         "showgrid": false,
         "showticklabels": false,
         "zeroline": false
        },
        "yaxis": {
         "showgrid": false,
         "showticklabels": false,
         "zeroline": false
        }
       }
      },
      "text/html": [
       "<div>                            <div id=\"93337ca8-9f00-4972-bc3b-99e0bfe172ed\" class=\"plotly-graph-div\" style=\"height:600px; width:1000px;\"></div>            <script type=\"text/javascript\">                require([\"plotly\"], function(Plotly) {                    window.PLOTLYENV=window.PLOTLYENV || {};                                    if (document.getElementById(\"93337ca8-9f00-4972-bc3b-99e0bfe172ed\")) {                    Plotly.newPlot(                        \"93337ca8-9f00-4972-bc3b-99e0bfe172ed\",                        [{\"hoverinfo\":\"none\",\"line\":{\"color\":\"rgba(20,20,20,1)\",\"shape\":\"linear\",\"width\":1.5},\"mode\":\"lines\",\"showlegend\":false,\"x\":[-0.5717885964415841,-0.46180691104767985,null,-0.5717885964415841,-0.9177516917058496,null,0.5132186760097988,0.4398971922567653,null,0.8828162131627778,0.4398971922567653,null,-0.8449454581058653,-0.7998922003398078,null,0.293458848473459,0.05324651417442954,null,0.37687578299872276,0.6442590316890171,null,-0.6900340024796988,-0.3817003407746898,null,-0.6900340024796988,-0.39114191709367285,null,-0.09429016756595651,-0.3817003407746898,null,-0.09429016756595651,-0.39114191709367285,null,-0.3517215280563859,0.01865795900974574,null,-0.3517215280563859,0.05324651417442954,null,0.386370320667179,0.01865795900974574,null,0.08923678454266554,-0.3817003407746898,null,0.19358153011024212,-0.011029697591700763,null,0.19358153011024212,-0.2246309987192071,null,0.7332965076607899,0.45358798980834164,null,0.7332965076607899,0.8493975586371619,null,-0.6806697657965717,-0.3817003407746898,null,-0.6806697657965717,-0.39114191709367285,null,-0.27008305797307247,0.01865795900974574,null,-0.27008305797307247,0.05324651417442954,null,-0.3907666964314904,-0.011029697591700763,null,-0.3907666964314904,-0.2246309987192071,null,-0.7219143867541999,-0.3817003407746898,null,0.5162285256900989,0.45358798980834164,null,0.5215049780072675,0.4398971922567653,null,0.21474502319554473,0.01865795900974574,null,0.21474502319554473,0.05324651417442954,null,-0.12059418232477877,-0.3817003407746898,null,-0.12059418232477877,-0.39114191709367285,null,0.09466812237670394,0.01865795900974574,null,0.09466812237670394,0.05324651417442954,null,-0.07302450072518432,0.01865795900974574,null,-0.07302450072518432,0.05324651417442954,null,-0.041267444109553936,0.29277195667124933,null,-0.17685403926445756,-0.5492204348589421,null,-0.1793892770490072,-0.011029697591700763,null,-0.1793892770490072,-0.2246309987192071,null,0.3260362190597327,0.4398971922567653,null,0.4418224921002495,0.45358798980834164,null,0.4418224921002495,0.8493975586371619,null,0.7355214644030893,0.4398971922567653,null,-0.1266823954956745,0.01865795900974574,null,-0.1266823954956745,0.05324651417442954,null],\"y\":[0.07434874124376811,0.5302215780340055,null,0.07434874124376811,-0.3594106452770269,null,0.8543324550119119,0.363589356478212,null,0.10688042970034088,0.363589356478212,null,-0.1363654125224725,0.3063185223520802,null,-0.779035153074682,-0.48342044418884783,null,0.9074929341734503,0.5433465092555027,null,-0.34077953866250393,-0.1325516469992063,null,-0.34077953866250393,-0.21004229128252405,null,-0.10138928665261535,-0.1325516469992063,null,-0.10138928665261535,-0.21004229128252405,null,-0.35124526993826555,-0.403896076961691,null,-0.35124526993826555,-0.48342044418884783,null,-0.6230774156204824,-0.403896076961691,null,-0.16586592770139025,-0.1325516469992063,null,-0.43656089112454594,-0.9665950000505268,null,-0.43656089112454594,-0.5001408544076237,null,0.32897898626483085,0.6335889220147454,null,0.32897898626483085,0.5537002685102883,null,0.047516314174677936,-0.1325516469992063,null,0.047516314174677936,-0.21004229128252405,null,-0.643968024924182,-0.403896076961691,null,-0.643968024924182,-0.48342044418884783,null,-0.7885333914348988,-0.9665950000505268,null,-0.7885333914348988,-0.5001408544076237,null,-0.14073988232746176,-0.1325516469992063,null,0.560511601155902,0.6335889220147454,null,-0.20073532744324185,0.363589356478212,null,-0.01742047783269972,-0.403896076961691,null,-0.01742047783269972,-0.48342044418884783,null,-0.458681980961274,-0.1325516469992063,null,-0.458681980961274,-0.21004229128252405,null,-0.7381400269126392,-0.403896076961691,null,-0.7381400269126392,-0.48342044418884783,null,-0.7657075862604158,-0.403896076961691,null,-0.7657075862604158,-0.48342044418884783,null,0.9999999999999999,0.7959334014573883,null,0.3581860292968457,0.5459077850495084,null,-0.9174106581166203,-0.9665950000505268,null,-0.9174106581166203,-0.5001408544076237,null,0.9861410547198703,0.363589356478212,null,0.48981705693100125,0.6335889220147454,null,0.48981705693100125,0.5537002685102883,null,0.7231442075646564,0.363589356478212,null,-0.048242942711149435,-0.403896076961691,null,-0.048242942711149435,-0.48342044418884783,null],\"type\":\"scatter\"},{\"hoverinfo\":\"none\",\"line\":{\"color\":\"rgba(100,100,100,0.7)\",\"dash\":\"dot\",\"shape\":\"spline\",\"width\":2.1},\"mode\":\"lines\",\"showlegend\":false,\"x\":[0.293458848473459,0.01865795900974574,null,0.386370320667179,0.05324651417442954,null,0.08923678454266554,-0.39114191709367285,null,-0.7219143867541999,-0.39114191709367285,null,0.5162285256900989,0.8493975586371619,null],\"y\":[-0.779035153074682,-0.403896076961691,null,-0.6230774156204824,-0.48342044418884783,null,-0.16586592770139025,-0.21004229128252405,null,-0.14073988232746176,-0.21004229128252405,null,0.560511601155902,0.5537002685102883,null],\"type\":\"scatter\"},{\"hoverinfo\":\"text\",\"marker\":{\"color\":\"tomato\",\"line\":{\"width\":2},\"size\":20.4},\"mode\":\"markers\",\"name\":\"Compound\",\"text\":[\"C_11532676\",\"C_12000720\",\"C_121448662\",\"C_134130781\",\"C_134131162\",\"C_134149668\",\"C_134230357\",\"C_137634241\",\"C_138609936\",\"C_139301871\",\"C_145950884\",\"C_16126723\",\"C_162722513\",\"C_164517091\",\"C_18734933\",\"C_30323\",\"C_3272524\",\"C_44410948\",\"C_44448879\",\"C_49855759\",\"C_5281607\",\"C_56935695\",\"C_58547833\",\"C_71585859\",\"C_72734543\",\"C_73334158\",\"C_86287516\",\"C_9794947\",\"C_9822461\",\"C_9935925\"],\"textposition\":\"bottom center\",\"x\":[0.19358153011024212,-0.27008305797307247,0.293458848473459,0.4418224921002495,0.5132186760097988,0.5215049780072675,0.37687578299872276,-0.041267444109553936,-0.5717885964415841,0.7332965076607899,0.08923678454266554,-0.07302450072518432,-0.6900340024796988,0.3260362190597327,0.7355214644030893,-0.7219143867541999,-0.17685403926445756,-0.1793892770490072,0.21474502319554473,-0.6806697657965717,-0.3907666964314904,-0.09429016756595651,0.8828162131627778,0.09466812237670394,-0.12059418232477877,-0.8449454581058653,-0.3517215280563859,0.386370320667179,-0.1266823954956745,0.5162285256900989],\"y\":[-0.43656089112454594,-0.643968024924182,-0.779035153074682,0.48981705693100125,0.8543324550119119,-0.20073532744324185,0.9074929341734503,0.9999999999999999,0.07434874124376811,0.32897898626483085,-0.16586592770139025,-0.7657075862604158,-0.34077953866250393,0.9861410547198703,0.7231442075646564,-0.14073988232746176,0.3581860292968457,-0.9174106581166203,-0.01742047783269972,0.047516314174677936,-0.7885333914348988,-0.10138928665261535,0.10688042970034088,-0.7381400269126392,-0.458681980961274,-0.1363654125224725,-0.35124526993826555,-0.6230774156204824,-0.048242942711149435,0.560511601155902],\"type\":\"scatter\"},{\"hoverinfo\":\"text\",\"marker\":{\"color\":\"steelblue\",\"line\":{\"width\":2},\"size\":20.4},\"mode\":\"markers\",\"name\":\"Protein\",\"text\":[\"T_O15379\",\"T_O15455\",\"T_O76074\",\"T_P00734\",\"T_P03952\",\"T_P03956\",\"T_P42261\",\"T_P45452\",\"T_P51812\",\"T_P53779\",\"T_Q16539\",\"T_Q96DC9\",\"T_Q9BY41\",\"T_Q9Y468\",\"T_Q9Y5T5\"],\"textposition\":\"bottom center\",\"x\":[-0.39114191709367285,0.6442590316890171,0.4398971922567653,0.45358798980834164,0.8493975586371619,0.01865795900974574,-0.5492204348589421,0.05324651417442954,0.29277195667124933,-0.011029697591700763,-0.2246309987192071,-0.9177516917058496,-0.3817003407746898,-0.7998922003398078,-0.46180691104767985],\"y\":[-0.21004229128252405,0.5433465092555027,0.363589356478212,0.6335889220147454,0.5537002685102883,-0.403896076961691,0.5459077850495084,-0.48342044418884783,0.7959334014573883,-0.9665950000505268,-0.5001408544076237,-0.3594106452770269,-0.1325516469992063,0.3063185223520802,0.5302215780340055],\"type\":\"scatter\"}],                        {\"height\":600,\"hovermode\":\"closest\",\"margin\":{\"b\":20,\"l\":5,\"r\":5,\"t\":40},\"plot_bgcolor\":\"ghostwhite\",\"showlegend\":true,\"width\":1000,\"xaxis\":{\"showgrid\":false,\"showticklabels\":false,\"zeroline\":false},\"yaxis\":{\"showgrid\":false,\"showticklabels\":false,\"zeroline\":false},\"template\":{\"data\":{\"histogram2dcontour\":[{\"type\":\"histogram2dcontour\",\"colorbar\":{\"outlinewidth\":0,\"ticks\":\"\"},\"colorscale\":[[0.0,\"#0d0887\"],[0.1111111111111111,\"#46039f\"],[0.2222222222222222,\"#7201a8\"],[0.3333333333333333,\"#9c179e\"],[0.4444444444444444,\"#bd3786\"],[0.5555555555555556,\"#d8576b\"],[0.6666666666666666,\"#ed7953\"],[0.7777777777777778,\"#fb9f3a\"],[0.8888888888888888,\"#fdca26\"],[1.0,\"#f0f921\"]]}],\"choropleth\":[{\"type\":\"choropleth\",\"colorbar\":{\"outlinewidth\":0,\"ticks\":\"\"}}],\"histogram2d\":[{\"type\":\"histogram2d\",\"colorbar\":{\"outlinewidth\":0,\"ticks\":\"\"},\"colorscale\":[[0.0,\"#0d0887\"],[0.1111111111111111,\"#46039f\"],[0.2222222222222222,\"#7201a8\"],[0.3333333333333333,\"#9c179e\"],[0.4444444444444444,\"#bd3786\"],[0.5555555555555556,\"#d8576b\"],[0.6666666666666666,\"#ed7953\"],[0.7777777777777778,\"#fb9f3a\"],[0.8888888888888888,\"#fdca26\"],[1.0,\"#f0f921\"]]}],\"heatmap\":[{\"type\":\"heatmap\",\"colorbar\":{\"outlinewidth\":0,\"ticks\":\"\"},\"colorscale\":[[0.0,\"#0d0887\"],[0.1111111111111111,\"#46039f\"],[0.2222222222222222,\"#7201a8\"],[0.3333333333333333,\"#9c179e\"],[0.4444444444444444,\"#bd3786\"],[0.5555555555555556,\"#d8576b\"],[0.6666666666666666,\"#ed7953\"],[0.7777777777777778,\"#fb9f3a\"],[0.8888888888888888,\"#fdca26\"],[1.0,\"#f0f921\"]]}],\"heatmapgl\":[{\"type\":\"heatmapgl\",\"colorbar\":{\"outlinewidth\":0,\"ticks\":\"\"},\"colorscale\":[[0.0,\"#0d0887\"],[0.1111111111111111,\"#46039f\"],[0.2222222222222222,\"#7201a8\"],[0.3333333333333333,\"#9c179e\"],[0.4444444444444444,\"#bd3786\"],[0.5555555555555556,\"#d8576b\"],[0.6666666666666666,\"#ed7953\"],[0.7777777777777778,\"#fb9f3a\"],[0.8888888888888888,\"#fdca26\"],[1.0,\"#f0f921\"]]}],\"contourcarpet\":[{\"type\":\"contourcarpet\",\"colorbar\":{\"outlinewidth\":0,\"ticks\":\"\"}}],\"contour\":[{\"type\":\"contour\",\"colorbar\":{\"outlinewidth\":0,\"ticks\":\"\"},\"colorscale\":[[0.0,\"#0d0887\"],[0.1111111111111111,\"#46039f\"],[0.2222222222222222,\"#7201a8\"],[0.3333333333333333,\"#9c179e\"],[0.4444444444444444,\"#bd3786\"],[0.5555555555555556,\"#d8576b\"],[0.6666666666666666,\"#ed7953\"],[0.7777777777777778,\"#fb9f3a\"],[0.8888888888888888,\"#fdca26\"],[1.0,\"#f0f921\"]]}],\"surface\":[{\"type\":\"surface\",\"colorbar\":{\"outlinewidth\":0,\"ticks\":\"\"},\"colorscale\":[[0.0,\"#0d0887\"],[0.1111111111111111,\"#46039f\"],[0.2222222222222222,\"#7201a8\"],[0.3333333333333333,\"#9c179e\"],[0.4444444444444444,\"#bd3786\"],[0.5555555555555556,\"#d8576b\"],[0.6666666666666666,\"#ed7953\"],[0.7777777777777778,\"#fb9f3a\"],[0.8888888888888888,\"#fdca26\"],[1.0,\"#f0f921\"]]}],\"mesh3d\":[{\"type\":\"mesh3d\",\"colorbar\":{\"outlinewidth\":0,\"ticks\":\"\"}}],\"scatter\":[{\"fillpattern\":{\"fillmode\":\"overlay\",\"size\":10,\"solidity\":0.2},\"type\":\"scatter\"}],\"parcoords\":[{\"type\":\"parcoords\",\"line\":{\"colorbar\":{\"outlinewidth\":0,\"ticks\":\"\"}}}],\"scatterpolargl\":[{\"type\":\"scatterpolargl\",\"marker\":{\"colorbar\":{\"outlinewidth\":0,\"ticks\":\"\"}}}],\"bar\":[{\"error_x\":{\"color\":\"#2a3f5f\"},\"error_y\":{\"color\":\"#2a3f5f\"},\"marker\":{\"line\":{\"color\":\"#E5ECF6\",\"width\":0.5},\"pattern\":{\"fillmode\":\"overlay\",\"size\":10,\"solidity\":0.2}},\"type\":\"bar\"}],\"scattergeo\":[{\"type\":\"scattergeo\",\"marker\":{\"colorbar\":{\"outlinewidth\":0,\"ticks\":\"\"}}}],\"scatterpolar\":[{\"type\":\"scatterpolar\",\"marker\":{\"colorbar\":{\"outlinewidth\":0,\"ticks\":\"\"}}}],\"histogram\":[{\"marker\":{\"pattern\":{\"fillmode\":\"overlay\",\"size\":10,\"solidity\":0.2}},\"type\":\"histogram\"}],\"scattergl\":[{\"type\":\"scattergl\",\"marker\":{\"colorbar\":{\"outlinewidth\":0,\"ticks\":\"\"}}}],\"scatter3d\":[{\"type\":\"scatter3d\",\"line\":{\"colorbar\":{\"outlinewidth\":0,\"ticks\":\"\"}},\"marker\":{\"colorbar\":{\"outlinewidth\":0,\"ticks\":\"\"}}}],\"scattermapbox\":[{\"type\":\"scattermapbox\",\"marker\":{\"colorbar\":{\"outlinewidth\":0,\"ticks\":\"\"}}}],\"scatterternary\":[{\"type\":\"scatterternary\",\"marker\":{\"colorbar\":{\"outlinewidth\":0,\"ticks\":\"\"}}}],\"scattercarpet\":[{\"type\":\"scattercarpet\",\"marker\":{\"colorbar\":{\"outlinewidth\":0,\"ticks\":\"\"}}}],\"carpet\":[{\"aaxis\":{\"endlinecolor\":\"#2a3f5f\",\"gridcolor\":\"white\",\"linecolor\":\"white\",\"minorgridcolor\":\"white\",\"startlinecolor\":\"#2a3f5f\"},\"baxis\":{\"endlinecolor\":\"#2a3f5f\",\"gridcolor\":\"white\",\"linecolor\":\"white\",\"minorgridcolor\":\"white\",\"startlinecolor\":\"#2a3f5f\"},\"type\":\"carpet\"}],\"table\":[{\"cells\":{\"fill\":{\"color\":\"#EBF0F8\"},\"line\":{\"color\":\"white\"}},\"header\":{\"fill\":{\"color\":\"#C8D4E3\"},\"line\":{\"color\":\"white\"}},\"type\":\"table\"}],\"barpolar\":[{\"marker\":{\"line\":{\"color\":\"#E5ECF6\",\"width\":0.5},\"pattern\":{\"fillmode\":\"overlay\",\"size\":10,\"solidity\":0.2}},\"type\":\"barpolar\"}],\"pie\":[{\"automargin\":true,\"type\":\"pie\"}]},\"layout\":{\"autotypenumbers\":\"strict\",\"colorway\":[\"#636efa\",\"#EF553B\",\"#00cc96\",\"#ab63fa\",\"#FFA15A\",\"#19d3f3\",\"#FF6692\",\"#B6E880\",\"#FF97FF\",\"#FECB52\"],\"font\":{\"color\":\"#2a3f5f\"},\"hovermode\":\"closest\",\"hoverlabel\":{\"align\":\"left\"},\"paper_bgcolor\":\"white\",\"plot_bgcolor\":\"#E5ECF6\",\"polar\":{\"bgcolor\":\"#E5ECF6\",\"angularaxis\":{\"gridcolor\":\"white\",\"linecolor\":\"white\",\"ticks\":\"\"},\"radialaxis\":{\"gridcolor\":\"white\",\"linecolor\":\"white\",\"ticks\":\"\"}},\"ternary\":{\"bgcolor\":\"#E5ECF6\",\"aaxis\":{\"gridcolor\":\"white\",\"linecolor\":\"white\",\"ticks\":\"\"},\"baxis\":{\"gridcolor\":\"white\",\"linecolor\":\"white\",\"ticks\":\"\"},\"caxis\":{\"gridcolor\":\"white\",\"linecolor\":\"white\",\"ticks\":\"\"}},\"coloraxis\":{\"colorbar\":{\"outlinewidth\":0,\"ticks\":\"\"}},\"colorscale\":{\"sequential\":[[0.0,\"#0d0887\"],[0.1111111111111111,\"#46039f\"],[0.2222222222222222,\"#7201a8\"],[0.3333333333333333,\"#9c179e\"],[0.4444444444444444,\"#bd3786\"],[0.5555555555555556,\"#d8576b\"],[0.6666666666666666,\"#ed7953\"],[0.7777777777777778,\"#fb9f3a\"],[0.8888888888888888,\"#fdca26\"],[1.0,\"#f0f921\"]],\"sequentialminus\":[[0.0,\"#0d0887\"],[0.1111111111111111,\"#46039f\"],[0.2222222222222222,\"#7201a8\"],[0.3333333333333333,\"#9c179e\"],[0.4444444444444444,\"#bd3786\"],[0.5555555555555556,\"#d8576b\"],[0.6666666666666666,\"#ed7953\"],[0.7777777777777778,\"#fb9f3a\"],[0.8888888888888888,\"#fdca26\"],[1.0,\"#f0f921\"]],\"diverging\":[[0,\"#8e0152\"],[0.1,\"#c51b7d\"],[0.2,\"#de77ae\"],[0.3,\"#f1b6da\"],[0.4,\"#fde0ef\"],[0.5,\"#f7f7f7\"],[0.6,\"#e6f5d0\"],[0.7,\"#b8e186\"],[0.8,\"#7fbc41\"],[0.9,\"#4d9221\"],[1,\"#276419\"]]},\"xaxis\":{\"gridcolor\":\"white\",\"linecolor\":\"white\",\"ticks\":\"\",\"title\":{\"standoff\":15},\"zerolinecolor\":\"white\",\"automargin\":true,\"zerolinewidth\":2},\"yaxis\":{\"gridcolor\":\"white\",\"linecolor\":\"white\",\"ticks\":\"\",\"title\":{\"standoff\":15},\"zerolinecolor\":\"white\",\"automargin\":true,\"zerolinewidth\":2},\"scene\":{\"xaxis\":{\"backgroundcolor\":\"#E5ECF6\",\"gridcolor\":\"white\",\"linecolor\":\"white\",\"showbackground\":true,\"ticks\":\"\",\"zerolinecolor\":\"white\",\"gridwidth\":2},\"yaxis\":{\"backgroundcolor\":\"#E5ECF6\",\"gridcolor\":\"white\",\"linecolor\":\"white\",\"showbackground\":true,\"ticks\":\"\",\"zerolinecolor\":\"white\",\"gridwidth\":2},\"zaxis\":{\"backgroundcolor\":\"#E5ECF6\",\"gridcolor\":\"white\",\"linecolor\":\"white\",\"showbackground\":true,\"ticks\":\"\",\"zerolinecolor\":\"white\",\"gridwidth\":2}},\"shapedefaults\":{\"line\":{\"color\":\"#2a3f5f\"}},\"annotationdefaults\":{\"arrowcolor\":\"#2a3f5f\",\"arrowhead\":0,\"arrowwidth\":1},\"geo\":{\"bgcolor\":\"white\",\"landcolor\":\"#E5ECF6\",\"subunitcolor\":\"white\",\"showland\":true,\"showlakes\":true,\"lakecolor\":\"white\"},\"title\":{\"x\":0.05},\"mapbox\":{\"style\":\"light\"}}}},                        {\"responsive\": true}                    ).then(function(){\n",
       "                            \n",
       "var gd = document.getElementById('93337ca8-9f00-4972-bc3b-99e0bfe172ed');\n",
       "var x = new MutationObserver(function (mutations, observer) {{\n",
       "        var display = window.getComputedStyle(gd).display;\n",
       "        if (!display || display === 'none') {{\n",
       "            console.log([gd, 'removed!']);\n",
       "            Plotly.purge(gd);\n",
       "            observer.disconnect();\n",
       "        }}\n",
       "}});\n",
       "\n",
       "// Listen for the removal of the full notebook cells\n",
       "var notebookContainer = gd.closest('#notebook-container');\n",
       "if (notebookContainer) {{\n",
       "    x.observe(notebookContainer, {childList: true});\n",
       "}}\n",
       "\n",
       "// Listen for the clearing of the current output cell\n",
       "var outputEl = gd.closest('.output');\n",
       "if (outputEl) {{\n",
       "    x.observe(outputEl, {childList: true});\n",
       "}}\n",
       "\n",
       "                        })                };                });            </script>        </div>"
      ]
     },
     "metadata": {},
     "output_type": "display_data"
    }
   ],
   "source": [
    "n_samples = {\"C\": 100, \"T\": 15}\n",
    "options = {\"show_label\": False, \"k\": 0.35, \"iterations\": 25, \"seed\":100}\n",
    "draw_network(CT_adj, i_to_C_cid, i_to_T_id, n_hops=2, sample_index=\"Random\", tool=\"plotly\", n_samples=n_samples, options=options)"
   ]
  },
  {
   "cell_type": "markdown",
   "metadata": {},
   "source": [
    "### Find good examples"
   ]
  },
  {
   "cell_type": "code",
   "execution_count": 452,
   "metadata": {
    "ExecuteTime": {
     "end_time": "2024-05-21T05:48:02.290833Z",
     "start_time": "2024-05-21T05:48:02.284007Z"
    }
   },
   "outputs": [],
   "source": [
    "good_ex_cols = [188,22,1294,6]"
   ]
  },
  {
   "cell_type": "code",
   "execution_count": 540,
   "metadata": {
    "ExecuteTime": {
     "end_time": "2024-05-21T06:27:18.338819Z",
     "start_time": "2024-05-21T06:27:17.648763Z"
    }
   },
   "outputs": [
    {
     "data": {
      "image/png": "[encoded data removed]",
      "text/plain": [
       "<Figure size 864x648 with 1 Axes>"
      ]
     },
     "metadata": {},
     "output_type": "display_data"
    }
   ],
   "source": [
    "n_samples = {\"C\": 12, \"T\": 7}\n",
    "options = {\"show_label\": True, \"k\": 0.35, \"iterations\": 25, \"seed\":100}\n",
    "\n",
    "sample_row_index = CT_adj.sum(axis=1).argsort()[::-1][:n_samples[\"C\"]]\n",
    "sample_rows = CT_adj[sample_row_index]\n",
    "nonzero_cols = np.nonzero(sample_rows)\n",
    "sample_col_index = np.array(good_ex_cols)\n",
    "sample_index = (sample_row_index, sample_col_index)\n",
    "\n",
    "draw_network(CT_adj, i_to_C_cid, i_to_T_id, n_hops=2, sample_index=sample_index, tool=\"networkx\", n_samples=n_samples, options=options)"
   ]
  },
  {
   "cell_type": "code",
   "execution_count": 541,
   "metadata": {
    "ExecuteTime": {
     "end_time": "2024-05-21T06:27:22.551281Z",
     "start_time": "2024-05-21T06:27:22.485568Z"
    },
    "scrolled": false
   },
   "outputs": [
    {
     "data": {
      "application/vnd.plotly.v1+json": {
       "config": {
        "plotlyServerURL": "https://plot.ly"
       },
       "data": [
        {
         "hoverinfo": "none",
         "line": {
          "color": "rgba(20,20,20,1)",
          "shape": "linear",
          "width": 1.5
         },
         "mode": "lines",
         "showlegend": false,
         "type": "scatter",
         "x": [
          -0.583233062397477,
          -0.2517300949793851,
          null,
          -0.729316807529017,
          -0.2517300949793851,
          null,
          -0.3165633089282717,
          -0.2517300949793851,
          null,
          -0.6157086533040566,
          -0.2517300949793851,
          null,
          0.24874669177862632,
          -0.2517300949793851,
          null,
          0.34207936543110307,
          -0.09007266691345132,
          null,
          0.34207936543110307,
          0.3978082147073913,
          null,
          0.05372371183654055,
          -0.2517300949793851,
          null,
          0.6195058756332597,
          0.3978082147073913,
          null,
          0.6195058756332597,
          1,
          null,
          -0.0752392653352633,
          -0.09007266691345132,
          null,
          -0.0752392653352633,
          -0.2517300949793851,
          null
         ],
         "y": [
          -0.2526912774666545,
          0.15465786078378196,
          null,
          0.09824126553990535,
          0.15465786078378196,
          null,
          0.6463977464492289,
          0.15465786078378196,
          null,
          0.450089211123928,
          0.15465786078378196,
          null,
          0.2802818578913349,
          0.15465786078378196,
          null,
          -0.24137423894455348,
          0.07071861217309283,
          null,
          -0.24137423894455348,
          -0.70760097495438,
          null,
          0.6187661829491615,
          0.15465786078378196,
          null,
          -0.28963743526487784,
          -0.70760097495438,
          null,
          -0.28963743526487784,
          -0.38887823715097297,
          null,
          -0.43897057312899523,
          0.07071861217309283,
          null,
          -0.43897057312899523,
          0.15465786078378196,
          null
         ]
        },
        {
         "hoverinfo": "none",
         "line": {
          "color": "rgba(100,100,100,0.7)",
          "dash": "dot",
          "shape": "spline",
          "width": 2.1
         },
         "mode": "lines",
         "showlegend": false,
         "type": "scatter",
         "x": [
          -0.583233062397477,
          -0.09007266691345132,
          null,
          -0.729316807529017,
          -0.09007266691345132,
          null,
          -0.3165633089282717,
          -0.09007266691345132,
          null,
          -0.6157086533040566,
          -0.09007266691345132,
          null,
          0.24874669177862632,
          -0.09007266691345132,
          null,
          0.34207936543110307,
          1,
          null,
          0.34207936543110307,
          -0.2517300949793851,
          null,
          0.05372371183654055,
          -0.09007266691345132,
          null,
          0.6195058756332597,
          -0.09007266691345132,
          null,
          -0.0752392653352633,
          0.3978082147073913,
          null
         ],
         "y": [
          -0.2526912774666545,
          0.07071861217309283,
          null,
          0.09824126553990535,
          0.07071861217309283,
          null,
          0.6463977464492289,
          0.07071861217309283,
          null,
          0.450089211123928,
          0.07071861217309283,
          null,
          0.2802818578913349,
          0.07071861217309283,
          null,
          -0.24137423894455348,
          -0.38887823715097297,
          null,
          -0.24137423894455348,
          0.15465786078378196,
          null,
          0.6187661829491615,
          0.07071861217309283,
          null,
          -0.28963743526487784,
          0.07071861217309283,
          null,
          -0.43897057312899523,
          -0.70760097495438,
          null
         ]
        },
        {
         "hoverinfo": "text",
         "marker": {
          "color": "tomato",
          "line": {
           "width": 2
          },
          "size": 24.24
         },
         "mode": "markers+text",
         "name": "Compound",
         "text": [
          "C_16046126",
          "C_24759534",
          "C_44255320",
          "C_46224684",
          "C_5280445",
          "C_59603829",
          "C_59603842",
          "C_69036886",
          "C_89735655"
         ],
         "textposition": "bottom center",
         "type": "scatter",
         "x": [
          -0.0752392653352633,
          -0.583233062397477,
          0.6195058756332597,
          0.05372371183654055,
          0.34207936543110307,
          -0.3165633089282717,
          0.24874669177862632,
          -0.729316807529017,
          -0.6157086533040566
         ],
         "y": [
          -0.43897057312899523,
          -0.2526912774666545,
          -0.28963743526487784,
          0.6187661829491615,
          -0.24137423894455348,
          0.6463977464492289,
          0.2802818578913349,
          0.09824126553990535,
          0.450089211123928
         ]
        },
        {
         "hoverinfo": "text",
         "marker": {
          "color": "steelblue",
          "line": {
           "width": 2
          },
          "size": 24.24
         },
         "mode": "markers+text",
         "name": "Protein",
         "text": [
          "T_P08253",
          "T_P45984",
          "T_P53779",
          "T_Q14790"
         ],
         "textposition": "bottom center",
         "type": "scatter",
         "x": [
          0.3978082147073913,
          -0.2517300949793851,
          -0.09007266691345132,
          1
         ],
         "y": [
          -0.70760097495438,
          0.15465786078378196,
          0.07071861217309283,
          -0.38887823715097297
         ]
        }
       ],
       "layout": {
        "height": 600,
        "hovermode": "closest",
        "margin": {
         "b": 20,
         "l": 5,
         "r": 5,
         "t": 40
        },
        "plot_bgcolor": "ghostwhite",
        "showlegend": true,
        "template": {
         "data": {
          "bar": [
           {
            "error_x": {
             "color": "#2a3f5f"
            },
            "error_y": {
             "color": "#2a3f5f"
            },
            "marker": {
             "line": {
              "color": "#E5ECF6",
              "width": 0.5
             },
             "pattern": {
              "fillmode": "overlay",
              "size": 10,
              "solidity": 0.2
             }
            },
            "type": "bar"
           }
          ],
          "barpolar": [
           {
            "marker": {
             "line": {
              "color": "#E5ECF6",
              "width": 0.5
             },
             "pattern": {
              "fillmode": "overlay",
              "size": 10,
              "solidity": 0.2
             }
            },
            "type": "barpolar"
           }
          ],
          "carpet": [
           {
            "aaxis": {
             "endlinecolor": "#2a3f5f",
             "gridcolor": "white",
             "linecolor": "white",
             "minorgridcolor": "white",
             "startlinecolor": "#2a3f5f"
            },
            "baxis": {
             "endlinecolor": "#2a3f5f",
             "gridcolor": "white",
             "linecolor": "white",
             "minorgridcolor": "white",
             "startlinecolor": "#2a3f5f"
            },
            "type": "carpet"
           }
          ],
          "choropleth": [
           {
            "colorbar": {
             "outlinewidth": 0,
             "ticks": ""
            },
            "type": "choropleth"
           }
          ],
          "contour": [
           {
            "colorbar": {
             "outlinewidth": 0,
             "ticks": ""
            },
            "colorscale": [
             [
              0,
              "#0d0887"
             ],
             [
              0.1111111111111111,
              "#46039f"
             ],
             [
              0.2222222222222222,
              "#7201a8"
             ],
             [
              0.3333333333333333,
              "#9c179e"
             ],
             [
              0.4444444444444444,
              "#bd3786"
             ],
             [
              0.5555555555555556,
              "#d8576b"
             ],
             [
              0.6666666666666666,
              "#ed7953"
             ],
             [
              0.7777777777777778,
              "#fb9f3a"
             ],
             [
              0.8888888888888888,
              "#fdca26"
             ],
             [
              1,
              "#f0f921"
             ]
            ],
            "type": "contour"
           }
          ],
          "contourcarpet": [
           {
            "colorbar": {
             "outlinewidth": 0,
             "ticks": ""
            },
            "type": "contourcarpet"
           }
          ],
          "heatmap": [
           {
            "colorbar": {
             "outlinewidth": 0,
             "ticks": ""
            },
            "colorscale": [
             [
              0,
              "#0d0887"
             ],
             [
              0.1111111111111111,
              "#46039f"
             ],
             [
              0.2222222222222222,
              "#7201a8"
             ],
             [
              0.3333333333333333,
              "#9c179e"
             ],
             [
              0.4444444444444444,
              "#bd3786"
             ],
             [
              0.5555555555555556,
              "#d8576b"
             ],
             [
              0.6666666666666666,
              "#ed7953"
             ],
             [
              0.7777777777777778,
              "#fb9f3a"
             ],
             [
              0.8888888888888888,
              "#fdca26"
             ],
             [
              1,
              "#f0f921"
             ]
            ],
            "type": "heatmap"
           }
          ],
          "heatmapgl": [
           {
            "colorbar": {
             "outlinewidth": 0,
             "ticks": ""
            },
            "colorscale": [
             [
              0,
              "#0d0887"
             ],
             [
              0.1111111111111111,
              "#46039f"
             ],
             [
              0.2222222222222222,
              "#7201a8"
             ],
             [
              0.3333333333333333,
              "#9c179e"
             ],
             [
              0.4444444444444444,
              "#bd3786"
             ],
             [
              0.5555555555555556,
              "#d8576b"
             ],
             [
              0.6666666666666666,
              "#ed7953"
             ],
             [
              0.7777777777777778,
              "#fb9f3a"
             ],
             [
              0.8888888888888888,
              "#fdca26"
             ],
             [
              1,
              "#f0f921"
             ]
            ],
            "type": "heatmapgl"
           }
          ],
          "histogram": [
           {
            "marker": {
             "pattern": {
              "fillmode": "overlay",
              "size": 10,
              "solidity": 0.2
             }
            },
            "type": "histogram"
           }
          ],
          "histogram2d": [
           {
            "colorbar": {
             "outlinewidth": 0,
             "ticks": ""
            },
            "colorscale": [
             [
              0,
              "#0d0887"
             ],
             [
              0.1111111111111111,
              "#46039f"
             ],
             [
              0.2222222222222222,
              "#7201a8"
             ],
             [
              0.3333333333333333,
              "#9c179e"
             ],
             [
              0.4444444444444444,
              "#bd3786"
             ],
             [
              0.5555555555555556,
              "#d8576b"
             ],
             [
              0.6666666666666666,
              "#ed7953"
             ],
             [
              0.7777777777777778,
              "#fb9f3a"
             ],
             [
              0.8888888888888888,
              "#fdca26"
             ],
             [
              1,
              "#f0f921"
             ]
            ],
            "type": "histogram2d"
           }
          ],
          "histogram2dcontour": [
           {
            "colorbar": {
             "outlinewidth": 0,
             "ticks": ""
            },
            "colorscale": [
             [
              0,
              "#0d0887"
             ],
             [
              0.1111111111111111,
              "#46039f"
             ],
             [
              0.2222222222222222,
              "#7201a8"
             ],
             [
              0.3333333333333333,
              "#9c179e"
             ],
             [
              0.4444444444444444,
              "#bd3786"
             ],
             [
              0.5555555555555556,
              "#d8576b"
             ],
             [
              0.6666666666666666,
              "#ed7953"
             ],
             [
              0.7777777777777778,
              "#fb9f3a"
             ],
             [
              0.8888888888888888,
              "#fdca26"
             ],
             [
              1,
              "#f0f921"
             ]
            ],
            "type": "histogram2dcontour"
           }
          ],
          "mesh3d": [
           {
            "colorbar": {
             "outlinewidth": 0,
             "ticks": ""
            },
            "type": "mesh3d"
           }
          ],
          "parcoords": [
           {
            "line": {
             "colorbar": {
              "outlinewidth": 0,
              "ticks": ""
             }
            },
            "type": "parcoords"
           }
          ],
          "pie": [
           {
            "automargin": true,
            "type": "pie"
           }
          ],
          "scatter": [
           {
            "fillpattern": {
             "fillmode": "overlay",
             "size": 10,
             "solidity": 0.2
            },
            "type": "scatter"
           }
          ],
          "scatter3d": [
           {
            "line": {
             "colorbar": {
              "outlinewidth": 0,
              "ticks": ""
             }
            },
            "marker": {
             "colorbar": {
              "outlinewidth": 0,
              "ticks": ""
             }
            },
            "type": "scatter3d"
           }
          ],
          "scattercarpet": [
           {
            "marker": {
             "colorbar": {
              "outlinewidth": 0,
              "ticks": ""
             }
            },
            "type": "scattercarpet"
           }
          ],
          "scattergeo": [
           {
            "marker": {
             "colorbar": {
              "outlinewidth": 0,
              "ticks": ""
             }
            },
            "type": "scattergeo"
           }
          ],
          "scattergl": [
           {
            "marker": {
             "colorbar": {
              "outlinewidth": 0,
              "ticks": ""
             }
            },
            "type": "scattergl"
           }
          ],
          "scattermapbox": [
           {
            "marker": {
             "colorbar": {
              "outlinewidth": 0,
              "ticks": ""
             }
            },
            "type": "scattermapbox"
           }
          ],
          "scatterpolar": [
           {
            "marker": {
             "colorbar": {
              "outlinewidth": 0,
              "ticks": ""
             }
            },
            "type": "scatterpolar"
           }
          ],
          "scatterpolargl": [
           {
            "marker": {
             "colorbar": {
              "outlinewidth": 0,
              "ticks": ""
             }
            },
            "type": "scatterpolargl"
           }
          ],
          "scatterternary": [
           {
            "marker": {
             "colorbar": {
              "outlinewidth": 0,
              "ticks": ""
             }
            },
            "type": "scatterternary"
           }
          ],
          "surface": [
           {
            "colorbar": {
             "outlinewidth": 0,
             "ticks": ""
            },
            "colorscale": [
             [
              0,
              "#0d0887"
             ],
             [
              0.1111111111111111,
              "#46039f"
             ],
             [
              0.2222222222222222,
              "#7201a8"
             ],
             [
              0.3333333333333333,
              "#9c179e"
             ],
             [
              0.4444444444444444,
              "#bd3786"
             ],
             [
              0.5555555555555556,
              "#d8576b"
             ],
             [
              0.6666666666666666,
              "#ed7953"
             ],
             [
              0.7777777777777778,
              "#fb9f3a"
             ],
             [
              0.8888888888888888,
              "#fdca26"
             ],
             [
              1,
              "#f0f921"
             ]
            ],
            "type": "surface"
           }
          ],
          "table": [
           {
            "cells": {
             "fill": {
              "color": "#EBF0F8"
             },
             "line": {
              "color": "white"
             }
            },
            "header": {
             "fill": {
              "color": "#C8D4E3"
             },
             "line": {
              "color": "white"
             }
            },
            "type": "table"
           }
          ]
         },
         "layout": {
          "annotationdefaults": {
           "arrowcolor": "#2a3f5f",
           "arrowhead": 0,
           "arrowwidth": 1
          },
          "autotypenumbers": "strict",
          "coloraxis": {
           "colorbar": {
            "outlinewidth": 0,
            "ticks": ""
           }
          },
          "colorscale": {
           "diverging": [
            [
             0,
             "#8e0152"
            ],
            [
             0.1,
             "#c51b7d"
            ],
            [
             0.2,
             "#de77ae"
            ],
            [
             0.3,
             "#f1b6da"
            ],
            [
             0.4,
             "#fde0ef"
            ],
            [
             0.5,
             "#f7f7f7"
            ],
            [
             0.6,
             "#e6f5d0"
            ],
            [
             0.7,
             "#b8e186"
            ],
            [
             0.8,
             "#7fbc41"
            ],
            [
             0.9,
             "#4d9221"
            ],
            [
             1,
             "#276419"
            ]
           ],
           "sequential": [
            [
             0,
             "#0d0887"
            ],
            [
             0.1111111111111111,
             "#46039f"
            ],
            [
             0.2222222222222222,
             "#7201a8"
            ],
            [
             0.3333333333333333,
             "#9c179e"
            ],
            [
             0.4444444444444444,
             "#bd3786"
            ],
            [
             0.5555555555555556,
             "#d8576b"
            ],
            [
             0.6666666666666666,
             "#ed7953"
            ],
            [
             0.7777777777777778,
             "#fb9f3a"
            ],
            [
             0.8888888888888888,
             "#fdca26"
            ],
            [
             1,
             "#f0f921"
            ]
           ],
           "sequentialminus": [
            [
             0,
             "#0d0887"
            ],
            [
             0.1111111111111111,
             "#46039f"
            ],
            [
             0.2222222222222222,
             "#7201a8"
            ],
            [
             0.3333333333333333,
             "#9c179e"
            ],
            [
             0.4444444444444444,
             "#bd3786"
            ],
            [
             0.5555555555555556,
             "#d8576b"
            ],
            [
             0.6666666666666666,
             "#ed7953"
            ],
            [
             0.7777777777777778,
             "#fb9f3a"
            ],
            [
             0.8888888888888888,
             "#fdca26"
            ],
            [
             1,
             "#f0f921"
            ]
           ]
          },
          "colorway": [
           "#636efa",
           "#EF553B",
           "#00cc96",
           "#ab63fa",
           "#FFA15A",
           "#19d3f3",
           "#FF6692",
           "#B6E880",
           "#FF97FF",
           "#FECB52"
          ],
          "font": {
           "color": "#2a3f5f"
          },
          "geo": {
           "bgcolor": "white",
           "lakecolor": "white",
           "landcolor": "#E5ECF6",
           "showlakes": true,
           "showland": true,
           "subunitcolor": "white"
          },
          "hoverlabel": {
           "align": "left"
          },
          "hovermode": "closest",
          "mapbox": {
           "style": "light"
          },
          "paper_bgcolor": "white",
          "plot_bgcolor": "#E5ECF6",
          "polar": {
           "angularaxis": {
            "gridcolor": "white",
            "linecolor": "white",
            "ticks": ""
           },
           "bgcolor": "#E5ECF6",
           "radialaxis": {
            "gridcolor": "white",
            "linecolor": "white",
            "ticks": ""
           }
          },
          "scene": {
           "xaxis": {
            "backgroundcolor": "#E5ECF6",
            "gridcolor": "white",
            "gridwidth": 2,
            "linecolor": "white",
            "showbackground": true,
            "ticks": "",
            "zerolinecolor": "white"
           },
           "yaxis": {
            "backgroundcolor": "#E5ECF6",
            "gridcolor": "white",
            "gridwidth": 2,
            "linecolor": "white",
            "showbackground": true,
            "ticks": "",
            "zerolinecolor": "white"
           },
           "zaxis": {
            "backgroundcolor": "#E5ECF6",
            "gridcolor": "white",
            "gridwidth": 2,
            "linecolor": "white",
            "showbackground": true,
            "ticks": "",
            "zerolinecolor": "white"
           }
          },
          "shapedefaults": {
           "line": {
            "color": "#2a3f5f"
           }
          },
          "ternary": {
           "aaxis": {
            "gridcolor": "white",
            "linecolor": "white",
            "ticks": ""
           },
           "baxis": {
            "gridcolor": "white",
            "linecolor": "white",
            "ticks": ""
           },
           "bgcolor": "#E5ECF6",
           "caxis": {
            "gridcolor": "white",
            "linecolor": "white",
            "ticks": ""
           }
          },
          "title": {
           "x": 0.05
          },
          "xaxis": {
           "automargin": true,
           "gridcolor": "white",
           "linecolor": "white",
           "ticks": "",
           "title": {
            "standoff": 15
           },
           "zerolinecolor": "white",
           "zerolinewidth": 2
          },
          "yaxis": {
           "automargin": true,
           "gridcolor": "white",
           "linecolor": "white",
           "ticks": "",
           "title": {
            "standoff": 15
           },
           "zerolinecolor": "white",
           "zerolinewidth": 2
          }
         }
        },
        "width": 1000,
        "xaxis": {
         "showgrid": false,
         "showticklabels": false,
         "zeroline": false
        },
        "yaxis": {
         "showgrid": false,
         "showticklabels": false,
         "zeroline": false
        }
       }
      },
      "text/html": [
       "<div>                            <div id=\"403c2a11-ead0-44d0-8761-8f646525cb4a\" class=\"plotly-graph-div\" style=\"height:600px; width:1000px;\"></div>            <script type=\"text/javascript\">                require([\"plotly\"], function(Plotly) {                    window.PLOTLYENV=window.PLOTLYENV || {};                                    if (document.getElementById(\"403c2a11-ead0-44d0-8761-8f646525cb4a\")) {                    Plotly.newPlot(                        \"403c2a11-ead0-44d0-8761-8f646525cb4a\",                        [{\"hoverinfo\":\"none\",\"line\":{\"color\":\"rgba(20,20,20,1)\",\"shape\":\"linear\",\"width\":1.5},\"mode\":\"lines\",\"showlegend\":false,\"x\":[-0.583233062397477,-0.2517300949793851,null,-0.729316807529017,-0.2517300949793851,null,-0.3165633089282717,-0.2517300949793851,null,-0.6157086533040566,-0.2517300949793851,null,0.24874669177862632,-0.2517300949793851,null,0.34207936543110307,-0.09007266691345132,null,0.34207936543110307,0.3978082147073913,null,0.05372371183654055,-0.2517300949793851,null,0.6195058756332597,0.3978082147073913,null,0.6195058756332597,1.0,null,-0.0752392653352633,-0.09007266691345132,null,-0.0752392653352633,-0.2517300949793851,null],\"y\":[-0.2526912774666545,0.15465786078378196,null,0.09824126553990535,0.15465786078378196,null,0.6463977464492289,0.15465786078378196,null,0.450089211123928,0.15465786078378196,null,0.2802818578913349,0.15465786078378196,null,-0.24137423894455348,0.07071861217309283,null,-0.24137423894455348,-0.70760097495438,null,0.6187661829491615,0.15465786078378196,null,-0.28963743526487784,-0.70760097495438,null,-0.28963743526487784,-0.38887823715097297,null,-0.43897057312899523,0.07071861217309283,null,-0.43897057312899523,0.15465786078378196,null],\"type\":\"scatter\"},{\"hoverinfo\":\"none\",\"line\":{\"color\":\"rgba(100,100,100,0.7)\",\"dash\":\"dot\",\"shape\":\"spline\",\"width\":2.1},\"mode\":\"lines\",\"showlegend\":false,\"x\":[-0.583233062397477,-0.09007266691345132,null,-0.729316807529017,-0.09007266691345132,null,-0.3165633089282717,-0.09007266691345132,null,-0.6157086533040566,-0.09007266691345132,null,0.24874669177862632,-0.09007266691345132,null,0.34207936543110307,1.0,null,0.34207936543110307,-0.2517300949793851,null,0.05372371183654055,-0.09007266691345132,null,0.6195058756332597,-0.09007266691345132,null,-0.0752392653352633,0.3978082147073913,null],\"y\":[-0.2526912774666545,0.07071861217309283,null,0.09824126553990535,0.07071861217309283,null,0.6463977464492289,0.07071861217309283,null,0.450089211123928,0.07071861217309283,null,0.2802818578913349,0.07071861217309283,null,-0.24137423894455348,-0.38887823715097297,null,-0.24137423894455348,0.15465786078378196,null,0.6187661829491615,0.07071861217309283,null,-0.28963743526487784,0.07071861217309283,null,-0.43897057312899523,-0.70760097495438,null],\"type\":\"scatter\"},{\"hoverinfo\":\"text\",\"marker\":{\"color\":\"tomato\",\"line\":{\"width\":2},\"size\":24.24},\"mode\":\"markers+text\",\"name\":\"Compound\",\"text\":[\"C_16046126\",\"C_24759534\",\"C_44255320\",\"C_46224684\",\"C_5280445\",\"C_59603829\",\"C_59603842\",\"C_69036886\",\"C_89735655\"],\"textposition\":\"bottom center\",\"x\":[-0.0752392653352633,-0.583233062397477,0.6195058756332597,0.05372371183654055,0.34207936543110307,-0.3165633089282717,0.24874669177862632,-0.729316807529017,-0.6157086533040566],\"y\":[-0.43897057312899523,-0.2526912774666545,-0.28963743526487784,0.6187661829491615,-0.24137423894455348,0.6463977464492289,0.2802818578913349,0.09824126553990535,0.450089211123928],\"type\":\"scatter\"},{\"hoverinfo\":\"text\",\"marker\":{\"color\":\"steelblue\",\"line\":{\"width\":2},\"size\":24.24},\"mode\":\"markers+text\",\"name\":\"Protein\",\"text\":[\"T_P08253\",\"T_P45984\",\"T_P53779\",\"T_Q14790\"],\"textposition\":\"bottom center\",\"x\":[0.3978082147073913,-0.2517300949793851,-0.09007266691345132,1.0],\"y\":[-0.70760097495438,0.15465786078378196,0.07071861217309283,-0.38887823715097297],\"type\":\"scatter\"}],                        {\"height\":600,\"hovermode\":\"closest\",\"margin\":{\"b\":20,\"l\":5,\"r\":5,\"t\":40},\"plot_bgcolor\":\"ghostwhite\",\"showlegend\":true,\"width\":1000,\"xaxis\":{\"showgrid\":false,\"showticklabels\":false,\"zeroline\":false},\"yaxis\":{\"showgrid\":false,\"showticklabels\":false,\"zeroline\":false},\"template\":{\"data\":{\"histogram2dcontour\":[{\"type\":\"histogram2dcontour\",\"colorbar\":{\"outlinewidth\":0,\"ticks\":\"\"},\"colorscale\":[[0.0,\"#0d0887\"],[0.1111111111111111,\"#46039f\"],[0.2222222222222222,\"#7201a8\"],[0.3333333333333333,\"#9c179e\"],[0.4444444444444444,\"#bd3786\"],[0.5555555555555556,\"#d8576b\"],[0.6666666666666666,\"#ed7953\"],[0.7777777777777778,\"#fb9f3a\"],[0.8888888888888888,\"#fdca26\"],[1.0,\"#f0f921\"]]}],\"choropleth\":[{\"type\":\"choropleth\",\"colorbar\":{\"outlinewidth\":0,\"ticks\":\"\"}}],\"histogram2d\":[{\"type\":\"histogram2d\",\"colorbar\":{\"outlinewidth\":0,\"ticks\":\"\"},\"colorscale\":[[0.0,\"#0d0887\"],[0.1111111111111111,\"#46039f\"],[0.2222222222222222,\"#7201a8\"],[0.3333333333333333,\"#9c179e\"],[0.4444444444444444,\"#bd3786\"],[0.5555555555555556,\"#d8576b\"],[0.6666666666666666,\"#ed7953\"],[0.7777777777777778,\"#fb9f3a\"],[0.8888888888888888,\"#fdca26\"],[1.0,\"#f0f921\"]]}],\"heatmap\":[{\"type\":\"heatmap\",\"colorbar\":{\"outlinewidth\":0,\"ticks\":\"\"},\"colorscale\":[[0.0,\"#0d0887\"],[0.1111111111111111,\"#46039f\"],[0.2222222222222222,\"#7201a8\"],[0.3333333333333333,\"#9c179e\"],[0.4444444444444444,\"#bd3786\"],[0.5555555555555556,\"#d8576b\"],[0.6666666666666666,\"#ed7953\"],[0.7777777777777778,\"#fb9f3a\"],[0.8888888888888888,\"#fdca26\"],[1.0,\"#f0f921\"]]}],\"heatmapgl\":[{\"type\":\"heatmapgl\",\"colorbar\":{\"outlinewidth\":0,\"ticks\":\"\"},\"colorscale\":[[0.0,\"#0d0887\"],[0.1111111111111111,\"#46039f\"],[0.2222222222222222,\"#7201a8\"],[0.3333333333333333,\"#9c179e\"],[0.4444444444444444,\"#bd3786\"],[0.5555555555555556,\"#d8576b\"],[0.6666666666666666,\"#ed7953\"],[0.7777777777777778,\"#fb9f3a\"],[0.8888888888888888,\"#fdca26\"],[1.0,\"#f0f921\"]]}],\"contourcarpet\":[{\"type\":\"contourcarpet\",\"colorbar\":{\"outlinewidth\":0,\"ticks\":\"\"}}],\"contour\":[{\"type\":\"contour\",\"colorbar\":{\"outlinewidth\":0,\"ticks\":\"\"},\"colorscale\":[[0.0,\"#0d0887\"],[0.1111111111111111,\"#46039f\"],[0.2222222222222222,\"#7201a8\"],[0.3333333333333333,\"#9c179e\"],[0.4444444444444444,\"#bd3786\"],[0.5555555555555556,\"#d8576b\"],[0.6666666666666666,\"#ed7953\"],[0.7777777777777778,\"#fb9f3a\"],[0.8888888888888888,\"#fdca26\"],[1.0,\"#f0f921\"]]}],\"surface\":[{\"type\":\"surface\",\"colorbar\":{\"outlinewidth\":0,\"ticks\":\"\"},\"colorscale\":[[0.0,\"#0d0887\"],[0.1111111111111111,\"#46039f\"],[0.2222222222222222,\"#7201a8\"],[0.3333333333333333,\"#9c179e\"],[0.4444444444444444,\"#bd3786\"],[0.5555555555555556,\"#d8576b\"],[0.6666666666666666,\"#ed7953\"],[0.7777777777777778,\"#fb9f3a\"],[0.8888888888888888,\"#fdca26\"],[1.0,\"#f0f921\"]]}],\"mesh3d\":[{\"type\":\"mesh3d\",\"colorbar\":{\"outlinewidth\":0,\"ticks\":\"\"}}],\"scatter\":[{\"fillpattern\":{\"fillmode\":\"overlay\",\"size\":10,\"solidity\":0.2},\"type\":\"scatter\"}],\"parcoords\":[{\"type\":\"parcoords\",\"line\":{\"colorbar\":{\"outlinewidth\":0,\"ticks\":\"\"}}}],\"scatterpolargl\":[{\"type\":\"scatterpolargl\",\"marker\":{\"colorbar\":{\"outlinewidth\":0,\"ticks\":\"\"}}}],\"bar\":[{\"error_x\":{\"color\":\"#2a3f5f\"},\"error_y\":{\"color\":\"#2a3f5f\"},\"marker\":{\"line\":{\"color\":\"#E5ECF6\",\"width\":0.5},\"pattern\":{\"fillmode\":\"overlay\",\"size\":10,\"solidity\":0.2}},\"type\":\"bar\"}],\"scattergeo\":[{\"type\":\"scattergeo\",\"marker\":{\"colorbar\":{\"outlinewidth\":0,\"ticks\":\"\"}}}],\"scatterpolar\":[{\"type\":\"scatterpolar\",\"marker\":{\"colorbar\":{\"outlinewidth\":0,\"ticks\":\"\"}}}],\"histogram\":[{\"marker\":{\"pattern\":{\"fillmode\":\"overlay\",\"size\":10,\"solidity\":0.2}},\"type\":\"histogram\"}],\"scattergl\":[{\"type\":\"scattergl\",\"marker\":{\"colorbar\":{\"outlinewidth\":0,\"ticks\":\"\"}}}],\"scatter3d\":[{\"type\":\"scatter3d\",\"line\":{\"colorbar\":{\"outlinewidth\":0,\"ticks\":\"\"}},\"marker\":{\"colorbar\":{\"outlinewidth\":0,\"ticks\":\"\"}}}],\"scattermapbox\":[{\"type\":\"scattermapbox\",\"marker\":{\"colorbar\":{\"outlinewidth\":0,\"ticks\":\"\"}}}],\"scatterternary\":[{\"type\":\"scatterternary\",\"marker\":{\"colorbar\":{\"outlinewidth\":0,\"ticks\":\"\"}}}],\"scattercarpet\":[{\"type\":\"scattercarpet\",\"marker\":{\"colorbar\":{\"outlinewidth\":0,\"ticks\":\"\"}}}],\"carpet\":[{\"aaxis\":{\"endlinecolor\":\"#2a3f5f\",\"gridcolor\":\"white\",\"linecolor\":\"white\",\"minorgridcolor\":\"white\",\"startlinecolor\":\"#2a3f5f\"},\"baxis\":{\"endlinecolor\":\"#2a3f5f\",\"gridcolor\":\"white\",\"linecolor\":\"white\",\"minorgridcolor\":\"white\",\"startlinecolor\":\"#2a3f5f\"},\"type\":\"carpet\"}],\"table\":[{\"cells\":{\"fill\":{\"color\":\"#EBF0F8\"},\"line\":{\"color\":\"white\"}},\"header\":{\"fill\":{\"color\":\"#C8D4E3\"},\"line\":{\"color\":\"white\"}},\"type\":\"table\"}],\"barpolar\":[{\"marker\":{\"line\":{\"color\":\"#E5ECF6\",\"width\":0.5},\"pattern\":{\"fillmode\":\"overlay\",\"size\":10,\"solidity\":0.2}},\"type\":\"barpolar\"}],\"pie\":[{\"automargin\":true,\"type\":\"pie\"}]},\"layout\":{\"autotypenumbers\":\"strict\",\"colorway\":[\"#636efa\",\"#EF553B\",\"#00cc96\",\"#ab63fa\",\"#FFA15A\",\"#19d3f3\",\"#FF6692\",\"#B6E880\",\"#FF97FF\",\"#FECB52\"],\"font\":{\"color\":\"#2a3f5f\"},\"hovermode\":\"closest\",\"hoverlabel\":{\"align\":\"left\"},\"paper_bgcolor\":\"white\",\"plot_bgcolor\":\"#E5ECF6\",\"polar\":{\"bgcolor\":\"#E5ECF6\",\"angularaxis\":{\"gridcolor\":\"white\",\"linecolor\":\"white\",\"ticks\":\"\"},\"radialaxis\":{\"gridcolor\":\"white\",\"linecolor\":\"white\",\"ticks\":\"\"}},\"ternary\":{\"bgcolor\":\"#E5ECF6\",\"aaxis\":{\"gridcolor\":\"white\",\"linecolor\":\"white\",\"ticks\":\"\"},\"baxis\":{\"gridcolor\":\"white\",\"linecolor\":\"white\",\"ticks\":\"\"},\"caxis\":{\"gridcolor\":\"white\",\"linecolor\":\"white\",\"ticks\":\"\"}},\"coloraxis\":{\"colorbar\":{\"outlinewidth\":0,\"ticks\":\"\"}},\"colorscale\":{\"sequential\":[[0.0,\"#0d0887\"],[0.1111111111111111,\"#46039f\"],[0.2222222222222222,\"#7201a8\"],[0.3333333333333333,\"#9c179e\"],[0.4444444444444444,\"#bd3786\"],[0.5555555555555556,\"#d8576b\"],[0.6666666666666666,\"#ed7953\"],[0.7777777777777778,\"#fb9f3a\"],[0.8888888888888888,\"#fdca26\"],[1.0,\"#f0f921\"]],\"sequentialminus\":[[0.0,\"#0d0887\"],[0.1111111111111111,\"#46039f\"],[0.2222222222222222,\"#7201a8\"],[0.3333333333333333,\"#9c179e\"],[0.4444444444444444,\"#bd3786\"],[0.5555555555555556,\"#d8576b\"],[0.6666666666666666,\"#ed7953\"],[0.7777777777777778,\"#fb9f3a\"],[0.8888888888888888,\"#fdca26\"],[1.0,\"#f0f921\"]],\"diverging\":[[0,\"#8e0152\"],[0.1,\"#c51b7d\"],[0.2,\"#de77ae\"],[0.3,\"#f1b6da\"],[0.4,\"#fde0ef\"],[0.5,\"#f7f7f7\"],[0.6,\"#e6f5d0\"],[0.7,\"#b8e186\"],[0.8,\"#7fbc41\"],[0.9,\"#4d9221\"],[1,\"#276419\"]]},\"xaxis\":{\"gridcolor\":\"white\",\"linecolor\":\"white\",\"ticks\":\"\",\"title\":{\"standoff\":15},\"zerolinecolor\":\"white\",\"automargin\":true,\"zerolinewidth\":2},\"yaxis\":{\"gridcolor\":\"white\",\"linecolor\":\"white\",\"ticks\":\"\",\"title\":{\"standoff\":15},\"zerolinecolor\":\"white\",\"automargin\":true,\"zerolinewidth\":2},\"scene\":{\"xaxis\":{\"backgroundcolor\":\"#E5ECF6\",\"gridcolor\":\"white\",\"linecolor\":\"white\",\"showbackground\":true,\"ticks\":\"\",\"zerolinecolor\":\"white\",\"gridwidth\":2},\"yaxis\":{\"backgroundcolor\":\"#E5ECF6\",\"gridcolor\":\"white\",\"linecolor\":\"white\",\"showbackground\":true,\"ticks\":\"\",\"zerolinecolor\":\"white\",\"gridwidth\":2},\"zaxis\":{\"backgroundcolor\":\"#E5ECF6\",\"gridcolor\":\"white\",\"linecolor\":\"white\",\"showbackground\":true,\"ticks\":\"\",\"zerolinecolor\":\"white\",\"gridwidth\":2}},\"shapedefaults\":{\"line\":{\"color\":\"#2a3f5f\"}},\"annotationdefaults\":{\"arrowcolor\":\"#2a3f5f\",\"arrowhead\":0,\"arrowwidth\":1},\"geo\":{\"bgcolor\":\"white\",\"landcolor\":\"#E5ECF6\",\"subunitcolor\":\"white\",\"showland\":true,\"showlakes\":true,\"lakecolor\":\"white\"},\"title\":{\"x\":0.05},\"mapbox\":{\"style\":\"light\"}}}},                        {\"responsive\": true}                    ).then(function(){\n",
       "                            \n",
       "var gd = document.getElementById('403c2a11-ead0-44d0-8761-8f646525cb4a');\n",
       "var x = new MutationObserver(function (mutations, observer) {{\n",
       "        var display = window.getComputedStyle(gd).display;\n",
       "        if (!display || display === 'none') {{\n",
       "            console.log([gd, 'removed!']);\n",
       "            Plotly.purge(gd);\n",
       "            observer.disconnect();\n",
       "        }}\n",
       "}});\n",
       "\n",
       "// Listen for the removal of the full notebook cells\n",
       "var notebookContainer = gd.closest('#notebook-container');\n",
       "if (notebookContainer) {{\n",
       "    x.observe(notebookContainer, {childList: true});\n",
       "}}\n",
       "\n",
       "// Listen for the clearing of the current output cell\n",
       "var outputEl = gd.closest('.output');\n",
       "if (outputEl) {{\n",
       "    x.observe(outputEl, {childList: true});\n",
       "}}\n",
       "\n",
       "                        })                };                });            </script>        </div>"
      ]
     },
     "metadata": {},
     "output_type": "display_data"
    }
   ],
   "source": [
    "n_samples = {\"C\": 12, \"T\": 7}\n",
    "options = {\"show_label\": True, \"k\": 0.35, \"iterations\": 25, \"seed\":100}\n",
    "\n",
    "sample_row_index = CT_adj.sum(axis=1).argsort()[::-1][:n_samples[\"C\"]]\n",
    "sample_rows = CT_adj[sample_row_index]\n",
    "nonzero_cols = np.nonzero(sample_rows)\n",
    "# n_choice_cols = min(n_samples[\"T\"], len(np.unique(np.nonzero(sample_rows)[1])))\n",
    "# sample_col_index = np.random.choice(nonzero_cols[1], n_choice_cols)\n",
    "# sample_col_index = sample_rows.sum(axis=0).argsort()[::-1][:n_samples[\"T\"]]\n",
    "sample_col_index = np.array(good_ex_cols)\n",
    "sample_index = (sample_row_index, sample_col_index)\n",
    "# display(sample_index)\n",
    "\n",
    "draw_network(CT_adj, i_to_C_cid, i_to_T_id, n_hops=2, sample_index=sample_index, tool=\"plotly\", n_samples=n_samples, options=options)"
   ]
  }
 ],
 "metadata": {
  "kernelspec": {
   "display_name": "DL",
   "language": "python",
   "name": "dl"
  },
  "language_info": {
   "codemirror_mode": {
    "name": "ipython",
    "version": 3
   },
   "file_extension": ".py",
   "mimetype": "text/x-python",
   "name": "python",
   "nbconvert_exporter": "python",
   "pygments_lexer": "ipython3",
   "version": "3.9.7"
  },
  "toc": {
   "base_numbering": 1,
   "nav_menu": {},
   "number_sections": true,
   "sideBar": true,
   "skip_h1_title": false,
   "title_cell": "Table of Contents",
   "title_sidebar": "Contents",
   "toc_cell": false,
   "toc_position": {},
   "toc_section_display": true,
   "toc_window_display": false
  }
 },
 "nbformat": 4,
 "nbformat_minor": 2
}
