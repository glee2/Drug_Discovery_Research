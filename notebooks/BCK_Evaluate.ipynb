{
 "cells": [
  {
   "cell_type": "code",
   "execution_count": 2,
   "metadata": {
    "ExecuteTime": {
     "end_time": "2024-05-23T07:32:14.244457Z",
     "start_time": "2024-05-23T07:32:14.238496Z"
    }
   },
   "outputs": [],
   "source": [
    "###\n",
    "# File name: Evaluate.ipynb (jupyter notebook)\n",
    "# Description: evaluate generated sequences with references in test set\n",
    "# Created on: 2024-05-22 (Wed.)\n",
    "# Modification History\n",
    "#   - 2024-05-22 (edited by Gyumin Lee): Add BLEU, GLEU, ROUGE; Implement beam search for comparisons\n",
    "#   - 2024-05-23 (edited by Gyumin Lee): Add QED, SA_score, NP_score, ADMET\n",
    "# Version: 0.1\n",
    "###"
   ]
  },
  {
   "cell_type": "markdown",
   "metadata": {},
   "source": [
    "# Load data"
   ]
  },
  {
   "cell_type": "code",
   "execution_count": 3,
   "metadata": {
    "ExecuteTime": {
     "end_time": "2024-05-23T07:32:23.384111Z",
     "start_time": "2024-05-23T07:32:16.493559Z"
    }
   },
   "outputs": [],
   "source": [
    "import numpy as np\n",
    "import pandas as pd\n",
    "pd.set_option('display.max_rows',200,'display.max_columns',50)\n",
    "import csv\n",
    "import time\n",
    "import pickle\n",
    "import os\n",
    "import sys"
   ]
  },
  {
   "cell_type": "code",
   "execution_count": 4,
   "metadata": {
    "ExecuteTime": {
     "end_time": "2024-05-23T07:32:23.546165Z",
     "start_time": "2024-05-23T07:32:23.388505Z"
    }
   },
   "outputs": [],
   "source": [
    "root = \"/home2/glee/Drug_Discovery_Research\"\n",
    "data_path = os.path.join(root, \"data\")\n",
    "result_path = os.path.join(root, \"results\")\n",
    "test_set = pd.read_csv(os.path.join(data_path, \"splitted\", \"test.csv\"))\n",
    "if \"Unnamed: 0\" in test_set.columns: test_set = test_set.drop(\"Unnamed: 0\", axis=1)"
   ]
  },
  {
   "cell_type": "code",
   "execution_count": 5,
   "metadata": {
    "ExecuteTime": {
     "end_time": "2024-05-23T07:32:23.603873Z",
     "start_time": "2024-05-23T07:32:23.548489Z"
    }
   },
   "outputs": [
    {
     "data": {
      "text/html": [
       "<div>\n",
       "<style scoped>\n",
       "    .dataframe tbody tr th:only-of-type {\n",
       "        vertical-align: middle;\n",
       "    }\n",
       "\n",
       "    .dataframe tbody tr th {\n",
       "        vertical-align: top;\n",
       "    }\n",
       "\n",
       "    .dataframe thead th {\n",
       "        text-align: right;\n",
       "    }\n",
       "</style>\n",
       "<table border=\"1\" class=\"dataframe\">\n",
       "  <thead>\n",
       "    <tr style=\"text-align: right;\">\n",
       "      <th></th>\n",
       "      <th>T_seq</th>\n",
       "      <th>C_anc</th>\n",
       "    </tr>\n",
       "  </thead>\n",
       "  <tbody>\n",
       "    <tr>\n",
       "      <th>0</th>\n",
       "      <td>MSVGAMKKGVGRAVGLGGGSGCQATEEDPLPNCGACAPGQGGRRWR...</td>\n",
       "      <td>CCCNCC1=CC=C(C=C1)CCN2C=CC(=CC2=O)OCC3=CC=C(C=...</td>\n",
       "    </tr>\n",
       "    <tr>\n",
       "      <th>1</th>\n",
       "      <td>MSVGAMKKGVGRAVGLGGGSGCQATEEDPLPNCGACAPGQGGRRWR...</td>\n",
       "      <td>CN(C)C1=NC(=NC2=CC=CC=C21)NC3CCC(CC3)NC(=O)C4=...</td>\n",
       "    </tr>\n",
       "    <tr>\n",
       "      <th>2</th>\n",
       "      <td>MDLQASLLSTGPNASNISDGQDNFTLAGPPPRTRSVSYINIIMPSV...</td>\n",
       "      <td>CC1C2CN(CCC2CC3=C1C4=C(N3)C=CC(=C4)C(F)(F)F)CC...</td>\n",
       "    </tr>\n",
       "    <tr>\n",
       "      <th>3</th>\n",
       "      <td>MVNLRNAVHSFLVHLIGLLVWQCDISVSPVAAIVTDIFNTSDGGRF...</td>\n",
       "      <td>C1=CC2=C(C(=C1)O)C(=CN2)C3=CN=C(N=C3N)Br</td>\n",
       "    </tr>\n",
       "    <tr>\n",
       "      <th>4</th>\n",
       "      <td>MVNLRNAVHSFLVHLIGLLVWQCDISVSPVAAIVTDIFNTSDGGRF...</td>\n",
       "      <td>C1CN(CCN1CCCCN2C(=O)C3C4CC(C3C2=O)C=C4)C5=C6C=...</td>\n",
       "    </tr>\n",
       "    <tr>\n",
       "      <th>...</th>\n",
       "      <td>...</td>\n",
       "      <td>...</td>\n",
       "    </tr>\n",
       "    <tr>\n",
       "      <th>8203</th>\n",
       "      <td>ATKAARKSAPATGGVKKPHRYRPGGK</td>\n",
       "      <td>CCN(C1CCC(CC1)N(C)C)C2=CC(=CC(=C2C)C(=O)NCC3C(...</td>\n",
       "    </tr>\n",
       "    <tr>\n",
       "      <th>8204</th>\n",
       "      <td>MNFLLSWVHWSLALLLYLHHAKWSQAAPMAEGGGQNHHEVVKFMDV...</td>\n",
       "      <td>C1CCN(C1)CCCCNC(=O)NC2=C(C(=NS2)OCC3=C(C=C(C=C...</td>\n",
       "    </tr>\n",
       "    <tr>\n",
       "      <th>8205</th>\n",
       "      <td>HLLDFRKMIRYTTGKEATTSYGAYGCHCGVGGRGAPKAKFLSYKFS...</td>\n",
       "      <td>CCCCCCCCCCCC(=O)C1=C(C(=C(C(=C1O)C2CC(OC3=C2C=...</td>\n",
       "    </tr>\n",
       "    <tr>\n",
       "      <th>8206</th>\n",
       "      <td>MSGPTMDHQEPYSVQATAAIASAITFLILFTIFGNALVILAVLTSR...</td>\n",
       "      <td>C1CN(CCN1CC2=CC3=C(C=C2)NC(=O)CO3)C4=CC=C(C=C4)Cl</td>\n",
       "    </tr>\n",
       "    <tr>\n",
       "      <th>8207</th>\n",
       "      <td>MWNMLIVAMCLALLGCLQAQELQGHVSIILLGATGDLAKKYLWQGL...</td>\n",
       "      <td>CNCC1=CC=C(C=C1)C2=C3CCNC(=O)C4=C3C(=CC(=C4)F)N2</td>\n",
       "    </tr>\n",
       "  </tbody>\n",
       "</table>\n",
       "<p>8208 rows × 2 columns</p>\n",
       "</div>"
      ],
      "text/plain": [
       "                                                  T_seq  \\\n",
       "0     MSVGAMKKGVGRAVGLGGGSGCQATEEDPLPNCGACAPGQGGRRWR...   \n",
       "1     MSVGAMKKGVGRAVGLGGGSGCQATEEDPLPNCGACAPGQGGRRWR...   \n",
       "2     MDLQASLLSTGPNASNISDGQDNFTLAGPPPRTRSVSYINIIMPSV...   \n",
       "3     MVNLRNAVHSFLVHLIGLLVWQCDISVSPVAAIVTDIFNTSDGGRF...   \n",
       "4     MVNLRNAVHSFLVHLIGLLVWQCDISVSPVAAIVTDIFNTSDGGRF...   \n",
       "...                                                 ...   \n",
       "8203                         ATKAARKSAPATGGVKKPHRYRPGGK   \n",
       "8204  MNFLLSWVHWSLALLLYLHHAKWSQAAPMAEGGGQNHHEVVKFMDV...   \n",
       "8205  HLLDFRKMIRYTTGKEATTSYGAYGCHCGVGGRGAPKAKFLSYKFS...   \n",
       "8206  MSGPTMDHQEPYSVQATAAIASAITFLILFTIFGNALVILAVLTSR...   \n",
       "8207  MWNMLIVAMCLALLGCLQAQELQGHVSIILLGATGDLAKKYLWQGL...   \n",
       "\n",
       "                                                  C_anc  \n",
       "0     CCCNCC1=CC=C(C=C1)CCN2C=CC(=CC2=O)OCC3=CC=C(C=...  \n",
       "1     CN(C)C1=NC(=NC2=CC=CC=C21)NC3CCC(CC3)NC(=O)C4=...  \n",
       "2     CC1C2CN(CCC2CC3=C1C4=C(N3)C=CC(=C4)C(F)(F)F)CC...  \n",
       "3              C1=CC2=C(C(=C1)O)C(=CN2)C3=CN=C(N=C3N)Br  \n",
       "4     C1CN(CCN1CCCCN2C(=O)C3C4CC(C3C2=O)C=C4)C5=C6C=...  \n",
       "...                                                 ...  \n",
       "8203  CCN(C1CCC(CC1)N(C)C)C2=CC(=CC(=C2C)C(=O)NCC3C(...  \n",
       "8204  C1CCN(C1)CCCCNC(=O)NC2=C(C(=NS2)OCC3=C(C=C(C=C...  \n",
       "8205  CCCCCCCCCCCC(=O)C1=C(C(=C(C(=C1O)C2CC(OC3=C2C=...  \n",
       "8206  C1CN(CCN1CC2=CC3=C(C=C2)NC(=O)CO3)C4=CC=C(C=C4)Cl  \n",
       "8207   CNCC1=CC=C(C=C1)C2=C3CCNC(=O)C4=C3C(=CC(=C4)F)N2  \n",
       "\n",
       "[8208 rows x 2 columns]"
      ]
     },
     "execution_count": 5,
     "metadata": {},
     "output_type": "execute_result"
    }
   ],
   "source": [
    "test_set"
   ]
  },
  {
   "cell_type": "code",
   "execution_count": 6,
   "metadata": {
    "ExecuteTime": {
     "end_time": "2024-05-23T07:32:23.704079Z",
     "start_time": "2024-05-23T07:32:23.607722Z"
    }
   },
   "outputs": [],
   "source": [
    "test_set_per_T = test_set.set_index(\"T_seq\")[\"C_anc\"]"
   ]
  },
  {
   "cell_type": "markdown",
   "metadata": {},
   "source": [
    "# Beam evaluation"
   ]
  },
  {
   "cell_type": "markdown",
   "metadata": {},
   "source": [
    "## Extract CT_adj, CTCT_adj for test set"
   ]
  },
  {
   "cell_type": "code",
   "execution_count": 8,
   "metadata": {
    "ExecuteTime": {
     "end_time": "2024-05-23T07:32:56.633545Z",
     "start_time": "2024-05-23T07:32:55.395938Z"
    }
   },
   "outputs": [],
   "source": [
    "sys.path.append(os.path.join(root, \"src\"))\n",
    "from utils import save_hdf5, load_hdf5"
   ]
  },
  {
   "cell_type": "code",
   "execution_count": null,
   "metadata": {
    "ExecuteTime": {
     "end_time": "2024-05-22T09:10:07.223196Z",
     "start_time": "2024-05-22T09:10:06.934967Z"
    }
   },
   "outputs": [],
   "source": [
    "## Load adjacency matrices\n",
    "CT_adj = load_hdf5(os.path.join(data_path, \"adjacency_matrices\", \"sps_CT_adj.h5\")).toarray()\n",
    "CTC_adj = load_hdf5(os.path.join(data_path, \"adjacency_matrices\", \"sps_CTC_adj.h5\")).toarray()\n",
    "CTCT_adj = load_hdf5(os.path.join(data_path, \"adjacency_matrices\", \"sps_CTCT_adj.h5\")).toarray()\n",
    "\n",
    "## Make T-C, T-C-T-C adjacency matrix; Leave 2-hop elements only\n",
    "only_CTCT = (CTCT_adj.astype(np.int8) - CT_adj.astype(np.int8)).astype(bool)\n",
    "TC_adj = CT_adj.T\n",
    "TCTC_adj = CTCT_adj.T\n",
    "only_TCTC = only_CTCT.T"
   ]
  },
  {
   "cell_type": "code",
   "execution_count": 9,
   "metadata": {
    "ExecuteTime": {
     "end_time": "2024-05-23T07:33:00.892088Z",
     "start_time": "2024-05-23T07:33:00.619589Z"
    }
   },
   "outputs": [],
   "source": [
    "## Load dictionaries\n",
    "with open(os.path.join(data_path, \"dictionaries\", \"i_to_C_cid.pickle\"), \"rb\") as f:\n",
    "    i_to_C_cid = pickle.load(f)\n",
    "with open(os.path.join(data_path, \"dictionaries\", \"i_to_T_id.pickle\"), \"rb\") as f:\n",
    "    i_to_T_id = pickle.load(f)\n",
    "with open(os.path.join(data_path, \"dictionaries\", \"i_to_C_seq.pickle\"), \"rb\") as f:\n",
    "    i_to_C_seq = pickle.load(f)\n",
    "with open(os.path.join(data_path, \"dictionaries\", \"i_to_T_seq.pickle\"), \"rb\") as f:\n",
    "    i_to_T_seq = pickle.load(f)\n",
    "with open(os.path.join(data_path, \"dictionaries\", \"C_seq_to_i.pickle\"), \"rb\") as f:\n",
    "    C_seq_to_i = pickle.load(f)\n",
    "with open(os.path.join(data_path, \"dictionaries\", \"T_seq_to_i.pickle\"), \"rb\") as f:\n",
    "    T_seq_to_i = pickle.load(f)"
   ]
  },
  {
   "cell_type": "markdown",
   "metadata": {},
   "source": [
    "## Select beams using IC50"
   ]
  },
  {
   "cell_type": "code",
   "execution_count": 10,
   "metadata": {
    "ExecuteTime": {
     "end_time": "2024-05-23T07:33:03.678838Z",
     "start_time": "2024-05-23T07:33:01.881724Z"
    }
   },
   "outputs": [],
   "source": [
    "data = pd.read_csv(os.path.join(data_path, \"preprocessed\", \"data_T_truncated_20240520.csv\"))\n",
    "data_to_index = pd.concat([data[\"T_seq\"].apply(lambda x: T_seq_to_i[x]), data[\"C_seq_can_smiles\"].apply(lambda x: C_seq_to_i[x]), data[\"IC50\"]], axis=1).rename(columns={\"T_seq\": \"T_index\", \"C_seq_can_smiles\": \"C_index\"})\n",
    "test_set_to_index = pd.concat([test_set[\"T_seq\"].apply(lambda x: T_seq_to_i[x]), test_set[\"C_anc\"].apply(lambda x: C_seq_to_i[x])], axis=1).rename(columns={\"T_seq\": \"T_index\", \"C_anc\": \"C_index\"})\n",
    "\n",
    "data_pairs = data_to_index.apply(lambda x: str(x[\"T_index\"].astype(int))+\"--\"+str(x[\"C_index\"].astype(int)), axis=1).values\n",
    "test_pairs = test_set_to_index.apply(lambda x: str(x[\"T_index\"])+\"--\"+str(x[\"C_index\"]), axis=1).values\n",
    "# ic50_pairs = data_to_index.loc[np.isin(data_pairs, test_pairs)]"
   ]
  },
  {
   "cell_type": "code",
   "execution_count": 11,
   "metadata": {
    "ExecuteTime": {
     "end_time": "2024-05-23T07:33:06.645296Z",
     "start_time": "2024-05-23T07:33:06.637705Z"
    }
   },
   "outputs": [],
   "source": [
    "def find_pair(src, by=\"T\"):\n",
    "#     if by==\"T\": return ic50_pairs[ic50_pairs[\"T_index\"]==src]\n",
    "#     elif by==\"C\": return ic50_pairs[ic50_pairs[\"C_index\"]==src]\n",
    "    if by==\"T\": return data_to_index[data_to_index[\"T_index\"]==src]\n",
    "    elif by==\"C\": return data_to_index[data_to_index[\"C_index\"]==src]"
   ]
  },
  {
   "cell_type": "code",
   "execution_count": 12,
   "metadata": {
    "ExecuteTime": {
     "end_time": "2024-05-23T07:33:07.238806Z",
     "start_time": "2024-05-23T07:33:07.222676Z"
    }
   },
   "outputs": [],
   "source": [
    "def extract_gtruth(T_input, beam_size=3):\n",
    "    if T_input is None:\n",
    "        return (np.array([], dtype=np.int32), np.array([], dtype=np.int32))\n",
    "    C_anc_candi = find_pair(T_input, \"T\").sort_values(\"IC50\", ascending=False)[\"C_index\"].values # 입력 T_input(T1)에 대해, IC50 Top K(beam_size)만큼 C_anc(C1) 추출\n",
    "\n",
    "    C_ancs = np.array([], dtype=np.int32)\n",
    "    C_poss = np.array([], dtype=np.int32)\n",
    "    C_ancs_bck = np.array([], dtype=np.int32)\n",
    "\n",
    "    for C_anc in C_anc_candi:\n",
    "        binding_pairs = find_pair(C_anc, \"C\")\n",
    "        assert T_input in binding_pairs[\"T_index\"].values\n",
    "        T_repurs = binding_pairs[binding_pairs[\"T_index\"]!=T_input].sort_values(\"T_index\", ascending=False)[\"T_index\"].values\n",
    "\n",
    "        if len(T_repurs) < 1: # repurposed proteins 없으면 C_anc 까지만 체크\n",
    "            C_ancs_bck = np.concatenate([C_ancs_bck, [C_anc]])\n",
    "            continue\n",
    "\n",
    "        C_pos_candi_bck = []\n",
    "        C_pos = None\n",
    "        for T_repur in T_repurs: # 각 C_anc에 대해, IC50 Top 1 T_repur(T2) 선정   \n",
    "            C_pos_candi = find_pair(T_repur, \"T\").sort_values(\"IC50\", ascending=False)[\"C_index\"].values # T_repur(T2)에 대해, IC50 Top K(beam_size)만큼 C_pos(C2) 추출\n",
    "            if len(C_pos_candi) < beam_size:\n",
    "                if len(C_pos_candi_bck) < len(C_pos_candi): C_pos_candi_bck = C_pos_candi\n",
    "                continue\n",
    "            else:\n",
    "                C_pos = C_pos_candi[:beam_size]\n",
    "                break\n",
    "        \n",
    "        if C_pos is None: C_pos = C_pos_candi_bck\n",
    "\n",
    "        C_ancs = np.concatenate([C_ancs, [C_anc]])\n",
    "        C_poss = np.concatenate([C_poss, C_pos])\n",
    "\n",
    "        if len(C_ancs) >= beam_size: break\n",
    "\n",
    "    if len(C_ancs) < beam_size: C_ancs = np.concatenate([C_ancs, C_ancs_bck[:beam_size - len(C_ancs)]])\n",
    "        \n",
    "    C_ancs_seq = [i_to_C_seq[c] for c in C_ancs]\n",
    "    C_poss_seq = [i_to_C_seq[c] for c in C_poss]\n",
    "\n",
    "    return [C_ancs_seq, C_poss_seq]"
   ]
  },
  {
   "cell_type": "markdown",
   "metadata": {},
   "source": [
    "## Evaluation metric"
   ]
  },
  {
   "cell_type": "markdown",
   "metadata": {},
   "source": [
    "### Sequence generation"
   ]
  },
  {
   "cell_type": "code",
   "execution_count": 13,
   "metadata": {
    "ExecuteTime": {
     "end_time": "2024-05-23T07:33:21.275170Z",
     "start_time": "2024-05-23T07:33:08.575829Z"
    }
   },
   "outputs": [],
   "source": [
    "from nltk.translate import bleu, gleu\n",
    "from rouge_score.rouge_scorer import RougeScorer"
   ]
  },
  {
   "cell_type": "code",
   "execution_count": 14,
   "metadata": {
    "ExecuteTime": {
     "end_time": "2024-05-23T07:33:21.285092Z",
     "start_time": "2024-05-23T07:33:21.279416Z"
    }
   },
   "outputs": [],
   "source": [
    "def seq_to_index(tseq):\n",
    "    if tseq in list(T_seq_to_i.keys()):\n",
    "        return T_seq_to_i[tseq]\n",
    "    else:\n",
    "        return None"
   ]
  },
  {
   "cell_type": "code",
   "execution_count": 15,
   "metadata": {
    "ExecuteTime": {
     "end_time": "2024-05-23T07:33:21.472456Z",
     "start_time": "2024-05-23T07:33:21.287672Z"
    }
   },
   "outputs": [],
   "source": [
    "def cal_gen_metric(references, candidate, metric=\"bleu\", ngram=4, smoothing_function=None):\n",
    "    if metric==\"bleu\":\n",
    "        bleu_weights = [tuple(np.ones(ngram)/ngram)]\n",
    "        return np.mean([bleu([ref], candidate, weights=bleu_weights, smoothing_function=smoothing_function) for ref in references])\n",
    "    elif metric==\"gleu\":\n",
    "        min_ngram = 1\n",
    "        max_ngram = ngram\n",
    "        return np.mean([gleu([ref], candidate, min_len=min_ngram, max_len=max_ngram) for ref in references])\n",
    "    elif metric==\"rouge\":\n",
    "        rouge_scorer = RougeScorer([f'rouge{ngram}'], use_stemmer=True)\n",
    "        return np.mean([rouge_scorer.score(ref, candidate)[f'rouge{ngram}'].fmeasure for ref in references])\n",
    "    else:\n",
    "        print(\"Not implemeneted\")"
   ]
  },
  {
   "cell_type": "code",
   "execution_count": 16,
   "metadata": {
    "ExecuteTime": {
     "end_time": "2024-05-23T07:33:21.620173Z",
     "start_time": "2024-05-23T07:33:21.476814Z"
    }
   },
   "outputs": [],
   "source": [
    "from nltk.translate.bleu_score import SmoothingFunction\n",
    "chencherry = SmoothingFunction()"
   ]
  },
  {
   "cell_type": "code",
   "execution_count": null,
   "metadata": {
    "ExecuteTime": {
     "end_time": "2024-05-23T07:26:06.684511Z",
     "start_time": "2024-05-23T07:26:06.576675Z"
    }
   },
   "outputs": [],
   "source": [
    "final_results.to_csv(os.path.join(result_path, \"eval_results_20240522\", f\"Total_eval_result.csv\"))"
   ]
  },
  {
   "cell_type": "code",
   "execution_count": null,
   "metadata": {
    "ExecuteTime": {
     "end_time": "2024-05-23T07:30:29.418179Z",
     "start_time": "2024-05-23T07:30:29.389327Z"
    },
    "scrolled": false
   },
   "outputs": [],
   "source": [
    "final_results"
   ]
  },
  {
   "cell_type": "markdown",
   "metadata": {},
   "source": [
    "### Drug-likeness"
   ]
  },
  {
   "cell_type": "code",
   "execution_count": 21,
   "metadata": {
    "ExecuteTime": {
     "end_time": "2024-05-23T07:34:33.506938Z",
     "start_time": "2024-05-23T07:34:33.492339Z"
    }
   },
   "outputs": [],
   "source": [
    "from copy import copy\n",
    "from rdkit.Chem import AllChem as Chem\n",
    "from rdkit.Chem import QED\n",
    "from rdkit.Chem.Descriptors import MolWt\n",
    "from rdkit.Chem import RDConfig\n",
    "sys.path.append(os.path.join(RDConfig.RDContribDir,'SA_Score'))\n",
    "from rdkit.Contrib.SA_Score import sascorer\n",
    "from rdkit.Contrib.NP_Score import npscorer"
   ]
  },
  {
   "cell_type": "code",
   "execution_count": 94,
   "metadata": {
    "ExecuteTime": {
     "end_time": "2024-05-23T07:58:32.251095Z",
     "start_time": "2024-05-23T07:58:32.022325Z"
    }
   },
   "outputs": [
    {
     "name": "stderr",
     "output_type": "stream",
     "text": [
      "reading NP model ...\n",
      "model in\n"
     ]
    }
   ],
   "source": [
    "NP_fscore = npscorer.readNPModel()\n",
    "def cal_drug_metric(candidate, metric=\"QED\"):\n",
    "    m = Chem.MolFromSmiles(candidate)\n",
    "    if m is None: return np.nan\n",
    "    if metric==\"QED\":\n",
    "        return QED.qed(m)\n",
    "    elif metric==\"SA\":\n",
    "        return sascorer.calculateScore(m)\n",
    "    elif metric==\"NP\":\n",
    "        return npscorer.scoreMol(m, NP_fscore)\n",
    "    else:\n",
    "        print(\"Not implemented\")"
   ]
  },
  {
   "cell_type": "code",
   "execution_count": 85,
   "metadata": {
    "ExecuteTime": {
     "end_time": "2024-05-23T07:45:50.991650Z",
     "start_time": "2024-05-23T07:45:50.983155Z"
    }
   },
   "outputs": [
    {
     "data": {
      "text/plain": [
       "'sum+mlp+ifft_L2'"
      ]
     },
     "execution_count": 85,
     "metadata": {},
     "output_type": "execute_result"
    }
   ],
   "source": [
    "model_names[5]"
   ]
  },
  {
   "cell_type": "code",
   "execution_count": 84,
   "metadata": {
    "ExecuteTime": {
     "end_time": "2024-05-23T07:45:49.191368Z",
     "start_time": "2024-05-23T07:45:49.173350Z"
    }
   },
   "outputs": [],
   "source": [
    "res = pd.read_csv(os.path.join(result_path, \"gen_results_20240522\", f\"{model_names[5]}_gen_result.csv\"))"
   ]
  },
  {
   "cell_type": "code",
   "execution_count": 68,
   "metadata": {
    "ExecuteTime": {
     "end_time": "2024-05-23T07:44:23.033142Z",
     "start_time": "2024-05-23T07:44:23.026943Z"
    }
   },
   "outputs": [],
   "source": [
    "m = Chem.MolFromSmiles(sample)"
   ]
  },
  {
   "cell_type": "code",
   "execution_count": 47,
   "metadata": {
    "ExecuteTime": {
     "end_time": "2024-05-23T07:38:43.063871Z",
     "start_time": "2024-05-23T07:38:43.050032Z"
    }
   },
   "outputs": [],
   "source": [
    "sample_sa = sascorer.calculateScore(m)\n",
    "sample_np = npscorer.scoreMol(m, np_fscore)"
   ]
  },
  {
   "cell_type": "code",
   "execution_count": 39,
   "metadata": {
    "ExecuteTime": {
     "end_time": "2024-05-23T07:37:07.982883Z",
     "start_time": "2024-05-23T07:37:07.973511Z"
    }
   },
   "outputs": [
    {
     "data": {
      "text/plain": [
       "2.1221160204223253"
      ]
     },
     "execution_count": 39,
     "metadata": {},
     "output_type": "execute_result"
    }
   ],
   "source": [
    "sample_sa"
   ]
  },
  {
   "cell_type": "code",
   "execution_count": 48,
   "metadata": {
    "ExecuteTime": {
     "end_time": "2024-05-23T07:38:43.730172Z",
     "start_time": "2024-05-23T07:38:43.720997Z"
    }
   },
   "outputs": [
    {
     "data": {
      "text/plain": [
       "-1.1342017834469031"
      ]
     },
     "execution_count": 48,
     "metadata": {},
     "output_type": "execute_result"
    }
   ],
   "source": [
    "sample_np"
   ]
  },
  {
   "cell_type": "code",
   "execution_count": 51,
   "metadata": {
    "ExecuteTime": {
     "end_time": "2024-05-23T07:39:52.082694Z",
     "start_time": "2024-05-23T07:39:52.072226Z"
    }
   },
   "outputs": [],
   "source": [
    "sample_qed = QED.qed(m)"
   ]
  },
  {
   "cell_type": "code",
   "execution_count": 52,
   "metadata": {
    "ExecuteTime": {
     "end_time": "2024-05-23T07:39:54.706160Z",
     "start_time": "2024-05-23T07:39:54.695954Z"
    }
   },
   "outputs": [
    {
     "data": {
      "text/plain": [
       "0.5213178889915726"
      ]
     },
     "execution_count": 52,
     "metadata": {},
     "output_type": "execute_result"
    }
   ],
   "source": [
    "sample_qed"
   ]
  },
  {
   "cell_type": "markdown",
   "metadata": {},
   "source": [
    "## Evaluation results"
   ]
  },
  {
   "cell_type": "code",
   "execution_count": 92,
   "metadata": {
    "ExecuteTime": {
     "end_time": "2024-05-23T07:54:03.430233Z",
     "start_time": "2024-05-23T07:54:03.415501Z"
    }
   },
   "outputs": [],
   "source": [
    "model_names = [\n",
    "    \"sum\",\n",
    "    \"sum+fft\",\n",
    "    \"sum+mlp\",\n",
    "    \"sum+fft+mlp\",\n",
    "    \"sum+mlp+ifft_L1\",\n",
    "    \"sum+mlp+ifft_L2\",\n",
    "    \"sum+mlp+ifft_Fro\",\n",
    "    \"sum+fft+lpf+ifft_co=2\",\n",
    "    \"sum+fft+lpf+ifft_co=4\",\n",
    "    \"sum+fft+lpf+ifft_co=6\",\n",
    "    \"sum+fft+lpf+ifft_co=8\",\n",
    "]\n",
    "\n",
    "ngram1, ngram2 = 1, 4\n",
    "eval_cols = [f'anc/BLUE/{ngram1}-gram', f'pos/BLUE/{ngram1}-gram', \n",
    "             f'anc/BLUE/{ngram2}-gram', f'pos/BLUE/{ngram2}-gram', \n",
    "             f'anc/GLUE/{ngram1}-gram', f'pos/GLUE/{ngram1}-gram', \n",
    "             f'anc/GLUE/{ngram2}-gram', f'pos/GLUE/{ngram2}-gram', \n",
    "             f'anc/ROUGE/{ngram1}-gram', f'pos/ROUGE/{ngram1}-gram', \n",
    "             f'anc/ROUGE/{ngram2}-gram', f'pos/ROUGE/{ngram2}-gram']\n",
    "\n",
    "final_results = pd.DataFrame(index=model_names, columns=eval_cols)"
   ]
  },
  {
   "cell_type": "code",
   "execution_count": null,
   "metadata": {
    "ExecuteTime": {
     "end_time": "2024-05-23T07:30:25.623115Z",
     "start_time": "2024-05-23T07:28:21.995144Z"
    },
    "scrolled": false
   },
   "outputs": [],
   "source": [
    "for model_name in model_names:\n",
    "    print(f\"Evaluation for {model_name}\")\n",
    "    res = pd.read_csv(os.path.join(result_path, \"gen_results_20240522\", f\"{model_name}_gen_result.csv\"))\n",
    "    res = res[res[\"gen_compound\"].notna()]\n",
    "\n",
    "    res_to_compare = pd.concat([res, res.apply(lambda x: extract_gtruth(seq_to_index(x[\"tgt_protein\"].replace(\"\\n\",\"\"))), axis=1, result_type=\"expand\").rename(columns={0: \"C_ancs\", 1: \"C_poss\"})], axis=1)\n",
    "\n",
    "    res_eval_ngram = res_to_compare.apply(lambda x: \n",
    "                                           [cal_gen_metric(x[\"C_ancs\"], x[\"gen_compound\"], metric=\"bleu\", ngram=ngram1, smoothing_function=chencherry.method1), \n",
    "                                            cal_gen_metric(x[\"C_poss\"], x[\"gen_compound\"], metric=\"bleu\", ngram=ngram1, smoothing_function=chencherry.method1), \n",
    "                                            cal_gen_metric(x[\"C_ancs\"], x[\"gen_compound\"], metric=\"bleu\", ngram=ngram2, smoothing_function=chencherry.method1), \n",
    "                                            cal_gen_metric(x[\"C_poss\"], x[\"gen_compound\"], metric=\"bleu\", ngram=ngram2, smoothing_function=chencherry.method1), \n",
    "                                            cal_gen_metric(x[\"C_ancs\"], x[\"gen_compound\"], metric=\"gleu\", ngram=ngram1), \n",
    "                                            cal_gen_metric(x[\"C_poss\"], x[\"gen_compound\"], metric=\"gleu\", ngram=ngram1), \n",
    "                                            cal_gen_metric(x[\"C_ancs\"], x[\"gen_compound\"], metric=\"gleu\", ngram=ngram2), \n",
    "                                            cal_gen_metric(x[\"C_poss\"], x[\"gen_compound\"], metric=\"gleu\", ngram=ngram2), \n",
    "                                            cal_gen_metric(x[\"C_ancs\"], x[\"gen_compound\"], metric=\"rouge\", ngram=ngram1), \n",
    "                                            cal_gen_metric(x[\"C_poss\"], x[\"gen_compound\"], metric=\"rouge\", ngram=ngram1),\n",
    "                                            cal_gen_metric(x[\"C_ancs\"], x[\"gen_compound\"], metric=\"rouge\", ngram=ngram2), \n",
    "                                            cal_gen_metric(x[\"C_poss\"], x[\"gen_compound\"], metric=\"rouge\", ngram=ngram2)], axis=1, result_type=\"expand\").rename(\n",
    "                                                columns={0: f\"anc/BLUE/{ngram1}-gram\", 1: f\"pos/BLUE/{ngram1}-gram\", \n",
    "                                                         2: f\"anc/BLUE/{ngram2}-gram\", 3: f\"pos/BLUE/{ngram2}-gram\", \n",
    "                                                         4: f\"anc/GLUE/{ngram1}-gram\", 5: f\"pos/GLUE/{ngram1}-gram\",\n",
    "                                                         6: f\"anc/GLUE/{ngram2}-gram\", 7: f\"pos/GLUE/{ngram2}-gram\",\n",
    "                                                         8: f\"anc/ROUGE/{ngram1}-gram\", 9: f\"pos/ROUGE/{ngram1}-gram\",\n",
    "                                                         10: f\"anc/ROUGE/{ngram2}-gram\", 11: f\"pos/ROUGE/{ngram2}-gram\"})\n",
    "\n",
    "    res_eval = pd.concat([res_to_compare, res_eval_ngram], axis=1)\n",
    "\n",
    "    res_eval.to_csv(os.path.join(result_path, \"eval_results_20240522\", f\"{model_name}_eval_result.csv\"))\n",
    "\n",
    "    final_results.loc[model_name,:] = res_eval[eval_cols].mean(axis=0)"
   ]
  },
  {
   "cell_type": "code",
   "execution_count": null,
   "metadata": {},
   "outputs": [],
   "source": []
  },
  {
   "cell_type": "code",
   "execution_count": null,
   "metadata": {},
   "outputs": [],
   "source": []
  },
  {
   "cell_type": "code",
   "execution_count": null,
   "metadata": {},
   "outputs": [],
   "source": []
  },
  {
   "cell_type": "code",
   "execution_count": null,
   "metadata": {},
   "outputs": [],
   "source": []
  },
  {
   "cell_type": "code",
   "execution_count": null,
   "metadata": {},
   "outputs": [],
   "source": []
  },
  {
   "cell_type": "code",
   "execution_count": null,
   "metadata": {},
   "outputs": [],
   "source": []
  },
  {
   "cell_type": "code",
   "execution_count": null,
   "metadata": {},
   "outputs": [],
   "source": []
  },
  {
   "cell_type": "code",
   "execution_count": null,
   "metadata": {},
   "outputs": [],
   "source": []
  },
  {
   "cell_type": "code",
   "execution_count": null,
   "metadata": {},
   "outputs": [],
   "source": []
  }
 ],
 "metadata": {
  "kernelspec": {
   "display_name": "DL",
   "language": "python",
   "name": "dl"
  },
  "language_info": {
   "codemirror_mode": {
    "name": "ipython",
    "version": 3
   },
   "file_extension": ".py",
   "mimetype": "text/x-python",
   "name": "python",
   "nbconvert_exporter": "python",
   "pygments_lexer": "ipython3",
   "version": "3.9.7"
  },
  "toc": {
   "base_numbering": 1,
   "nav_menu": {},
   "number_sections": true,
   "sideBar": true,
   "skip_h1_title": false,
   "title_cell": "Table of Contents",
   "title_sidebar": "Contents",
   "toc_cell": false,
   "toc_position": {},
   "toc_section_display": true,
   "toc_window_display": false
  }
 },
 "nbformat": 4,
 "nbformat_minor": 2
}
