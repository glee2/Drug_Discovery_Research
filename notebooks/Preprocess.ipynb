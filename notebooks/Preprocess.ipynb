{
 "cells": [
  {
   "cell_type": "code",
   "execution_count": 65,
   "metadata": {
    "ExecuteTime": {
     "end_time": "2024-05-20T05:35:42.225116Z",
     "start_time": "2024-05-20T05:35:42.218639Z"
    }
   },
   "outputs": [],
   "source": [
    "###\n",
    "# File name: Preprocess.ipynb (jupyter notebook)\n",
    "# Description: load raw data and preprocess\n",
    "# Created on: 2024-05-01\n",
    "# Modification History\n",
    "#   - 2024-05-20 (edited by Gyumin Lee): Integrating several preprocessing steps\n",
    "# Version: 0.1\n",
    "###"
   ]
  },
  {
   "cell_type": "markdown",
   "metadata": {},
   "source": [
    "## Load data"
   ]
  },
  {
   "cell_type": "code",
   "execution_count": 66,
   "metadata": {
    "ExecuteTime": {
     "end_time": "2024-05-20T05:36:21.262124Z",
     "start_time": "2024-05-20T05:36:10.239975Z"
    }
   },
   "outputs": [],
   "source": [
    "import pubchempy as pcp\n",
    "import requests\n",
    "import json\n",
    "import numpy as np\n",
    "import pandas as pd\n",
    "pd.set_option('display.max_rows',200,'display.max_columns',50)\n",
    "import csv\n",
    "import time\n",
    "import pickle\n",
    "import os\n",
    "import sys\n",
    "import pubchempy as pcp\n",
    "\n",
    "from tqdm import tqdm\n",
    "sys.path.append(os.path.join(RDConfig.RDContribDir,'SA_Score'))\n",
    "from sascorer import calculateScore\n",
    "from sklearn.model_selection import train_test_split\n",
    "from scipy import sparse as sps"
   ]
  },
  {
   "cell_type": "code",
   "execution_count": 67,
   "metadata": {
    "ExecuteTime": {
     "end_time": "2024-05-20T05:36:30.932081Z",
     "start_time": "2024-05-20T05:36:30.925951Z"
    }
   },
   "outputs": [],
   "source": [
    "root = \"/home2/glee/Drug_Discovery_Research\"\n",
    "data_path = os.path.join(root, \"data\")"
   ]
  },
  {
   "cell_type": "code",
   "execution_count": null,
   "metadata": {},
   "outputs": [],
   "source": [
    "# rawdata = pd.read_csv(os.path.join(data_path, \"preprocessed/golden_set_20240520.csv\"))"
   ]
  },
  {
   "cell_type": "code",
   "execution_count": 68,
   "metadata": {
    "ExecuteTime": {
     "end_time": "2024-05-20T05:37:20.010814Z",
     "start_time": "2024-05-20T05:37:19.998968Z"
    }
   },
   "outputs": [],
   "source": [
    "cols_required = [\"PubChem CID\", \"PubChem SID\", \"BindingDB Ligand Name\", \"Ligand SMILES\", \"Ligand InChI\", \"UniProt (SwissProt) Primary ID of Target Chain\", \"Target Name\", \"UniProt (SwissProt) Entry Name of Target Chain\", \"BindingDB Target Chain Sequence\", \"PubChem AID\", \"Ki (nM)\", \"Kd (nM)\", \"IC50 (nM)\", \"EC50 (nM)\"]\n",
    "dict_to_convert_colnames = {\"PubChem CID\": \"C_cid\",\n",
    "                            \"PubChem SID\": \"C_sid\",\n",
    "                            \"BindingDB Ligand Name\": \"C_name\",\n",
    "                            \"Ligand SMILES\": \"C_seq_lig_smiles\",\n",
    "                            \"Ligand InChI\": \"C_seq_inchi\",\n",
    "                            \"UniProt (SwissProt) Primary ID of Target Chain\": \"T_id\",\n",
    "                            \"Target Name\": \"T_name\",\n",
    "                            \"UniProt (SwissProt) Entry Name of Target Chain\": \"T_name_uniprot\",\n",
    "                            \"BindingDB Target Chain Sequence\": \"T_seq\",\n",
    "                            \"PubChem AID\": \"assay_id\",\n",
    "                            \"Ki (nM)\": \"Ki\",\n",
    "                            \"Kd (nM)\": \"Kd\",\n",
    "                            \"IC50 (nM)\": \"IC50\",\n",
    "                            \"EC50 (nM)\": \"EC50\"\n",
    "                           }"
   ]
  },
  {
   "cell_type": "code",
   "execution_count": 69,
   "metadata": {
    "ExecuteTime": {
     "end_time": "2024-05-20T05:38:44.604337Z",
     "start_time": "2024-05-20T05:37:20.867382Z"
    }
   },
   "outputs": [
    {
     "name": "stderr",
     "output_type": "stream",
     "text": [
      "/home2/glee/.conda/envs/drug2/lib/python3.6/site-packages/IPython/core/interactiveshell.py:3063: DtypeWarning: Columns (8,9,10,11,20) have mixed types.Specify dtype option on import or set low_memory=False.\n",
      "  interactivity=interactivity, compiler=compiler, result=result)\n"
     ]
    }
   ],
   "source": [
    "## Total binding affinity data released 2024-04\n",
    "nrows = None\n",
    "rawdata = pd.read_csv(os.path.join(data_path, \"BindingDB_All_202404.tsv\"), sep=\"\\t\", usecols=cols_required, error_bad_lines=False, nrows=nrows)[cols_required].rename(columns=dict_to_convert_colnames)"
   ]
  },
  {
   "cell_type": "markdown",
   "metadata": {},
   "source": [
    "## Basic preprocessing"
   ]
  },
  {
   "cell_type": "code",
   "execution_count": 349,
   "metadata": {
    "ExecuteTime": {
     "end_time": "2024-05-20T13:50:25.106474Z",
     "start_time": "2024-05-20T13:50:22.775241Z"
    },
    "scrolled": true
   },
   "outputs": [],
   "source": [
    "## Remove missing value\n",
    "data_notna = rawdata.loc[rawdata[(rawdata[\"C_cid\"].notna() & rawdata[\"T_id\"].notna() & rawdata[\"IC50\"].notna())].index]"
   ]
  },
  {
   "cell_type": "code",
   "execution_count": 350,
   "metadata": {
    "ExecuteTime": {
     "end_time": "2024-05-20T13:50:33.078177Z",
     "start_time": "2024-05-20T13:50:25.108912Z"
    }
   },
   "outputs": [],
   "source": [
    "## Convert dtypes\n",
    "data_notna.update(data_notna[\"IC50\"].apply(lambda x: x.replace(\">\",\"\").replace(\"<\",\"\") if ((\"<\" in str(x)) | (\">\" in str(x))) else x))\n",
    "data_notna[\"IC50\"] = data_notna[\"IC50\"].astype(np.float)\n",
    "data_notna[\"C_cid\"] = data_notna[\"C_cid\"].astype(np.float).astype(np.int).astype(np.str)\n",
    "## Convert protein sequence upper cases\n",
    "data_notna.update(data_notna[\"T_seq\"].apply(lambda x: x.upper()))\n",
    "\n",
    "data = data_notna"
   ]
  },
  {
   "cell_type": "code",
   "execution_count": 74,
   "metadata": {
    "ExecuteTime": {
     "end_time": "2024-05-20T05:47:35.262225Z",
     "start_time": "2024-05-20T05:47:35.256701Z"
    },
    "scrolled": true
   },
   "outputs": [],
   "source": [
    "## Collect Canonical and Isomeric SMILES from PubChem (*Done on 2024-05-10)\n",
    "# chunk_size = 1500\n",
    "# chunk_index = np.split(data_golden.index, np.arange(chunk_size, len(data_golden), chunk_size))\n",
    "# SMILES_cols = [\"C_seq_can_smiles\", \"C_seq_iso_smiles\"]\n",
    "# SMILES_container = pd.DataFrame([], columns=SMILES_cols)\n",
    "# for i in tqdm(chunk_index):\n",
    "#     success = False\n",
    "#     while success != True:\n",
    "#         try:\n",
    "#             compounds = pcp.get_compounds(list(data_golden.loc[chunk_index[i]][\"C_cid\"]), as_dataframe=True)\n",
    "#             success = True\n",
    "#         except Exception as e:\n",
    "#             print(\"ERROR occurred\",e,\"\\nTry again\")\n",
    "#     SMILES_container = pd.concat([SMILES_container, pd.DataFrame(compounds[[\"canonical_smiles\", \"isomeric_smiles\"]].values, columns=[\"C_seq_can_smiles\", \"C_seq_iso_smiles\"], index=chunk_index[i])], axis=0)"
   ]
  },
  {
   "cell_type": "code",
   "execution_count": 76,
   "metadata": {
    "ExecuteTime": {
     "end_time": "2024-05-20T05:49:09.913302Z",
     "start_time": "2024-05-20T05:49:09.908308Z"
    },
    "scrolled": true
   },
   "outputs": [],
   "source": [
    "## Add Canonical and Isomeric SMILES columns (*Done on 2024-05-10)\n",
    "# data_smiles_collected = pd.concat([data_notna, SMILES_container], axis=1) #[cols_arranged]\n",
    "# with open(os.path.join(data_path, \"golden_set_\"+datetime.datetime.today().strftime(\"%Y%m%d\")+\".pickle\"), \"wb\") as f:\n",
    "#     pickle.dump(data_smiles_collected, f)"
   ]
  },
  {
   "cell_type": "code",
   "execution_count": 105,
   "metadata": {
    "ExecuteTime": {
     "end_time": "2024-05-20T06:33:42.032667Z",
     "start_time": "2024-05-20T06:33:38.317207Z"
    }
   },
   "outputs": [],
   "source": [
    "## When start after collecting SMILES\n",
    "# data_smiles_collected = pd.read_csv(os.path.join(data_path, \"preprocessed\", \"golden_set_20240514.csv\"))\n",
    "data = data_smiles_collected"
   ]
  },
  {
   "cell_type": "code",
   "execution_count": 141,
   "metadata": {
    "ExecuteTime": {
     "end_time": "2024-05-20T06:50:04.539704Z",
     "start_time": "2024-05-20T06:50:04.513783Z"
    },
    "scrolled": true
   },
   "outputs": [
    {
     "data": {
      "text/html": [
       "<div>\n",
       "<style scoped>\n",
       "    .dataframe tbody tr th:only-of-type {\n",
       "        vertical-align: middle;\n",
       "    }\n",
       "\n",
       "    .dataframe tbody tr th {\n",
       "        vertical-align: top;\n",
       "    }\n",
       "\n",
       "    .dataframe thead th {\n",
       "        text-align: right;\n",
       "    }\n",
       "</style>\n",
       "<table border=\"1\" class=\"dataframe\">\n",
       "  <thead>\n",
       "    <tr style=\"text-align: right;\">\n",
       "      <th></th>\n",
       "      <th>C_seq_can_smiles</th>\n",
       "      <th>T_id</th>\n",
       "      <th>T_seq</th>\n",
       "      <th>IC50</th>\n",
       "    </tr>\n",
       "    <tr>\n",
       "      <th>C_cid</th>\n",
       "      <th></th>\n",
       "      <th></th>\n",
       "      <th></th>\n",
       "      <th></th>\n",
       "    </tr>\n",
       "  </thead>\n",
       "  <tbody>\n",
       "    <tr>\n",
       "      <th>1000</th>\n",
       "      <td>C1=CC=C(C=C1)C(CN)O</td>\n",
       "      <td>P03470</td>\n",
       "      <td>MNPNQKIITIGSICMVVGIISLILQIGNIISIWISHSIQTGNQNHT...</td>\n",
       "      <td>870000.0</td>\n",
       "    </tr>\n",
       "    <tr>\n",
       "      <th>10000015</th>\n",
       "      <td>CC(=O)NC1CCC2=CC3=C(C(=C2C4=CC=C(C(=O)C=C14)OC...</td>\n",
       "      <td>Q6B856</td>\n",
       "      <td>MREIVHIQAGQCGNQIGAKFWEVISDEHGIDPTGSYHGDSDLQLER...</td>\n",
       "      <td>2100.0</td>\n",
       "    </tr>\n",
       "    <tr>\n",
       "      <th>10000019</th>\n",
       "      <td>C1=CC=C(C=C1)C(CC(=O)O)NC(=O)CNC(=O)C2=CC(=CC=...</td>\n",
       "      <td>P53708</td>\n",
       "      <td>MSPGASRGPRGSQAPLIAPLCCAAAALGMLLWSPACQAFNLDVEKL...</td>\n",
       "      <td>383.0</td>\n",
       "    </tr>\n",
       "    <tr>\n",
       "      <th>10000019</th>\n",
       "      <td>C1=CC=C(C=C1)C(CC(=O)O)NC(=O)CNC(=O)C2=CC(=CC=...</td>\n",
       "      <td>P08648</td>\n",
       "      <td>MGSRTPESPLHAVQLRWGPRRRPPLLPLLLLLLPPPPRVGGFNLDA...</td>\n",
       "      <td>17.0</td>\n",
       "    </tr>\n",
       "    <tr>\n",
       "      <th>10000019</th>\n",
       "      <td>C1=CC=C(C=C1)C(CC(=O)O)NC(=O)CNC(=O)C2=CC(=CC=...</td>\n",
       "      <td>P05556</td>\n",
       "      <td>MNLQPIFWIGLISSVCCVFAQTDENRCLKANAKSCGECIQAGPNCG...</td>\n",
       "      <td>24.0</td>\n",
       "    </tr>\n",
       "    <tr>\n",
       "      <th>...</th>\n",
       "      <td>...</td>\n",
       "      <td>...</td>\n",
       "      <td>...</td>\n",
       "      <td>...</td>\n",
       "    </tr>\n",
       "    <tr>\n",
       "      <th>9999879</th>\n",
       "      <td>CC(C)C(C(=O)NO)N(CC1=CN=CC=C1)S(=O)(=O)C2=CC=C...</td>\n",
       "      <td>P08253</td>\n",
       "      <td>MEALMARGALTGPLRALCLLGCLLSHAAAAPSPIIKFPGDVAPKTD...</td>\n",
       "      <td>120.0</td>\n",
       "    </tr>\n",
       "    <tr>\n",
       "      <th>9999879</th>\n",
       "      <td>CC(C)C(C(=O)NO)N(CC1=CN=CC=C1)S(=O)(=O)C2=CC=C...</td>\n",
       "      <td>P14780</td>\n",
       "      <td>MSLWQPLVLVLLVLGCCFAAPRQRQSTLVLFPGDLRTNLTDRQLAE...</td>\n",
       "      <td>414.0</td>\n",
       "    </tr>\n",
       "    <tr>\n",
       "      <th>9999879</th>\n",
       "      <td>CC(C)C(C(=O)NO)N(CC1=CN=CC=C1)S(=O)(=O)C2=CC=C...</td>\n",
       "      <td>P22894</td>\n",
       "      <td>MFSLKTLPFLLLLHVQISKAFPVSSKEKNTKTVQDYLEKFYQLPSN...</td>\n",
       "      <td>228.0</td>\n",
       "    </tr>\n",
       "    <tr>\n",
       "      <th>9999994</th>\n",
       "      <td>C1CN(CCC1CCC(=O)C2=CC3=C(C=C2)NCC3)CC4=CC(=CC=...</td>\n",
       "      <td>P22303</td>\n",
       "      <td>MRPPQCLLHTPSLASPLLLLLLWLLGGGVGAEGREDAELLVTVRGG...</td>\n",
       "      <td>59.0</td>\n",
       "    </tr>\n",
       "    <tr>\n",
       "      <th>9999994</th>\n",
       "      <td>C1CN(CCC1CCC(=O)C2=CC3=C(C=C2)NCC3)CC4=CC(=CC=...</td>\n",
       "      <td>P37136</td>\n",
       "      <td>MRPPWYPLHTPSLASPLLFLLLSLLGGGARAEGREDPQLLVRVRGG...</td>\n",
       "      <td>59.0</td>\n",
       "    </tr>\n",
       "  </tbody>\n",
       "</table>\n",
       "<p>1780119 rows × 4 columns</p>\n",
       "</div>"
      ],
      "text/plain": [
       "                                           C_seq_can_smiles    T_id  \\\n",
       "C_cid                                                                 \n",
       "1000                                    C1=CC=C(C=C1)C(CN)O  P03470   \n",
       "10000015  CC(=O)NC1CCC2=CC3=C(C(=C2C4=CC=C(C(=O)C=C14)OC...  Q6B856   \n",
       "10000019  C1=CC=C(C=C1)C(CC(=O)O)NC(=O)CNC(=O)C2=CC(=CC=...  P53708   \n",
       "10000019  C1=CC=C(C=C1)C(CC(=O)O)NC(=O)CNC(=O)C2=CC(=CC=...  P08648   \n",
       "10000019  C1=CC=C(C=C1)C(CC(=O)O)NC(=O)CNC(=O)C2=CC(=CC=...  P05556   \n",
       "...                                                     ...     ...   \n",
       "9999879   CC(C)C(C(=O)NO)N(CC1=CN=CC=C1)S(=O)(=O)C2=CC=C...  P08253   \n",
       "9999879   CC(C)C(C(=O)NO)N(CC1=CN=CC=C1)S(=O)(=O)C2=CC=C...  P14780   \n",
       "9999879   CC(C)C(C(=O)NO)N(CC1=CN=CC=C1)S(=O)(=O)C2=CC=C...  P22894   \n",
       "9999994   C1CN(CCC1CCC(=O)C2=CC3=C(C=C2)NCC3)CC4=CC(=CC=...  P22303   \n",
       "9999994   C1CN(CCC1CCC(=O)C2=CC3=C(C=C2)NCC3)CC4=CC(=CC=...  P37136   \n",
       "\n",
       "                                                      T_seq      IC50  \n",
       "C_cid                                                                  \n",
       "1000      MNPNQKIITIGSICMVVGIISLILQIGNIISIWISHSIQTGNQNHT...  870000.0  \n",
       "10000015  MREIVHIQAGQCGNQIGAKFWEVISDEHGIDPTGSYHGDSDLQLER...    2100.0  \n",
       "10000019  MSPGASRGPRGSQAPLIAPLCCAAAALGMLLWSPACQAFNLDVEKL...     383.0  \n",
       "10000019  MGSRTPESPLHAVQLRWGPRRRPPLLPLLLLLLPPPPRVGGFNLDA...      17.0  \n",
       "10000019  MNLQPIFWIGLISSVCCVFAQTDENRCLKANAKSCGECIQAGPNCG...      24.0  \n",
       "...                                                     ...       ...  \n",
       "9999879   MEALMARGALTGPLRALCLLGCLLSHAAAAPSPIIKFPGDVAPKTD...     120.0  \n",
       "9999879   MSLWQPLVLVLLVLGCCFAAPRQRQSTLVLFPGDLRTNLTDRQLAE...     414.0  \n",
       "9999879   MFSLKTLPFLLLLHVQISKAFPVSSKEKNTKTVQDYLEKFYQLPSN...     228.0  \n",
       "9999994   MRPPQCLLHTPSLASPLLLLLLWLLGGGVGAEGREDAELLVTVRGG...      59.0  \n",
       "9999994   MRPPWYPLHTPSLASPLLFLLLSLLGGGARAEGREDPQLLVRVRGG...      59.0  \n",
       "\n",
       "[1780119 rows x 4 columns]"
      ]
     },
     "execution_count": 141,
     "metadata": {},
     "output_type": "execute_result"
    }
   ],
   "source": [
    "data_smiles_collected"
   ]
  },
  {
   "cell_type": "code",
   "execution_count": 142,
   "metadata": {
    "ExecuteTime": {
     "end_time": "2024-05-20T06:50:11.216057Z",
     "start_time": "2024-05-20T06:50:07.732784Z"
    },
    "scrolled": true
   },
   "outputs": [
    {
     "data": {
      "text/html": [
       "<div>\n",
       "<style scoped>\n",
       "    .dataframe tbody tr th:only-of-type {\n",
       "        vertical-align: middle;\n",
       "    }\n",
       "\n",
       "    .dataframe tbody tr th {\n",
       "        vertical-align: top;\n",
       "    }\n",
       "\n",
       "    .dataframe thead th {\n",
       "        text-align: right;\n",
       "    }\n",
       "</style>\n",
       "<table border=\"1\" class=\"dataframe\">\n",
       "  <thead>\n",
       "    <tr style=\"text-align: right;\">\n",
       "      <th></th>\n",
       "      <th>C_seq_can_smiles</th>\n",
       "      <th>T_id</th>\n",
       "      <th>T_seq</th>\n",
       "      <th>IC50</th>\n",
       "    </tr>\n",
       "    <tr>\n",
       "      <th>C_cid</th>\n",
       "      <th></th>\n",
       "      <th></th>\n",
       "      <th></th>\n",
       "      <th></th>\n",
       "    </tr>\n",
       "  </thead>\n",
       "  <tbody>\n",
       "    <tr>\n",
       "      <th>1000</th>\n",
       "      <td>C1=CC=C(C=C1)C(CN)O</td>\n",
       "      <td>P03470</td>\n",
       "      <td>MNPNQKIITIGSICMVVGIISLILQIGNIISIWISHSIQTGNQNHT...</td>\n",
       "      <td>870000.0</td>\n",
       "    </tr>\n",
       "    <tr>\n",
       "      <th>10000015</th>\n",
       "      <td>CC(=O)NC1CCC2=CC3=C(C(=C2C4=CC=C(C(=O)C=C14)OC...</td>\n",
       "      <td>Q6B856</td>\n",
       "      <td>MREIVHIQAGQCGNQIGAKFWEVISDEHGIDPTGSYHGDSDLQLER...</td>\n",
       "      <td>2100.0</td>\n",
       "    </tr>\n",
       "    <tr>\n",
       "      <th>10000019</th>\n",
       "      <td>C1=CC=C(C=C1)C(CC(=O)O)NC(=O)CNC(=O)C2=CC(=CC=...</td>\n",
       "      <td>P53708</td>\n",
       "      <td>MSPGASRGPRGSQAPLIAPLCCAAAALGMLLWSPACQAFNLDVEKL...</td>\n",
       "      <td>383.0</td>\n",
       "    </tr>\n",
       "    <tr>\n",
       "      <th>10000019</th>\n",
       "      <td>C1=CC=C(C=C1)C(CC(=O)O)NC(=O)CNC(=O)C2=CC(=CC=...</td>\n",
       "      <td>P08648</td>\n",
       "      <td>MGSRTPESPLHAVQLRWGPRRRPPLLPLLLLLLPPPPRVGGFNLDA...</td>\n",
       "      <td>17.0</td>\n",
       "    </tr>\n",
       "    <tr>\n",
       "      <th>10000019</th>\n",
       "      <td>C1=CC=C(C=C1)C(CC(=O)O)NC(=O)CNC(=O)C2=CC(=CC=...</td>\n",
       "      <td>P05556</td>\n",
       "      <td>MNLQPIFWIGLISSVCCVFAQTDENRCLKANAKSCGECIQAGPNCG...</td>\n",
       "      <td>24.0</td>\n",
       "    </tr>\n",
       "    <tr>\n",
       "      <th>...</th>\n",
       "      <td>...</td>\n",
       "      <td>...</td>\n",
       "      <td>...</td>\n",
       "      <td>...</td>\n",
       "    </tr>\n",
       "    <tr>\n",
       "      <th>9999879</th>\n",
       "      <td>CC(C)C(C(=O)NO)N(CC1=CN=CC=C1)S(=O)(=O)C2=CC=C...</td>\n",
       "      <td>P08253</td>\n",
       "      <td>MEALMARGALTGPLRALCLLGCLLSHAAAAPSPIIKFPGDVAPKTD...</td>\n",
       "      <td>120.0</td>\n",
       "    </tr>\n",
       "    <tr>\n",
       "      <th>9999879</th>\n",
       "      <td>CC(C)C(C(=O)NO)N(CC1=CN=CC=C1)S(=O)(=O)C2=CC=C...</td>\n",
       "      <td>P14780</td>\n",
       "      <td>MSLWQPLVLVLLVLGCCFAAPRQRQSTLVLFPGDLRTNLTDRQLAE...</td>\n",
       "      <td>414.0</td>\n",
       "    </tr>\n",
       "    <tr>\n",
       "      <th>9999879</th>\n",
       "      <td>CC(C)C(C(=O)NO)N(CC1=CN=CC=C1)S(=O)(=O)C2=CC=C...</td>\n",
       "      <td>P22894</td>\n",
       "      <td>MFSLKTLPFLLLLHVQISKAFPVSSKEKNTKTVQDYLEKFYQLPSN...</td>\n",
       "      <td>228.0</td>\n",
       "    </tr>\n",
       "    <tr>\n",
       "      <th>9999994</th>\n",
       "      <td>C1CN(CCC1CCC(=O)C2=CC3=C(C=C2)NCC3)CC4=CC(=CC=...</td>\n",
       "      <td>P22303</td>\n",
       "      <td>MRPPQCLLHTPSLASPLLLLLLWLLGGGVGAEGREDAELLVTVRGG...</td>\n",
       "      <td>59.0</td>\n",
       "    </tr>\n",
       "    <tr>\n",
       "      <th>9999994</th>\n",
       "      <td>C1CN(CCC1CCC(=O)C2=CC3=C(C=C2)NCC3)CC4=CC(=CC=...</td>\n",
       "      <td>P37136</td>\n",
       "      <td>MRPPWYPLHTPSLASPLLFLLLSLLGGGARAEGREDPQLLVRVRGG...</td>\n",
       "      <td>59.0</td>\n",
       "    </tr>\n",
       "  </tbody>\n",
       "</table>\n",
       "<p>1309298 rows × 4 columns</p>\n",
       "</div>"
      ],
      "text/plain": [
       "                                           C_seq_can_smiles    T_id  \\\n",
       "C_cid                                                                 \n",
       "1000                                    C1=CC=C(C=C1)C(CN)O  P03470   \n",
       "10000015  CC(=O)NC1CCC2=CC3=C(C(=C2C4=CC=C(C(=O)C=C14)OC...  Q6B856   \n",
       "10000019  C1=CC=C(C=C1)C(CC(=O)O)NC(=O)CNC(=O)C2=CC(=CC=...  P53708   \n",
       "10000019  C1=CC=C(C=C1)C(CC(=O)O)NC(=O)CNC(=O)C2=CC(=CC=...  P08648   \n",
       "10000019  C1=CC=C(C=C1)C(CC(=O)O)NC(=O)CNC(=O)C2=CC(=CC=...  P05556   \n",
       "...                                                     ...     ...   \n",
       "9999879   CC(C)C(C(=O)NO)N(CC1=CN=CC=C1)S(=O)(=O)C2=CC=C...  P08253   \n",
       "9999879   CC(C)C(C(=O)NO)N(CC1=CN=CC=C1)S(=O)(=O)C2=CC=C...  P14780   \n",
       "9999879   CC(C)C(C(=O)NO)N(CC1=CN=CC=C1)S(=O)(=O)C2=CC=C...  P22894   \n",
       "9999994   C1CN(CCC1CCC(=O)C2=CC3=C(C=C2)NCC3)CC4=CC(=CC=...  P22303   \n",
       "9999994   C1CN(CCC1CCC(=O)C2=CC3=C(C=C2)NCC3)CC4=CC(=CC=...  P37136   \n",
       "\n",
       "                                                      T_seq      IC50  \n",
       "C_cid                                                                  \n",
       "1000      MNPNQKIITIGSICMVVGIISLILQIGNIISIWISHSIQTGNQNHT...  870000.0  \n",
       "10000015  MREIVHIQAGQCGNQIGAKFWEVISDEHGIDPTGSYHGDSDLQLER...    2100.0  \n",
       "10000019  MSPGASRGPRGSQAPLIAPLCCAAAALGMLLWSPACQAFNLDVEKL...     383.0  \n",
       "10000019  MGSRTPESPLHAVQLRWGPRRRPPLLPLLLLLLPPPPRVGGFNLDA...      17.0  \n",
       "10000019  MNLQPIFWIGLISSVCCVFAQTDENRCLKANAKSCGECIQAGPNCG...      24.0  \n",
       "...                                                     ...       ...  \n",
       "9999879   MEALMARGALTGPLRALCLLGCLLSHAAAAPSPIIKFPGDVAPKTD...     120.0  \n",
       "9999879   MSLWQPLVLVLLVLGCCFAAPRQRQSTLVLFPGDLRTNLTDRQLAE...     414.0  \n",
       "9999879   MFSLKTLPFLLLLHVQISKAFPVSSKEKNTKTVQDYLEKFYQLPSN...     228.0  \n",
       "9999994   MRPPQCLLHTPSLASPLLLLLLWLLGGGVGAEGREDAELLVTVRGG...      59.0  \n",
       "9999994   MRPPWYPLHTPSLASPLLFLLLSLLGGGARAEGREDPQLLVRVRGG...      59.0  \n",
       "\n",
       "[1309298 rows x 4 columns]"
      ]
     },
     "metadata": {},
     "output_type": "display_data"
    }
   ],
   "source": [
    "## Drop duplicates of C-T pairs\n",
    "data_drop_dups = data_smiles_collected.drop_duplicates(subset=(\"C_seq_can_smiles\", \"T_seq\"))\n",
    "display(data_drop_dups)\n",
    "\n",
    "data = data_drop_dups"
   ]
  },
  {
   "cell_type": "code",
   "execution_count": 346,
   "metadata": {
    "ExecuteTime": {
     "end_time": "2024-05-20T13:49:41.848828Z",
     "start_time": "2024-05-20T13:49:37.787111Z"
    },
    "scrolled": true
   },
   "outputs": [
    {
     "data": {
      "text/plain": [
       "count    816596.000000\n",
       "mean          1.603361\n",
       "std           1.392733\n",
       "min           1.000000\n",
       "25%           1.000000\n",
       "50%           1.000000\n",
       "75%           2.000000\n",
       "max          99.000000\n",
       "Name: T_seq, dtype: float64"
      ]
     },
     "metadata": {},
     "output_type": "display_data"
    }
   ],
   "source": [
    "## Sort out Compounds with under 100 binding Targets --> max 100 targets\n",
    "seqlen_per_C = data_drop_dups.groupby(\"C_cid\").count()[\"T_seq\"]\n",
    "display(seqlen_per_C.describe())\n",
    "index_T_seq_under100 = np.setdiff1d(data_drop_dups.index, seqlen_per_C[seqlen_per_C>100].index)\n",
    "data_under100Ts = data_drop_dups.loc[index_T_seq_under100]\n",
    "\n",
    "data = data_under100Ts"
   ]
  },
  {
   "cell_type": "code",
   "execution_count": null,
   "metadata": {},
   "outputs": [],
   "source": [
    "# ## Save data for Compounds with under 100 binding Targets\n",
    "# data_under100Ts.to_csv(os.path.join(data_path, \"preprocessed\", \"golden_set_20240514.csv\"))\n",
    "# display(data_under100Ts)"
   ]
  },
  {
   "cell_type": "code",
   "execution_count": 154,
   "metadata": {
    "ExecuteTime": {
     "end_time": "2024-05-20T07:03:16.337407Z",
     "start_time": "2024-05-20T06:55:30.932372Z"
    }
   },
   "outputs": [
    {
     "name": "stderr",
     "output_type": "stream",
     "text": [
      "100%|██████████| 5878/5878 [07:43<00:00, 12.68it/s]\n"
     ]
    }
   ],
   "source": [
    "## Remove duplicated T_id for each T_seq\n",
    "T_seq_unq = data_under100Ts[\"T_seq\"].unique()\n",
    "data_T_seq = data_under100Ts.set_index(\"T_seq\")\n",
    "\n",
    "tid_dups = []\n",
    "for tseq in tqdm(T_seq_unq):\n",
    "    curr_tids = data_T_seq.loc[tseq][\"T_id\"]\n",
    "    if isinstance(curr_tids, str): continue\n",
    "    if len(np.unique(curr_tids.values)) > 1:\n",
    "        tid_dups.append((tseq, np.unique(curr_tids.values, return_counts=True)))"
   ]
  },
  {
   "cell_type": "code",
   "execution_count": 157,
   "metadata": {
    "ExecuteTime": {
     "end_time": "2024-05-20T07:04:48.520019Z",
     "start_time": "2024-05-20T07:04:45.684263Z"
    }
   },
   "outputs": [
    {
     "name": "stderr",
     "output_type": "stream",
     "text": [
      "100%|██████████| 14/14 [00:02<00:00,  4.97it/s]\n"
     ]
    }
   ],
   "source": [
    "## Find index of minor T_id to be removed\n",
    "minor_tid_indexes = []\n",
    "for i in tqdm(range(len(tid_dups))):\n",
    "    dup_tseq = tid_dups[i][0]\n",
    "    dup_tids, dup_cnts = tid_dups[i][1]\n",
    "    curr_tids = data_under100Ts[\"T_id\"][data_under100Ts[\"T_seq\"]==dup_tseq]\n",
    "    minor_tids = curr_tids[curr_tids==dup_tids[np.argmin(dup_cnts)]]\n",
    "    minor_tid_indexes.append(minor_tids.index)\n",
    "minor_tid_indexes = pd.Index(np.concatenate(minor_tid_indexes))"
   ]
  },
  {
   "cell_type": "code",
   "execution_count": 158,
   "metadata": {
    "ExecuteTime": {
     "end_time": "2024-05-20T07:05:31.247359Z",
     "start_time": "2024-05-20T07:04:49.157618Z"
    }
   },
   "outputs": [],
   "source": [
    "## Save preprocessed data\n",
    "data_minor_tid_removed = data_under100Ts.loc[pd.Index(np.setdiff1d(data_under100Ts.index, minor_tid_indexes))]\n",
    "data_minor_tid_removed.to_csv(os.path.join(data_path, \"preprocessed\", \"golden_set_20240520.csv\"))\n",
    "display(data_minor_tid_removed)\n",
    "\n",
    "data = data_minor_tid_removed"
   ]
  },
  {
   "cell_type": "code",
   "execution_count": 356,
   "metadata": {
    "ExecuteTime": {
     "end_time": "2024-05-20T13:53:18.331845Z",
     "start_time": "2024-05-20T13:53:18.306258Z"
    }
   },
   "outputs": [
    {
     "data": {
      "text/html": [
       "<div>\n",
       "<style scoped>\n",
       "    .dataframe tbody tr th:only-of-type {\n",
       "        vertical-align: middle;\n",
       "    }\n",
       "\n",
       "    .dataframe tbody tr th {\n",
       "        vertical-align: top;\n",
       "    }\n",
       "\n",
       "    .dataframe thead th {\n",
       "        text-align: right;\n",
       "    }\n",
       "</style>\n",
       "<table border=\"1\" class=\"dataframe\">\n",
       "  <thead>\n",
       "    <tr style=\"text-align: right;\">\n",
       "      <th></th>\n",
       "      <th>C_seq_can_smiles</th>\n",
       "      <th>T_id</th>\n",
       "      <th>T_seq</th>\n",
       "      <th>IC50</th>\n",
       "    </tr>\n",
       "    <tr>\n",
       "      <th>C_cid</th>\n",
       "      <th></th>\n",
       "      <th></th>\n",
       "      <th></th>\n",
       "      <th></th>\n",
       "    </tr>\n",
       "  </thead>\n",
       "  <tbody>\n",
       "    <tr>\n",
       "      <th>1000</th>\n",
       "      <td>C1=CC=C(C=C1)C(CN)O</td>\n",
       "      <td>P03470</td>\n",
       "      <td>MNPNQKIITIGSICMVVGIISLILQIGNIISIWISHSIQTGNQNHT...</td>\n",
       "      <td>870000.0</td>\n",
       "    </tr>\n",
       "    <tr>\n",
       "      <th>10000015</th>\n",
       "      <td>CC(=O)NC1CCC2=CC3=C(C(=C2C4=CC=C(C(=O)C=C14)OC...</td>\n",
       "      <td>Q6B856</td>\n",
       "      <td>MREIVHIQAGQCGNQIGAKFWEVISDEHGIDPTGSYHGDSDLQLER...</td>\n",
       "      <td>2100.0</td>\n",
       "    </tr>\n",
       "    <tr>\n",
       "      <th>10000019</th>\n",
       "      <td>C1=CC=C(C=C1)C(CC(=O)O)NC(=O)CNC(=O)C2=CC(=CC=...</td>\n",
       "      <td>P53708</td>\n",
       "      <td>MSPGASRGPRGSQAPLIAPLCCAAAALGMLLWSPACQAFNLDVEKL...</td>\n",
       "      <td>383.0</td>\n",
       "    </tr>\n",
       "    <tr>\n",
       "      <th>10000019</th>\n",
       "      <td>C1=CC=C(C=C1)C(CC(=O)O)NC(=O)CNC(=O)C2=CC(=CC=...</td>\n",
       "      <td>P08648</td>\n",
       "      <td>MGSRTPESPLHAVQLRWGPRRRPPLLPLLLLLLPPPPRVGGFNLDA...</td>\n",
       "      <td>17.0</td>\n",
       "    </tr>\n",
       "    <tr>\n",
       "      <th>10000019</th>\n",
       "      <td>C1=CC=C(C=C1)C(CC(=O)O)NC(=O)CNC(=O)C2=CC(=CC=...</td>\n",
       "      <td>P05556</td>\n",
       "      <td>MNLQPIFWIGLISSVCCVFAQTDENRCLKANAKSCGECIQAGPNCG...</td>\n",
       "      <td>24.0</td>\n",
       "    </tr>\n",
       "    <tr>\n",
       "      <th>...</th>\n",
       "      <td>...</td>\n",
       "      <td>...</td>\n",
       "      <td>...</td>\n",
       "      <td>...</td>\n",
       "    </tr>\n",
       "    <tr>\n",
       "      <th>9999879</th>\n",
       "      <td>CC(C)C(C(=O)NO)N(CC1=CN=CC=C1)S(=O)(=O)C2=CC=C...</td>\n",
       "      <td>P08253</td>\n",
       "      <td>MEALMARGALTGPLRALCLLGCLLSHAAAAPSPIIKFPGDVAPKTD...</td>\n",
       "      <td>120.0</td>\n",
       "    </tr>\n",
       "    <tr>\n",
       "      <th>9999879</th>\n",
       "      <td>CC(C)C(C(=O)NO)N(CC1=CN=CC=C1)S(=O)(=O)C2=CC=C...</td>\n",
       "      <td>P14780</td>\n",
       "      <td>MSLWQPLVLVLLVLGCCFAAPRQRQSTLVLFPGDLRTNLTDRQLAE...</td>\n",
       "      <td>414.0</td>\n",
       "    </tr>\n",
       "    <tr>\n",
       "      <th>9999879</th>\n",
       "      <td>CC(C)C(C(=O)NO)N(CC1=CN=CC=C1)S(=O)(=O)C2=CC=C...</td>\n",
       "      <td>P22894</td>\n",
       "      <td>MFSLKTLPFLLLLHVQISKAFPVSSKEKNTKTVQDYLEKFYQLPSN...</td>\n",
       "      <td>228.0</td>\n",
       "    </tr>\n",
       "    <tr>\n",
       "      <th>9999994</th>\n",
       "      <td>C1CN(CCC1CCC(=O)C2=CC3=C(C=C2)NCC3)CC4=CC(=CC=...</td>\n",
       "      <td>P22303</td>\n",
       "      <td>MRPPQCLLHTPSLASPLLLLLLWLLGGGVGAEGREDAELLVTVRGG...</td>\n",
       "      <td>59.0</td>\n",
       "    </tr>\n",
       "    <tr>\n",
       "      <th>9999994</th>\n",
       "      <td>C1CN(CCC1CCC(=O)C2=CC3=C(C=C2)NCC3)CC4=CC(=CC=...</td>\n",
       "      <td>P37136</td>\n",
       "      <td>MRPPWYPLHTPSLASPLLFLLLSLLGGGARAEGREDPQLLVRVRGG...</td>\n",
       "      <td>59.0</td>\n",
       "    </tr>\n",
       "  </tbody>\n",
       "</table>\n",
       "<p>1308514 rows × 4 columns</p>\n",
       "</div>"
      ],
      "text/plain": [
       "                                           C_seq_can_smiles    T_id  \\\n",
       "C_cid                                                                 \n",
       "1000                                    C1=CC=C(C=C1)C(CN)O  P03470   \n",
       "10000015  CC(=O)NC1CCC2=CC3=C(C(=C2C4=CC=C(C(=O)C=C14)OC...  Q6B856   \n",
       "10000019  C1=CC=C(C=C1)C(CC(=O)O)NC(=O)CNC(=O)C2=CC(=CC=...  P53708   \n",
       "10000019  C1=CC=C(C=C1)C(CC(=O)O)NC(=O)CNC(=O)C2=CC(=CC=...  P08648   \n",
       "10000019  C1=CC=C(C=C1)C(CC(=O)O)NC(=O)CNC(=O)C2=CC(=CC=...  P05556   \n",
       "...                                                     ...     ...   \n",
       "9999879   CC(C)C(C(=O)NO)N(CC1=CN=CC=C1)S(=O)(=O)C2=CC=C...  P08253   \n",
       "9999879   CC(C)C(C(=O)NO)N(CC1=CN=CC=C1)S(=O)(=O)C2=CC=C...  P14780   \n",
       "9999879   CC(C)C(C(=O)NO)N(CC1=CN=CC=C1)S(=O)(=O)C2=CC=C...  P22894   \n",
       "9999994   C1CN(CCC1CCC(=O)C2=CC3=C(C=C2)NCC3)CC4=CC(=CC=...  P22303   \n",
       "9999994   C1CN(CCC1CCC(=O)C2=CC3=C(C=C2)NCC3)CC4=CC(=CC=...  P37136   \n",
       "\n",
       "                                                      T_seq      IC50  \n",
       "C_cid                                                                  \n",
       "1000      MNPNQKIITIGSICMVVGIISLILQIGNIISIWISHSIQTGNQNHT...  870000.0  \n",
       "10000015  MREIVHIQAGQCGNQIGAKFWEVISDEHGIDPTGSYHGDSDLQLER...    2100.0  \n",
       "10000019  MSPGASRGPRGSQAPLIAPLCCAAAALGMLLWSPACQAFNLDVEKL...     383.0  \n",
       "10000019  MGSRTPESPLHAVQLRWGPRRRPPLLPLLLLLLPPPPRVGGFNLDA...      17.0  \n",
       "10000019  MNLQPIFWIGLISSVCCVFAQTDENRCLKANAKSCGECIQAGPNCG...      24.0  \n",
       "...                                                     ...       ...  \n",
       "9999879   MEALMARGALTGPLRALCLLGCLLSHAAAAPSPIIKFPGDVAPKTD...     120.0  \n",
       "9999879   MSLWQPLVLVLLVLGCCFAAPRQRQSTLVLFPGDLRTNLTDRQLAE...     414.0  \n",
       "9999879   MFSLKTLPFLLLLHVQISKAFPVSSKEKNTKTVQDYLEKFYQLPSN...     228.0  \n",
       "9999994   MRPPQCLLHTPSLASPLLLLLLWLLGGGVGAEGREDAELLVTVRGG...      59.0  \n",
       "9999994   MRPPWYPLHTPSLASPLLFLLLSLLGGGARAEGREDPQLLVRVRGG...      59.0  \n",
       "\n",
       "[1308514 rows x 4 columns]"
      ]
     },
     "execution_count": 356,
     "metadata": {},
     "output_type": "execute_result"
    }
   ],
   "source": [
    "data_minor_tid_removed"
   ]
  },
  {
   "cell_type": "markdown",
   "metadata": {},
   "source": [
    "## Construct datasets for training"
   ]
  },
  {
   "cell_type": "markdown",
   "metadata": {},
   "source": [
    "### Leave small set"
   ]
  },
  {
   "cell_type": "code",
   "execution_count": 303,
   "metadata": {
    "ExecuteTime": {
     "end_time": "2024-05-20T13:37:25.494548Z",
     "start_time": "2024-05-20T13:37:25.471089Z"
    }
   },
   "outputs": [],
   "source": [
    "def insert_CT_code(data):\n",
    "\n",
    "    pair_code = data.apply(lambda x : str(x['C_cid']) + 'x' + str(x['T_id']), axis=1)\n",
    "    data.insert(loc=0, column='(C-T)_id', value=list(pair_code))\n",
    "\n",
    "    return data\n",
    "\n",
    "def filter_C_by_num_T(data=None, N=30):\n",
    "\n",
    "    # C (ompound) 별 T (arget)의 갯수로 C를 필터링\n",
    "    unique_c_ids_n_counts = np.unique(data['C_cid'], return_counts=True)\n",
    "    unique_c_ids = unique_c_ids_n_counts[0]\n",
    "    unique_c_counts = unique_c_ids_n_counts[1]\n",
    "\n",
    "    c_ids_filtering_idx = np.where(unique_c_counts >= N)[0]\n",
    "    filtered_c_ids = unique_c_ids[c_ids_filtering_idx]\n",
    "    filtered_c_ids_onehot = data['C_cid'].isin(filtered_c_ids)\n",
    "    row_index = np.arange(data['C_cid'].shape[0])\n",
    "    filtered_c_ids_onehot_index = filtered_c_ids_onehot * row_index\n",
    "    final_filtered_c_ids_index = np.where(filtered_c_ids_onehot_index != 0)[0]\n",
    "\n",
    "    filtered_data = data.iloc[final_filtered_c_ids_index]\n",
    "\n",
    "    # CT_code 삽입\n",
    "    filtered_data = insert_CT_code(filtered_data)\n",
    "\n",
    "    # 갯수 확인\n",
    "    num_rows = filtered_data.shape[0]\n",
    "    num_C = len(np.unique(filtered_data['C_cid']))\n",
    "    num_T = len(np.unique(filtered_data['T_id']))\n",
    "    num_CT = len(np.unique(filtered_data['(C-T)_id']))\n",
    "\n",
    "    # IC50 등에서 값이 달라 (C-T)_id 컬럼에 2개 이상 존재할 경우 가장 첫번째 값만 사용\n",
    "    filtered_data = filtered_data.groupby('(C-T)_id').first()\n",
    "\n",
    "    print('Number of T per C >={}\\n--> Number of rows : {},\\n--> Number of C : {},\\n--> Number of T : {}\\n--> Number of (C-T) pair : {}'.format(N, num_rows, num_C, num_T, num_CT))\n",
    "    \n",
    "    return filtered_data\n"
   ]
  },
  {
   "cell_type": "code",
   "execution_count": 371,
   "metadata": {
    "ExecuteTime": {
     "end_time": "2024-05-23T17:22:24.061058Z",
     "start_time": "2024-05-23T17:22:15.616269Z"
    }
   },
   "outputs": [
    {
     "name": "stdout",
     "output_type": "stream",
     "text": [
      "Number of T per C >=7\n",
      "--> Number of rows : 314836,\n",
      "--> Number of C : 27378,\n",
      "--> Number of T : 3684\n",
      "--> Number of (C-T) pair : 144422\n"
     ]
    }
   ],
   "source": [
    "filtered_data = filter_C_by_num_T(data_smiles_collected.reset_index(), N=7)"
   ]
  },
  {
   "cell_type": "code",
   "execution_count": 372,
   "metadata": {
    "ExecuteTime": {
     "end_time": "2024-05-23T17:22:34.510362Z",
     "start_time": "2024-05-23T17:22:32.738534Z"
    },
    "scrolled": false
   },
   "outputs": [
    {
     "data": {
      "text/html": [
       "<div>\n",
       "<style scoped>\n",
       "    .dataframe tbody tr th:only-of-type {\n",
       "        vertical-align: middle;\n",
       "    }\n",
       "\n",
       "    .dataframe tbody tr th {\n",
       "        vertical-align: top;\n",
       "    }\n",
       "\n",
       "    .dataframe thead th {\n",
       "        text-align: right;\n",
       "    }\n",
       "</style>\n",
       "<table border=\"1\" class=\"dataframe\">\n",
       "  <thead>\n",
       "    <tr style=\"text-align: right;\">\n",
       "      <th></th>\n",
       "      <th>C_seq_can_smiles</th>\n",
       "      <th>T_id</th>\n",
       "      <th>T_seq</th>\n",
       "      <th>IC50</th>\n",
       "    </tr>\n",
       "    <tr>\n",
       "      <th>C_cid</th>\n",
       "      <th></th>\n",
       "      <th></th>\n",
       "      <th></th>\n",
       "      <th></th>\n",
       "    </tr>\n",
       "  </thead>\n",
       "  <tbody>\n",
       "    <tr>\n",
       "      <th>10004545</th>\n",
       "      <td>CC1C2CN(CCC2CC3=C1C4=C(N3)C=CC(=C4)C(F)(F)F)CC...</td>\n",
       "      <td>Q99705</td>\n",
       "      <td>MSVGAMKKGVGRAVGLGGGSGCQATEEDPLPNCGACAPGQGGRRWR...</td>\n",
       "      <td>0.600000</td>\n",
       "    </tr>\n",
       "    <tr>\n",
       "      <th>10004545</th>\n",
       "      <td>CC1C2CN(CCC2CC3=C1C4=C(N3)C=CC(=C4)C(F)(F)F)CC...</td>\n",
       "      <td>Q12809</td>\n",
       "      <td>MPVRRGHVAPQNTFLDTIIRKFEGQSRKFIIANARVENCAVIYCND...</td>\n",
       "      <td>5000.000000</td>\n",
       "    </tr>\n",
       "    <tr>\n",
       "      <th>10004545</th>\n",
       "      <td>CC1C2CN(CCC2CC3=C1C4=C(N3)C=CC(=C4)C(F)(F)F)CC...</td>\n",
       "      <td>Q8JZL2</td>\n",
       "      <td>MDLQASLLSTGPNASNISDGQDNFTLAGPPPRTRSVSYINIIMPSV...</td>\n",
       "      <td>0.600000</td>\n",
       "    </tr>\n",
       "    <tr>\n",
       "      <th>10004545</th>\n",
       "      <td>CC1C2CN(CCC2CC3=C1C4=C(N3)C=CC(=C4)C(F)(F)F)CC...</td>\n",
       "      <td>P97639</td>\n",
       "      <td>MDLQTSLLSTGPNASNISDGQDNLTLPGSPPRTGSVSYINIIMPSV...</td>\n",
       "      <td>0.800000</td>\n",
       "    </tr>\n",
       "    <tr>\n",
       "      <th>10004545</th>\n",
       "      <td>CC1C2CN(CCC2CC3=C1C4=C(N3)C=CC(=C4)C(F)(F)F)CC...</td>\n",
       "      <td>Q8MJ89</td>\n",
       "      <td>ACAPGQGGRRWRLPQPAWVEGSSAWLWEPATGTGWMDLEASLLPTG...</td>\n",
       "      <td>0.800000</td>\n",
       "    </tr>\n",
       "    <tr>\n",
       "      <th>...</th>\n",
       "      <td>...</td>\n",
       "      <td>...</td>\n",
       "      <td>...</td>\n",
       "      <td>...</td>\n",
       "    </tr>\n",
       "    <tr>\n",
       "      <th>998883</th>\n",
       "      <td>C1CC(=C2C(=O)N(CC(=O)N2C1)CCC3=CC=CC=C3)C4=CC(...</td>\n",
       "      <td>Q9HC16</td>\n",
       "      <td>MKPHFRNTVERMYRDTFSYNFYNRPILSRRNTVWLCYEVKTKGPSR...</td>\n",
       "      <td>8150.000000</td>\n",
       "    </tr>\n",
       "    <tr>\n",
       "      <th>998883</th>\n",
       "      <td>C1CC(=C2C(=O)N(CC(=O)N2C1)CCC3=CC=CC=C3)C4=CC(...</td>\n",
       "      <td>Q00G26</td>\n",
       "      <td>MSEEEAAQIPRSSVWEQDQQNVVQRVVALPLVRATCTAVCDVYSAA...</td>\n",
       "      <td>5718.000000</td>\n",
       "    </tr>\n",
       "    <tr>\n",
       "      <th>998883</th>\n",
       "      <td>C1CC(=C2C(=O)N(CC(=O)N2C1)CCC3=CC=CC=C3)C4=CC(...</td>\n",
       "      <td>Q07820</td>\n",
       "      <td>MFGLKRNAVIGLNLYCGGAGLGAGSGGATRPGGRLLATEKEASARR...</td>\n",
       "      <td>4746.602893</td>\n",
       "    </tr>\n",
       "    <tr>\n",
       "      <th>998883</th>\n",
       "      <td>C1CC(=C2C(=O)N(CC(=O)N2C1)CCC3=CC=CC=C3)C4=CC(...</td>\n",
       "      <td>O60240</td>\n",
       "      <td>MAVNKGLTLLDGDLPEQENVLQRVLQLPVVSGTCECFQKTYTSTKE...</td>\n",
       "      <td>4375.000000</td>\n",
       "    </tr>\n",
       "    <tr>\n",
       "      <th>998883</th>\n",
       "      <td>C1CC(=C2C(=O)N(CC(=O)N2C1)CCC3=CC=CC=C3)C4=CC(...</td>\n",
       "      <td>P31941</td>\n",
       "      <td>MEASPASGPRHLMDPHIFTSNFNNGIGRHKTYLCYEVERLDNGTSV...</td>\n",
       "      <td>100000.000000</td>\n",
       "    </tr>\n",
       "  </tbody>\n",
       "</table>\n",
       "<p>81144 rows × 4 columns</p>\n",
       "</div>"
      ],
      "text/plain": [
       "                                           C_seq_can_smiles    T_id  \\\n",
       "C_cid                                                                 \n",
       "10004545  CC1C2CN(CCC2CC3=C1C4=C(N3)C=CC(=C4)C(F)(F)F)CC...  Q99705   \n",
       "10004545  CC1C2CN(CCC2CC3=C1C4=C(N3)C=CC(=C4)C(F)(F)F)CC...  Q12809   \n",
       "10004545  CC1C2CN(CCC2CC3=C1C4=C(N3)C=CC(=C4)C(F)(F)F)CC...  Q8JZL2   \n",
       "10004545  CC1C2CN(CCC2CC3=C1C4=C(N3)C=CC(=C4)C(F)(F)F)CC...  P97639   \n",
       "10004545  CC1C2CN(CCC2CC3=C1C4=C(N3)C=CC(=C4)C(F)(F)F)CC...  Q8MJ89   \n",
       "...                                                     ...     ...   \n",
       "998883    C1CC(=C2C(=O)N(CC(=O)N2C1)CCC3=CC=CC=C3)C4=CC(...  Q9HC16   \n",
       "998883    C1CC(=C2C(=O)N(CC(=O)N2C1)CCC3=CC=CC=C3)C4=CC(...  Q00G26   \n",
       "998883    C1CC(=C2C(=O)N(CC(=O)N2C1)CCC3=CC=CC=C3)C4=CC(...  Q07820   \n",
       "998883    C1CC(=C2C(=O)N(CC(=O)N2C1)CCC3=CC=CC=C3)C4=CC(...  O60240   \n",
       "998883    C1CC(=C2C(=O)N(CC(=O)N2C1)CCC3=CC=CC=C3)C4=CC(...  P31941   \n",
       "\n",
       "                                                      T_seq           IC50  \n",
       "C_cid                                                                       \n",
       "10004545  MSVGAMKKGVGRAVGLGGGSGCQATEEDPLPNCGACAPGQGGRRWR...       0.600000  \n",
       "10004545  MPVRRGHVAPQNTFLDTIIRKFEGQSRKFIIANARVENCAVIYCND...    5000.000000  \n",
       "10004545  MDLQASLLSTGPNASNISDGQDNFTLAGPPPRTRSVSYINIIMPSV...       0.600000  \n",
       "10004545  MDLQTSLLSTGPNASNISDGQDNLTLPGSPPRTGSVSYINIIMPSV...       0.800000  \n",
       "10004545  ACAPGQGGRRWRLPQPAWVEGSSAWLWEPATGTGWMDLEASLLPTG...       0.800000  \n",
       "...                                                     ...            ...  \n",
       "998883    MKPHFRNTVERMYRDTFSYNFYNRPILSRRNTVWLCYEVKTKGPSR...    8150.000000  \n",
       "998883    MSEEEAAQIPRSSVWEQDQQNVVQRVVALPLVRATCTAVCDVYSAA...    5718.000000  \n",
       "998883    MFGLKRNAVIGLNLYCGGAGLGAGSGGATRPGGRLLATEKEASARR...    4746.602893  \n",
       "998883    MAVNKGLTLLDGDLPEQENVLQRVLQLPVVSGTCECFQKTYTSTKE...    4375.000000  \n",
       "998883    MEASPASGPRHLMDPHIFTSNFNNGIGRHKTYLCYEVERLDNGTSV...  100000.000000  \n",
       "\n",
       "[81144 rows x 4 columns]"
      ]
     },
     "metadata": {},
     "output_type": "display_data"
    }
   ],
   "source": [
    "## Filter Compounds with under N binding Targets\n",
    "n_T_filtered = 7\n",
    "n_T_per_C = data_minor_tid_removed.reset_index().groupby(\"C_cid\").count()[\"T_seq\"]\n",
    "data_T_filtered = data_minor_tid_removed.loc[n_T_per_C[n_T_per_C>=n_T_filtered].index]\n",
    "display(data_T_filtered)\n",
    "\n",
    "data = data_T_filtered"
   ]
  },
  {
   "cell_type": "code",
   "execution_count": 373,
   "metadata": {
    "ExecuteTime": {
     "end_time": "2024-05-23T17:22:51.263070Z",
     "start_time": "2024-05-23T17:22:49.401718Z"
    }
   },
   "outputs": [
    {
     "data": {
      "text/html": [
       "<div>\n",
       "<style scoped>\n",
       "    .dataframe tbody tr th:only-of-type {\n",
       "        vertical-align: middle;\n",
       "    }\n",
       "\n",
       "    .dataframe tbody tr th {\n",
       "        vertical-align: top;\n",
       "    }\n",
       "\n",
       "    .dataframe thead th {\n",
       "        text-align: right;\n",
       "    }\n",
       "</style>\n",
       "<table border=\"1\" class=\"dataframe\">\n",
       "  <thead>\n",
       "    <tr style=\"text-align: right;\">\n",
       "      <th></th>\n",
       "      <th>C_cid</th>\n",
       "      <th>C_seq_can_smiles</th>\n",
       "      <th>T_id</th>\n",
       "      <th>T_seq</th>\n",
       "      <th>IC50</th>\n",
       "    </tr>\n",
       "  </thead>\n",
       "  <tbody>\n",
       "    <tr>\n",
       "      <th>0</th>\n",
       "      <td>10004545</td>\n",
       "      <td>CC1C2CN(CCC2CC3=C1C4=C(N3)C=CC(=C4)C(F)(F)F)CC...</td>\n",
       "      <td>Q99705</td>\n",
       "      <td>MSVGAMKKGVGRAVGLGGGSGCQATEEDPLPNCGACAPGQGGRRWR...</td>\n",
       "      <td>0.600000</td>\n",
       "    </tr>\n",
       "    <tr>\n",
       "      <th>2</th>\n",
       "      <td>10004545</td>\n",
       "      <td>CC1C2CN(CCC2CC3=C1C4=C(N3)C=CC(=C4)C(F)(F)F)CC...</td>\n",
       "      <td>Q8JZL2</td>\n",
       "      <td>MDLQASLLSTGPNASNISDGQDNFTLAGPPPRTRSVSYINIIMPSV...</td>\n",
       "      <td>0.600000</td>\n",
       "    </tr>\n",
       "    <tr>\n",
       "      <th>3</th>\n",
       "      <td>10004545</td>\n",
       "      <td>CC1C2CN(CCC2CC3=C1C4=C(N3)C=CC(=C4)C(F)(F)F)CC...</td>\n",
       "      <td>P97639</td>\n",
       "      <td>MDLQTSLLSTGPNASNISDGQDNLTLPGSPPRTGSVSYINIIMPSV...</td>\n",
       "      <td>0.800000</td>\n",
       "    </tr>\n",
       "    <tr>\n",
       "      <th>4</th>\n",
       "      <td>10004545</td>\n",
       "      <td>CC1C2CN(CCC2CC3=C1C4=C(N3)C=CC(=C4)C(F)(F)F)CC...</td>\n",
       "      <td>Q8MJ89</td>\n",
       "      <td>ACAPGQGGRRWRLPQPAWVEGSSAWLWEPATGTGWMDLEASLLPTG...</td>\n",
       "      <td>0.800000</td>\n",
       "    </tr>\n",
       "    <tr>\n",
       "      <th>5</th>\n",
       "      <td>10004545</td>\n",
       "      <td>CC1C2CN(CCC2CC3=C1C4=C(N3)C=CC(=C4)C(F)(F)F)CC...</td>\n",
       "      <td>Q969V1</td>\n",
       "      <td>MNPFHASCWNTSAELLNKSWNKEFAYQTASVVDTVILPSMIGIICS...</td>\n",
       "      <td>10000.000000</td>\n",
       "    </tr>\n",
       "    <tr>\n",
       "      <th>...</th>\n",
       "      <td>...</td>\n",
       "      <td>...</td>\n",
       "      <td>...</td>\n",
       "      <td>...</td>\n",
       "      <td>...</td>\n",
       "    </tr>\n",
       "    <tr>\n",
       "      <th>81139</th>\n",
       "      <td>998883</td>\n",
       "      <td>C1CC(=C2C(=O)N(CC(=O)N2C1)CCC3=CC=CC=C3)C4=CC(...</td>\n",
       "      <td>Q9HC16</td>\n",
       "      <td>MKPHFRNTVERMYRDTFSYNFYNRPILSRRNTVWLCYEVKTKGPSR...</td>\n",
       "      <td>8150.000000</td>\n",
       "    </tr>\n",
       "    <tr>\n",
       "      <th>81140</th>\n",
       "      <td>998883</td>\n",
       "      <td>C1CC(=C2C(=O)N(CC(=O)N2C1)CCC3=CC=CC=C3)C4=CC(...</td>\n",
       "      <td>Q00G26</td>\n",
       "      <td>MSEEEAAQIPRSSVWEQDQQNVVQRVVALPLVRATCTAVCDVYSAA...</td>\n",
       "      <td>5718.000000</td>\n",
       "    </tr>\n",
       "    <tr>\n",
       "      <th>81141</th>\n",
       "      <td>998883</td>\n",
       "      <td>C1CC(=C2C(=O)N(CC(=O)N2C1)CCC3=CC=CC=C3)C4=CC(...</td>\n",
       "      <td>Q07820</td>\n",
       "      <td>MFGLKRNAVIGLNLYCGGAGLGAGSGGATRPGGRLLATEKEASARR...</td>\n",
       "      <td>4746.602893</td>\n",
       "    </tr>\n",
       "    <tr>\n",
       "      <th>81142</th>\n",
       "      <td>998883</td>\n",
       "      <td>C1CC(=C2C(=O)N(CC(=O)N2C1)CCC3=CC=CC=C3)C4=CC(...</td>\n",
       "      <td>O60240</td>\n",
       "      <td>MAVNKGLTLLDGDLPEQENVLQRVLQLPVVSGTCECFQKTYTSTKE...</td>\n",
       "      <td>4375.000000</td>\n",
       "    </tr>\n",
       "    <tr>\n",
       "      <th>81143</th>\n",
       "      <td>998883</td>\n",
       "      <td>C1CC(=C2C(=O)N(CC(=O)N2C1)CCC3=CC=CC=C3)C4=CC(...</td>\n",
       "      <td>P31941</td>\n",
       "      <td>MEASPASGPRHLMDPHIFTSNFNNGIGRHKTYLCYEVERLDNGTSV...</td>\n",
       "      <td>100000.000000</td>\n",
       "    </tr>\n",
       "  </tbody>\n",
       "</table>\n",
       "<p>60719 rows × 5 columns</p>\n",
       "</div>"
      ],
      "text/plain": [
       "          C_cid                                   C_seq_can_smiles    T_id  \\\n",
       "0      10004545  CC1C2CN(CCC2CC3=C1C4=C(N3)C=CC(=C4)C(F)(F)F)CC...  Q99705   \n",
       "2      10004545  CC1C2CN(CCC2CC3=C1C4=C(N3)C=CC(=C4)C(F)(F)F)CC...  Q8JZL2   \n",
       "3      10004545  CC1C2CN(CCC2CC3=C1C4=C(N3)C=CC(=C4)C(F)(F)F)CC...  P97639   \n",
       "4      10004545  CC1C2CN(CCC2CC3=C1C4=C(N3)C=CC(=C4)C(F)(F)F)CC...  Q8MJ89   \n",
       "5      10004545  CC1C2CN(CCC2CC3=C1C4=C(N3)C=CC(=C4)C(F)(F)F)CC...  Q969V1   \n",
       "...         ...                                                ...     ...   \n",
       "81139    998883  C1CC(=C2C(=O)N(CC(=O)N2C1)CCC3=CC=CC=C3)C4=CC(...  Q9HC16   \n",
       "81140    998883  C1CC(=C2C(=O)N(CC(=O)N2C1)CCC3=CC=CC=C3)C4=CC(...  Q00G26   \n",
       "81141    998883  C1CC(=C2C(=O)N(CC(=O)N2C1)CCC3=CC=CC=C3)C4=CC(...  Q07820   \n",
       "81142    998883  C1CC(=C2C(=O)N(CC(=O)N2C1)CCC3=CC=CC=C3)C4=CC(...  O60240   \n",
       "81143    998883  C1CC(=C2C(=O)N(CC(=O)N2C1)CCC3=CC=CC=C3)C4=CC(...  P31941   \n",
       "\n",
       "                                                   T_seq           IC50  \n",
       "0      MSVGAMKKGVGRAVGLGGGSGCQATEEDPLPNCGACAPGQGGRRWR...       0.600000  \n",
       "2      MDLQASLLSTGPNASNISDGQDNFTLAGPPPRTRSVSYINIIMPSV...       0.600000  \n",
       "3      MDLQTSLLSTGPNASNISDGQDNLTLPGSPPRTGSVSYINIIMPSV...       0.800000  \n",
       "4      ACAPGQGGRRWRLPQPAWVEGSSAWLWEPATGTGWMDLEASLLPTG...       0.800000  \n",
       "5      MNPFHASCWNTSAELLNKSWNKEFAYQTASVVDTVILPSMIGIICS...   10000.000000  \n",
       "...                                                  ...            ...  \n",
       "81139  MKPHFRNTVERMYRDTFSYNFYNRPILSRRNTVWLCYEVKTKGPSR...    8150.000000  \n",
       "81140  MSEEEAAQIPRSSVWEQDQQNVVQRVVALPLVRATCTAVCDVYSAA...    5718.000000  \n",
       "81141  MFGLKRNAVIGLNLYCGGAGLGAGSGGATRPGGRLLATEKEASARR...    4746.602893  \n",
       "81142  MAVNKGLTLLDGDLPEQENVLQRVLQLPVVSGTCECFQKTYTSTKE...    4375.000000  \n",
       "81143  MEASPASGPRHLMDPHIFTSNFNNGIGRHKTYLCYEVERLDNGTSV...  100000.000000  \n",
       "\n",
       "[60719 rows x 5 columns]"
      ]
     },
     "metadata": {},
     "output_type": "display_data"
    }
   ],
   "source": [
    "## Truncate Targets with over L length\n",
    "maxlen_T = 1024\n",
    "len_Ts = data_T_filtered.reset_index()[\"T_seq\"].apply(lambda x: len(x))\n",
    "data_T_truncated = data_T_filtered.reset_index().loc[len_Ts[len_Ts<=maxlen_T].index]\n",
    "display(data_T_truncated)\n",
    "\n",
    "data_T_truncated.to_csv(os.path.join(data_path, \"preprocessed\", \"data_T_truncated_20240520.csv\"))\n",
    "\n",
    "data = data_T_truncated"
   ]
  },
  {
   "cell_type": "code",
   "execution_count": 374,
   "metadata": {
    "ExecuteTime": {
     "end_time": "2024-05-23T17:23:16.373830Z",
     "start_time": "2024-05-23T17:23:13.767414Z"
    }
   },
   "outputs": [
    {
     "name": "stderr",
     "output_type": "stream",
     "text": [
      "100%|██████████| 2717/2717 [00:02<00:00, 1137.68it/s]\n"
     ]
    },
    {
     "data": {
      "text/html": [
       "<div>\n",
       "<style scoped>\n",
       "    .dataframe tbody tr th:only-of-type {\n",
       "        vertical-align: middle;\n",
       "    }\n",
       "\n",
       "    .dataframe tbody tr th {\n",
       "        vertical-align: top;\n",
       "    }\n",
       "\n",
       "    .dataframe thead th {\n",
       "        text-align: right;\n",
       "    }\n",
       "</style>\n",
       "<table border=\"1\" class=\"dataframe\">\n",
       "  <thead>\n",
       "    <tr style=\"text-align: right;\">\n",
       "      <th></th>\n",
       "      <th>C_cid</th>\n",
       "      <th>C_seq_can_smiles</th>\n",
       "      <th>T_id</th>\n",
       "      <th>T_seq</th>\n",
       "      <th>IC50</th>\n",
       "      <th>T_id_unq</th>\n",
       "    </tr>\n",
       "  </thead>\n",
       "  <tbody>\n",
       "    <tr>\n",
       "      <th>0</th>\n",
       "      <td>10004545</td>\n",
       "      <td>CC1C2CN(CCC2CC3=C1C4=C(N3)C=CC(=C4)C(F)(F)F)CC...</td>\n",
       "      <td>Q99705</td>\n",
       "      <td>MSVGAMKKGVGRAVGLGGGSGCQATEEDPLPNCGACAPGQGGRRWR...</td>\n",
       "      <td>0.600000</td>\n",
       "      <td>Q99705</td>\n",
       "    </tr>\n",
       "    <tr>\n",
       "      <th>2</th>\n",
       "      <td>10004545</td>\n",
       "      <td>CC1C2CN(CCC2CC3=C1C4=C(N3)C=CC(=C4)C(F)(F)F)CC...</td>\n",
       "      <td>Q8JZL2</td>\n",
       "      <td>MDLQASLLSTGPNASNISDGQDNFTLAGPPPRTRSVSYINIIMPSV...</td>\n",
       "      <td>0.600000</td>\n",
       "      <td>Q8JZL2</td>\n",
       "    </tr>\n",
       "    <tr>\n",
       "      <th>3</th>\n",
       "      <td>10004545</td>\n",
       "      <td>CC1C2CN(CCC2CC3=C1C4=C(N3)C=CC(=C4)C(F)(F)F)CC...</td>\n",
       "      <td>P97639</td>\n",
       "      <td>MDLQTSLLSTGPNASNISDGQDNLTLPGSPPRTGSVSYINIIMPSV...</td>\n",
       "      <td>0.800000</td>\n",
       "      <td>P97639</td>\n",
       "    </tr>\n",
       "    <tr>\n",
       "      <th>4</th>\n",
       "      <td>10004545</td>\n",
       "      <td>CC1C2CN(CCC2CC3=C1C4=C(N3)C=CC(=C4)C(F)(F)F)CC...</td>\n",
       "      <td>Q8MJ89</td>\n",
       "      <td>ACAPGQGGRRWRLPQPAWVEGSSAWLWEPATGTGWMDLEASLLPTG...</td>\n",
       "      <td>0.800000</td>\n",
       "      <td>Q8MJ89</td>\n",
       "    </tr>\n",
       "    <tr>\n",
       "      <th>5</th>\n",
       "      <td>10004545</td>\n",
       "      <td>CC1C2CN(CCC2CC3=C1C4=C(N3)C=CC(=C4)C(F)(F)F)CC...</td>\n",
       "      <td>Q969V1</td>\n",
       "      <td>MNPFHASCWNTSAELLNKSWNKEFAYQTASVVDTVILPSMIGIICS...</td>\n",
       "      <td>10000.000000</td>\n",
       "      <td>Q969V1</td>\n",
       "    </tr>\n",
       "    <tr>\n",
       "      <th>...</th>\n",
       "      <td>...</td>\n",
       "      <td>...</td>\n",
       "      <td>...</td>\n",
       "      <td>...</td>\n",
       "      <td>...</td>\n",
       "      <td>...</td>\n",
       "    </tr>\n",
       "    <tr>\n",
       "      <th>81139</th>\n",
       "      <td>998883</td>\n",
       "      <td>C1CC(=C2C(=O)N(CC(=O)N2C1)CCC3=CC=CC=C3)C4=CC(...</td>\n",
       "      <td>Q9HC16</td>\n",
       "      <td>MKPHFRNTVERMYRDTFSYNFYNRPILSRRNTVWLCYEVKTKGPSR...</td>\n",
       "      <td>8150.000000</td>\n",
       "      <td>Q9HC16</td>\n",
       "    </tr>\n",
       "    <tr>\n",
       "      <th>81140</th>\n",
       "      <td>998883</td>\n",
       "      <td>C1CC(=C2C(=O)N(CC(=O)N2C1)CCC3=CC=CC=C3)C4=CC(...</td>\n",
       "      <td>Q00G26</td>\n",
       "      <td>MSEEEAAQIPRSSVWEQDQQNVVQRVVALPLVRATCTAVCDVYSAA...</td>\n",
       "      <td>5718.000000</td>\n",
       "      <td>Q00G26</td>\n",
       "    </tr>\n",
       "    <tr>\n",
       "      <th>81141</th>\n",
       "      <td>998883</td>\n",
       "      <td>C1CC(=C2C(=O)N(CC(=O)N2C1)CCC3=CC=CC=C3)C4=CC(...</td>\n",
       "      <td>Q07820</td>\n",
       "      <td>MFGLKRNAVIGLNLYCGGAGLGAGSGGATRPGGRLLATEKEASARR...</td>\n",
       "      <td>4746.602893</td>\n",
       "      <td>Q07820</td>\n",
       "    </tr>\n",
       "    <tr>\n",
       "      <th>81142</th>\n",
       "      <td>998883</td>\n",
       "      <td>C1CC(=C2C(=O)N(CC(=O)N2C1)CCC3=CC=CC=C3)C4=CC(...</td>\n",
       "      <td>O60240</td>\n",
       "      <td>MAVNKGLTLLDGDLPEQENVLQRVLQLPVVSGTCECFQKTYTSTKE...</td>\n",
       "      <td>4375.000000</td>\n",
       "      <td>O60240</td>\n",
       "    </tr>\n",
       "    <tr>\n",
       "      <th>81143</th>\n",
       "      <td>998883</td>\n",
       "      <td>C1CC(=C2C(=O)N(CC(=O)N2C1)CCC3=CC=CC=C3)C4=CC(...</td>\n",
       "      <td>P31941</td>\n",
       "      <td>MEASPASGPRHLMDPHIFTSNFNNGIGRHKTYLCYEVERLDNGTSV...</td>\n",
       "      <td>100000.000000</td>\n",
       "      <td>P31941</td>\n",
       "    </tr>\n",
       "  </tbody>\n",
       "</table>\n",
       "<p>60719 rows × 6 columns</p>\n",
       "</div>"
      ],
      "text/plain": [
       "          C_cid                                   C_seq_can_smiles    T_id  \\\n",
       "0      10004545  CC1C2CN(CCC2CC3=C1C4=C(N3)C=CC(=C4)C(F)(F)F)CC...  Q99705   \n",
       "2      10004545  CC1C2CN(CCC2CC3=C1C4=C(N3)C=CC(=C4)C(F)(F)F)CC...  Q8JZL2   \n",
       "3      10004545  CC1C2CN(CCC2CC3=C1C4=C(N3)C=CC(=C4)C(F)(F)F)CC...  P97639   \n",
       "4      10004545  CC1C2CN(CCC2CC3=C1C4=C(N3)C=CC(=C4)C(F)(F)F)CC...  Q8MJ89   \n",
       "5      10004545  CC1C2CN(CCC2CC3=C1C4=C(N3)C=CC(=C4)C(F)(F)F)CC...  Q969V1   \n",
       "...         ...                                                ...     ...   \n",
       "81139    998883  C1CC(=C2C(=O)N(CC(=O)N2C1)CCC3=CC=CC=C3)C4=CC(...  Q9HC16   \n",
       "81140    998883  C1CC(=C2C(=O)N(CC(=O)N2C1)CCC3=CC=CC=C3)C4=CC(...  Q00G26   \n",
       "81141    998883  C1CC(=C2C(=O)N(CC(=O)N2C1)CCC3=CC=CC=C3)C4=CC(...  Q07820   \n",
       "81142    998883  C1CC(=C2C(=O)N(CC(=O)N2C1)CCC3=CC=CC=C3)C4=CC(...  O60240   \n",
       "81143    998883  C1CC(=C2C(=O)N(CC(=O)N2C1)CCC3=CC=CC=C3)C4=CC(...  P31941   \n",
       "\n",
       "                                                   T_seq           IC50  \\\n",
       "0      MSVGAMKKGVGRAVGLGGGSGCQATEEDPLPNCGACAPGQGGRRWR...       0.600000   \n",
       "2      MDLQASLLSTGPNASNISDGQDNFTLAGPPPRTRSVSYINIIMPSV...       0.600000   \n",
       "3      MDLQTSLLSTGPNASNISDGQDNLTLPGSPPRTGSVSYINIIMPSV...       0.800000   \n",
       "4      ACAPGQGGRRWRLPQPAWVEGSSAWLWEPATGTGWMDLEASLLPTG...       0.800000   \n",
       "5      MNPFHASCWNTSAELLNKSWNKEFAYQTASVVDTVILPSMIGIICS...   10000.000000   \n",
       "...                                                  ...            ...   \n",
       "81139  MKPHFRNTVERMYRDTFSYNFYNRPILSRRNTVWLCYEVKTKGPSR...    8150.000000   \n",
       "81140  MSEEEAAQIPRSSVWEQDQQNVVQRVVALPLVRATCTAVCDVYSAA...    5718.000000   \n",
       "81141  MFGLKRNAVIGLNLYCGGAGLGAGSGGATRPGGRLLATEKEASARR...    4746.602893   \n",
       "81142  MAVNKGLTLLDGDLPEQENVLQRVLQLPVVSGTCECFQKTYTSTKE...    4375.000000   \n",
       "81143  MEASPASGPRHLMDPHIFTSNFNNGIGRHKTYLCYEVERLDNGTSV...  100000.000000   \n",
       "\n",
       "      T_id_unq  \n",
       "0       Q99705  \n",
       "2       Q8JZL2  \n",
       "3       P97639  \n",
       "4       Q8MJ89  \n",
       "5       Q969V1  \n",
       "...        ...  \n",
       "81139   Q9HC16  \n",
       "81140   Q00G26  \n",
       "81141   Q07820  \n",
       "81142   O60240  \n",
       "81143   P31941  \n",
       "\n",
       "[60719 rows x 6 columns]"
      ]
     },
     "metadata": {},
     "output_type": "display_data"
    }
   ],
   "source": [
    "## Construct dictionaries\n",
    "cid_to_seq = data_T_truncated[[\"C_cid\", \"C_seq_can_smiles\"]].set_index(\"C_cid\").drop_duplicates()[\"C_seq_can_smiles\"]\n",
    "i_to_C_seq, i_to_C_cid = cid_to_seq.values, cid_to_seq.index\n",
    "\n",
    "tid_to_seq = data_T_truncated[[\"T_id\",\"T_seq\"]].drop_duplicates(subset=(\"T_seq\"))\n",
    "new_tids = pd.Series(\"\", index=tid_to_seq.index)\n",
    "for tid in tqdm(tid_to_seq[\"T_id\"].unique()):\n",
    "    curr_targets = tid_to_seq[tid_to_seq[\"T_id\"]==tid]\n",
    "    if len(curr_targets) > 1:\n",
    "        new_tids.loc[curr_targets.index[0]] = tid\n",
    "        for j in range(1,len(curr_targets)):\n",
    "            new_tids.loc[curr_targets.index[j]] = tid+\"-\"+str(j)\n",
    "    else:\n",
    "        new_tids.loc[curr_targets.index[0]] = tid\n",
    "        \n",
    "i_to_T_id = new_tids.values\n",
    "i_to_T_seq = tid_to_seq[\"T_seq\"].values\n",
    "\n",
    "C_seq_to_i = {i_to_C_seq[i]: i for i in range(len(i_to_C_seq))}\n",
    "C_cid_to_i = {i_to_C_cid[i]: i for i in range(len(i_to_C_cid))}\n",
    "T_seq_to_i = {i_to_T_seq[i]: i for i in range(len(i_to_T_seq))}\n",
    "T_id_to_i = {i_to_T_id[i]: i for i in range(len(i_to_T_id))}\n",
    "\n",
    "new_tid_col = data_T_truncated[\"T_seq\"].apply(lambda x: i_to_T_id[T_seq_to_i[x]])\n",
    "data_new_tid = data_T_truncated.copy(deep=True)\n",
    "data_new_tid.loc[:,\"T_id_unq\"] = new_tid_col\n",
    "\n",
    "display(data_new_tid)\n",
    "\n",
    "data = data_new_tid"
   ]
  },
  {
   "cell_type": "code",
   "execution_count": 375,
   "metadata": {
    "ExecuteTime": {
     "end_time": "2024-05-23T17:23:25.916535Z",
     "start_time": "2024-05-23T17:23:25.906150Z"
    }
   },
   "outputs": [
    {
     "data": {
      "text/plain": [
       "7803"
      ]
     },
     "execution_count": 375,
     "metadata": {},
     "output_type": "execute_result"
    }
   ],
   "source": [
    "len(i_to_C_seq)"
   ]
  },
  {
   "cell_type": "code",
   "execution_count": 376,
   "metadata": {
    "ExecuteTime": {
     "end_time": "2024-05-23T17:23:31.796671Z",
     "start_time": "2024-05-23T17:23:31.780897Z"
    }
   },
   "outputs": [
    {
     "data": {
      "text/plain": [
       "3006"
      ]
     },
     "execution_count": 376,
     "metadata": {},
     "output_type": "execute_result"
    }
   ],
   "source": [
    "len(i_to_T_seq)"
   ]
  },
  {
   "cell_type": "code",
   "execution_count": 219,
   "metadata": {
    "ExecuteTime": {
     "end_time": "2024-05-20T07:23:52.767945Z",
     "start_time": "2024-05-20T07:23:52.016856Z"
    }
   },
   "outputs": [
    {
     "name": "stdout",
     "output_type": "stream",
     "text": [
      "Dictionaries saved\n"
     ]
    }
   ],
   "source": [
    "## Save constructed dictionaries\n",
    "with open(os.path.join(data_path, \"dictionaries\", \"i_to_C_cid.pickle\"), \"wb\") as f:\n",
    "    pickle.dump(i_to_C_cid, f)\n",
    "with open(os.path.join(data_path, \"dictionaries\", \"i_to_T_id.pickle\"), \"wb\") as f:\n",
    "    pickle.dump(i_to_T_id, f)\n",
    "with open(os.path.join(data_path, \"dictionaries\", \"C_cid_to_i.pickle\"), \"wb\") as f:\n",
    "    pickle.dump(C_cid_to_i, f)\n",
    "with open(os.path.join(data_path, \"dictionaries\", \"T_id_to_i.pickle\"), \"wb\") as f:\n",
    "    pickle.dump(T_id_to_i, f)\n",
    "with open(os.path.join(data_path, \"dictionaries\", \"i_to_C_seq.pickle\"), \"wb\") as f:\n",
    "    pickle.dump(i_to_C_seq, f)\n",
    "with open(os.path.join(data_path, \"dictionaries\", \"i_to_T_seq.pickle\"), \"wb\") as f:\n",
    "    pickle.dump(i_to_T_seq, f)\n",
    "with open(os.path.join(data_path, \"dictionaries\", \"C_seq_to_i.pickle\"), \"wb\") as f:\n",
    "    pickle.dump(C_seq_to_i, f)\n",
    "with open(os.path.join(data_path, \"dictionaries\", \"T_seq_to_i.pickle\"), \"wb\") as f:\n",
    "    pickle.dump(T_seq_to_i, f)\n",
    "print(\"Dictionaries saved\")"
   ]
  },
  {
   "cell_type": "code",
   "execution_count": 291,
   "metadata": {
    "ExecuteTime": {
     "end_time": "2024-05-20T12:32:42.342569Z",
     "start_time": "2024-05-20T12:32:39.560470Z"
    },
    "scrolled": true
   },
   "outputs": [
    {
     "name": "stdout",
     "output_type": "stream",
     "text": [
      "Shape of C-T adjacency matrix:  (21507, 3460)\n"
     ]
    }
   ],
   "source": [
    "## Construct C-T adjacency matrix\n",
    "CT_adj = np.zeros((len(i_to_C_cid), len(i_to_T_id)), dtype=np.bool)\n",
    "print(\"Shape of C-T adjacency matrix: \", CT_adj.shape)\n",
    "index_binding = data_new_tid.apply(lambda x: (C_seq_to_i[x[\"C_seq_can_smiles\"]], T_seq_to_i[x[\"T_seq\"]]), axis=1)\n",
    "CT_adj[tuple(np.array(list(zip(*index_binding.values))))] = True"
   ]
  },
  {
   "cell_type": "code",
   "execution_count": 292,
   "metadata": {
    "ExecuteTime": {
     "end_time": "2024-05-20T12:32:42.354018Z",
     "start_time": "2024-05-20T12:32:42.345509Z"
    }
   },
   "outputs": [],
   "source": [
    "## Chunked dot product for sparse matrix\n",
    "def chunked_spsdot(mat1, mat2, n_chunks=10, dtype=np.bool):\n",
    "    if not isinstance(mat1, sps.lil.lil_matrix): mat1 = sps.lil_matrix(mat1)\n",
    "    if not isinstance(mat2, sps.lil.lil_matrix): mat2 = sps.lil_matrix(mat2)\n",
    "    chunk_size = int(mat1.shape[0] / n_chunks)\n",
    "    sps_container = sps.csr_matrix((mat1.shape[0], mat2.shape[1]), dtype=dtype)\n",
    "    print(\"Chunk size:\",chunk_size)\n",
    "    for i in tqdm(range(n_chunks)):\n",
    "        if i < n_chunks-1:\n",
    "            curr_mat = mat1[i*chunk_size:(i+1)*chunk_size]\n",
    "            dot_res = curr_mat.dot(mat2)\n",
    "            sps_container[i*chunk_size:(i+1)*chunk_size,:] = dot_res\n",
    "        else:\n",
    "            curr_mat = mat1[i*chunk_size:]\n",
    "            dot_res = curr_mat.dot(mat2)\n",
    "            sps_container[i*chunk_size:,:] = dot_res\n",
    "\n",
    "    return sps_container"
   ]
  },
  {
   "cell_type": "code",
   "execution_count": 293,
   "metadata": {
    "ExecuteTime": {
     "end_time": "2024-05-20T12:33:11.830711Z",
     "start_time": "2024-05-20T12:32:43.460461Z"
    }
   },
   "outputs": [
    {
     "name": "stderr",
     "output_type": "stream",
     "text": [
      "\r",
      "  0%|          | 0/20 [00:00<?, ?it/s]"
     ]
    },
    {
     "name": "stdout",
     "output_type": "stream",
     "text": [
      "Chunk size: 1075\n"
     ]
    },
    {
     "name": "stderr",
     "output_type": "stream",
     "text": [
      "/home2/glee/.conda/envs/drug2/lib/python3.6/site-packages/scipy/sparse/_index.py:118: SparseEfficiencyWarning: Changing the sparsity structure of a csr_matrix is expensive. lil_matrix is more efficient.\n",
      "  self._set_arrayXarray_sparse(i, j, x)\n",
      "100%|██████████| 20/20 [00:27<00:00,  1.39s/it]\n"
     ]
    },
    {
     "data": {
      "text/plain": [
       "<21507x21507 sparse matrix of type '<class 'numpy.bool_'>'\n",
       "\twith 27097367 stored elements in Compressed Sparse Row format>"
      ]
     },
     "metadata": {},
     "output_type": "display_data"
    }
   ],
   "source": [
    "## Make sparse\n",
    "sps_CT_adj = sps.csr_matrix(CT_adj)\n",
    "\n",
    "## Calculate C-T-C adjacency matrix\n",
    "sps_CTC_adj = chunked_spsdot(sps_CT_adj, sps_CT_adj.T, n_chunks=20)\n",
    "display(sps_CTC_adj)"
   ]
  },
  {
   "cell_type": "code",
   "execution_count": 294,
   "metadata": {
    "ExecuteTime": {
     "end_time": "2024-05-20T12:33:13.928910Z",
     "start_time": "2024-05-20T12:33:12.367215Z"
    }
   },
   "outputs": [
    {
     "data": {
      "text/plain": [
       "<21507x3460 sparse matrix of type '<class 'numpy.bool_'>'\n",
       "\twith 11331404 stored elements in Compressed Sparse Row format>"
      ]
     },
     "metadata": {},
     "output_type": "display_data"
    }
   ],
   "source": [
    "## Calculate C-T-C-T adjacency matrix\n",
    "sps_CTCT_adj = sps_CTC_adj.dot(sps_CT_adj)\n",
    "display(sps_CTCT_adj)\n",
    "CTCT_adj = sps_CTCT_adj.toarray()"
   ]
  },
  {
   "cell_type": "code",
   "execution_count": 295,
   "metadata": {
    "ExecuteTime": {
     "end_time": "2024-05-20T12:33:16.008685Z",
     "start_time": "2024-05-20T12:33:15.873056Z"
    }
   },
   "outputs": [],
   "source": [
    "## Make T-C, T-C-T-C adjacency matrix; Leave 2-hop elements only\n",
    "only_CTCT = (CTCT_adj.astype(np.int8) - CT_adj.astype(np.int8)).astype(np.bool)\n",
    "TC_adj = CT_adj.T\n",
    "TCTC_adj = CTCT_adj.T\n",
    "only_TCTC = only_CTCT.T"
   ]
  },
  {
   "cell_type": "code",
   "execution_count": 271,
   "metadata": {
    "ExecuteTime": {
     "end_time": "2024-05-20T08:09:57.784720Z",
     "start_time": "2024-05-20T08:09:57.767489Z"
    }
   },
   "outputs": [],
   "source": [
    "def save_hdf5(data_to_save, data_path):\n",
    "    import h5py\n",
    "    from scipy.sparse import csr_matrix, lil_matrix\n",
    "    with h5py.File(data_path, \"w\") as f:\n",
    "        if isinstance(data_to_save, (csr_matrix, lil_matrix)):\n",
    "            f.create_dataset(\"data\", data=data_to_save.data)\n",
    "            f.create_dataset(\"indices\", data=data_to_save.indices)\n",
    "            f.create_dataset(\"indptr\", data=data_to_save.indptr)\n",
    "            f.attrs[\"shape\"] = data_to_save.shape\n",
    "            f.attrs[\"type\"] = \"sparse\"\n",
    "        else:\n",
    "            f.create_dataset(\"data\", data=data_to_save)\n",
    "            f.attrs[\"type\"] = \"dense\"\n",
    "    \n",
    "def load_hdf5(data_path):\n",
    "    import h5py\n",
    "    from scipy.sparse import csr_matrix\n",
    "    with h5py.File(data_path, \"r\") as f:\n",
    "        if f.attrs[\"type\"]==\"sparse\":\n",
    "            data = f[\"data\"][:]\n",
    "            indices = f[\"indices\"][:]\n",
    "            indptr = f[\"indptr\"][:]\n",
    "            shape = f.attrs[\"shape\"]\n",
    "            return csr_matrix((data, indices, indptr), shape=shape)\n",
    "        else:\n",
    "            return f[\"data\"][:]"
   ]
  },
  {
   "cell_type": "code",
   "execution_count": 287,
   "metadata": {
    "ExecuteTime": {
     "end_time": "2024-05-20T08:11:48.320419Z",
     "start_time": "2024-05-20T08:11:46.959496Z"
    }
   },
   "outputs": [],
   "source": [
    "save_hdf5(sps_CT_adj, os.path.join(data_path, \"adjacency_matrices\", \"sps_CT_adj.h5\"))\n",
    "save_hdf5(sps_CTC_adj, os.path.join(data_path, \"adjacency_matrices\", \"sps_CTC_adj.h5\"))\n",
    "save_hdf5(sps_CTCT_adj, os.path.join(data_path, \"adjacency_matrices\", \"sps_CTCT_adj.h5\"))"
   ]
  },
  {
   "cell_type": "markdown",
   "metadata": {},
   "source": [
    "### Positive/Negative sampling"
   ]
  },
  {
   "cell_type": "code",
   "execution_count": 232,
   "metadata": {
    "ExecuteTime": {
     "end_time": "2024-05-20T07:33:29.482383Z",
     "start_time": "2024-05-20T07:33:29.466640Z"
    }
   },
   "outputs": [],
   "source": [
    "def extract_targets(data, cid):\n",
    "    targets = data.loc[cid][\"T_seq\"]\n",
    "    out = targets.values if isinstance(targets, pd.Series) else np.array([targets])\n",
    "    return out\n",
    "\n",
    "def split_per_C(cid, tids, split_ratio={\"train\": 8, \"val\": 1, \"test\": 1}):\n",
    "    n_train_per_C = np.int(np.round((len(tids) / 10) * split_ratio[\"train\"]))\n",
    "    n_val_per_C = np.int(np.floor((len(tids) - (np.int(np.round((len(tids) / 10) * split_ratio[\"train\"])))) / 2))\n",
    "    n_test_per_C = len(tids) - n_train_per_C - n_val_per_C\n",
    "    \n",
    "    train_index = np.random.choice(np.arange(len(tids)), n_train_per_C, replace=False)\n",
    "    train_remainder = np.setdiff1d(np.arange(len(tids)), train_index)\n",
    "    val_index = np.random.choice(train_remainder, n_val_per_C, replace=False)\n",
    "    test_index = np.setdiff1d(train_remainder, val_index)    \n",
    "    \n",
    "    return (tids[train_index], tids[val_index], tids[test_index])"
   ]
  },
  {
   "cell_type": "code",
   "execution_count": 302,
   "metadata": {
    "ExecuteTime": {
     "end_time": "2024-05-20T12:41:35.982872Z",
     "start_time": "2024-05-20T12:41:26.373667Z"
    }
   },
   "outputs": [
    {
     "name": "stderr",
     "output_type": "stream",
     "text": [
      "100%|██████████| 21507/21507 [00:09<00:00, 2243.38it/s]"
     ]
    },
    {
     "name": "stdout",
     "output_type": "stream",
     "text": [
      "TRAIN: 96167 (0.81), VAL: 3607 (0.03), TEST: 19519 (0.16)\n"
     ]
    },
    {
     "name": "stderr",
     "output_type": "stream",
     "text": [
      "\n"
     ]
    }
   ],
   "source": [
    "## Make stratified train/val/test indexes according to split ratio\n",
    "train_indexes, val_indexes, test_indexes = np.empty((0,2), dtype=np.int), np.empty((0,2), dtype=np.int), np.empty((0,2), dtype=np.int)\n",
    "for i in tqdm(range(CT_adj.shape[0])): # for every C_cid\n",
    "    target_indexes = np.nonzero(CT_adj[i,:])[0]\n",
    "    curr_train, curr_val, curr_test = split_per_C(i, target_indexes)\n",
    "    train_indexes = np.concatenate([train_indexes, np.hstack((curr_train[:,np.newaxis], np.tile(i, len(curr_train))[:,np.newaxis]))])\n",
    "    val_indexes = np.concatenate([val_indexes, np.hstack((curr_val[:,np.newaxis], np.tile(i, len(curr_val))[:,np.newaxis]))])\n",
    "    test_indexes = np.concatenate([test_indexes, np.hstack((curr_test[:,np.newaxis], np.tile(i, len(curr_test))[:,np.newaxis]))])\n",
    "\n",
    "    \n",
    "n_whole_indexes = sum((train_indexes.shape[0], val_indexes.shape[0], test_indexes.shape[0]))\n",
    "print(\"TRAIN: {} ({}), VAL: {} ({}), TEST: {} ({})\".format(train_indexes.shape[0], np.round(train_indexes.shape[0]/n_whole_indexes, 2), val_indexes.shape[0], np.round(val_indexes.shape[0]/n_whole_indexes, 2), test_indexes.shape[0], np.round(test_indexes.shape[0]/n_whole_indexes, 2)))"
   ]
  },
  {
   "cell_type": "code",
   "execution_count": 297,
   "metadata": {
    "ExecuteTime": {
     "end_time": "2024-05-20T12:33:54.137257Z",
     "start_time": "2024-05-20T12:33:42.216787Z"
    },
    "scrolled": true
   },
   "outputs": [
    {
     "name": "stderr",
     "output_type": "stream",
     "text": [
      "100%|██████████| 3267/3267 [00:11<00:00, 279.80it/s]\n"
     ]
    }
   ],
   "source": [
    "## Make train/val/test set with positive/negative samples\n",
    "cols_taranc = [\"Target_index\", \"Anchor_index\"]\n",
    "cols_posneg = [\"Positive_index\", \"Negative_index\"]\n",
    "\n",
    "train_index_set = pd.DataFrame(train_indexes, columns=cols_taranc).sort_values(\"Target_index\").set_index(\"Target_index\")\n",
    "train_container = pd.DataFrame(columns=cols_posneg)\n",
    "for curr_index in tqdm(train_index_set.index.unique()):\n",
    "    n_anchors_per_T = train_index_set.loc[curr_index].shape[0]\n",
    "    pos_per_T = np.nonzero(TCTC_adj[curr_index,:])[0]\n",
    "    neg_per_T = np.nonzero(TCTC_adj[curr_index,:]==0)[0]\n",
    "    curr_pos = np.random.choice(pos_per_T, n_anchors_per_T)\n",
    "    curr_neg = np.random.choice(neg_per_T, n_anchors_per_T)    \n",
    "    curr_posneg = pd.DataFrame(np.hstack((curr_pos[:,np.newaxis], curr_neg[:,np.newaxis])), index=np.tile(curr_index, n_anchors_per_T), columns=cols_posneg)\n",
    "    train_container = pd.concat([train_container, curr_posneg], axis=0)\n",
    "    \n",
    "train_index_set.loc[:,cols_posneg] = train_container\n",
    "train_index_set = train_index_set.reset_index()\n",
    "\n",
    "train_set = pd.DataFrame(index=train_index_set.index)\n",
    "train_set.loc[:,\"T_seq\"] = train_index_set[\"Target_index\"].apply(lambda x: i_to_T_seq[x])\n",
    "train_set.loc[:,\"C_anc\"] = train_index_set[\"Anchor_index\"].apply(lambda x: i_to_C_seq[x])\n",
    "train_set.loc[:,\"C_pos\"] = train_index_set[\"Positive_index\"].apply(lambda x: i_to_C_seq[x])\n",
    "train_set.loc[:,\"C_neg\"] = train_index_set[\"Negative_index\"].apply(lambda x: i_to_C_seq[x])\n",
    "\n",
    "val_index_set = pd.DataFrame(val_indexes, columns=cols_taranc).sort_values(\"Target_index\")\n",
    "val_set = pd.DataFrame(index=val_index_set.index)\n",
    "val_set.loc[:,\"T_seq\"] = val_index_set[\"Target_index\"].apply(lambda x: i_to_T_seq[x])\n",
    "val_set.loc[:,\"C_anc\"] = val_index_set[\"Anchor_index\"].apply(lambda x: i_to_C_seq[x])\n",
    "\n",
    "test_index_set = pd.DataFrame(test_indexes, columns=cols_taranc).sort_values(\"Target_index\")\n",
    "test_set = pd.DataFrame(index=test_index_set.index)\n",
    "test_set.loc[:,\"T_seq\"] = test_index_set[\"Target_index\"].apply(lambda x: i_to_T_seq[x])\n",
    "test_set.loc[:,\"C_anc\"] = test_index_set[\"Anchor_index\"].apply(lambda x: i_to_C_seq[x])"
   ]
  },
  {
   "cell_type": "code",
   "execution_count": 243,
   "metadata": {
    "ExecuteTime": {
     "end_time": "2024-05-20T07:41:48.728959Z",
     "start_time": "2024-05-20T07:41:46.692525Z"
    }
   },
   "outputs": [],
   "source": [
    "## Save train/va/test datasets\n",
    "train_set.to_csv(data_path+\"/splitted/train.csv\")\n",
    "val_set.to_csv(data_path+\"/splitted/val.csv\")\n",
    "test_set.to_csv(data_path+\"/splitted/test.csv\")"
   ]
  },
  {
   "cell_type": "code",
   "execution_count": null,
   "metadata": {},
   "outputs": [],
   "source": []
  },
  {
   "cell_type": "code",
   "execution_count": null,
   "metadata": {},
   "outputs": [],
   "source": []
  },
  {
   "cell_type": "code",
   "execution_count": null,
   "metadata": {},
   "outputs": [],
   "source": []
  },
  {
   "cell_type": "code",
   "execution_count": null,
   "metadata": {},
   "outputs": [],
   "source": []
  }
 ],
 "metadata": {
  "kernelspec": {
   "display_name": "Drug",
   "language": "python",
   "name": "drug2"
  },
  "language_info": {
   "codemirror_mode": {
    "name": "ipython",
    "version": 3
   },
   "file_extension": ".py",
   "mimetype": "text/x-python",
   "name": "python",
   "nbconvert_exporter": "python",
   "pygments_lexer": "ipython3",
   "version": "3.6.9"
  },
  "toc": {
   "base_numbering": 1,
   "nav_menu": {},
   "number_sections": true,
   "sideBar": true,
   "skip_h1_title": false,
   "title_cell": "Table of Contents",
   "title_sidebar": "Contents",
   "toc_cell": false,
   "toc_position": {},
   "toc_section_display": true,
   "toc_window_display": false
  }
 },
 "nbformat": 4,
 "nbformat_minor": 2
}
