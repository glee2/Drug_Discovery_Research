{
 "cells": [
  {
   "cell_type": "markdown",
   "metadata": {},
   "source": [
    "# Load data"
   ]
  },
  {
   "cell_type": "code",
   "execution_count": 1,
   "metadata": {
    "ExecuteTime": {
     "end_time": "2024-05-15T04:07:39.524008Z",
     "start_time": "2024-05-15T04:07:39.519756Z"
    }
   },
   "outputs": [],
   "source": [
    "import os\n",
    "os.environ[\"NUMBA_ENABLE_CUDASIM\"] = \"1\"\n",
    "os.environ[\"NUMBA_CUDA_DEBUGINFO\"] = \"1\""
   ]
  },
  {
   "cell_type": "code",
   "execution_count": 2,
   "metadata": {
    "ExecuteTime": {
     "end_time": "2024-05-15T04:07:45.846138Z",
     "start_time": "2024-05-15T04:07:40.062273Z"
    }
   },
   "outputs": [],
   "source": [
    "import pubchempy as pcp\n",
    "import requests\n",
    "import json\n",
    "import numpy as np\n",
    "import pandas as pd\n",
    "pd.set_option('display.max_rows',200,'display.max_columns',50)\n",
    "import csv\n",
    "import time\n",
    "import pickle\n",
    "from tqdm import tqdm\n",
    "from rdkit.Chem import AllChem as Chem\n",
    "from rdkit.Chem import QED\n",
    "from rdkit.Chem.Descriptors import MolWt\n",
    "from rdkit.Chem import RDConfig\n",
    "import os\n",
    "import sys\n",
    "sys.path.append(os.path.join(RDConfig.RDContribDir,'SA_Score'))\n",
    "from sascorer import calculateScore\n",
    "import pubchempy as pcp\n",
    "from sklearn.model_selection import train_test_split\n",
    "import numba as nb\n",
    "from scipy import sparse"
   ]
  },
  {
   "cell_type": "code",
   "execution_count": null,
   "metadata": {
    "ExecuteTime": {
     "start_time": "2024-05-15T04:07:41.292Z"
    }
   },
   "outputs": [],
   "source": [
    "root = \"/home2/glee/Drug_Discovery_Research\"\n",
    "data_path = os.path.join(root, \"data\")\n",
    "data = pd.read_csv(os.path.join(data_path, \"preprocessed/data_20240514.csv\")).set_index(\"C_cid\")"
   ]
  },
  {
   "cell_type": "code",
   "execution_count": null,
   "metadata": {
    "ExecuteTime": {
     "end_time": "2024-05-15T02:52:23.771433Z",
     "start_time": "2024-05-15T02:52:23.752104Z"
    },
    "scrolled": true
   },
   "outputs": [],
   "source": [
    "data"
   ]
  },
  {
   "cell_type": "code",
   "execution_count": null,
   "metadata": {
    "ExecuteTime": {
     "end_time": "2024-05-14T17:02:59.727332Z",
     "start_time": "2024-05-14T17:02:55.766943Z"
    }
   },
   "outputs": [],
   "source": [
    "vocab_C, vocab_C_index = np.unique(data[\"C_seq_can_smiles\"], return_index=True)\n",
    "vocab_C_cid = data.iloc[vocab_C_index].index\n",
    "vocab_T, vocab_T_index = np.unique(data[\"T_seq\"], return_index=True)\n",
    "vocab_T_id = data.iloc[vocab_T_index][\"T_id\"].values\n",
    "\n",
    "C_to_index = {vocab_C[i]: i for i in range(len(vocab_C))}\n",
    "T_to_index = {vocab_T[i]: i for i in range(len(vocab_T))}"
   ]
  },
  {
   "cell_type": "markdown",
   "metadata": {},
   "source": [
    "# Positive/Negative sampling"
   ]
  },
  {
   "cell_type": "code",
   "execution_count": null,
   "metadata": {
    "ExecuteTime": {
     "end_time": "2024-05-14T16:58:06.675328Z",
     "start_time": "2024-05-14T16:58:06.592394Z"
    }
   },
   "outputs": [],
   "source": [
    "index_train, index_test = train_test_split(pd.Index(np.unique(data.index)), shuffle=True, test_size=0.2)"
   ]
  },
  {
   "cell_type": "code",
   "execution_count": null,
   "metadata": {
    "ExecuteTime": {
     "end_time": "2024-05-14T16:58:11.710645Z",
     "start_time": "2024-05-14T16:58:07.750919Z"
    }
   },
   "outputs": [],
   "source": [
    "data_tr = data.loc[index_train]\n",
    "data_te = data.loc[index_test]"
   ]
  },
  {
   "cell_type": "code",
   "execution_count": null,
   "metadata": {
    "ExecuteTime": {
     "end_time": "2024-05-14T09:11:15.763614Z",
     "start_time": "2024-05-14T09:11:15.750045Z"
    },
    "scrolled": true
   },
   "outputs": [],
   "source": [
    "data_tr"
   ]
  },
  {
   "cell_type": "code",
   "execution_count": null,
   "metadata": {
    "ExecuteTime": {
     "end_time": "2024-05-14T09:11:15.896725Z",
     "start_time": "2024-05-14T09:11:15.765884Z"
    },
    "scrolled": true
   },
   "outputs": [],
   "source": [
    "data_te"
   ]
  },
  {
   "cell_type": "code",
   "execution_count": null,
   "metadata": {},
   "outputs": [],
   "source": []
  },
  {
   "cell_type": "code",
   "execution_count": null,
   "metadata": {},
   "outputs": [],
   "source": []
  },
  {
   "cell_type": "code",
   "execution_count": null,
   "metadata": {},
   "outputs": [],
   "source": []
  },
  {
   "cell_type": "code",
   "execution_count": null,
   "metadata": {
    "ExecuteTime": {
     "end_time": "2024-05-15T02:19:43.247275Z",
     "start_time": "2024-05-15T02:19:40.718016Z"
    },
    "scrolled": true
   },
   "outputs": [],
   "source": [
    "@nb.njit(['(int8[::1], int8[::1], int8[::1], int8[::1], int8[::1], int8[::1])', '(int8[::1], int8[::1], int8[::1], int8[::1], int8[::1], int8[::1])'], nopython=True, fastmath=True, parallel=True)\n",
    "def nb_dot(data1, indices1, indptr1, data2, indices2, indptr2):\n",
    "    nrows1 = indptr1.size-1\n",
    "    ncols2 = indptr2.size-1\n",
    "    res = np.zeros((nrows1, ncols2))\n",
    "\n",
    "    for curr_row1 in nb.prange(nrows1):\n",
    "        row1_start, row1_end = indptr1[curr_row1], indptr1[curr_row1+1]\n",
    "        curr_data1 = data1[row1_start:row1_end]\n",
    "        curr_indices1 = indices1[row1_start:row1_end]\n",
    "\n",
    "        for curr_row2 in nb.prange(ncols2):\n",
    "            row2_start, row2_end = indptr2[curr_row2], indptr2[curr_row2+1]\n",
    "            curr_data2 = data2[row2_start:row2_end]\n",
    "            curr_indices2 = indices2[row2_start:row2_end]\n",
    "\n",
    "            for i in range(len(curr_indices1)):\n",
    "                for j in range(len(curr_indices2)):\n",
    "                    if curr_indices1[i]==curr_indices2[j]:\n",
    "                        res[curr_row1,curr_row2] += curr_data1[i] * curr_data2[j]\n",
    "\n",
    "    return res\n",
    "\n",
    "def sps_dot_fast(mat1, mat2):\n",
    "    spsarr1 = sparse.csr_matrix(mat1)\n",
    "    spsarr2 = sparse.csc_matrix(mat2)\n",
    "    \n",
    "    return nb_dot(spsarr1.data.astype(np.int8), spsarr1.indices.astype(np.int8), spsarr1.indptr.astype(np.int8), spsarr2.data.astype(np.int8), spsarr2.indices.astype(np.int8), spsarr2.indptr.astype(np.int8))"
   ]
  },
  {
   "cell_type": "code",
   "execution_count": null,
   "metadata": {
    "ExecuteTime": {
     "end_time": "2024-05-15T03:19:35.792310Z",
     "start_time": "2024-05-15T03:19:35.788165Z"
    },
    "scrolled": true
   },
   "outputs": [],
   "source": [
    "from numba import cuda, float32"
   ]
  },
  {
   "cell_type": "code",
   "execution_count": null,
   "metadata": {
    "ExecuteTime": {
     "end_time": "2024-05-15T03:20:40.353114Z",
     "start_time": "2024-05-15T03:20:40.339443Z"
    }
   },
   "outputs": [],
   "source": [
    "TPB = 16\n",
    "\n",
    "@cuda.jit\n",
    "def fast_matmul(A, B, C):\n",
    "    # Define an array in the shared memory\n",
    "    # The size and type of the arrays must be known at compile time\n",
    "    sA = cuda.shared.array(shape=(TPB, TPB), dtype=float32)\n",
    "    sB = cuda.shared.array(shape=(TPB, TPB), dtype=float32)\n",
    "    \n",
    "    x, y = cuda.grid(2)\n",
    "  \n",
    "    tx = cuda.threadIdx.x\n",
    "    ty = cuda.threadIdx.y\n",
    "    bpg = cuda.gridDim.x    # blocks per grid\n",
    "\n",
    "    if x >= C.shape[0] and y >= C.shape[1]:\n",
    "        # Quit if (x, y) is outside of valid C boundary\n",
    "        return\n",
    "\n",
    "    # Each thread computes one element in the result matrix.\n",
    "    # The dot product is chunked into dot products of TPB-long vectors.\n",
    "    tmp = 0.\n",
    "    for i in range(bpg):\n",
    "        print(A[x, ty + i * TPB])\n",
    "        # Preload data into shared memory\n",
    "        sA[tx, ty] = A[x, ty + i * TPB]\n",
    "        sB[tx, ty] = B[tx + i * TPB, y]\n",
    "\n",
    "        # Wait until all threads finish preloading\n",
    "        cuda.syncthreads()\n",
    "\n",
    "        # Computes partial product on the shared memory\n",
    "        for j in range(TPB):\n",
    "            tmp += sA[tx, j] * sB[j, ty]\n",
    "\n",
    "        # Wait until all threads finish computing\n",
    "        cuda.syncthreads()\n",
    "\n",
    "    C[x, y] = tmp"
   ]
  },
  {
   "cell_type": "code",
   "execution_count": null,
   "metadata": {
    "ExecuteTime": {
     "end_time": "2024-05-15T03:25:46.256787Z",
     "start_time": "2024-05-15T03:25:46.251870Z"
    }
   },
   "outputs": [],
   "source": [
    "res = np.zeros((CT_adj.shape[0], CT_adj.T.shape[1]))"
   ]
  },
  {
   "cell_type": "code",
   "execution_count": null,
   "metadata": {
    "ExecuteTime": {
     "end_time": "2024-05-15T03:16:23.664801Z",
     "start_time": "2024-05-15T03:16:23.659318Z"
    },
    "scrolled": true
   },
   "outputs": [],
   "source": [
    "cuda_mat1 = cuda.to_device(CT_adj)\n",
    "cuda_mat2 = cuda.to_device(CT_adj.T)\n",
    "cuda_res = cuda.to_device(res)"
   ]
  },
  {
   "cell_type": "code",
   "execution_count": null,
   "metadata": {
    "ExecuteTime": {
     "end_time": "2024-05-15T03:20:49.407828Z",
     "start_time": "2024-05-15T03:20:42.538510Z"
    }
   },
   "outputs": [],
   "source": [
    "fast_matmul[8,16](CT_adj, CT_adj.T, res)"
   ]
  },
  {
   "cell_type": "code",
   "execution_count": null,
   "metadata": {
    "ExecuteTime": {
     "end_time": "2024-05-15T03:20:16.600099Z",
     "start_time": "2024-05-15T03:20:16.592704Z"
    }
   },
   "outputs": [],
   "source": [
    "res"
   ]
  },
  {
   "cell_type": "code",
   "execution_count": null,
   "metadata": {
    "ExecuteTime": {
     "end_time": "2024-05-15T03:17:34.008108Z",
     "start_time": "2024-05-15T03:17:34.000597Z"
    }
   },
   "outputs": [],
   "source": [
    "cuda_res.copy_to_host()"
   ]
  },
  {
   "cell_type": "code",
   "execution_count": null,
   "metadata": {},
   "outputs": [],
   "source": []
  },
  {
   "cell_type": "code",
   "execution_count": null,
   "metadata": {},
   "outputs": [],
   "source": []
  },
  {
   "cell_type": "code",
   "execution_count": null,
   "metadata": {
    "ExecuteTime": {
     "end_time": "2024-05-15T03:11:13.561346Z",
     "start_time": "2024-05-15T03:11:13.529439Z"
    }
   },
   "outputs": [],
   "source": [
    "\n",
    "fast_matmul[(32,8),(32,16)](CT_adj, CT_adj.T, res)"
   ]
  },
  {
   "cell_type": "code",
   "execution_count": null,
   "metadata": {},
   "outputs": [],
   "source": []
  },
  {
   "cell_type": "code",
   "execution_count": null,
   "metadata": {
    "ExecuteTime": {
     "end_time": "2024-05-15T04:06:59.414987Z",
     "start_time": "2024-05-15T04:06:57.927010Z"
    }
   },
   "outputs": [],
   "source": [
    "# TEST!\n",
    "sample_data = data.iloc[:500000]\n",
    "\n",
    "vocab_C, vocab_C_index = np.unique(sample_data[\"C_seq_can_smiles\"], return_index=True)\n",
    "vocab_C_cid = sample_data.iloc[vocab_C_index].index\n",
    "vocab_T, vocab_T_index = np.unique(sample_data[\"T_seq\"], return_index=True)\n",
    "vocab_T_id = sample_data.iloc[vocab_T_index][\"T_id\"].values\n",
    "\n",
    "C_to_index = {vocab_C[i]: i for i in range(len(vocab_C))}\n",
    "T_to_index = {vocab_T[i]: i for i in range(len(vocab_T))}"
   ]
  },
  {
   "cell_type": "code",
   "execution_count": null,
   "metadata": {
    "ExecuteTime": {
     "end_time": "2024-05-15T04:07:12.167539Z",
     "start_time": "2024-05-15T04:06:59.416495Z"
    }
   },
   "outputs": [],
   "source": [
    "## TEST!\n",
    "CT_adj = np.zeros((len(vocab_C), len(vocab_T)), dtype=np.float32)\n",
    "print(\"Shape of C-T adjacency matrix: \", CT_adj.shape)\n",
    "index_binding = sample_data.apply(lambda x: (C_to_index[x[\"C_seq_can_smiles\"]], T_to_index[x[\"T_seq\"]]), axis=1)\n",
    "CT_adj[tuple(np.array(list(zip(*index_binding.values))))] = True"
   ]
  },
  {
   "cell_type": "code",
   "execution_count": null,
   "metadata": {
    "ExecuteTime": {
     "end_time": "2024-05-15T03:52:37.857862Z",
     "start_time": "2024-05-15T03:52:37.851121Z"
    }
   },
   "outputs": [],
   "source": [
    "CT_adj"
   ]
  },
  {
   "cell_type": "code",
   "execution_count": null,
   "metadata": {
    "ExecuteTime": {
     "end_time": "2024-05-15T03:52:38.558159Z",
     "start_time": "2024-05-15T03:52:38.553692Z"
    }
   },
   "outputs": [],
   "source": [
    "def dot_np(A, B):\n",
    "    C = np.dot(A, B)\n",
    "    return C"
   ]
  },
  {
   "cell_type": "code",
   "execution_count": null,
   "metadata": {
    "ExecuteTime": {
     "end_time": "2024-05-15T03:52:39.198345Z",
     "start_time": "2024-05-15T03:52:39.083527Z"
    },
    "scrolled": true
   },
   "outputs": [],
   "source": [
    "dot_nb = nb.jit(nb.float32[:,:](nb.float32[:,:], nb.float32[:,:]), nopython=True)(dot_np)"
   ]
  },
  {
   "cell_type": "code",
   "execution_count": null,
   "metadata": {
    "ExecuteTime": {
     "end_time": "2024-05-15T03:52:39.716796Z",
     "start_time": "2024-05-15T03:52:39.703060Z"
    }
   },
   "outputs": [],
   "source": [
    "res = dot_nb(CT_adj, CT_adj.T)"
   ]
  },
  {
   "cell_type": "code",
   "execution_count": null,
   "metadata": {
    "ExecuteTime": {
     "end_time": "2024-05-15T03:52:41.061084Z",
     "start_time": "2024-05-15T03:52:41.054846Z"
    },
    "scrolled": true
   },
   "outputs": [],
   "source": [
    "display(res.sum())"
   ]
  },
  {
   "cell_type": "code",
   "execution_count": null,
   "metadata": {
    "ExecuteTime": {
     "end_time": "2024-05-15T04:03:56.845724Z",
     "start_time": "2024-05-15T04:03:56.838123Z"
    }
   },
   "outputs": [],
   "source": [
    "def chunk_dot(A, B):\n",
    "    m, n = A.shape\n",
    "    p, q = B.shape\n",
    "    assert n == p\n",
    "    res = np.zeros((m, q), dtype=np.float32)\n",
    "    for i in range(0,n_chunks):\n",
    "#         print(\"For chunk\",i)\n",
    "        start, end = m*i//n_chunks, m*(i+1)//n_chunks\n",
    "#         print(\"start:\",start,\"end:\",end)\n",
    "        res[start:end,:] = A[start:end,:] @ B\n",
    "        \n",
    "    return res"
   ]
  },
  {
   "cell_type": "code",
   "execution_count": null,
   "metadata": {
    "ExecuteTime": {
     "end_time": "2024-05-15T04:03:59.317084Z",
     "start_time": "2024-05-15T04:03:58.598008Z"
    }
   },
   "outputs": [],
   "source": [
    "chunk_dot_nb = nb.jit(nb.float32[:,:](nb.float32[:,::1], nb.float32[::1,:]), nopython=True, fastmath=True, parallel=True)(chunk_dot)"
   ]
  },
  {
   "cell_type": "code",
   "execution_count": null,
   "metadata": {
    "ExecuteTime": {
     "end_time": "2024-05-15T04:03:59.618658Z",
     "start_time": "2024-05-15T04:03:59.616308Z"
    }
   },
   "outputs": [],
   "source": [
    "n_chunks=10"
   ]
  },
  {
   "cell_type": "code",
   "execution_count": null,
   "metadata": {
    "ExecuteTime": {
     "start_time": "2024-05-15T04:07:07.928Z"
    },
    "scrolled": true
   },
   "outputs": [],
   "source": [
    "res = chunk_dot_nb(CT_adj, CT_adj.T)"
   ]
  },
  {
   "cell_type": "code",
   "execution_count": null,
   "metadata": {
    "ExecuteTime": {
     "end_time": "2024-05-15T04:06:50.267520Z",
     "start_time": "2024-05-15T04:06:49.137171Z"
    }
   },
   "outputs": [],
   "source": [
    "res.sum()"
   ]
  },
  {
   "cell_type": "code",
   "execution_count": null,
   "metadata": {},
   "outputs": [],
   "source": []
  },
  {
   "cell_type": "code",
   "execution_count": null,
   "metadata": {
    "ExecuteTime": {
     "end_time": "2024-05-15T03:49:08.612225Z",
     "start_time": "2024-05-15T03:49:08.595361Z"
    }
   },
   "outputs": [],
   "source": [
    "def sps_dot(data1, indices1, indptr1, data2, indices2, indptr2):\n",
    "    nrows1 = indptr1.size-1\n",
    "    ncols2 = indptr2.size-1\n",
    "    res = np.zeros((nrows1, ncols2), dtype=np.float32)\n",
    "\n",
    "    for curr_row1 in nb.prange(nrows1):\n",
    "        row1_start, row1_end = indptr1[curr_row1], indptr1[curr_row1+1]\n",
    "        curr_data1 = data1[row1_start:row1_end]\n",
    "        curr_indices1 = indices1[row1_start:row1_end]\n",
    "\n",
    "        for curr_row2 in nb.prange(ncols2):\n",
    "            row2_start, row2_end = indptr2[curr_row2], indptr2[curr_row2+1]\n",
    "            curr_data2 = data2[row2_start:row2_end]\n",
    "            curr_indices2 = indices2[row2_start:row2_end]\n",
    "\n",
    "            for i in range(len(curr_indices1)):\n",
    "                for j in range(len(curr_indices2)):\n",
    "                    if curr_indices1[i]==curr_indices2[j]:\n",
    "                        res[curr_row1,curr_row2] += curr_data1[i] * curr_data2[j]\n",
    "\n",
    "    return res\n",
    "\n",
    "def sps_dot_fast(mat1, mat2):\n",
    "    spsarr1 = sparse.csr_matrix(mat1)\n",
    "    spsarr2 = sparse.csc_matrix(mat2)\n",
    "    \n",
    "    return nb_dot(spsarr1.data.astype(np.float32), spsarr1.indices.astype(np.int8), spsarr1.indptr.astype(np.int8), spsarr2.data.astype(np.float32), spsarr2.indices.astype(np.int8), spsarr2.indptr.astype(np.int8))"
   ]
  },
  {
   "cell_type": "code",
   "execution_count": null,
   "metadata": {
    "ExecuteTime": {
     "end_time": "2024-05-15T03:45:36.589854Z",
     "start_time": "2024-05-15T03:45:36.582613Z"
    }
   },
   "outputs": [],
   "source": [
    "type(spsarr1.data[0] * spsarr2.data[0])"
   ]
  },
  {
   "cell_type": "code",
   "execution_count": null,
   "metadata": {
    "ExecuteTime": {
     "end_time": "2024-05-15T03:45:53.875185Z",
     "start_time": "2024-05-15T03:45:53.868817Z"
    }
   },
   "outputs": [],
   "source": [
    "type(np.zeros((10,12), dtype=np.float32)[0,3])"
   ]
  },
  {
   "cell_type": "code",
   "execution_count": null,
   "metadata": {
    "ExecuteTime": {
     "end_time": "2024-05-15T03:29:24.633513Z",
     "start_time": "2024-05-15T03:29:21.244293Z"
    }
   },
   "outputs": [],
   "source": [
    "spsarr1 = sparse.csr_matrix(CT_adj)\n",
    "spsarr2 = sparse.csc_matrix(CT_adj.T)"
   ]
  },
  {
   "cell_type": "code",
   "execution_count": null,
   "metadata": {
    "ExecuteTime": {
     "end_time": "2024-05-15T03:32:49.804573Z",
     "start_time": "2024-05-15T03:32:49.798617Z"
    }
   },
   "outputs": [],
   "source": [
    "type(spsarr1.indptr[0])"
   ]
  },
  {
   "cell_type": "code",
   "execution_count": null,
   "metadata": {
    "ExecuteTime": {
     "end_time": "2024-05-15T03:41:54.628014Z",
     "start_time": "2024-05-15T03:41:54.621683Z"
    }
   },
   "outputs": [],
   "source": [
    "nb.int64[:,::1]"
   ]
  },
  {
   "cell_type": "code",
   "execution_count": null,
   "metadata": {
    "ExecuteTime": {
     "end_time": "2024-05-15T03:49:10.718759Z",
     "start_time": "2024-05-15T03:49:10.431733Z"
    }
   },
   "outputs": [],
   "source": [
    "nb_dot = nb.jit(nb.float32[:,:](nb.float32[::1], nb.int64[::1], nb.int64[::1], nb.float32[::1], nb.int64[::1], nb.int64[::1]), nopython=True)(sps_dot)"
   ]
  },
  {
   "cell_type": "code",
   "execution_count": null,
   "metadata": {
    "ExecuteTime": {
     "end_time": "2024-05-15T03:51:09.102713Z",
     "start_time": "2024-05-15T03:49:23.326640Z"
    }
   },
   "outputs": [],
   "source": [
    "res = nb_dot(spsarr1.data.astype(np.float32), spsarr1.indices.astype(np.int64), spsarr1.indptr.astype(np.int64), spsarr2.data.astype(np.float32), spsarr2.indices.astype(np.int64), spsarr2.indptr.astype(np.int64))"
   ]
  },
  {
   "cell_type": "code",
   "execution_count": null,
   "metadata": {
    "ExecuteTime": {
     "end_time": "2024-05-15T03:51:54.486140Z",
     "start_time": "2024-05-15T03:51:53.309495Z"
    }
   },
   "outputs": [],
   "source": [
    "res.sum()"
   ]
  },
  {
   "cell_type": "code",
   "execution_count": null,
   "metadata": {
    "ExecuteTime": {
     "end_time": "2024-05-15T03:13:15.559856Z",
     "start_time": "2024-05-15T03:13:15.543427Z"
    }
   },
   "outputs": [],
   "source": [
    "# TEST!\n",
    "sample_data = data.iloc[:1000]\n",
    "\n",
    "vocab_C, vocab_C_index = np.unique(sample_data[\"C_seq_can_smiles\"], return_index=True)\n",
    "vocab_C_cid = sample_data.iloc[vocab_C_index].index\n",
    "vocab_T, vocab_T_index = np.unique(sample_data[\"T_seq\"], return_index=True)\n",
    "vocab_T_id = sample_data.iloc[vocab_T_index][\"T_id\"].values\n",
    "\n",
    "C_to_index = {vocab_C[i]: i for i in range(len(vocab_C))}\n",
    "T_to_index = {vocab_T[i]: i for i in range(len(vocab_T))}"
   ]
  },
  {
   "cell_type": "code",
   "execution_count": null,
   "metadata": {
    "ExecuteTime": {
     "end_time": "2024-05-15T03:13:17.019725Z",
     "start_time": "2024-05-15T03:13:16.983448Z"
    }
   },
   "outputs": [],
   "source": [
    "## TEST!\n",
    "CT_adj = np.zeros((len(vocab_C), len(vocab_T)), dtype='bool')\n",
    "print(\"Shape of C-T adjacency matrix: \", CT_adj.shape)\n",
    "index_binding = sample_data.apply(lambda x: (C_to_index[x[\"C_seq_can_smiles\"]], T_to_index[x[\"T_seq\"]]), axis=1)\n",
    "CT_adj[tuple(np.array(list(zip(*index_binding.values))))] = True"
   ]
  },
  {
   "cell_type": "code",
   "execution_count": null,
   "metadata": {
    "ExecuteTime": {
     "end_time": "2024-05-15T02:25:06.285056Z",
     "start_time": "2024-05-15T02:25:06.274513Z"
    },
    "scrolled": true
   },
   "outputs": [],
   "source": [
    "spsarr1 = sparse.csr_matrix(CT_adj)\n",
    "spsarr2 = sparse.csc_matrix(CT_adj.T)"
   ]
  },
  {
   "cell_type": "code",
   "execution_count": null,
   "metadata": {
    "ExecuteTime": {
     "end_time": "2024-05-15T02:25:07.011167Z",
     "start_time": "2024-05-15T02:25:06.978130Z"
    }
   },
   "outputs": [],
   "source": [
    "res = sps_dot_fast(CT_adj, CT_adj.T)"
   ]
  },
  {
   "cell_type": "code",
   "execution_count": null,
   "metadata": {
    "ExecuteTime": {
     "end_time": "2024-05-15T02:25:29.465151Z",
     "start_time": "2024-05-15T02:25:17.794681Z"
    }
   },
   "outputs": [],
   "source": [
    "spsarr1 = sparse.csr_matrix(CT_adj)\n",
    "spsarr2 = sparse.csc_matrix(CT_adj.T)\n",
    "\n",
    "res = nb_dot(spsarr1.data.astype(np.int8), spsarr1.indices.astype(np.int8), spsarr1.indptr.astype(np.int8), spsarr2.data.astype(np.int8), spsarr2.indices.astype(np.int8), spsarr2.indptr.astype(np.int8))"
   ]
  },
  {
   "cell_type": "code",
   "execution_count": null,
   "metadata": {},
   "outputs": [],
   "source": []
  },
  {
   "cell_type": "code",
   "execution_count": null,
   "metadata": {
    "ExecuteTime": {
     "end_time": "2024-05-15T02:53:45.658372Z",
     "start_time": "2024-05-15T02:53:45.653819Z"
    }
   },
   "outputs": [],
   "source": []
  },
  {
   "cell_type": "code",
   "execution_count": null,
   "metadata": {},
   "outputs": [],
   "source": []
  },
  {
   "cell_type": "code",
   "execution_count": null,
   "metadata": {},
   "outputs": [],
   "source": []
  },
  {
   "cell_type": "code",
   "execution_count": null,
   "metadata": {},
   "outputs": [],
   "source": []
  },
  {
   "cell_type": "code",
   "execution_count": null,
   "metadata": {},
   "outputs": [],
   "source": []
  },
  {
   "cell_type": "code",
   "execution_count": null,
   "metadata": {
    "ExecuteTime": {
     "end_time": "2024-05-14T17:22:57.102073Z",
     "start_time": "2024-05-14T17:22:56.812940Z"
    }
   },
   "outputs": [],
   "source": [
    "## Training set에 포함된 pair에 대해서만 인접행렬 업데이트 -> Test set에 포함된 pair 정보는 반영하지 않음\n",
    "CT_adj = np.zeros((len(vocab_C), len(vocab_T)), dtype='bool')\n",
    "print(\"Shape of C-T adjacency matrix: \", CT_adj.shape)\n",
    "index_binding = data_tr.apply(lambda x: (C_to_index[x[\"C_seq_can_smiles\"]], T_to_index[x[\"T_seq\"]]), axis=1)\n",
    "CT_adj[tuple(np.array(list(zip(*index_binding.values))))] = True"
   ]
  },
  {
   "cell_type": "code",
   "execution_count": null,
   "metadata": {
    "ExecuteTime": {
     "end_time": "2024-05-14T17:15:05.049979Z",
     "start_time": "2024-05-14T17:15:05.021239Z"
    }
   },
   "outputs": [],
   "source": [
    "CTC_adj = CT_adj.dot(CT_adj.T)\n",
    "print(\"Shape of C-T-C adjacency matrix: \", CTC_adj.shape)"
   ]
  },
  {
   "cell_type": "code",
   "execution_count": null,
   "metadata": {
    "ExecuteTime": {
     "end_time": "2024-05-14T16:39:54.291981Z",
     "start_time": "2024-05-14T16:39:54.283710Z"
    }
   },
   "outputs": [],
   "source": [
    "CTCT_adj = np.matmul(CTC_adj, CT_adj)\n",
    "display(CTCT_adj.shape)"
   ]
  },
  {
   "cell_type": "markdown",
   "metadata": {
    "heading_collapsed": true
   },
   "source": [
    "### 경로 테스트"
   ]
  },
  {
   "cell_type": "code",
   "execution_count": null,
   "metadata": {
    "ExecuteTime": {
     "end_time": "2024-05-14T16:39:55.277900Z",
     "start_time": "2024-05-14T16:39:55.268821Z"
    },
    "hidden": true
   },
   "outputs": [],
   "source": [
    "np.nonzero(CT_adj)"
   ]
  },
  {
   "cell_type": "code",
   "execution_count": null,
   "metadata": {
    "ExecuteTime": {
     "end_time": "2024-05-14T15:01:54.595302Z",
     "start_time": "2024-05-14T15:01:54.575203Z"
    },
    "hidden": true,
    "scrolled": true
   },
   "outputs": [],
   "source": [
    "list(zip(np.nonzero(CT_adj)[0], np.nonzero(CT_adj)[1]))"
   ]
  },
  {
   "cell_type": "code",
   "execution_count": null,
   "metadata": {
    "ExecuteTime": {
     "end_time": "2024-05-14T16:39:57.825308Z",
     "start_time": "2024-05-14T16:39:57.816688Z"
    },
    "hidden": true
   },
   "outputs": [],
   "source": [
    "np.nonzero(CTCT_adj)"
   ]
  },
  {
   "cell_type": "code",
   "execution_count": null,
   "metadata": {
    "ExecuteTime": {
     "end_time": "2024-05-14T15:02:26.304335Z",
     "start_time": "2024-05-14T15:02:26.286921Z"
    },
    "hidden": true,
    "scrolled": true
   },
   "outputs": [],
   "source": [
    "list(zip(np.nonzero(CTCT_adj)[0], np.nonzero(CTCT_adj)[1]))"
   ]
  },
  {
   "cell_type": "code",
   "execution_count": null,
   "metadata": {
    "ExecuteTime": {
     "end_time": "2024-05-14T16:39:59.485401Z",
     "start_time": "2024-05-14T16:39:59.477609Z"
    },
    "hidden": true
   },
   "outputs": [],
   "source": [
    "CTCT_adj[42,12]"
   ]
  },
  {
   "cell_type": "code",
   "execution_count": null,
   "metadata": {
    "ExecuteTime": {
     "end_time": "2024-05-14T16:40:01.198344Z",
     "start_time": "2024-05-14T16:40:01.190794Z"
    },
    "hidden": true
   },
   "outputs": [],
   "source": [
    "vocab_C[42]"
   ]
  },
  {
   "cell_type": "code",
   "execution_count": null,
   "metadata": {
    "ExecuteTime": {
     "end_time": "2024-05-14T16:40:02.341331Z",
     "start_time": "2024-05-14T16:40:02.333561Z"
    },
    "hidden": true
   },
   "outputs": [],
   "source": [
    "vocab_T[12]"
   ]
  },
  {
   "cell_type": "code",
   "execution_count": null,
   "metadata": {
    "ExecuteTime": {
     "end_time": "2024-05-14T16:40:03.672405Z",
     "start_time": "2024-05-14T16:40:03.663560Z"
    },
    "hidden": true,
    "scrolled": true
   },
   "outputs": [],
   "source": [
    "np.where(vocab_C[42]==sample_set[\"C_seq_can_smiles\"].values)"
   ]
  },
  {
   "cell_type": "code",
   "execution_count": null,
   "metadata": {
    "ExecuteTime": {
     "end_time": "2024-05-14T16:40:04.215425Z",
     "start_time": "2024-05-14T16:40:04.206690Z"
    },
    "hidden": true
   },
   "outputs": [],
   "source": [
    "sample_set.iloc[66][\"C_seq_can_smiles\"]"
   ]
  },
  {
   "cell_type": "code",
   "execution_count": null,
   "metadata": {
    "ExecuteTime": {
     "end_time": "2024-05-14T16:40:04.855868Z",
     "start_time": "2024-05-14T16:40:04.847353Z"
    },
    "hidden": true
   },
   "outputs": [],
   "source": [
    "sample_set.iloc[66][\"T_seq\"]"
   ]
  },
  {
   "cell_type": "code",
   "execution_count": null,
   "metadata": {
    "ExecuteTime": {
     "end_time": "2024-05-14T16:40:05.547624Z",
     "start_time": "2024-05-14T16:40:05.537467Z"
    },
    "hidden": true
   },
   "outputs": [],
   "source": [
    "np.where(vocab_T[12]==sample_set[\"T_seq\"].values)"
   ]
  },
  {
   "cell_type": "code",
   "execution_count": null,
   "metadata": {
    "ExecuteTime": {
     "end_time": "2024-05-14T16:40:06.116068Z",
     "start_time": "2024-05-14T16:40:06.107823Z"
    },
    "hidden": true
   },
   "outputs": [],
   "source": [
    "sample_set.iloc[9][\"T_seq\"]"
   ]
  },
  {
   "cell_type": "code",
   "execution_count": null,
   "metadata": {
    "ExecuteTime": {
     "end_time": "2024-05-14T16:40:07.694360Z",
     "start_time": "2024-05-14T16:40:07.683753Z"
    },
    "hidden": true
   },
   "outputs": [],
   "source": [
    "sample_set.loc[sample_set.iloc[9].name].iloc[1][\"T_seq\"]"
   ]
  },
  {
   "cell_type": "markdown",
   "metadata": {},
   "source": [
    "## Partition"
   ]
  },
  {
   "cell_type": "code",
   "execution_count": null,
   "metadata": {
    "ExecuteTime": {
     "end_time": "2024-05-14T16:34:02.585137Z",
     "start_time": "2024-05-14T16:34:02.576152Z"
    }
   },
   "outputs": [],
   "source": [
    "def make_pair_index(unzipped_arr):\n",
    "    return list(zip(unzipped_arr[0], unzipped_arr[1]))"
   ]
  },
  {
   "cell_type": "code",
   "execution_count": null,
   "metadata": {
    "ExecuteTime": {
     "end_time": "2024-05-14T16:40:32.828670Z",
     "start_time": "2024-05-14T16:40:32.822422Z"
    },
    "scrolled": true
   },
   "outputs": [],
   "source": [
    "train_positive = make_pair_index(np.nonzero(CT_adj))"
   ]
  },
  {
   "cell_type": "code",
   "execution_count": null,
   "metadata": {
    "ExecuteTime": {
     "end_time": "2024-05-14T16:42:14.727919Z",
     "start_time": "2024-05-14T16:42:14.717068Z"
    }
   },
   "outputs": [],
   "source": [
    "vocab_C[train_positive[0][0]]"
   ]
  },
  {
   "cell_type": "code",
   "execution_count": null,
   "metadata": {
    "ExecuteTime": {
     "end_time": "2024-05-14T16:42:35.047767Z",
     "start_time": "2024-05-14T16:42:35.037578Z"
    }
   },
   "outputs": [],
   "source": [
    "vocab_T[train_positive[0][1]]"
   ]
  },
  {
   "cell_type": "code",
   "execution_count": null,
   "metadata": {},
   "outputs": [],
   "source": []
  },
  {
   "cell_type": "code",
   "execution_count": null,
   "metadata": {},
   "outputs": [],
   "source": []
  },
  {
   "cell_type": "code",
   "execution_count": null,
   "metadata": {},
   "outputs": [],
   "source": []
  },
  {
   "cell_type": "code",
   "execution_count": null,
   "metadata": {},
   "outputs": [],
   "source": []
  },
  {
   "cell_type": "code",
   "execution_count": null,
   "metadata": {},
   "outputs": [],
   "source": []
  },
  {
   "cell_type": "code",
   "execution_count": null,
   "metadata": {},
   "outputs": [],
   "source": []
  },
  {
   "cell_type": "code",
   "execution_count": null,
   "metadata": {},
   "outputs": [],
   "source": []
  },
  {
   "cell_type": "code",
   "execution_count": null,
   "metadata": {},
   "outputs": [],
   "source": []
  },
  {
   "cell_type": "code",
   "execution_count": null,
   "metadata": {},
   "outputs": [],
   "source": []
  },
  {
   "cell_type": "code",
   "execution_count": null,
   "metadata": {},
   "outputs": [],
   "source": []
  },
  {
   "cell_type": "code",
   "execution_count": null,
   "metadata": {},
   "outputs": [],
   "source": [
    "import os\n",
    "import sys\n",
    "from pathlib import Path\n",
    "import requests\n",
    "import json\n",
    "import numpy as np\n",
    "import pandas as pd\n",
    "pd.set_option('display.max_rows',200,'display.max_columns',50)\n",
    "import csv\n",
    "import time\n",
    "import pickle\n",
    "import json\n",
    "\n",
    "'''\n",
    "C (ompound) 별 T (arget)의 갯수로 C를 필터링 하는 함수\n",
    "- 예) 반응하는 단백질 (T)의 갯수가 30개 이상인 화합물 (C)만 필터링\n",
    "- filter_C_by_num_T(data=reduced_data, N=30)\n",
    "'''\n",
    "def insert_CT_code(data):\n",
    "\n",
    "    pair_code = data.apply(lambda x : str(x['C_cid']) + 'x' + str(x['T_id']), axis=1)\n",
    "    data.insert(loc=0, column='(C-T)_id', value=list(pair_code))\n",
    "\n",
    "    return data\n",
    "\n",
    "def filter_C_by_num_T(data=None, N=30):\n",
    "\n",
    "    # C (ompound) 별 T (arget)의 갯수로 C를 필터링\n",
    "    unique_c_ids_n_counts = np.unique(data['C_cid'], return_counts=True)\n",
    "    unique_c_ids = unique_c_ids_n_counts[0]\n",
    "    unique_c_counts = unique_c_ids_n_counts[1]\n",
    "\n",
    "    c_ids_filtering_idx = np.where(unique_c_counts >= N)[0]\n",
    "    filtered_c_ids = unique_c_ids[c_ids_filtering_idx]\n",
    "    filtered_c_ids_onehot = data['C_cid'].isin(filtered_c_ids)\n",
    "    row_index = np.arange(data['C_cid'].shape[0])\n",
    "    filtered_c_ids_onehot_index = filtered_c_ids_onehot * row_index\n",
    "    final_filtered_c_ids_index = np.where(filtered_c_ids_onehot_index != 0)[0]\n",
    "\n",
    "    filtered_data = data.iloc[final_filtered_c_ids_index]\n",
    "\n",
    "    # CT_code 삽입\n",
    "    filtered_data = insert_CT_code(filtered_data)\n",
    "\n",
    "    # 갯수 확인\n",
    "    num_rows = filtered_data.shape[0]\n",
    "    num_C = len(np.unique(filtered_data['C_cid']))\n",
    "    num_T = len(np.unique(filtered_data['T_id']))\n",
    "    num_CT = len(np.unique(filtered_data['(C-T)_id']))\n",
    "\n",
    "    # IC50 등에서 값이 달라 (C-T)_id 컬럼에 2개 이상 존재할 경우 가장 첫번째 값만 사용\n",
    "    filtered_data = filtered_data.groupby('(C-T)_id').first()\n",
    "\n",
    "    print('Number of T per C >={}\\n--> Number of rows : {},\\n--> Number of C : {},\\n--> Number of T : {}\\n--> Number of (C-T) pair : {}'.format(N, num_rows, num_C, num_T, num_CT))\n",
    "    \n",
    "    return filtered_data"
   ]
  },
  {
   "cell_type": "code",
   "execution_count": null,
   "metadata": {},
   "outputs": [],
   "source": []
  },
  {
   "cell_type": "code",
   "execution_count": null,
   "metadata": {},
   "outputs": [],
   "source": []
  }
 ],
 "metadata": {
  "kernelspec": {
   "display_name": "Drug",
   "language": "python",
   "name": "drug2"
  },
  "language_info": {
   "codemirror_mode": {
    "name": "ipython",
    "version": 3
   },
   "file_extension": ".py",
   "mimetype": "text/x-python",
   "name": "python",
   "nbconvert_exporter": "python",
   "pygments_lexer": "ipython3",
   "version": "3.6.9"
  },
  "toc": {
   "base_numbering": 1,
   "nav_menu": {},
   "number_sections": true,
   "sideBar": true,
   "skip_h1_title": false,
   "title_cell": "Table of Contents",
   "title_sidebar": "Contents",
   "toc_cell": false,
   "toc_position": {},
   "toc_section_display": true,
   "toc_window_display": false
  }
 },
 "nbformat": 4,
 "nbformat_minor": 2
}
