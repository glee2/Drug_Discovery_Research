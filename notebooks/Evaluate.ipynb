{
 "cells": [
  {
   "cell_type": "code",
   "execution_count": 2,
   "metadata": {
    "ExecuteTime": {
     "end_time": "2024-05-23T07:32:14.244457Z",
     "start_time": "2024-05-23T07:32:14.238496Z"
    }
   },
   "outputs": [],
   "source": [
    "###\n",
    "# File name: Evaluate.ipynb (jupyter notebook)\n",
    "# Description: evaluate generated sequences with references in test set\n",
    "# Created on: 2024-05-22 (Wed.)\n",
    "# Modification History\n",
    "#   - 2024-05-22: (edited by Gyumin Lee) Add BLEU, GLEU, ROUGE; Implement beam search for comparisons\n",
    "#   - 2024-05-23: (edited by Gyumin Lee) Add QED, SA_score, NP_score, ADMET\n",
    "# Version: 0.1\n",
    "###"
   ]
  },
  {
   "cell_type": "markdown",
   "metadata": {},
   "source": [
    "# Load data"
   ]
  },
  {
   "cell_type": "code",
   "execution_count": 3,
   "metadata": {
    "ExecuteTime": {
     "end_time": "2024-05-23T07:32:23.384111Z",
     "start_time": "2024-05-23T07:32:16.493559Z"
    }
   },
   "outputs": [],
   "source": [
    "import numpy as np\n",
    "import pandas as pd\n",
    "pd.set_option('display.max_rows',200,'display.max_columns',50)\n",
    "import csv\n",
    "import time\n",
    "import pickle\n",
    "import os\n",
    "import sys"
   ]
  },
  {
   "cell_type": "code",
   "execution_count": 4,
   "metadata": {
    "ExecuteTime": {
     "end_time": "2024-05-23T07:32:23.546165Z",
     "start_time": "2024-05-23T07:32:23.388505Z"
    }
   },
   "outputs": [],
   "source": [
    "root = \"/home2/glee/Drug_Discovery_Research\"\n",
    "data_path = os.path.join(root, \"data\")\n",
    "result_path = os.path.join(root, \"results\")\n",
    "test_set = pd.read_csv(os.path.join(data_path, \"splitted\", \"test.csv\"))\n",
    "if \"Unnamed: 0\" in test_set.columns: test_set = test_set.drop(\"Unnamed: 0\", axis=1)"
   ]
  },
  {
   "cell_type": "code",
   "execution_count": 5,
   "metadata": {
    "ExecuteTime": {
     "end_time": "2024-05-23T07:32:23.603873Z",
     "start_time": "2024-05-23T07:32:23.548489Z"
    }
   },
   "outputs": [
    {
     "data": {
      "text/html": [
       "<div>\n",
       "<style scoped>\n",
       "    .dataframe tbody tr th:only-of-type {\n",
       "        vertical-align: middle;\n",
       "    }\n",
       "\n",
       "    .dataframe tbody tr th {\n",
       "        vertical-align: top;\n",
       "    }\n",
       "\n",
       "    .dataframe thead th {\n",
       "        text-align: right;\n",
       "    }\n",
       "</style>\n",
       "<table border=\"1\" class=\"dataframe\">\n",
       "  <thead>\n",
       "    <tr style=\"text-align: right;\">\n",
       "      <th></th>\n",
       "      <th>T_seq</th>\n",
       "      <th>C_anc</th>\n",
       "    </tr>\n",
       "  </thead>\n",
       "  <tbody>\n",
       "    <tr>\n",
       "      <th>0</th>\n",
       "      <td>MSVGAMKKGVGRAVGLGGGSGCQATEEDPLPNCGACAPGQGGRRWR...</td>\n",
       "      <td>CCCNCC1=CC=C(C=C1)CCN2C=CC(=CC2=O)OCC3=CC=C(C=...</td>\n",
       "    </tr>\n",
       "    <tr>\n",
       "      <th>1</th>\n",
       "      <td>MSVGAMKKGVGRAVGLGGGSGCQATEEDPLPNCGACAPGQGGRRWR...</td>\n",
       "      <td>CN(C)C1=NC(=NC2=CC=CC=C21)NC3CCC(CC3)NC(=O)C4=...</td>\n",
       "    </tr>\n",
       "    <tr>\n",
       "      <th>2</th>\n",
       "      <td>MDLQASLLSTGPNASNISDGQDNFTLAGPPPRTRSVSYINIIMPSV...</td>\n",
       "      <td>CC1C2CN(CCC2CC3=C1C4=C(N3)C=CC(=C4)C(F)(F)F)CC...</td>\n",
       "    </tr>\n",
       "    <tr>\n",
       "      <th>3</th>\n",
       "      <td>MVNLRNAVHSFLVHLIGLLVWQCDISVSPVAAIVTDIFNTSDGGRF...</td>\n",
       "      <td>C1=CC2=C(C(=C1)O)C(=CN2)C3=CN=C(N=C3N)Br</td>\n",
       "    </tr>\n",
       "    <tr>\n",
       "      <th>4</th>\n",
       "      <td>MVNLRNAVHSFLVHLIGLLVWQCDISVSPVAAIVTDIFNTSDGGRF...</td>\n",
       "      <td>C1CN(CCN1CCCCN2C(=O)C3C4CC(C3C2=O)C=C4)C5=C6C=...</td>\n",
       "    </tr>\n",
       "    <tr>\n",
       "      <th>...</th>\n",
       "      <td>...</td>\n",
       "      <td>...</td>\n",
       "    </tr>\n",
       "    <tr>\n",
       "      <th>8203</th>\n",
       "      <td>ATKAARKSAPATGGVKKPHRYRPGGK</td>\n",
       "      <td>CCN(C1CCC(CC1)N(C)C)C2=CC(=CC(=C2C)C(=O)NCC3C(...</td>\n",
       "    </tr>\n",
       "    <tr>\n",
       "      <th>8204</th>\n",
       "      <td>MNFLLSWVHWSLALLLYLHHAKWSQAAPMAEGGGQNHHEVVKFMDV...</td>\n",
       "      <td>C1CCN(C1)CCCCNC(=O)NC2=C(C(=NS2)OCC3=C(C=C(C=C...</td>\n",
       "    </tr>\n",
       "    <tr>\n",
       "      <th>8205</th>\n",
       "      <td>HLLDFRKMIRYTTGKEATTSYGAYGCHCGVGGRGAPKAKFLSYKFS...</td>\n",
       "      <td>CCCCCCCCCCCC(=O)C1=C(C(=C(C(=C1O)C2CC(OC3=C2C=...</td>\n",
       "    </tr>\n",
       "    <tr>\n",
       "      <th>8206</th>\n",
       "      <td>MSGPTMDHQEPYSVQATAAIASAITFLILFTIFGNALVILAVLTSR...</td>\n",
       "      <td>C1CN(CCN1CC2=CC3=C(C=C2)NC(=O)CO3)C4=CC=C(C=C4)Cl</td>\n",
       "    </tr>\n",
       "    <tr>\n",
       "      <th>8207</th>\n",
       "      <td>MWNMLIVAMCLALLGCLQAQELQGHVSIILLGATGDLAKKYLWQGL...</td>\n",
       "      <td>CNCC1=CC=C(C=C1)C2=C3CCNC(=O)C4=C3C(=CC(=C4)F)N2</td>\n",
       "    </tr>\n",
       "  </tbody>\n",
       "</table>\n",
       "<p>8208 rows × 2 columns</p>\n",
       "</div>"
      ],
      "text/plain": [
       "                                                  T_seq  \\\n",
       "0     MSVGAMKKGVGRAVGLGGGSGCQATEEDPLPNCGACAPGQGGRRWR...   \n",
       "1     MSVGAMKKGVGRAVGLGGGSGCQATEEDPLPNCGACAPGQGGRRWR...   \n",
       "2     MDLQASLLSTGPNASNISDGQDNFTLAGPPPRTRSVSYINIIMPSV...   \n",
       "3     MVNLRNAVHSFLVHLIGLLVWQCDISVSPVAAIVTDIFNTSDGGRF...   \n",
       "4     MVNLRNAVHSFLVHLIGLLVWQCDISVSPVAAIVTDIFNTSDGGRF...   \n",
       "...                                                 ...   \n",
       "8203                         ATKAARKSAPATGGVKKPHRYRPGGK   \n",
       "8204  MNFLLSWVHWSLALLLYLHHAKWSQAAPMAEGGGQNHHEVVKFMDV...   \n",
       "8205  HLLDFRKMIRYTTGKEATTSYGAYGCHCGVGGRGAPKAKFLSYKFS...   \n",
       "8206  MSGPTMDHQEPYSVQATAAIASAITFLILFTIFGNALVILAVLTSR...   \n",
       "8207  MWNMLIVAMCLALLGCLQAQELQGHVSIILLGATGDLAKKYLWQGL...   \n",
       "\n",
       "                                                  C_anc  \n",
       "0     CCCNCC1=CC=C(C=C1)CCN2C=CC(=CC2=O)OCC3=CC=C(C=...  \n",
       "1     CN(C)C1=NC(=NC2=CC=CC=C21)NC3CCC(CC3)NC(=O)C4=...  \n",
       "2     CC1C2CN(CCC2CC3=C1C4=C(N3)C=CC(=C4)C(F)(F)F)CC...  \n",
       "3              C1=CC2=C(C(=C1)O)C(=CN2)C3=CN=C(N=C3N)Br  \n",
       "4     C1CN(CCN1CCCCN2C(=O)C3C4CC(C3C2=O)C=C4)C5=C6C=...  \n",
       "...                                                 ...  \n",
       "8203  CCN(C1CCC(CC1)N(C)C)C2=CC(=CC(=C2C)C(=O)NCC3C(...  \n",
       "8204  C1CCN(C1)CCCCNC(=O)NC2=C(C(=NS2)OCC3=C(C=C(C=C...  \n",
       "8205  CCCCCCCCCCCC(=O)C1=C(C(=C(C(=C1O)C2CC(OC3=C2C=...  \n",
       "8206  C1CN(CCN1CC2=CC3=C(C=C2)NC(=O)CO3)C4=CC=C(C=C4)Cl  \n",
       "8207   CNCC1=CC=C(C=C1)C2=C3CCNC(=O)C4=C3C(=CC(=C4)F)N2  \n",
       "\n",
       "[8208 rows x 2 columns]"
      ]
     },
     "execution_count": 5,
     "metadata": {},
     "output_type": "execute_result"
    }
   ],
   "source": [
    "test_set"
   ]
  },
  {
   "cell_type": "code",
   "execution_count": 6,
   "metadata": {
    "ExecuteTime": {
     "end_time": "2024-05-23T07:32:23.704079Z",
     "start_time": "2024-05-23T07:32:23.607722Z"
    }
   },
   "outputs": [],
   "source": [
    "test_set_per_T = test_set.set_index(\"T_seq\")[\"C_anc\"]"
   ]
  },
  {
   "cell_type": "markdown",
   "metadata": {},
   "source": [
    "# Beam evaluation"
   ]
  },
  {
   "cell_type": "markdown",
   "metadata": {},
   "source": [
    "## Extract CT_adj, CTCT_adj for test set"
   ]
  },
  {
   "cell_type": "code",
   "execution_count": 8,
   "metadata": {
    "ExecuteTime": {
     "end_time": "2024-05-23T07:32:56.633545Z",
     "start_time": "2024-05-23T07:32:55.395938Z"
    }
   },
   "outputs": [],
   "source": [
    "sys.path.append(os.path.join(root, \"src\"))\n",
    "from utils import save_hdf5, load_hdf5"
   ]
  },
  {
   "cell_type": "code",
   "execution_count": null,
   "metadata": {
    "ExecuteTime": {
     "end_time": "2024-05-22T09:10:07.223196Z",
     "start_time": "2024-05-22T09:10:06.934967Z"
    }
   },
   "outputs": [],
   "source": [
    "## Load adjacency matrices\n",
    "CT_adj = load_hdf5(os.path.join(data_path, \"adjacency_matrices\", \"sps_CT_adj.h5\")).toarray()\n",
    "CTC_adj = load_hdf5(os.path.join(data_path, \"adjacency_matrices\", \"sps_CTC_adj.h5\")).toarray()\n",
    "CTCT_adj = load_hdf5(os.path.join(data_path, \"adjacency_matrices\", \"sps_CTCT_adj.h5\")).toarray()\n",
    "\n",
    "## Make T-C, T-C-T-C adjacency matrix; Leave 2-hop elements only\n",
    "only_CTCT = (CTCT_adj.astype(np.int8) - CT_adj.astype(np.int8)).astype(bool)\n",
    "TC_adj = CT_adj.T\n",
    "TCTC_adj = CTCT_adj.T\n",
    "only_TCTC = only_CTCT.T"
   ]
  },
  {
   "cell_type": "code",
   "execution_count": 9,
   "metadata": {
    "ExecuteTime": {
     "end_time": "2024-05-23T07:33:00.892088Z",
     "start_time": "2024-05-23T07:33:00.619589Z"
    }
   },
   "outputs": [],
   "source": [
    "## Load dictionaries\n",
    "with open(os.path.join(data_path, \"dictionaries\", \"i_to_C_cid.pickle\"), \"rb\") as f:\n",
    "    i_to_C_cid = pickle.load(f)\n",
    "with open(os.path.join(data_path, \"dictionaries\", \"i_to_T_id.pickle\"), \"rb\") as f:\n",
    "    i_to_T_id = pickle.load(f)\n",
    "with open(os.path.join(data_path, \"dictionaries\", \"i_to_C_seq.pickle\"), \"rb\") as f:\n",
    "    i_to_C_seq = pickle.load(f)\n",
    "with open(os.path.join(data_path, \"dictionaries\", \"i_to_T_seq.pickle\"), \"rb\") as f:\n",
    "    i_to_T_seq = pickle.load(f)\n",
    "with open(os.path.join(data_path, \"dictionaries\", \"C_seq_to_i.pickle\"), \"rb\") as f:\n",
    "    C_seq_to_i = pickle.load(f)\n",
    "with open(os.path.join(data_path, \"dictionaries\", \"T_seq_to_i.pickle\"), \"rb\") as f:\n",
    "    T_seq_to_i = pickle.load(f)"
   ]
  },
  {
   "cell_type": "markdown",
   "metadata": {},
   "source": [
    "## Select beams using IC50"
   ]
  },
  {
   "cell_type": "code",
   "execution_count": 10,
   "metadata": {
    "ExecuteTime": {
     "end_time": "2024-05-23T07:33:03.678838Z",
     "start_time": "2024-05-23T07:33:01.881724Z"
    }
   },
   "outputs": [],
   "source": [
    "data = pd.read_csv(os.path.join(data_path, \"preprocessed\", \"data_T_truncated_20240520.csv\"))\n",
    "data_to_index = pd.concat([data[\"T_seq\"].apply(lambda x: T_seq_to_i[x]), data[\"C_seq_can_smiles\"].apply(lambda x: C_seq_to_i[x]), data[\"IC50\"]], axis=1).rename(columns={\"T_seq\": \"T_index\", \"C_seq_can_smiles\": \"C_index\"})\n",
    "test_set_to_index = pd.concat([test_set[\"T_seq\"].apply(lambda x: T_seq_to_i[x]), test_set[\"C_anc\"].apply(lambda x: C_seq_to_i[x])], axis=1).rename(columns={\"T_seq\": \"T_index\", \"C_anc\": \"C_index\"})\n",
    "\n",
    "data_pairs = data_to_index.apply(lambda x: str(x[\"T_index\"].astype(int))+\"--\"+str(x[\"C_index\"].astype(int)), axis=1).values\n",
    "test_pairs = test_set_to_index.apply(lambda x: str(x[\"T_index\"])+\"--\"+str(x[\"C_index\"]), axis=1).values\n",
    "# ic50_pairs = data_to_index.loc[np.isin(data_pairs, test_pairs)]"
   ]
  },
  {
   "cell_type": "code",
   "execution_count": 11,
   "metadata": {
    "ExecuteTime": {
     "end_time": "2024-05-23T07:33:06.645296Z",
     "start_time": "2024-05-23T07:33:06.637705Z"
    }
   },
   "outputs": [],
   "source": [
    "def find_pair(src, by=\"T\"):\n",
    "#     if by==\"T\": return ic50_pairs[ic50_pairs[\"T_index\"]==src]\n",
    "#     elif by==\"C\": return ic50_pairs[ic50_pairs[\"C_index\"]==src]\n",
    "    if by==\"T\": return data_to_index[data_to_index[\"T_index\"]==src]\n",
    "    elif by==\"C\": return data_to_index[data_to_index[\"C_index\"]==src]"
   ]
  },
  {
   "cell_type": "code",
   "execution_count": 12,
   "metadata": {
    "ExecuteTime": {
     "end_time": "2024-05-23T07:33:07.238806Z",
     "start_time": "2024-05-23T07:33:07.222676Z"
    }
   },
   "outputs": [],
   "source": [
    "def extract_gtruth(T_input, beam_size=3):\n",
    "    if T_input is None:\n",
    "        return (np.array([], dtype=np.int32), np.array([], dtype=np.int32))\n",
    "    C_anc_candi = find_pair(T_input, \"T\").sort_values(\"IC50\", ascending=False)[\"C_index\"].values # 입력 T_input(T1)에 대해, IC50 Top K(beam_size)만큼 C_anc(C1) 추출\n",
    "\n",
    "    C_ancs = np.array([], dtype=np.int32)\n",
    "    C_poss = np.array([], dtype=np.int32)\n",
    "    C_ancs_bck = np.array([], dtype=np.int32)\n",
    "\n",
    "    for C_anc in C_anc_candi:\n",
    "        binding_pairs = find_pair(C_anc, \"C\")\n",
    "        assert T_input in binding_pairs[\"T_index\"].values\n",
    "        T_repurs = binding_pairs[binding_pairs[\"T_index\"]!=T_input].sort_values(\"T_index\", ascending=False)[\"T_index\"].values\n",
    "\n",
    "        if len(T_repurs) < 1: # repurposed proteins 없으면 C_anc 까지만 체크\n",
    "            C_ancs_bck = np.concatenate([C_ancs_bck, [C_anc]])\n",
    "            continue\n",
    "\n",
    "        C_pos_candi_bck = []\n",
    "        C_pos = None\n",
    "        for T_repur in T_repurs: # 각 C_anc에 대해, IC50 Top 1 T_repur(T2) 선정   \n",
    "            C_pos_candi = find_pair(T_repur, \"T\").sort_values(\"IC50\", ascending=False)[\"C_index\"].values # T_repur(T2)에 대해, IC50 Top K(beam_size)만큼 C_pos(C2) 추출\n",
    "            if len(C_pos_candi) < beam_size:\n",
    "                if len(C_pos_candi_bck) < len(C_pos_candi): C_pos_candi_bck = C_pos_candi\n",
    "                continue\n",
    "            else:\n",
    "                C_pos = C_pos_candi[:beam_size]\n",
    "                break\n",
    "        \n",
    "        if C_pos is None: C_pos = C_pos_candi_bck\n",
    "\n",
    "        C_ancs = np.concatenate([C_ancs, [C_anc]])\n",
    "        C_poss = np.concatenate([C_poss, C_pos])\n",
    "\n",
    "        if len(C_ancs) >= beam_size: break\n",
    "\n",
    "    if len(C_ancs) < beam_size: C_ancs = np.concatenate([C_ancs, C_ancs_bck[:beam_size - len(C_ancs)]])\n",
    "        \n",
    "    C_ancs_seq = [i_to_C_seq[c] for c in C_ancs]\n",
    "    C_poss_seq = [i_to_C_seq[c] for c in C_poss]\n",
    "\n",
    "    return [C_ancs_seq, C_poss_seq]"
   ]
  },
  {
   "cell_type": "markdown",
   "metadata": {},
   "source": [
    "## Evaluation metric"
   ]
  },
  {
   "cell_type": "markdown",
   "metadata": {},
   "source": [
    "### Sequence generation"
   ]
  },
  {
   "cell_type": "code",
   "execution_count": 13,
   "metadata": {
    "ExecuteTime": {
     "end_time": "2024-05-23T07:33:21.275170Z",
     "start_time": "2024-05-23T07:33:08.575829Z"
    }
   },
   "outputs": [],
   "source": [
    "from nltk.translate import bleu, gleu\n",
    "from rouge_score.rouge_scorer import RougeScorer"
   ]
  },
  {
   "cell_type": "code",
   "execution_count": 14,
   "metadata": {
    "ExecuteTime": {
     "end_time": "2024-05-23T07:33:21.285092Z",
     "start_time": "2024-05-23T07:33:21.279416Z"
    }
   },
   "outputs": [],
   "source": [
    "def seq_to_index(tseq):\n",
    "    if tseq in list(T_seq_to_i.keys()):\n",
    "        return T_seq_to_i[tseq]\n",
    "    else:\n",
    "        return None"
   ]
  },
  {
   "cell_type": "code",
   "execution_count": 104,
   "metadata": {
    "ExecuteTime": {
     "end_time": "2024-05-23T08:02:16.820666Z",
     "start_time": "2024-05-23T08:02:16.807338Z"
    }
   },
   "outputs": [],
   "source": [
    "def cal_gen_metric(references, candidate, metric=\"bleu\", ngram=4, smoothing_function=None):\n",
    "    if metric==\"bleu\":\n",
    "        bleu_weights = [tuple(np.ones(ngram)/ngram)]\n",
    "        return np.mean([bleu([ref], candidate, weights=bleu_weights, smoothing_function=smoothing_function) for ref in references])\n",
    "    elif metric==\"gleu\":\n",
    "        min_ngram = 1\n",
    "        max_ngram = ngram\n",
    "        return np.mean([gleu([ref], candidate, min_len=min_ngram, max_len=max_ngram) for ref in references])\n",
    "    elif metric==\"rouge\":\n",
    "        rouge_scorer = RougeScorer([f'rouge{ngram}'], use_stemmer=True)\n",
    "        return np.mean([rouge_scorer.score(ref, candidate)[f'rouge{ngram}'].fmeasure for ref in references])\n",
    "    else:\n",
    "        print(\"Not implemeneted\")"
   ]
  },
  {
   "cell_type": "code",
   "execution_count": 16,
   "metadata": {
    "ExecuteTime": {
     "end_time": "2024-05-23T07:33:21.620173Z",
     "start_time": "2024-05-23T07:33:21.476814Z"
    }
   },
   "outputs": [],
   "source": [
    "from nltk.translate.bleu_score import SmoothingFunction\n",
    "chencherry = SmoothingFunction()"
   ]
  },
  {
   "cell_type": "markdown",
   "metadata": {},
   "source": [
    "### Drug-likeness"
   ]
  },
  {
   "cell_type": "code",
   "execution_count": 21,
   "metadata": {
    "ExecuteTime": {
     "end_time": "2024-05-23T07:34:33.506938Z",
     "start_time": "2024-05-23T07:34:33.492339Z"
    }
   },
   "outputs": [],
   "source": [
    "from copy import copy\n",
    "from rdkit.Chem import AllChem as Chem\n",
    "from rdkit.Chem import QED\n",
    "from rdkit.Chem.Descriptors import MolWt\n",
    "from rdkit.Chem import RDConfig\n",
    "sys.path.append(os.path.join(RDConfig.RDContribDir,'SA_Score'))\n",
    "from rdkit.Contrib.SA_Score import sascorer\n",
    "from rdkit.Contrib.NP_Score import npscorer\n",
    "from rdkit import RDLogger\n",
    "RDLogger.DisableLog('rdApp.*')"
   ]
  },
  {
   "cell_type": "code",
   "execution_count": 110,
   "metadata": {
    "ExecuteTime": {
     "end_time": "2024-05-23T08:10:13.935632Z",
     "start_time": "2024-05-23T08:10:13.773330Z"
    }
   },
   "outputs": [
    {
     "name": "stderr",
     "output_type": "stream",
     "text": [
      "reading NP model ...\n",
      "model in\n"
     ]
    }
   ],
   "source": [
    "NP_fscore = npscorer.readNPModel()\n",
    "def cal_drug_metric(candidate, metric=\"QED\"):\n",
    "    m = Chem.MolFromSmiles(candidate)\n",
    "    if m is None: return np.nan\n",
    "    if metric==\"QED\":\n",
    "        return QED.qed(m)\n",
    "    elif metric==\"SA\":\n",
    "        return sascorer.calculateScore(m)\n",
    "    elif metric==\"NP\":\n",
    "        return npscorer.scoreMol(m, NP_fscore)\n",
    "    else:\n",
    "        print(\"Not implemented\")"
   ]
  },
  {
   "cell_type": "markdown",
   "metadata": {},
   "source": [
    "## Evaluation results"
   ]
  },
  {
   "cell_type": "code",
   "execution_count": 132,
   "metadata": {
    "ExecuteTime": {
     "end_time": "2024-05-23T19:14:42.725679Z",
     "start_time": "2024-05-23T19:14:42.704982Z"
    }
   },
   "outputs": [],
   "source": [
    "model_names = [\n",
    "    \"sum\",\n",
    "    \"sum+fft\",\n",
    "    \"sum+mlp\",\n",
    "    \"sum+fft+mlp\",\n",
    "    \"sum+mlp+ifft_L1\",\n",
    "    \"sum+mlp+ifft_L2\",\n",
    "    \"sum+mlp+ifft_Fro\",\n",
    "    \"sum+fft+lpf+ifft_co=2\",\n",
    "    \"sum+fft+lpf+ifft_co=4\",\n",
    "    \"sum+fft+lpf+ifft_co=6\",\n",
    "    \"sum+fft+lpf+ifft_co=8\",\n",
    "]\n",
    "\n",
    "ngram1, ngram2 = 1, 2\n",
    "eval_cols = [f'anc/BLUE/{ngram1}-gram', f'pos/BLUE/{ngram1}-gram', \n",
    "             f'anc/BLUE/{ngram2}-gram', f'pos/BLUE/{ngram2}-gram', \n",
    "             f'anc/GLUE/{ngram1}-gram', f'pos/GLUE/{ngram1}-gram', \n",
    "             f'anc/GLUE/{ngram2}-gram', f'pos/GLUE/{ngram2}-gram', \n",
    "             f'anc/ROUGE/{ngram1}-gram', f'pos/ROUGE/{ngram1}-gram', \n",
    "             f'anc/ROUGE/{ngram2}-gram', f'pos/ROUGE/{ngram2}-gram',\n",
    "             'QED', 'SA', 'NP',\n",
    "            ]\n",
    "\n",
    "final_results = pd.DataFrame(index=model_names, columns=eval_cols)"
   ]
  },
  {
   "cell_type": "code",
   "execution_count": 133,
   "metadata": {
    "ExecuteTime": {
     "end_time": "2024-05-23T19:16:50.909017Z",
     "start_time": "2024-05-23T19:14:44.150955Z"
    },
    "scrolled": true
   },
   "outputs": [
    {
     "name": "stdout",
     "output_type": "stream",
     "text": [
      "Evaluation for sum\n"
     ]
    },
    {
     "name": "stderr",
     "output_type": "stream",
     "text": [
      "/home2/glee/.conda/envs/DL/lib/python3.9/site-packages/numpy/core/fromnumeric.py:3419: RuntimeWarning: Mean of empty slice.\n",
      "  return _methods._mean(a, axis=axis, dtype=dtype,\n",
      "/home2/glee/.conda/envs/DL/lib/python3.9/site-packages/numpy/core/_methods.py:188: RuntimeWarning: invalid value encountered in double_scalars\n",
      "  ret = ret.dtype.type(ret / rcount)\n"
     ]
    },
    {
     "name": "stdout",
     "output_type": "stream",
     "text": [
      "Evaluation for sum+fft\n",
      "Evaluation for sum+mlp\n",
      "Evaluation for sum+fft+mlp\n",
      "Evaluation for sum+mlp+ifft_L1\n",
      "Evaluation for sum+mlp+ifft_L2\n",
      "Evaluation for sum+mlp+ifft_Fro\n",
      "Evaluation for sum+fft+lpf+ifft_co=2\n",
      "Evaluation for sum+fft+lpf+ifft_co=4\n",
      "Evaluation for sum+fft+lpf+ifft_co=6\n",
      "Evaluation for sum+fft+lpf+ifft_co=8\n",
      "Evaluation done\n"
     ]
    }
   ],
   "source": [
    "for model_name in model_names:\n",
    "    print(f\"Evaluation for {model_name}\")\n",
    "    res = pd.read_csv(os.path.join(result_path, \"gen_results_20240522\", f\"{model_name}_gen_result.csv\"))\n",
    "    res = res[res[\"gen_compound\"].notna()]\n",
    "\n",
    "    res_to_compare = pd.concat([res, res.apply(lambda x: extract_gtruth(seq_to_index(x[\"tgt_protein\"].replace(\"\\n\",\"\"))), axis=1, result_type=\"expand\").rename(columns={0: \"C_ancs\", 1: \"C_poss\"})], axis=1)\n",
    "\n",
    "    res_eval_ngram = res_to_compare.apply(lambda x: \n",
    "                                           [cal_gen_metric(x[\"C_ancs\"], x[\"gen_compound\"], metric=\"bleu\", ngram=ngram1, smoothing_function=chencherry.method1), \n",
    "                                            cal_gen_metric(x[\"C_poss\"], x[\"gen_compound\"], metric=\"bleu\", ngram=ngram1, smoothing_function=chencherry.method1), \n",
    "                                            cal_gen_metric(x[\"C_ancs\"], x[\"gen_compound\"], metric=\"bleu\", ngram=ngram2, smoothing_function=chencherry.method1), \n",
    "                                            cal_gen_metric(x[\"C_poss\"], x[\"gen_compound\"], metric=\"bleu\", ngram=ngram2, smoothing_function=chencherry.method1), \n",
    "                                            cal_gen_metric(x[\"C_ancs\"], x[\"gen_compound\"], metric=\"gleu\", ngram=ngram1), \n",
    "                                            cal_gen_metric(x[\"C_poss\"], x[\"gen_compound\"], metric=\"gleu\", ngram=ngram1), \n",
    "                                            cal_gen_metric(x[\"C_ancs\"], x[\"gen_compound\"], metric=\"gleu\", ngram=ngram2), \n",
    "                                            cal_gen_metric(x[\"C_poss\"], x[\"gen_compound\"], metric=\"gleu\", ngram=ngram2), \n",
    "                                            cal_gen_metric(x[\"C_ancs\"], x[\"gen_compound\"], metric=\"rouge\", ngram=ngram1), \n",
    "                                            cal_gen_metric(x[\"C_poss\"], x[\"gen_compound\"], metric=\"rouge\", ngram=ngram1),\n",
    "                                            cal_gen_metric(x[\"C_ancs\"], x[\"gen_compound\"], metric=\"rouge\", ngram=ngram2), \n",
    "                                            cal_gen_metric(x[\"C_poss\"], x[\"gen_compound\"], metric=\"rouge\", ngram=ngram2),\n",
    "                                            cal_drug_metric(x[\"gen_compound\"], metric=\"QED\"), \n",
    "                                            cal_drug_metric(x[\"gen_compound\"], metric=\"SA\"),\n",
    "                                            cal_drug_metric(x[\"gen_compound\"], metric=\"NP\")], axis=1, result_type=\"expand\").rename(\n",
    "                                                columns={0: f\"anc/BLUE/{ngram1}-gram\", 1: f\"pos/BLUE/{ngram1}-gram\", \n",
    "                                                         2: f\"anc/BLUE/{ngram2}-gram\", 3: f\"pos/BLUE/{ngram2}-gram\", \n",
    "                                                         4: f\"anc/GLUE/{ngram1}-gram\", 5: f\"pos/GLUE/{ngram1}-gram\",\n",
    "                                                         6: f\"anc/GLUE/{ngram2}-gram\", 7: f\"pos/GLUE/{ngram2}-gram\",\n",
    "                                                         8: f\"anc/ROUGE/{ngram1}-gram\", 9: f\"pos/ROUGE/{ngram1}-gram\",\n",
    "                                                         10: f\"anc/ROUGE/{ngram2}-gram\", 11: f\"pos/ROUGE/{ngram2}-gram\",\n",
    "                                                         12: \"QED\", 13: \"SA\", 14:\"NP\"\n",
    "                                                        })\n",
    "\n",
    "    res_eval = pd.concat([res_to_compare, res_eval_ngram], axis=1)\n",
    "\n",
    "    res_eval.to_csv(os.path.join(result_path, \"eval_results_20240522\", f\"{model_name}_eval_result.csv\"))\n",
    "\n",
    "    final_results.loc[model_name,:] = res_eval[eval_cols].mean(axis=0)\n",
    "\n",
    "print(\"Evaluation done\")"
   ]
  },
  {
   "cell_type": "code",
   "execution_count": 134,
   "metadata": {
    "ExecuteTime": {
     "end_time": "2024-05-23T19:41:11.041897Z",
     "start_time": "2024-05-23T19:41:11.002907Z"
    },
    "scrolled": false
   },
   "outputs": [
    {
     "data": {
      "text/html": [
       "<div>\n",
       "<style scoped>\n",
       "    .dataframe tbody tr th:only-of-type {\n",
       "        vertical-align: middle;\n",
       "    }\n",
       "\n",
       "    .dataframe tbody tr th {\n",
       "        vertical-align: top;\n",
       "    }\n",
       "\n",
       "    .dataframe thead th {\n",
       "        text-align: right;\n",
       "    }\n",
       "</style>\n",
       "<table border=\"1\" class=\"dataframe\">\n",
       "  <thead>\n",
       "    <tr style=\"text-align: right;\">\n",
       "      <th></th>\n",
       "      <th>anc/BLUE/1-gram</th>\n",
       "      <th>pos/BLUE/1-gram</th>\n",
       "      <th>anc/BLUE/2-gram</th>\n",
       "      <th>pos/BLUE/2-gram</th>\n",
       "      <th>anc/GLUE/1-gram</th>\n",
       "      <th>pos/GLUE/1-gram</th>\n",
       "      <th>anc/GLUE/2-gram</th>\n",
       "      <th>pos/GLUE/2-gram</th>\n",
       "      <th>anc/ROUGE/1-gram</th>\n",
       "      <th>pos/ROUGE/1-gram</th>\n",
       "      <th>anc/ROUGE/2-gram</th>\n",
       "      <th>pos/ROUGE/2-gram</th>\n",
       "      <th>QED</th>\n",
       "      <th>SA</th>\n",
       "      <th>NP</th>\n",
       "    </tr>\n",
       "  </thead>\n",
       "  <tbody>\n",
       "    <tr>\n",
       "      <th>sum</th>\n",
       "      <td>0.582581</td>\n",
       "      <td>0.570491</td>\n",
       "      <td>0.508072</td>\n",
       "      <td>0.499093</td>\n",
       "      <td>0.585763</td>\n",
       "      <td>0.575401</td>\n",
       "      <td>0.516526</td>\n",
       "      <td>0.508721</td>\n",
       "      <td>0.370954</td>\n",
       "      <td>0.372451</td>\n",
       "      <td>0.115286</td>\n",
       "      <td>0.115578</td>\n",
       "      <td>0.319564</td>\n",
       "      <td>4.032694</td>\n",
       "      <td>-0.628709</td>\n",
       "    </tr>\n",
       "    <tr>\n",
       "      <th>sum+fft</th>\n",
       "      <td>0.164949</td>\n",
       "      <td>0.174145</td>\n",
       "      <td>0.102903</td>\n",
       "      <td>0.106589</td>\n",
       "      <td>0.185581</td>\n",
       "      <td>0.193903</td>\n",
       "      <td>0.130175</td>\n",
       "      <td>0.134626</td>\n",
       "      <td>0.061295</td>\n",
       "      <td>0.06715</td>\n",
       "      <td>0.022787</td>\n",
       "      <td>0.022894</td>\n",
       "      <td>NaN</td>\n",
       "      <td>NaN</td>\n",
       "      <td>NaN</td>\n",
       "    </tr>\n",
       "    <tr>\n",
       "      <th>sum+mlp</th>\n",
       "      <td>0.62821</td>\n",
       "      <td>0.617304</td>\n",
       "      <td>0.550178</td>\n",
       "      <td>0.540223</td>\n",
       "      <td>0.633337</td>\n",
       "      <td>0.62302</td>\n",
       "      <td>0.56053</td>\n",
       "      <td>0.550993</td>\n",
       "      <td>0.398526</td>\n",
       "      <td>0.395896</td>\n",
       "      <td>0.130796</td>\n",
       "      <td>0.130762</td>\n",
       "      <td>0.331627</td>\n",
       "      <td>3.478659</td>\n",
       "      <td>-0.796473</td>\n",
       "    </tr>\n",
       "    <tr>\n",
       "      <th>sum+fft+mlp</th>\n",
       "      <td>0.282132</td>\n",
       "      <td>0.265592</td>\n",
       "      <td>0.149791</td>\n",
       "      <td>0.140257</td>\n",
       "      <td>0.304366</td>\n",
       "      <td>0.292327</td>\n",
       "      <td>0.200175</td>\n",
       "      <td>0.192492</td>\n",
       "      <td>0.012879</td>\n",
       "      <td>0.013266</td>\n",
       "      <td>0.004448</td>\n",
       "      <td>0.004057</td>\n",
       "      <td>0.164296</td>\n",
       "      <td>2.085977</td>\n",
       "      <td>0.154191</td>\n",
       "    </tr>\n",
       "    <tr>\n",
       "      <th>sum+mlp+ifft_L1</th>\n",
       "      <td>0.559753</td>\n",
       "      <td>0.545675</td>\n",
       "      <td>0.489352</td>\n",
       "      <td>0.478691</td>\n",
       "      <td>0.561523</td>\n",
       "      <td>0.548113</td>\n",
       "      <td>0.496287</td>\n",
       "      <td>0.48584</td>\n",
       "      <td>0.362391</td>\n",
       "      <td>0.362489</td>\n",
       "      <td>0.107724</td>\n",
       "      <td>0.105608</td>\n",
       "      <td>0.226974</td>\n",
       "      <td>4.209001</td>\n",
       "      <td>-0.564333</td>\n",
       "    </tr>\n",
       "    <tr>\n",
       "      <th>sum+mlp+ifft_L2</th>\n",
       "      <td>0.60696</td>\n",
       "      <td>0.596007</td>\n",
       "      <td>0.530793</td>\n",
       "      <td>0.521977</td>\n",
       "      <td>0.610866</td>\n",
       "      <td>0.600521</td>\n",
       "      <td>0.539958</td>\n",
       "      <td>0.531467</td>\n",
       "      <td>0.380878</td>\n",
       "      <td>0.380482</td>\n",
       "      <td>0.115638</td>\n",
       "      <td>0.11436</td>\n",
       "      <td>0.354718</td>\n",
       "      <td>3.696159</td>\n",
       "      <td>-0.658849</td>\n",
       "    </tr>\n",
       "    <tr>\n",
       "      <th>sum+mlp+ifft_Fro</th>\n",
       "      <td>0.608597</td>\n",
       "      <td>0.598246</td>\n",
       "      <td>0.527401</td>\n",
       "      <td>0.519412</td>\n",
       "      <td>0.614248</td>\n",
       "      <td>0.604319</td>\n",
       "      <td>0.538696</td>\n",
       "      <td>0.53086</td>\n",
       "      <td>0.357587</td>\n",
       "      <td>0.356011</td>\n",
       "      <td>0.099816</td>\n",
       "      <td>0.097474</td>\n",
       "      <td>0.250354</td>\n",
       "      <td>4.046142</td>\n",
       "      <td>-0.36754</td>\n",
       "    </tr>\n",
       "    <tr>\n",
       "      <th>sum+fft+lpf+ifft_co=2</th>\n",
       "      <td>0.603283</td>\n",
       "      <td>0.591093</td>\n",
       "      <td>0.498757</td>\n",
       "      <td>0.488709</td>\n",
       "      <td>0.60963</td>\n",
       "      <td>0.597797</td>\n",
       "      <td>0.514693</td>\n",
       "      <td>0.504766</td>\n",
       "      <td>0.331116</td>\n",
       "      <td>0.326976</td>\n",
       "      <td>0.103137</td>\n",
       "      <td>0.101983</td>\n",
       "      <td>0.468266</td>\n",
       "      <td>4.289347</td>\n",
       "      <td>0.071736</td>\n",
       "    </tr>\n",
       "    <tr>\n",
       "      <th>sum+fft+lpf+ifft_co=4</th>\n",
       "      <td>0.643803</td>\n",
       "      <td>0.632102</td>\n",
       "      <td>0.554764</td>\n",
       "      <td>0.545097</td>\n",
       "      <td>0.650377</td>\n",
       "      <td>0.63921</td>\n",
       "      <td>0.567772</td>\n",
       "      <td>0.558391</td>\n",
       "      <td>0.383682</td>\n",
       "      <td>0.382223</td>\n",
       "      <td>0.143147</td>\n",
       "      <td>0.141189</td>\n",
       "      <td>0.598011</td>\n",
       "      <td>2.695973</td>\n",
       "      <td>-0.681625</td>\n",
       "    </tr>\n",
       "    <tr>\n",
       "      <th>sum+fft+lpf+ifft_co=6</th>\n",
       "      <td>0.558782</td>\n",
       "      <td>0.54768</td>\n",
       "      <td>0.490651</td>\n",
       "      <td>0.480973</td>\n",
       "      <td>0.563163</td>\n",
       "      <td>0.552875</td>\n",
       "      <td>0.499443</td>\n",
       "      <td>0.490404</td>\n",
       "      <td>0.380001</td>\n",
       "      <td>0.375871</td>\n",
       "      <td>0.13751</td>\n",
       "      <td>0.134349</td>\n",
       "      <td>0.254152</td>\n",
       "      <td>3.067279</td>\n",
       "      <td>-0.678665</td>\n",
       "    </tr>\n",
       "    <tr>\n",
       "      <th>sum+fft+lpf+ifft_co=8</th>\n",
       "      <td>0.588944</td>\n",
       "      <td>0.572218</td>\n",
       "      <td>0.516231</td>\n",
       "      <td>0.501764</td>\n",
       "      <td>0.592698</td>\n",
       "      <td>0.576768</td>\n",
       "      <td>0.524899</td>\n",
       "      <td>0.510947</td>\n",
       "      <td>0.387618</td>\n",
       "      <td>0.380305</td>\n",
       "      <td>0.133603</td>\n",
       "      <td>0.129763</td>\n",
       "      <td>0.351823</td>\n",
       "      <td>3.403902</td>\n",
       "      <td>-0.984333</td>\n",
       "    </tr>\n",
       "  </tbody>\n",
       "</table>\n",
       "</div>"
      ],
      "text/plain": [
       "                      anc/BLUE/1-gram pos/BLUE/1-gram anc/BLUE/2-gram  \\\n",
       "sum                          0.582581        0.570491        0.508072   \n",
       "sum+fft                      0.164949        0.174145        0.102903   \n",
       "sum+mlp                       0.62821        0.617304        0.550178   \n",
       "sum+fft+mlp                  0.282132        0.265592        0.149791   \n",
       "sum+mlp+ifft_L1              0.559753        0.545675        0.489352   \n",
       "sum+mlp+ifft_L2               0.60696        0.596007        0.530793   \n",
       "sum+mlp+ifft_Fro             0.608597        0.598246        0.527401   \n",
       "sum+fft+lpf+ifft_co=2        0.603283        0.591093        0.498757   \n",
       "sum+fft+lpf+ifft_co=4        0.643803        0.632102        0.554764   \n",
       "sum+fft+lpf+ifft_co=6        0.558782         0.54768        0.490651   \n",
       "sum+fft+lpf+ifft_co=8        0.588944        0.572218        0.516231   \n",
       "\n",
       "                      pos/BLUE/2-gram anc/GLUE/1-gram pos/GLUE/1-gram  \\\n",
       "sum                          0.499093        0.585763        0.575401   \n",
       "sum+fft                      0.106589        0.185581        0.193903   \n",
       "sum+mlp                      0.540223        0.633337         0.62302   \n",
       "sum+fft+mlp                  0.140257        0.304366        0.292327   \n",
       "sum+mlp+ifft_L1              0.478691        0.561523        0.548113   \n",
       "sum+mlp+ifft_L2              0.521977        0.610866        0.600521   \n",
       "sum+mlp+ifft_Fro             0.519412        0.614248        0.604319   \n",
       "sum+fft+lpf+ifft_co=2        0.488709         0.60963        0.597797   \n",
       "sum+fft+lpf+ifft_co=4        0.545097        0.650377         0.63921   \n",
       "sum+fft+lpf+ifft_co=6        0.480973        0.563163        0.552875   \n",
       "sum+fft+lpf+ifft_co=8        0.501764        0.592698        0.576768   \n",
       "\n",
       "                      anc/GLUE/2-gram pos/GLUE/2-gram anc/ROUGE/1-gram  \\\n",
       "sum                          0.516526        0.508721         0.370954   \n",
       "sum+fft                      0.130175        0.134626         0.061295   \n",
       "sum+mlp                       0.56053        0.550993         0.398526   \n",
       "sum+fft+mlp                  0.200175        0.192492         0.012879   \n",
       "sum+mlp+ifft_L1              0.496287         0.48584         0.362391   \n",
       "sum+mlp+ifft_L2              0.539958        0.531467         0.380878   \n",
       "sum+mlp+ifft_Fro             0.538696         0.53086         0.357587   \n",
       "sum+fft+lpf+ifft_co=2        0.514693        0.504766         0.331116   \n",
       "sum+fft+lpf+ifft_co=4        0.567772        0.558391         0.383682   \n",
       "sum+fft+lpf+ifft_co=6        0.499443        0.490404         0.380001   \n",
       "sum+fft+lpf+ifft_co=8        0.524899        0.510947         0.387618   \n",
       "\n",
       "                      pos/ROUGE/1-gram anc/ROUGE/2-gram pos/ROUGE/2-gram  \\\n",
       "sum                           0.372451         0.115286         0.115578   \n",
       "sum+fft                        0.06715         0.022787         0.022894   \n",
       "sum+mlp                       0.395896         0.130796         0.130762   \n",
       "sum+fft+mlp                   0.013266         0.004448         0.004057   \n",
       "sum+mlp+ifft_L1               0.362489         0.107724         0.105608   \n",
       "sum+mlp+ifft_L2               0.380482         0.115638          0.11436   \n",
       "sum+mlp+ifft_Fro              0.356011         0.099816         0.097474   \n",
       "sum+fft+lpf+ifft_co=2         0.326976         0.103137         0.101983   \n",
       "sum+fft+lpf+ifft_co=4         0.382223         0.143147         0.141189   \n",
       "sum+fft+lpf+ifft_co=6         0.375871          0.13751         0.134349   \n",
       "sum+fft+lpf+ifft_co=8         0.380305         0.133603         0.129763   \n",
       "\n",
       "                            QED        SA        NP  \n",
       "sum                    0.319564  4.032694 -0.628709  \n",
       "sum+fft                     NaN       NaN       NaN  \n",
       "sum+mlp                0.331627  3.478659 -0.796473  \n",
       "sum+fft+mlp            0.164296  2.085977  0.154191  \n",
       "sum+mlp+ifft_L1        0.226974  4.209001 -0.564333  \n",
       "sum+mlp+ifft_L2        0.354718  3.696159 -0.658849  \n",
       "sum+mlp+ifft_Fro       0.250354  4.046142  -0.36754  \n",
       "sum+fft+lpf+ifft_co=2  0.468266  4.289347  0.071736  \n",
       "sum+fft+lpf+ifft_co=4  0.598011  2.695973 -0.681625  \n",
       "sum+fft+lpf+ifft_co=6  0.254152  3.067279 -0.678665  \n",
       "sum+fft+lpf+ifft_co=8  0.351823  3.403902 -0.984333  "
      ]
     },
     "execution_count": 134,
     "metadata": {},
     "output_type": "execute_result"
    }
   ],
   "source": [
    "final_results"
   ]
  },
  {
   "cell_type": "code",
   "execution_count": 135,
   "metadata": {
    "ExecuteTime": {
     "end_time": "2024-05-23T19:41:48.644367Z",
     "start_time": "2024-05-23T19:41:48.598817Z"
    }
   },
   "outputs": [],
   "source": [
    "final_results.to_csv(os.path.join(result_path, \"eval_results_20240522\", f\"Total_eval_result.csv\"))"
   ]
  },
  {
   "cell_type": "code",
   "execution_count": null,
   "metadata": {},
   "outputs": [],
   "source": []
  },
  {
   "cell_type": "code",
   "execution_count": null,
   "metadata": {},
   "outputs": [],
   "source": []
  },
  {
   "cell_type": "code",
   "execution_count": null,
   "metadata": {},
   "outputs": [],
   "source": []
  },
  {
   "cell_type": "code",
   "execution_count": null,
   "metadata": {},
   "outputs": [],
   "source": []
  },
  {
   "cell_type": "code",
   "execution_count": null,
   "metadata": {},
   "outputs": [],
   "source": []
  },
  {
   "cell_type": "code",
   "execution_count": null,
   "metadata": {},
   "outputs": [],
   "source": []
  },
  {
   "cell_type": "code",
   "execution_count": null,
   "metadata": {},
   "outputs": [],
   "source": []
  }
 ],
 "metadata": {
  "kernelspec": {
   "display_name": "DL",
   "language": "python",
   "name": "dl"
  },
  "language_info": {
   "codemirror_mode": {
    "name": "ipython",
    "version": 3
   },
   "file_extension": ".py",
   "mimetype": "text/x-python",
   "name": "python",
   "nbconvert_exporter": "python",
   "pygments_lexer": "ipython3",
   "version": "3.9.7"
  },
  "toc": {
   "base_numbering": 1,
   "nav_menu": {},
   "number_sections": true,
   "sideBar": true,
   "skip_h1_title": false,
   "title_cell": "Table of Contents",
   "title_sidebar": "Contents",
   "toc_cell": false,
   "toc_position": {},
   "toc_section_display": true,
   "toc_window_display": false
  }
 },
 "nbformat": 4,
 "nbformat_minor": 2
}
